{
 "cells": [
  {
   "cell_type": "markdown",
   "metadata": {},
   "source": [
    "# Exercises - Analysing data with pandas"
   ]
  },
  {
   "cell_type": "code",
   "execution_count": 1,
   "metadata": {},
   "outputs": [],
   "source": [
    "import pandas as pd\n",
    "import numpy as np"
   ]
  },
  {
   "cell_type": "code",
   "execution_count": 3,
   "metadata": {},
   "outputs": [
    {
     "data": {
      "text/html": [
       "<div>\n",
       "<style scoped>\n",
       "    .dataframe tbody tr th:only-of-type {\n",
       "        vertical-align: middle;\n",
       "    }\n",
       "\n",
       "    .dataframe tbody tr th {\n",
       "        vertical-align: top;\n",
       "    }\n",
       "\n",
       "    .dataframe thead th {\n",
       "        text-align: right;\n",
       "    }\n",
       "</style>\n",
       "<table border=\"1\" class=\"dataframe\">\n",
       "  <thead>\n",
       "    <tr style=\"text-align: right;\">\n",
       "      <th></th>\n",
       "      <th>Partei</th>\n",
       "      <th>Kreis Nr.</th>\n",
       "      <th>Gebietsbezeichnung</th>\n",
       "      <th>Gültige Stimmen Anzahl</th>\n",
       "      <th>Gültige Stimmen %</th>\n",
       "      <th>Diff. zu 2014 in %-Pkt.</th>\n",
       "    </tr>\n",
       "  </thead>\n",
       "  <tbody>\n",
       "    <tr>\n",
       "      <th>0</th>\n",
       "      <td>CDU</td>\n",
       "      <td>NaN</td>\n",
       "      <td>Bundesrepublik Deutschland</td>\n",
       "      <td>8437093</td>\n",
       "      <td>22.6</td>\n",
       "      <td>-7.5</td>\n",
       "    </tr>\n",
       "    <tr>\n",
       "      <th>1</th>\n",
       "      <td>CDU</td>\n",
       "      <td>NaN</td>\n",
       "      <td>Schleswig-Holstein</td>\n",
       "      <td>353789</td>\n",
       "      <td>26.2</td>\n",
       "      <td>-8.2</td>\n",
       "    </tr>\n",
       "    <tr>\n",
       "      <th>2</th>\n",
       "      <td>CDU</td>\n",
       "      <td>1001.0</td>\n",
       "      <td>Flensburg, Stadt</td>\n",
       "      <td>6829</td>\n",
       "      <td>17.3</td>\n",
       "      <td>-8.3</td>\n",
       "    </tr>\n",
       "    <tr>\n",
       "      <th>3</th>\n",
       "      <td>CDU</td>\n",
       "      <td>1002.0</td>\n",
       "      <td>Kiel, Landeshauptstadt</td>\n",
       "      <td>18313</td>\n",
       "      <td>16.8</td>\n",
       "      <td>-6.4</td>\n",
       "    </tr>\n",
       "    <tr>\n",
       "      <th>4</th>\n",
       "      <td>CDU</td>\n",
       "      <td>1003.0</td>\n",
       "      <td>Lübeck, Hansestadt</td>\n",
       "      <td>18416</td>\n",
       "      <td>20.4</td>\n",
       "      <td>-7.1</td>\n",
       "    </tr>\n",
       "    <tr>\n",
       "      <th>...</th>\n",
       "      <td>...</td>\n",
       "      <td>...</td>\n",
       "      <td>...</td>\n",
       "      <td>...</td>\n",
       "      <td>...</td>\n",
       "      <td>...</td>\n",
       "    </tr>\n",
       "    <tr>\n",
       "      <th>5876</th>\n",
       "      <td>Sonstige</td>\n",
       "      <td>16063.0</td>\n",
       "      <td>Wartburgkreis</td>\n",
       "      <td>3536</td>\n",
       "      <td>5.8</td>\n",
       "      <td>3.8</td>\n",
       "    </tr>\n",
       "    <tr>\n",
       "      <th>5877</th>\n",
       "      <td>Sonstige</td>\n",
       "      <td>16064.0</td>\n",
       "      <td>Unstrut-Hainich-Kreis</td>\n",
       "      <td>2413</td>\n",
       "      <td>4.9</td>\n",
       "      <td>2.9</td>\n",
       "    </tr>\n",
       "    <tr>\n",
       "      <th>5878</th>\n",
       "      <td>Sonstige</td>\n",
       "      <td>16065.0</td>\n",
       "      <td>Kyffhäuserkreis</td>\n",
       "      <td>2474</td>\n",
       "      <td>6.8</td>\n",
       "      <td>4.8</td>\n",
       "    </tr>\n",
       "    <tr>\n",
       "      <th>5879</th>\n",
       "      <td>Sonstige</td>\n",
       "      <td>16066.0</td>\n",
       "      <td>Schmalkalden-Meiningen</td>\n",
       "      <td>3473</td>\n",
       "      <td>5.6</td>\n",
       "      <td>3.6</td>\n",
       "    </tr>\n",
       "    <tr>\n",
       "      <th>5880</th>\n",
       "      <td>Sonstige</td>\n",
       "      <td>16067.0</td>\n",
       "      <td>Gotha</td>\n",
       "      <td>3695</td>\n",
       "      <td>5.8</td>\n",
       "      <td>3.9</td>\n",
       "    </tr>\n",
       "  </tbody>\n",
       "</table>\n",
       "<p>5881 rows × 6 columns</p>\n",
       "</div>"
      ],
      "text/plain": [
       "        Partei  Kreis Nr.          Gebietsbezeichnung  Gültige Stimmen Anzahl  \\\n",
       "0          CDU        NaN  Bundesrepublik Deutschland                 8437093   \n",
       "1          CDU        NaN          Schleswig-Holstein                  353789   \n",
       "2          CDU     1001.0            Flensburg, Stadt                    6829   \n",
       "3          CDU     1002.0      Kiel, Landeshauptstadt                   18313   \n",
       "4          CDU     1003.0          Lübeck, Hansestadt                   18416   \n",
       "...        ...        ...                         ...                     ...   \n",
       "5876  Sonstige    16063.0               Wartburgkreis                    3536   \n",
       "5877  Sonstige    16064.0       Unstrut-Hainich-Kreis                    2413   \n",
       "5878  Sonstige    16065.0             Kyffhäuserkreis                    2474   \n",
       "5879  Sonstige    16066.0      Schmalkalden-Meiningen                    3473   \n",
       "5880  Sonstige    16067.0                       Gotha                    3695   \n",
       "\n",
       "      Gültige Stimmen %  Diff. zu 2014 in %-Pkt.  \n",
       "0                  22.6                     -7.5  \n",
       "1                  26.2                     -8.2  \n",
       "2                  17.3                     -8.3  \n",
       "3                  16.8                     -6.4  \n",
       "4                  20.4                     -7.1  \n",
       "...                 ...                      ...  \n",
       "5876                5.8                      3.8  \n",
       "5877                4.9                      2.9  \n",
       "5878                6.8                      4.8  \n",
       "5879                5.6                      3.6  \n",
       "5880                5.8                      3.9  \n",
       "\n",
       "[5881 rows x 6 columns]"
      ]
     },
     "execution_count": 3,
     "metadata": {},
     "output_type": "execute_result"
    }
   ],
   "source": [
    "pd.read_csv(\"../Tag1/eu2019.csv\", delimiter=\";\")"
   ]
  },
  {
   "cell_type": "code",
   "execution_count": 4,
   "metadata": {},
   "outputs": [
    {
     "data": {
      "text/html": [
       "<div>\n",
       "<style scoped>\n",
       "    .dataframe tbody tr th:only-of-type {\n",
       "        vertical-align: middle;\n",
       "    }\n",
       "\n",
       "    .dataframe tbody tr th {\n",
       "        vertical-align: top;\n",
       "    }\n",
       "\n",
       "    .dataframe thead th {\n",
       "        text-align: right;\n",
       "    }\n",
       "</style>\n",
       "<table border=\"1\" class=\"dataframe\">\n",
       "  <thead>\n",
       "    <tr style=\"text-align: right;\">\n",
       "      <th></th>\n",
       "      <th>Partei</th>\n",
       "      <th>Kreis Nr.</th>\n",
       "      <th>Gebietsbezeichnung</th>\n",
       "      <th>Gültige Stimmen Anzahl</th>\n",
       "      <th>Gültige Stimmen %</th>\n",
       "      <th>Diff. zu 2014 in %-Pkt.</th>\n",
       "    </tr>\n",
       "  </thead>\n",
       "  <tbody>\n",
       "    <tr>\n",
       "      <th>0</th>\n",
       "      <td>CDU</td>\n",
       "      <td>NaN</td>\n",
       "      <td>Bundesrepublik Deutschland</td>\n",
       "      <td>8437093</td>\n",
       "      <td>22.6</td>\n",
       "      <td>-7.5</td>\n",
       "    </tr>\n",
       "    <tr>\n",
       "      <th>1</th>\n",
       "      <td>CDU</td>\n",
       "      <td>NaN</td>\n",
       "      <td>Schleswig-Holstein</td>\n",
       "      <td>353789</td>\n",
       "      <td>26.2</td>\n",
       "      <td>-8.2</td>\n",
       "    </tr>\n",
       "    <tr>\n",
       "      <th>2</th>\n",
       "      <td>CDU</td>\n",
       "      <td>1001.0</td>\n",
       "      <td>Flensburg, Stadt</td>\n",
       "      <td>6829</td>\n",
       "      <td>17.3</td>\n",
       "      <td>-8.3</td>\n",
       "    </tr>\n",
       "    <tr>\n",
       "      <th>3</th>\n",
       "      <td>CDU</td>\n",
       "      <td>1002.0</td>\n",
       "      <td>Kiel, Landeshauptstadt</td>\n",
       "      <td>18313</td>\n",
       "      <td>16.8</td>\n",
       "      <td>-6.4</td>\n",
       "    </tr>\n",
       "    <tr>\n",
       "      <th>4</th>\n",
       "      <td>CDU</td>\n",
       "      <td>1003.0</td>\n",
       "      <td>Lübeck, Hansestadt</td>\n",
       "      <td>18416</td>\n",
       "      <td>20.4</td>\n",
       "      <td>-7.1</td>\n",
       "    </tr>\n",
       "    <tr>\n",
       "      <th>...</th>\n",
       "      <td>...</td>\n",
       "      <td>...</td>\n",
       "      <td>...</td>\n",
       "      <td>...</td>\n",
       "      <td>...</td>\n",
       "      <td>...</td>\n",
       "    </tr>\n",
       "    <tr>\n",
       "      <th>5876</th>\n",
       "      <td>Sonstige</td>\n",
       "      <td>16063.0</td>\n",
       "      <td>Wartburgkreis</td>\n",
       "      <td>3536</td>\n",
       "      <td>5.8</td>\n",
       "      <td>3.8</td>\n",
       "    </tr>\n",
       "    <tr>\n",
       "      <th>5877</th>\n",
       "      <td>Sonstige</td>\n",
       "      <td>16064.0</td>\n",
       "      <td>Unstrut-Hainich-Kreis</td>\n",
       "      <td>2413</td>\n",
       "      <td>4.9</td>\n",
       "      <td>2.9</td>\n",
       "    </tr>\n",
       "    <tr>\n",
       "      <th>5878</th>\n",
       "      <td>Sonstige</td>\n",
       "      <td>16065.0</td>\n",
       "      <td>Kyffhäuserkreis</td>\n",
       "      <td>2474</td>\n",
       "      <td>6.8</td>\n",
       "      <td>4.8</td>\n",
       "    </tr>\n",
       "    <tr>\n",
       "      <th>5879</th>\n",
       "      <td>Sonstige</td>\n",
       "      <td>16066.0</td>\n",
       "      <td>Schmalkalden-Meiningen</td>\n",
       "      <td>3473</td>\n",
       "      <td>5.6</td>\n",
       "      <td>3.6</td>\n",
       "    </tr>\n",
       "    <tr>\n",
       "      <th>5880</th>\n",
       "      <td>Sonstige</td>\n",
       "      <td>16067.0</td>\n",
       "      <td>Gotha</td>\n",
       "      <td>3695</td>\n",
       "      <td>5.8</td>\n",
       "      <td>3.9</td>\n",
       "    </tr>\n",
       "  </tbody>\n",
       "</table>\n",
       "<p>5881 rows × 6 columns</p>\n",
       "</div>"
      ],
      "text/plain": [
       "        Partei  Kreis Nr.          Gebietsbezeichnung  Gültige Stimmen Anzahl  \\\n",
       "0          CDU        NaN  Bundesrepublik Deutschland                 8437093   \n",
       "1          CDU        NaN          Schleswig-Holstein                  353789   \n",
       "2          CDU     1001.0            Flensburg, Stadt                    6829   \n",
       "3          CDU     1002.0      Kiel, Landeshauptstadt                   18313   \n",
       "4          CDU     1003.0          Lübeck, Hansestadt                   18416   \n",
       "...        ...        ...                         ...                     ...   \n",
       "5876  Sonstige    16063.0               Wartburgkreis                    3536   \n",
       "5877  Sonstige    16064.0       Unstrut-Hainich-Kreis                    2413   \n",
       "5878  Sonstige    16065.0             Kyffhäuserkreis                    2474   \n",
       "5879  Sonstige    16066.0      Schmalkalden-Meiningen                    3473   \n",
       "5880  Sonstige    16067.0                       Gotha                    3695   \n",
       "\n",
       "      Gültige Stimmen %  Diff. zu 2014 in %-Pkt.  \n",
       "0                  22.6                     -7.5  \n",
       "1                  26.2                     -8.2  \n",
       "2                  17.3                     -8.3  \n",
       "3                  16.8                     -6.4  \n",
       "4                  20.4                     -7.1  \n",
       "...                 ...                      ...  \n",
       "5876                5.8                      3.8  \n",
       "5877                4.9                      2.9  \n",
       "5878                6.8                      4.8  \n",
       "5879                5.6                      3.6  \n",
       "5880                5.8                      3.9  \n",
       "\n",
       "[5881 rows x 6 columns]"
      ]
     },
     "execution_count": 4,
     "metadata": {},
     "output_type": "execute_result"
    }
   ],
   "source": [
    "df = pd.read_csv(\"../Tag1/eu2019.csv\", delimiter=\";\")\n",
    "df"
   ]
  },
  {
   "cell_type": "code",
   "execution_count": 7,
   "metadata": {},
   "outputs": [
    {
     "data": {
      "text/html": [
       "<div>\n",
       "<style scoped>\n",
       "    .dataframe tbody tr th:only-of-type {\n",
       "        vertical-align: middle;\n",
       "    }\n",
       "\n",
       "    .dataframe tbody tr th {\n",
       "        vertical-align: top;\n",
       "    }\n",
       "\n",
       "    .dataframe thead th {\n",
       "        text-align: right;\n",
       "    }\n",
       "</style>\n",
       "<table border=\"1\" class=\"dataframe\">\n",
       "  <thead>\n",
       "    <tr style=\"text-align: right;\">\n",
       "      <th></th>\n",
       "      <th>Partei</th>\n",
       "      <th>Kreis Nr.</th>\n",
       "      <th>Gebietsbezeichnung</th>\n",
       "      <th>Gültige Stimmen Anzahl</th>\n",
       "      <th>Gültige Stimmen %</th>\n",
       "      <th>Diff. zu 2014 in %-Pkt.</th>\n",
       "    </tr>\n",
       "  </thead>\n",
       "  <tbody>\n",
       "    <tr>\n",
       "      <th>57</th>\n",
       "      <td>CDU</td>\n",
       "      <td>5554.0</td>\n",
       "      <td>Borken</td>\n",
       "      <td>74957</td>\n",
       "      <td>41.5</td>\n",
       "      <td>-10.8</td>\n",
       "    </tr>\n",
       "    <tr>\n",
       "      <th>75</th>\n",
       "      <td>CDU</td>\n",
       "      <td>5958.0</td>\n",
       "      <td>Hochsauerlandkreis</td>\n",
       "      <td>51681</td>\n",
       "      <td>41.6</td>\n",
       "      <td>-8.7</td>\n",
       "    </tr>\n",
       "    <tr>\n",
       "      <th>77</th>\n",
       "      <td>CDU</td>\n",
       "      <td>5966.0</td>\n",
       "      <td>Olpe</td>\n",
       "      <td>29663</td>\n",
       "      <td>46.0</td>\n",
       "      <td>-7.4</td>\n",
       "    </tr>\n",
       "    <tr>\n",
       "      <th>82</th>\n",
       "      <td>CDU</td>\n",
       "      <td>7233.0</td>\n",
       "      <td>Vulkaneifel</td>\n",
       "      <td>12509</td>\n",
       "      <td>41.6</td>\n",
       "      <td>-7.0</td>\n",
       "    </tr>\n",
       "    <tr>\n",
       "      <th>3023</th>\n",
       "      <td>CDU</td>\n",
       "      <td>3453.0</td>\n",
       "      <td>Cloppenburg</td>\n",
       "      <td>31382</td>\n",
       "      <td>47.7</td>\n",
       "      <td>-15.7</td>\n",
       "    </tr>\n",
       "    <tr>\n",
       "      <th>3024</th>\n",
       "      <td>CDU</td>\n",
       "      <td>3454.0</td>\n",
       "      <td>Emsland</td>\n",
       "      <td>73233</td>\n",
       "      <td>49.3</td>\n",
       "      <td>-13.5</td>\n",
       "    </tr>\n",
       "    <tr>\n",
       "      <th>3030</th>\n",
       "      <td>CDU</td>\n",
       "      <td>3460.0</td>\n",
       "      <td>Vechta</td>\n",
       "      <td>31666</td>\n",
       "      <td>48.9</td>\n",
       "      <td>-16.2</td>\n",
       "    </tr>\n",
       "    <tr>\n",
       "      <th>3082</th>\n",
       "      <td>CDU</td>\n",
       "      <td>7135.0</td>\n",
       "      <td>Cochem-Zell</td>\n",
       "      <td>13926</td>\n",
       "      <td>42.6</td>\n",
       "      <td>-10.2</td>\n",
       "    </tr>\n",
       "    <tr>\n",
       "      <th>3115</th>\n",
       "      <td>CDU</td>\n",
       "      <td>8426.0</td>\n",
       "      <td>Biberach</td>\n",
       "      <td>37175</td>\n",
       "      <td>40.4</td>\n",
       "      <td>-11.8</td>\n",
       "    </tr>\n",
       "    <tr>\n",
       "      <th>3118</th>\n",
       "      <td>CDU</td>\n",
       "      <td>8437.0</td>\n",
       "      <td>Sigmaringen</td>\n",
       "      <td>24484</td>\n",
       "      <td>40.9</td>\n",
       "      <td>-11.2</td>\n",
       "    </tr>\n",
       "    <tr>\n",
       "      <th>3155</th>\n",
       "      <td>CDU</td>\n",
       "      <td>16061.0</td>\n",
       "      <td>Eichsfeld</td>\n",
       "      <td>21896</td>\n",
       "      <td>41.8</td>\n",
       "      <td>-9.1</td>\n",
       "    </tr>\n",
       "  </tbody>\n",
       "</table>\n",
       "</div>"
      ],
      "text/plain": [
       "     Partei  Kreis Nr.  Gebietsbezeichnung  Gültige Stimmen Anzahl  \\\n",
       "57      CDU     5554.0              Borken                   74957   \n",
       "75      CDU     5958.0  Hochsauerlandkreis                   51681   \n",
       "77      CDU     5966.0                Olpe                   29663   \n",
       "82      CDU     7233.0         Vulkaneifel                   12509   \n",
       "3023    CDU     3453.0         Cloppenburg                   31382   \n",
       "3024    CDU     3454.0             Emsland                   73233   \n",
       "3030    CDU     3460.0              Vechta                   31666   \n",
       "3082    CDU     7135.0         Cochem-Zell                   13926   \n",
       "3115    CDU     8426.0            Biberach                   37175   \n",
       "3118    CDU     8437.0         Sigmaringen                   24484   \n",
       "3155    CDU    16061.0           Eichsfeld                   21896   \n",
       "\n",
       "      Gültige Stimmen %  Diff. zu 2014 in %-Pkt.  \n",
       "57                 41.5                    -10.8  \n",
       "75                 41.6                     -8.7  \n",
       "77                 46.0                     -7.4  \n",
       "82                 41.6                     -7.0  \n",
       "3023               47.7                    -15.7  \n",
       "3024               49.3                    -13.5  \n",
       "3030               48.9                    -16.2  \n",
       "3082               42.6                    -10.2  \n",
       "3115               40.4                    -11.8  \n",
       "3118               40.9                    -11.2  \n",
       "3155               41.8                     -9.1  "
      ]
     },
     "execution_count": 7,
     "metadata": {},
     "output_type": "execute_result"
    }
   ],
   "source": [
    "df[(df[\"Partei\"] == \"CDU\") & (df[\"Gültige Stimmen %\"] > 40)]"
   ]
  },
  {
   "cell_type": "code",
   "execution_count": 10,
   "metadata": {},
   "outputs": [
    {
     "data": {
      "text/html": [
       "<div>\n",
       "<style scoped>\n",
       "    .dataframe tbody tr th:only-of-type {\n",
       "        vertical-align: middle;\n",
       "    }\n",
       "\n",
       "    .dataframe tbody tr th {\n",
       "        vertical-align: top;\n",
       "    }\n",
       "\n",
       "    .dataframe thead th {\n",
       "        text-align: right;\n",
       "    }\n",
       "</style>\n",
       "<table border=\"1\" class=\"dataframe\">\n",
       "  <thead>\n",
       "    <tr style=\"text-align: right;\">\n",
       "      <th></th>\n",
       "      <th>Kreis Nr.</th>\n",
       "      <th>Gültige Stimmen Anzahl</th>\n",
       "      <th>Gültige Stimmen %</th>\n",
       "      <th>Diff. zu 2014 in %-Pkt.</th>\n",
       "    </tr>\n",
       "  </thead>\n",
       "  <tbody>\n",
       "    <tr>\n",
       "      <th>count</th>\n",
       "      <td>307.000000</td>\n",
       "      <td>3.230000e+02</td>\n",
       "      <td>323.000000</td>\n",
       "      <td>323.000000</td>\n",
       "    </tr>\n",
       "    <tr>\n",
       "      <th>mean</th>\n",
       "      <td>7973.260586</td>\n",
       "      <td>7.410284e+04</td>\n",
       "      <td>27.454489</td>\n",
       "      <td>-7.579567</td>\n",
       "    </tr>\n",
       "    <tr>\n",
       "      <th>std</th>\n",
       "      <td>4249.611974</td>\n",
       "      <td>4.961015e+05</td>\n",
       "      <td>6.446628</td>\n",
       "      <td>2.556119</td>\n",
       "    </tr>\n",
       "    <tr>\n",
       "      <th>min</th>\n",
       "      <td>1001.000000</td>\n",
       "      <td>1.200000e+01</td>\n",
       "      <td>10.800000</td>\n",
       "      <td>-16.200000</td>\n",
       "    </tr>\n",
       "    <tr>\n",
       "      <th>25%</th>\n",
       "      <td>5168.000000</td>\n",
       "      <td>1.178500e+04</td>\n",
       "      <td>23.400000</td>\n",
       "      <td>-9.100000</td>\n",
       "    </tr>\n",
       "    <tr>\n",
       "      <th>50%</th>\n",
       "      <td>7211.000000</td>\n",
       "      <td>2.189600e+04</td>\n",
       "      <td>26.900000</td>\n",
       "      <td>-7.500000</td>\n",
       "    </tr>\n",
       "    <tr>\n",
       "      <th>75%</th>\n",
       "      <td>11995.500000</td>\n",
       "      <td>3.652550e+04</td>\n",
       "      <td>31.100000</td>\n",
       "      <td>-6.200000</td>\n",
       "    </tr>\n",
       "    <tr>\n",
       "      <th>max</th>\n",
       "      <td>16077.000000</td>\n",
       "      <td>8.437093e+06</td>\n",
       "      <td>49.300000</td>\n",
       "      <td>0.400000</td>\n",
       "    </tr>\n",
       "  </tbody>\n",
       "</table>\n",
       "</div>"
      ],
      "text/plain": [
       "          Kreis Nr.  Gültige Stimmen Anzahl  Gültige Stimmen %  \\\n",
       "count    307.000000            3.230000e+02         323.000000   \n",
       "mean    7973.260586            7.410284e+04          27.454489   \n",
       "std     4249.611974            4.961015e+05           6.446628   \n",
       "min     1001.000000            1.200000e+01          10.800000   \n",
       "25%     5168.000000            1.178500e+04          23.400000   \n",
       "50%     7211.000000            2.189600e+04          26.900000   \n",
       "75%    11995.500000            3.652550e+04          31.100000   \n",
       "max    16077.000000            8.437093e+06          49.300000   \n",
       "\n",
       "       Diff. zu 2014 in %-Pkt.  \n",
       "count               323.000000  \n",
       "mean                 -7.579567  \n",
       "std                   2.556119  \n",
       "min                 -16.200000  \n",
       "25%                  -9.100000  \n",
       "50%                  -7.500000  \n",
       "75%                  -6.200000  \n",
       "max                   0.400000  "
      ]
     },
     "execution_count": 10,
     "metadata": {},
     "output_type": "execute_result"
    }
   ],
   "source": [
    "df[(df[\"Partei\"] == \"CDU\")].describe()"
   ]
  },
  {
   "cell_type": "code",
   "execution_count": 11,
   "metadata": {},
   "outputs": [
    {
     "data": {
      "text/plain": [
       "Kreis Nr.                   7973.260586\n",
       "Gültige Stimmen Anzahl     74102.842105\n",
       "Gültige Stimmen %             27.454489\n",
       "Diff. zu 2014 in %-Pkt.       -7.579567\n",
       "dtype: float64"
      ]
     },
     "execution_count": 11,
     "metadata": {},
     "output_type": "execute_result"
    }
   ],
   "source": [
    "df[(df[\"Partei\"] == \"CDU\")].mean()"
   ]
  },
  {
   "cell_type": "code",
   "execution_count": 12,
   "metadata": {},
   "outputs": [
    {
     "data": {
      "text/plain": [
       "Kreis Nr.                    4249.611974\n",
       "Gültige Stimmen Anzahl     496101.468335\n",
       "Gültige Stimmen %               6.446628\n",
       "Diff. zu 2014 in %-Pkt.         2.556119\n",
       "dtype: float64"
      ]
     },
     "execution_count": 12,
     "metadata": {},
     "output_type": "execute_result"
    }
   ],
   "source": [
    "df[(df[\"Partei\"] == \"CDU\")].std()"
   ]
  },
  {
   "cell_type": "code",
   "execution_count": 13,
   "metadata": {},
   "outputs": [
    {
     "data": {
      "text/plain": [
       "Partei                           CDU\n",
       "Kreis Nr.                       1001\n",
       "Gebietsbezeichnung         Ahrweiler\n",
       "Gültige Stimmen Anzahl            12\n",
       "Gültige Stimmen %               10.8\n",
       "Diff. zu 2014 in %-Pkt.        -16.2\n",
       "dtype: object"
      ]
     },
     "execution_count": 13,
     "metadata": {},
     "output_type": "execute_result"
    }
   ],
   "source": [
    "df[(df[\"Partei\"] == \"CDU\")].min()"
   ]
  },
  {
   "cell_type": "code",
   "execution_count": null,
   "metadata": {},
   "outputs": [],
   "source": []
  },
  {
   "cell_type": "code",
   "execution_count": 8,
   "metadata": {},
   "outputs": [
    {
     "data": {
      "text/html": [
       "<div>\n",
       "<style scoped>\n",
       "    .dataframe tbody tr th:only-of-type {\n",
       "        vertical-align: middle;\n",
       "    }\n",
       "\n",
       "    .dataframe tbody tr th {\n",
       "        vertical-align: top;\n",
       "    }\n",
       "\n",
       "    .dataframe thead th {\n",
       "        text-align: right;\n",
       "    }\n",
       "</style>\n",
       "<table border=\"1\" class=\"dataframe\">\n",
       "  <thead>\n",
       "    <tr style=\"text-align: right;\">\n",
       "      <th></th>\n",
       "      <th>Partei</th>\n",
       "      <th>Kreis Nr.</th>\n",
       "      <th>Gebietsbezeichnung</th>\n",
       "      <th>Gültige Stimmen Anzahl</th>\n",
       "      <th>Gültige Stimmen %</th>\n",
       "      <th>Diff. zu 2014 in %-Pkt.</th>\n",
       "    </tr>\n",
       "  </thead>\n",
       "  <tbody>\n",
       "    <tr>\n",
       "      <th>0</th>\n",
       "      <td>CDU</td>\n",
       "      <td>NaN</td>\n",
       "      <td>Bundesrepublik Deutschland</td>\n",
       "      <td>8437093</td>\n",
       "      <td>22.6</td>\n",
       "      <td>-7.5</td>\n",
       "    </tr>\n",
       "    <tr>\n",
       "      <th>1</th>\n",
       "      <td>CDU</td>\n",
       "      <td>NaN</td>\n",
       "      <td>Schleswig-Holstein</td>\n",
       "      <td>353789</td>\n",
       "      <td>26.2</td>\n",
       "      <td>-8.2</td>\n",
       "    </tr>\n",
       "    <tr>\n",
       "      <th>2</th>\n",
       "      <td>CDU</td>\n",
       "      <td>1001.0</td>\n",
       "      <td>Flensburg, Stadt</td>\n",
       "      <td>6829</td>\n",
       "      <td>17.3</td>\n",
       "      <td>-8.3</td>\n",
       "    </tr>\n",
       "  </tbody>\n",
       "</table>\n",
       "</div>"
      ],
      "text/plain": [
       "  Partei  Kreis Nr.          Gebietsbezeichnung  Gültige Stimmen Anzahl  \\\n",
       "0    CDU        NaN  Bundesrepublik Deutschland                 8437093   \n",
       "1    CDU        NaN          Schleswig-Holstein                  353789   \n",
       "2    CDU     1001.0            Flensburg, Stadt                    6829   \n",
       "\n",
       "   Gültige Stimmen %  Diff. zu 2014 in %-Pkt.  \n",
       "0               22.6                     -7.5  \n",
       "1               26.2                     -8.2  \n",
       "2               17.3                     -8.3  "
      ]
     },
     "execution_count": 8,
     "metadata": {},
     "output_type": "execute_result"
    }
   ],
   "source": [
    "df.head(3)"
   ]
  },
  {
   "cell_type": "code",
   "execution_count": 9,
   "metadata": {},
   "outputs": [
    {
     "data": {
      "text/html": [
       "<div>\n",
       "<style scoped>\n",
       "    .dataframe tbody tr th:only-of-type {\n",
       "        vertical-align: middle;\n",
       "    }\n",
       "\n",
       "    .dataframe tbody tr th {\n",
       "        vertical-align: top;\n",
       "    }\n",
       "\n",
       "    .dataframe thead th {\n",
       "        text-align: right;\n",
       "    }\n",
       "</style>\n",
       "<table border=\"1\" class=\"dataframe\">\n",
       "  <thead>\n",
       "    <tr style=\"text-align: right;\">\n",
       "      <th></th>\n",
       "      <th>Partei</th>\n",
       "      <th>Kreis Nr.</th>\n",
       "      <th>Gebietsbezeichnung</th>\n",
       "      <th>Gültige Stimmen Anzahl</th>\n",
       "      <th>Gültige Stimmen %</th>\n",
       "      <th>Diff. zu 2014 in %-Pkt.</th>\n",
       "    </tr>\n",
       "  </thead>\n",
       "  <tbody>\n",
       "    <tr>\n",
       "      <th>5878</th>\n",
       "      <td>Sonstige</td>\n",
       "      <td>16065.0</td>\n",
       "      <td>Kyffhäuserkreis</td>\n",
       "      <td>2474</td>\n",
       "      <td>6.8</td>\n",
       "      <td>4.8</td>\n",
       "    </tr>\n",
       "    <tr>\n",
       "      <th>5879</th>\n",
       "      <td>Sonstige</td>\n",
       "      <td>16066.0</td>\n",
       "      <td>Schmalkalden-Meiningen</td>\n",
       "      <td>3473</td>\n",
       "      <td>5.6</td>\n",
       "      <td>3.6</td>\n",
       "    </tr>\n",
       "    <tr>\n",
       "      <th>5880</th>\n",
       "      <td>Sonstige</td>\n",
       "      <td>16067.0</td>\n",
       "      <td>Gotha</td>\n",
       "      <td>3695</td>\n",
       "      <td>5.8</td>\n",
       "      <td>3.9</td>\n",
       "    </tr>\n",
       "  </tbody>\n",
       "</table>\n",
       "</div>"
      ],
      "text/plain": [
       "        Partei  Kreis Nr.      Gebietsbezeichnung  Gültige Stimmen Anzahl  \\\n",
       "5878  Sonstige    16065.0         Kyffhäuserkreis                    2474   \n",
       "5879  Sonstige    16066.0  Schmalkalden-Meiningen                    3473   \n",
       "5880  Sonstige    16067.0                   Gotha                    3695   \n",
       "\n",
       "      Gültige Stimmen %  Diff. zu 2014 in %-Pkt.  \n",
       "5878                6.8                      4.8  \n",
       "5879                5.6                      3.6  \n",
       "5880                5.8                      3.9  "
      ]
     },
     "execution_count": 9,
     "metadata": {},
     "output_type": "execute_result"
    }
   ],
   "source": [
    "df.tail(3)"
   ]
  },
  {
   "cell_type": "markdown",
   "metadata": {},
   "source": [
    "#### Gebe alle columns aus"
   ]
  },
  {
   "cell_type": "code",
   "execution_count": null,
   "metadata": {},
   "outputs": [],
   "source": []
  },
  {
   "cell_type": "markdown",
   "metadata": {},
   "source": [
    "#### Gebe die Partei Spalte aus"
   ]
  },
  {
   "cell_type": "code",
   "execution_count": null,
   "metadata": {},
   "outputs": [],
   "source": []
  },
  {
   "cell_type": "markdown",
   "metadata": {},
   "source": [
    "#### Welche Parteien sind angetreten?"
   ]
  },
  {
   "cell_type": "code",
   "execution_count": null,
   "metadata": {},
   "outputs": [],
   "source": []
  },
  {
   "cell_type": "markdown",
   "metadata": {},
   "source": [
    "#### Welche Stimmenanteile konnten die Parteien in Hessen erringen?"
   ]
  },
  {
   "cell_type": "code",
   "execution_count": null,
   "metadata": {},
   "outputs": [],
   "source": []
  },
  {
   "cell_type": "markdown",
   "metadata": {},
   "source": [
    "#### Welche Partei konnte in Bayern die meisten Stimmenanteile erringen?"
   ]
  },
  {
   "cell_type": "code",
   "execution_count": null,
   "metadata": {},
   "outputs": [],
   "source": []
  },
  {
   "cell_type": "markdown",
   "metadata": {},
   "source": [
    "#### Was ist Minimum, Maximum und Standardabweichung der Stimmenanteile der CDU?"
   ]
  },
  {
   "cell_type": "code",
   "execution_count": null,
   "metadata": {},
   "outputs": [],
   "source": []
  },
  {
   "cell_type": "markdown",
   "metadata": {},
   "source": [
    "#### Welche Partei musste in welchem Gebiet den größten Verlust/ Gewinn hinnehmen?"
   ]
  },
  {
   "cell_type": "code",
   "execution_count": 1,
   "metadata": {},
   "outputs": [],
   "source": []
  },
  {
   "cell_type": "markdown",
   "metadata": {},
   "source": [
    "# New Exercise"
   ]
  },
  {
   "cell_type": "markdown",
   "metadata": {},
   "source": [
    "### Step 3. Assign it to a variable called chipo."
   ]
  },
  {
   "cell_type": "code",
   "execution_count": 2,
   "metadata": {},
   "outputs": [],
   "source": [
    "url = 'https://raw.githubusercontent.com/justmarkham/DAT8/master/data/chipotle.tsv'\n",
    "    \n",
    "chipo = pd.read_csv(url, sep = '\\t')"
   ]
  },
  {
   "cell_type": "markdown",
   "metadata": {},
   "source": [
    "### Step 4. See the first 10 entries"
   ]
  },
  {
   "cell_type": "code",
   "execution_count": 3,
   "metadata": {
    "scrolled": false
   },
   "outputs": [
    {
     "data": {
      "text/html": [
       "<div>\n",
       "<style scoped>\n",
       "    .dataframe tbody tr th:only-of-type {\n",
       "        vertical-align: middle;\n",
       "    }\n",
       "\n",
       "    .dataframe tbody tr th {\n",
       "        vertical-align: top;\n",
       "    }\n",
       "\n",
       "    .dataframe thead th {\n",
       "        text-align: right;\n",
       "    }\n",
       "</style>\n",
       "<table border=\"1\" class=\"dataframe\">\n",
       "  <thead>\n",
       "    <tr style=\"text-align: right;\">\n",
       "      <th></th>\n",
       "      <th>order_id</th>\n",
       "      <th>quantity</th>\n",
       "      <th>item_name</th>\n",
       "      <th>choice_description</th>\n",
       "      <th>item_price</th>\n",
       "    </tr>\n",
       "  </thead>\n",
       "  <tbody>\n",
       "    <tr>\n",
       "      <th>0</th>\n",
       "      <td>1</td>\n",
       "      <td>1</td>\n",
       "      <td>Chips and Fresh Tomato Salsa</td>\n",
       "      <td>NaN</td>\n",
       "      <td>$2.39</td>\n",
       "    </tr>\n",
       "    <tr>\n",
       "      <th>1</th>\n",
       "      <td>1</td>\n",
       "      <td>1</td>\n",
       "      <td>Izze</td>\n",
       "      <td>[Clementine]</td>\n",
       "      <td>$3.39</td>\n",
       "    </tr>\n",
       "    <tr>\n",
       "      <th>2</th>\n",
       "      <td>1</td>\n",
       "      <td>1</td>\n",
       "      <td>Nantucket Nectar</td>\n",
       "      <td>[Apple]</td>\n",
       "      <td>$3.39</td>\n",
       "    </tr>\n",
       "    <tr>\n",
       "      <th>3</th>\n",
       "      <td>1</td>\n",
       "      <td>1</td>\n",
       "      <td>Chips and Tomatillo-Green Chili Salsa</td>\n",
       "      <td>NaN</td>\n",
       "      <td>$2.39</td>\n",
       "    </tr>\n",
       "    <tr>\n",
       "      <th>4</th>\n",
       "      <td>2</td>\n",
       "      <td>2</td>\n",
       "      <td>Chicken Bowl</td>\n",
       "      <td>[Tomatillo-Red Chili Salsa (Hot), [Black Beans...</td>\n",
       "      <td>$16.98</td>\n",
       "    </tr>\n",
       "    <tr>\n",
       "      <th>5</th>\n",
       "      <td>3</td>\n",
       "      <td>1</td>\n",
       "      <td>Chicken Bowl</td>\n",
       "      <td>[Fresh Tomato Salsa (Mild), [Rice, Cheese, Sou...</td>\n",
       "      <td>$10.98</td>\n",
       "    </tr>\n",
       "    <tr>\n",
       "      <th>6</th>\n",
       "      <td>3</td>\n",
       "      <td>1</td>\n",
       "      <td>Side of Chips</td>\n",
       "      <td>NaN</td>\n",
       "      <td>$1.69</td>\n",
       "    </tr>\n",
       "    <tr>\n",
       "      <th>7</th>\n",
       "      <td>4</td>\n",
       "      <td>1</td>\n",
       "      <td>Steak Burrito</td>\n",
       "      <td>[Tomatillo Red Chili Salsa, [Fajita Vegetables...</td>\n",
       "      <td>$11.75</td>\n",
       "    </tr>\n",
       "    <tr>\n",
       "      <th>8</th>\n",
       "      <td>4</td>\n",
       "      <td>1</td>\n",
       "      <td>Steak Soft Tacos</td>\n",
       "      <td>[Tomatillo Green Chili Salsa, [Pinto Beans, Ch...</td>\n",
       "      <td>$9.25</td>\n",
       "    </tr>\n",
       "    <tr>\n",
       "      <th>9</th>\n",
       "      <td>5</td>\n",
       "      <td>1</td>\n",
       "      <td>Steak Burrito</td>\n",
       "      <td>[Fresh Tomato Salsa, [Rice, Black Beans, Pinto...</td>\n",
       "      <td>$9.25</td>\n",
       "    </tr>\n",
       "  </tbody>\n",
       "</table>\n",
       "</div>"
      ],
      "text/plain": [
       "   order_id  quantity                              item_name  \\\n",
       "0         1         1           Chips and Fresh Tomato Salsa   \n",
       "1         1         1                                   Izze   \n",
       "2         1         1                       Nantucket Nectar   \n",
       "3         1         1  Chips and Tomatillo-Green Chili Salsa   \n",
       "4         2         2                           Chicken Bowl   \n",
       "5         3         1                           Chicken Bowl   \n",
       "6         3         1                          Side of Chips   \n",
       "7         4         1                          Steak Burrito   \n",
       "8         4         1                       Steak Soft Tacos   \n",
       "9         5         1                          Steak Burrito   \n",
       "\n",
       "                                  choice_description item_price  \n",
       "0                                                NaN     $2.39   \n",
       "1                                       [Clementine]     $3.39   \n",
       "2                                            [Apple]     $3.39   \n",
       "3                                                NaN     $2.39   \n",
       "4  [Tomatillo-Red Chili Salsa (Hot), [Black Beans...    $16.98   \n",
       "5  [Fresh Tomato Salsa (Mild), [Rice, Cheese, Sou...    $10.98   \n",
       "6                                                NaN     $1.69   \n",
       "7  [Tomatillo Red Chili Salsa, [Fajita Vegetables...    $11.75   \n",
       "8  [Tomatillo Green Chili Salsa, [Pinto Beans, Ch...     $9.25   \n",
       "9  [Fresh Tomato Salsa, [Rice, Black Beans, Pinto...     $9.25   "
      ]
     },
     "execution_count": 3,
     "metadata": {},
     "output_type": "execute_result"
    }
   ],
   "source": [
    "chipo.head(10)"
   ]
  },
  {
   "cell_type": "markdown",
   "metadata": {},
   "source": [
    "### Step 5. What is the number of observations in the dataset?"
   ]
  },
  {
   "cell_type": "code",
   "execution_count": null,
   "metadata": {},
   "outputs": [],
   "source": []
  },
  {
   "cell_type": "code",
   "execution_count": null,
   "metadata": {},
   "outputs": [],
   "source": []
  },
  {
   "cell_type": "markdown",
   "metadata": {},
   "source": [
    "### Step 6. What is the number of columns in the dataset?"
   ]
  },
  {
   "cell_type": "code",
   "execution_count": null,
   "metadata": {},
   "outputs": [],
   "source": []
  },
  {
   "cell_type": "markdown",
   "metadata": {},
   "source": [
    "### Step 7. Print the name of all the columns."
   ]
  },
  {
   "cell_type": "code",
   "execution_count": null,
   "metadata": {},
   "outputs": [],
   "source": []
  },
  {
   "cell_type": "markdown",
   "metadata": {},
   "source": [
    "### Step 8. How is the dataset indexed?"
   ]
  },
  {
   "cell_type": "code",
   "execution_count": null,
   "metadata": {},
   "outputs": [],
   "source": []
  },
  {
   "cell_type": "code",
   "execution_count": null,
   "metadata": {},
   "outputs": [],
   "source": []
  },
  {
   "cell_type": "markdown",
   "metadata": {},
   "source": [
    "### Step 9. Which was the most-ordered item? "
   ]
  },
  {
   "cell_type": "code",
   "execution_count": null,
   "metadata": {},
   "outputs": [],
   "source": []
  },
  {
   "cell_type": "markdown",
   "metadata": {},
   "source": [
    "### Step 10. For the most-ordered item, how many items were ordered?"
   ]
  },
  {
   "cell_type": "code",
   "execution_count": null,
   "metadata": {},
   "outputs": [],
   "source": []
  },
  {
   "cell_type": "markdown",
   "metadata": {},
   "source": [
    "### Step 11. What was the most ordered item in the choice_description column?"
   ]
  },
  {
   "cell_type": "code",
   "execution_count": null,
   "metadata": {},
   "outputs": [],
   "source": []
  },
  {
   "cell_type": "markdown",
   "metadata": {},
   "source": [
    "### Step 12. How many items were orderd in total?"
   ]
  },
  {
   "cell_type": "code",
   "execution_count": null,
   "metadata": {},
   "outputs": [],
   "source": []
  },
  {
   "cell_type": "markdown",
   "metadata": {},
   "source": [
    "### Step 13. Turn the item price into a float"
   ]
  },
  {
   "cell_type": "markdown",
   "metadata": {},
   "source": [
    "#### Step 13.a. Check the item price type"
   ]
  },
  {
   "cell_type": "code",
   "execution_count": null,
   "metadata": {},
   "outputs": [],
   "source": []
  },
  {
   "cell_type": "markdown",
   "metadata": {},
   "source": [
    "#### Step 13.b. Create a lambda function and change the type of item price"
   ]
  },
  {
   "cell_type": "code",
   "execution_count": null,
   "metadata": {},
   "outputs": [],
   "source": []
  },
  {
   "cell_type": "markdown",
   "metadata": {},
   "source": [
    "#### Step 13.c. Check the item price type"
   ]
  },
  {
   "cell_type": "code",
   "execution_count": null,
   "metadata": {},
   "outputs": [],
   "source": []
  },
  {
   "cell_type": "markdown",
   "metadata": {},
   "source": [
    "### Step 14. How much was the revenue for the period in the dataset?"
   ]
  },
  {
   "cell_type": "code",
   "execution_count": null,
   "metadata": {},
   "outputs": [],
   "source": []
  },
  {
   "cell_type": "code",
   "execution_count": null,
   "metadata": {},
   "outputs": [],
   "source": []
  },
  {
   "cell_type": "markdown",
   "metadata": {},
   "source": [
    "### Step 15. How many orders were made in the period?"
   ]
  },
  {
   "cell_type": "code",
   "execution_count": null,
   "metadata": {},
   "outputs": [],
   "source": []
  },
  {
   "cell_type": "markdown",
   "metadata": {},
   "source": [
    "### Step 16. What is the average revenue amount per order?"
   ]
  },
  {
   "cell_type": "code",
   "execution_count": null,
   "metadata": {
    "scrolled": true
   },
   "outputs": [],
   "source": []
  },
  {
   "cell_type": "code",
   "execution_count": null,
   "metadata": {},
   "outputs": [],
   "source": []
  },
  {
   "cell_type": "markdown",
   "metadata": {},
   "source": [
    "### Step 17. How many different items are sold?"
   ]
  },
  {
   "cell_type": "code",
   "execution_count": null,
   "metadata": {},
   "outputs": [],
   "source": []
  },
  {
   "cell_type": "markdown",
   "metadata": {},
   "source": [
    "# New Exercise"
   ]
  },
  {
   "cell_type": "code",
   "execution_count": 40,
   "metadata": {},
   "outputs": [],
   "source": [
    "users = pd.read_csv('https://raw.githubusercontent.com/justmarkham/DAT8/master/data/u.user', \n",
    "                      sep='|', index_col='user_id')"
   ]
  },
  {
   "cell_type": "markdown",
   "metadata": {},
   "source": [
    "### Step 4. See the first 25 entries"
   ]
  },
  {
   "cell_type": "code",
   "execution_count": null,
   "metadata": {
    "scrolled": true
   },
   "outputs": [],
   "source": []
  },
  {
   "cell_type": "markdown",
   "metadata": {},
   "source": [
    "### Step 5. See the last 10 entries"
   ]
  },
  {
   "cell_type": "code",
   "execution_count": null,
   "metadata": {
    "scrolled": true
   },
   "outputs": [],
   "source": []
  },
  {
   "cell_type": "markdown",
   "metadata": {},
   "source": [
    "### Step 6. What is the number of observations in the dataset?"
   ]
  },
  {
   "cell_type": "code",
   "execution_count": null,
   "metadata": {},
   "outputs": [],
   "source": []
  },
  {
   "cell_type": "markdown",
   "metadata": {},
   "source": [
    "### Step 7. What is the number of columns in the dataset?"
   ]
  },
  {
   "cell_type": "code",
   "execution_count": null,
   "metadata": {},
   "outputs": [],
   "source": []
  },
  {
   "cell_type": "markdown",
   "metadata": {},
   "source": [
    "### Step 8. Print the name of all the columns."
   ]
  },
  {
   "cell_type": "code",
   "execution_count": null,
   "metadata": {},
   "outputs": [],
   "source": []
  },
  {
   "cell_type": "markdown",
   "metadata": {},
   "source": [
    "### Step 9. How is the dataset indexed?"
   ]
  },
  {
   "cell_type": "code",
   "execution_count": null,
   "metadata": {},
   "outputs": [],
   "source": []
  },
  {
   "cell_type": "markdown",
   "metadata": {},
   "source": [
    "### Step 10. What is the data type of each column?"
   ]
  },
  {
   "cell_type": "code",
   "execution_count": null,
   "metadata": {},
   "outputs": [],
   "source": []
  },
  {
   "cell_type": "markdown",
   "metadata": {},
   "source": [
    "### Step 11. Print only the occupation column"
   ]
  },
  {
   "cell_type": "code",
   "execution_count": null,
   "metadata": {},
   "outputs": [],
   "source": []
  },
  {
   "cell_type": "markdown",
   "metadata": {},
   "source": [
    "### Step 12. How many different occupations there are in this dataset?"
   ]
  },
  {
   "cell_type": "code",
   "execution_count": null,
   "metadata": {},
   "outputs": [],
   "source": []
  },
  {
   "cell_type": "markdown",
   "metadata": {},
   "source": [
    "### Step 13. What is the most frequent occupation?"
   ]
  },
  {
   "cell_type": "code",
   "execution_count": null,
   "metadata": {},
   "outputs": [],
   "source": []
  },
  {
   "cell_type": "markdown",
   "metadata": {},
   "source": [
    "### Step 14. Summarize the DataFrame."
   ]
  },
  {
   "cell_type": "code",
   "execution_count": null,
   "metadata": {},
   "outputs": [],
   "source": []
  },
  {
   "cell_type": "markdown",
   "metadata": {},
   "source": [
    "### Step 15. Summarize all the columns"
   ]
  },
  {
   "cell_type": "code",
   "execution_count": null,
   "metadata": {
    "scrolled": true
   },
   "outputs": [],
   "source": []
  },
  {
   "cell_type": "markdown",
   "metadata": {},
   "source": [
    "### Step 16. Summarize only the occupation column"
   ]
  },
  {
   "cell_type": "code",
   "execution_count": null,
   "metadata": {},
   "outputs": [],
   "source": []
  },
  {
   "cell_type": "markdown",
   "metadata": {},
   "source": [
    "### Step 17. What is the mean age of users?"
   ]
  },
  {
   "cell_type": "code",
   "execution_count": null,
   "metadata": {},
   "outputs": [],
   "source": []
  },
  {
   "cell_type": "markdown",
   "metadata": {},
   "source": [
    "### Step 18. What is the age with least occurrence?"
   ]
  },
  {
   "cell_type": "code",
   "execution_count": null,
   "metadata": {},
   "outputs": [],
   "source": []
  },
  {
   "cell_type": "code",
   "execution_count": null,
   "metadata": {},
   "outputs": [],
   "source": []
  },
  {
   "cell_type": "code",
   "execution_count": null,
   "metadata": {},
   "outputs": [],
   "source": []
  }
 ],
 "metadata": {
  "anaconda-cloud": {},
  "kernelspec": {
   "display_name": "Python 3",
   "language": "python",
   "name": "python3"
  },
  "language_info": {
   "codemirror_mode": {
    "name": "ipython",
    "version": 3
   },
   "file_extension": ".py",
   "mimetype": "text/x-python",
   "name": "python",
   "nbconvert_exporter": "python",
   "pygments_lexer": "ipython3",
   "version": "3.8.3"
  }
 },
 "nbformat": 4,
 "nbformat_minor": 1
}
