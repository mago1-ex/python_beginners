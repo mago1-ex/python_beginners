{
 "cells": [
  {
   "cell_type": "markdown",
   "metadata": {},
   "source": [
    "# NumPy\n",
    "* \"Fundamental package for scientific computing in Python\"\n",
    "* \"At the core of the NumPy package, is the `ndarray` object\"\n",
    "* Provides:\n",
    "   * multidimensional array object\n",
    "   * various derived objects:\n",
    "     * masked arrays\n",
    "     * matrices\n",
    "     * ...\n",
    "   * routines for fast operations on arrays:\n",
    "     * mathematical\n",
    "     * logical\n",
    "     * shape manipulation\n",
    "     * sorting\n",
    "     * selecting\n",
    "     * I/O\n",
    "     * basic linear algebra\n",
    "     * basic statistical operations\n",
    "     * random simulation\n",
    "     * ...\n",
    "\n",
    "https://docs.scipy.org/doc/numpy-1.13.0/user/whatisnumpy.html\n",
    "\n",
    "\n",
    "## `ndarray`\n",
    "* \"Multidimensional container of items of the **same type and size**\"\n",
    "* \"Usually fixed-size\"\n",
    "* Shape of the array (\"tuple of N positive integers that specify the sizes of each dimension\") defines:\n",
    "  * Number of dimensions\n",
    "  * Number of items\n",
    "* `dtype` specifies the data type of the items in the array\n",
    "* Supports indexing and slicing\n",
    "\n",
    "https://docs.scipy.org/doc/numpy-1.13.0/reference/arrays.ndarray.html\n",
    "\n",
    "## `ndarray` vs standard Python list\n",
    "\n",
    "| -                    | `ndarray`       | Python list                       |\n",
    "|:---------------------|:----------------|:----------------------------------|\n",
    "| size                 | fixed [1]       | dynamic                           |\n",
    "| type                 | homogeneous [2] | heterogeneous (Python `object`s)  |\n",
    "| adv. math operations | available [3]   | write yourself                    |\n",
    "| implementation       | C array [4]     | list of list(s)                   |\n",
    "\n",
    "\n",
    "* [1] \"Changing the size of an ndarray will create a new array and delete the original.\"\n",
    "* [2] All elements will have the **\"same size in memory\"** (except in case of an array of objects).\n",
    "* [3] \"Typically, such operations are executed **more efficiently** and with less code than is possible using Python’s built-in sequences.\"\n",
    "* [4] \"NumPy is implemented in C and offers near C-speed\"\n",
    "\n",
    "In addition, many scientific Python packages use and return NumPy arrays.\n",
    "\n",
    "https://docs.scipy.org/doc/numpy-1.13.0/user/whatisnumpy.html\n",
    "\n",
    "## NumPy Routines\n",
    "All functions and methods are documented at https://docs.scipy.org/doc/numpy-1.13.0/reference/routines.html#routines\n",
    "* [Array creation](https://docs.scipy.org/doc/numpy-1.13.0/reference/routines.array-creation.html)\n",
    "* [Array manipulation](https://docs.scipy.org/doc/numpy-1.13.0/reference/routines.array-manipulation.html)\n",
    "* [Data type routines](https://docs.scipy.org/doc/numpy-1.13.0/reference/routines.dtype.html)\n",
    "* [Indexing](https://docs.scipy.org/doc/numpy-1.13.0/reference/routines.indexing.html)\n",
    "* [Linear algebra](https://docs.scipy.org/doc/numpy-1.13.0/reference/routines.linalg.html)\n",
    "* [Logic functions](https://docs.scipy.org/doc/numpy-1.13.0/reference/routines.logic.html)\n",
    "* [Mathematical functions](https://docs.scipy.org/doc/numpy-1.13.0/reference/routines.math.html)\n",
    "* [The matrix library](https://docs.scipy.org/doc/numpy-1.13.0/reference/routines.matlib.html)\n",
    "* [Random sampling](https://docs.scipy.org/doc/numpy-1.13.0/reference/routines.random.html)\n",
    "* [Sorting, searching, and counting](https://docs.scipy.org/doc/numpy-1.13.0/reference/routines.sort.html)\n",
    "* [Statistics](https://docs.scipy.org/doc/numpy-1.13.0/reference/routines.statistics.html)\n",
    "* [Window functions](https://docs.scipy.org/doc/numpy-1.13.0/reference/routines.window.html)\n",
    "* ..."
   ]
  },
  {
   "cell_type": "code",
   "execution_count": 1,
   "metadata": {},
   "outputs": [],
   "source": [
    "# usually numpy is imported like this\n",
    "import numpy as np"
   ]
  },
  {
   "cell_type": "markdown",
   "metadata": {},
   "source": [
    "## Create NumPy Arrays\n",
    "\n",
    "\"There are 5 general mechanisms for creating arrays:\n",
    "1. Conversion from other Python structures (e.g., lists, tuples)\n",
    "2. Intrinsic numpy array creation objects (e.g., arange, ones, zeros, etc.)\n",
    "3. Reading arrays from disk, either from standard or custom formats\n",
    "4. Creating arrays from raw bytes through the use of strings or buffers\n",
    "5. Use of special library functions (e.g., random)\"\n",
    "\n",
    "https://docs.scipy.org/doc/numpy-1.13.0/user/basics.creation.html\n",
    "\n",
    "See https://docs.scipy.org/doc/numpy-1.13.0/reference/routines.array-creation.html for an overview of array creation routines. A few important routines are outlined in the following.\n",
    "\n",
    "### Using the ```array()``` function\n",
    "```numpy.array(object, dtype=None, copy=True, order='K', subok=False, ndmin=0)```\n",
    "\n",
    "\"**Parameters:**\n",
    "* **object:** *array_like*. An array, any object exposing the array interface, an object whose ```__array__``` method returns an array, or any (nested) sequence.\n",
    "* **dtype:** *data-type, optional*. The desired data-type for the array. If not given, then the type will be determined as the minimum type required to hold the objects in the sequence. This argument can only be used to ‘upcast’ the array. For downcasting, use the ```.astype(t)``` method.\"\n",
    "* Check the documentation for the other more advanced parameters.\n",
    "\n",
    "\n",
    "\"**Returns: out:** *ndarray*. An array object satisfying the specified requirements.\n",
    "\n",
    "https://docs.scipy.org/doc/numpy-1.13.0/reference/generated/numpy.array.html\n",
    "\n",
    "The following examples are from the link above."
   ]
  },
  {
   "cell_type": "code",
   "execution_count": 9,
   "metadata": {},
   "outputs": [
    {
     "data": {
      "text/plain": [
       "array([1, 3, 3])"
      ]
     },
     "execution_count": 9,
     "metadata": {},
     "output_type": "execute_result"
    }
   ],
   "source": [
    "# create an numpy array from a list\n",
    "data = [1, 3, 3]\n",
    "a = np.array(data)\n",
    "a"
   ]
  },
  {
   "cell_type": "code",
   "execution_count": 10,
   "metadata": {},
   "outputs": [
    {
     "data": {
      "text/plain": [
       "numpy.ndarray"
      ]
     },
     "execution_count": 10,
     "metadata": {},
     "output_type": "execute_result"
    }
   ],
   "source": [
    "type(a)"
   ]
  },
  {
   "cell_type": "code",
   "execution_count": 11,
   "metadata": {},
   "outputs": [
    {
     "data": {
      "text/plain": [
       "dtype('int64')"
      ]
     },
     "execution_count": 11,
     "metadata": {},
     "output_type": "execute_result"
    }
   ],
   "source": [
    "a.dtype"
   ]
  },
  {
   "cell_type": "code",
   "execution_count": 12,
   "metadata": {},
   "outputs": [
    {
     "data": {
      "text/plain": [
       "dtype('float64')"
      ]
     },
     "execution_count": 12,
     "metadata": {},
     "output_type": "execute_result"
    }
   ],
   "source": [
    "# upcast the type from an array from integer to float\n",
    "# note the dtype of all values in the array\n",
    "np.array([1, 2, 3.]).dtype"
   ]
  },
  {
   "cell_type": "code",
   "execution_count": null,
   "metadata": {},
   "outputs": [],
   "source": []
  },
  {
   "cell_type": "code",
   "execution_count": 13,
   "metadata": {},
   "outputs": [
    {
     "data": {
      "text/plain": [
       "array([[0, 1, 2],\n",
       "       [3, 4, 5]])"
      ]
     },
     "execution_count": 13,
     "metadata": {},
     "output_type": "execute_result"
    }
   ],
   "source": [
    "# create an array with more than one dimension\n",
    "np.array( [ [0, 1, 2], [3, 4, 5] ] )"
   ]
  },
  {
   "cell_type": "code",
   "execution_count": 14,
   "metadata": {},
   "outputs": [
    {
     "data": {
      "text/plain": [
       "(2, 3)"
      ]
     },
     "execution_count": 14,
     "metadata": {},
     "output_type": "execute_result"
    }
   ],
   "source": [
    "np.array([[0, 1, 2], [3, 4, 5]]).shape"
   ]
  },
  {
   "cell_type": "code",
   "execution_count": 15,
   "metadata": {},
   "outputs": [
    {
     "name": "stderr",
     "output_type": "stream",
     "text": [
      "<ipython-input-15-44959dcb9816>:1: VisibleDeprecationWarning: Creating an ndarray from ragged nested sequences (which is a list-or-tuple of lists-or-tuples-or ndarrays with different lengths or shapes) is deprecated. If you meant to do this, you must specify 'dtype=object' when creating the ndarray.\n",
      "  np.array([[0, 1, 2], [3, 4]])\n"
     ]
    },
    {
     "data": {
      "text/plain": [
       "array([list([0, 1, 2]), list([3, 4])], dtype=object)"
      ]
     },
     "execution_count": 15,
     "metadata": {},
     "output_type": "execute_result"
    }
   ],
   "source": [
    "np.array([[0, 1, 2], [3, 4]])"
   ]
  },
  {
   "cell_type": "code",
   "execution_count": 17,
   "metadata": {},
   "outputs": [
    {
     "data": {
      "text/plain": [
       "(4, 3)"
      ]
     },
     "execution_count": 17,
     "metadata": {},
     "output_type": "execute_result"
    }
   ],
   "source": [
    "np.array([[0, 1, 2], [3, 4, 5], [3, 4, 5], [3, 4, 5]]).shape"
   ]
  },
  {
   "cell_type": "markdown",
   "metadata": {},
   "source": [
    "### Using the ```arange()``` function\n",
    "\n",
    "```numpy.arange([start, ]stop, [step, ]dtype=None)```\n",
    "\n",
    "\"Return evenly spaced values within a given interval.\n",
    "\n",
    "Values are generated within the half-open interval ```[start, stop)``` (in other words, the interval including start but excluding stop). For integer arguments the function is equivalent to the Python built-in ```range``` function, but returns an ```ndarray``` rather than a list.\n",
    "\n",
    "When using a non-integer step, such as ```0.1```, the results will often not be consistent. It is better to use ```linspace``` for these cases.\"\n",
    "\n",
    "**Parameters:**\n",
    "* **start:** *number, optional*. Start of interval. The interval includes this value. The default start value is ```0```.\n",
    "* **stop:** *number*. End of interval. The interval does not include this value, except in some cases where *step* is not an integer and floating point round-off affects the length of out.\n",
    "* **step:** *number, optional*. Spacing between values. For any output *out*, this is the distance between two adjacent values, ```out[i+1] - out[i]```. The default step size is ```1```. If *step* is specified, *start* must also be given.\n",
    "* **dtype:** *dtype*. The type of the output array. If ```dtype``` is not given, infer the data type from the other input arguments.\n",
    "\n",
    "**Returns: arange:** *ndarray*. Array of evenly spaced values. For floating point arguments, the length of the result is ```ceil((stop - start)/step)```. Because of floating point overflow, this rule may result in the last element of out being greater than *stop*.\n",
    "\n",
    "https://docs.scipy.org/doc/numpy-1.13.0/reference/generated/numpy.arange.html"
   ]
  },
  {
   "cell_type": "code",
   "execution_count": 19,
   "metadata": {},
   "outputs": [
    {
     "data": {
      "text/plain": [
       "array([0, 1, 2, 3, 4])"
      ]
     },
     "execution_count": 19,
     "metadata": {},
     "output_type": "execute_result"
    }
   ],
   "source": [
    "# create an array with stop=3 (and default start and step values)\n",
    "np.arange(5)"
   ]
  },
  {
   "cell_type": "code",
   "execution_count": 21,
   "metadata": {},
   "outputs": [
    {
     "data": {
      "text/plain": [
       "array([2, 4, 6, 8])"
      ]
     },
     "execution_count": 21,
     "metadata": {},
     "output_type": "execute_result"
    }
   ],
   "source": [
    "np.arange(2, 10, 2)"
   ]
  },
  {
   "cell_type": "code",
   "execution_count": 22,
   "metadata": {},
   "outputs": [
    {
     "data": {
      "text/plain": [
       "array([0., 1., 2.])"
      ]
     },
     "execution_count": 22,
     "metadata": {},
     "output_type": "execute_result"
    }
   ],
   "source": [
    "# create the same array with float data types\n",
    "np.arange(3.)"
   ]
  },
  {
   "cell_type": "code",
   "execution_count": 23,
   "metadata": {},
   "outputs": [
    {
     "data": {
      "text/plain": [
       "array([3, 4, 5, 6])"
      ]
     },
     "execution_count": 23,
     "metadata": {},
     "output_type": "execute_result"
    }
   ],
   "source": [
    "# create an array with start=3 and stop=7 (exclusive)\n",
    "np.arange(3, 7)"
   ]
  },
  {
   "cell_type": "code",
   "execution_count": 24,
   "metadata": {},
   "outputs": [
    {
     "data": {
      "text/plain": [
       "array([3. , 3.1, 3.2, 3.3, 3.4, 3.5, 3.6, 3.7, 3.8, 3.9, 4. , 4.1, 4.2,\n",
       "       4.3, 4.4, 4.5, 4.6, 4.7, 4.8, 4.9, 5. , 5.1, 5.2, 5.3, 5.4, 5.5,\n",
       "       5.6, 5.7, 5.8, 5.9, 6. , 6.1, 6.2, 6.3, 6.4, 6.5, 6.6, 6.7, 6.8,\n",
       "       6.9])"
      ]
     },
     "execution_count": 24,
     "metadata": {},
     "output_type": "execute_result"
    }
   ],
   "source": [
    "# create an array with start=3, stop=7 (exclusive), and step=2\n",
    "np.arange(3, 7, 0.1)"
   ]
  },
  {
   "cell_type": "markdown",
   "metadata": {},
   "source": [
    "### Using with or without placeholder values\n",
    "\n",
    "Some methods for creating NumPy array with or without placeholder values are described in the following.\n",
    "\n",
    "https://docs.scipy.org/doc/numpy-1.13.0/reference/routines.array-creation.html#ones-and-zeros\n",
    "\n",
    "#### ```ones()```\n",
    "```numpy.ones(shape, dtype=None, order='C')```\n",
    "\"Return a new array of given shape and type, filled with ones.\n",
    "\n",
    "**Parameters:**\n",
    "* **shape:** *int or sequence of ints*. Shape of the new array, e.g., ```(2, 3)``` or ```2```.\n",
    "* **dtype:** *data-type, optional*. The desired data-type for the array, e.g., ```numpy.int8```. Default is ```numpy.float64```.\n",
    "* **order:** *{‘C’, ‘F’}, optional*. Whether to store multidimensional data in C- or Fortran-contiguous (row- or column-wise) order in memory.\n",
    "\n",
    "**Returns: out:** *ndarray*. Array of ones with the given shape, dtype, and order.\"\n",
    "\n",
    "https://docs.scipy.org/doc/numpy-1.13.0/reference/generated/numpy.ones.html"
   ]
  },
  {
   "cell_type": "code",
   "execution_count": 25,
   "metadata": {},
   "outputs": [
    {
     "data": {
      "text/plain": [
       "array([1., 1., 1., 1., 1.])"
      ]
     },
     "execution_count": 25,
     "metadata": {},
     "output_type": "execute_result"
    }
   ],
   "source": [
    "# create an array of ones with 5 values and the default dtype\n",
    "np.ones(5)"
   ]
  },
  {
   "cell_type": "code",
   "execution_count": 27,
   "metadata": {},
   "outputs": [
    {
     "data": {
      "text/plain": [
       "array([1, 1, 1, 1, 1])"
      ]
     },
     "execution_count": 27,
     "metadata": {},
     "output_type": "execute_result"
    }
   ],
   "source": [
    "# create the same array with int as dtype\n",
    "np.ones((5,), dtype=int)"
   ]
  },
  {
   "cell_type": "code",
   "execution_count": 34,
   "metadata": {},
   "outputs": [
    {
     "data": {
      "text/plain": [
       "array([[[[[[1., 1., 1., ..., 1., 1., 1.],\n",
       "           [1., 1., 1., ..., 1., 1., 1.],\n",
       "           [1., 1., 1., ..., 1., 1., 1.],\n",
       "           ...,\n",
       "           [1., 1., 1., ..., 1., 1., 1.],\n",
       "           [1., 1., 1., ..., 1., 1., 1.],\n",
       "           [1., 1., 1., ..., 1., 1., 1.]],\n",
       "\n",
       "          [[1., 1., 1., ..., 1., 1., 1.],\n",
       "           [1., 1., 1., ..., 1., 1., 1.],\n",
       "           [1., 1., 1., ..., 1., 1., 1.],\n",
       "           ...,\n",
       "           [1., 1., 1., ..., 1., 1., 1.],\n",
       "           [1., 1., 1., ..., 1., 1., 1.],\n",
       "           [1., 1., 1., ..., 1., 1., 1.]],\n",
       "\n",
       "          [[1., 1., 1., ..., 1., 1., 1.],\n",
       "           [1., 1., 1., ..., 1., 1., 1.],\n",
       "           [1., 1., 1., ..., 1., 1., 1.],\n",
       "           ...,\n",
       "           [1., 1., 1., ..., 1., 1., 1.],\n",
       "           [1., 1., 1., ..., 1., 1., 1.],\n",
       "           [1., 1., 1., ..., 1., 1., 1.]],\n",
       "\n",
       "          [[1., 1., 1., ..., 1., 1., 1.],\n",
       "           [1., 1., 1., ..., 1., 1., 1.],\n",
       "           [1., 1., 1., ..., 1., 1., 1.],\n",
       "           ...,\n",
       "           [1., 1., 1., ..., 1., 1., 1.],\n",
       "           [1., 1., 1., ..., 1., 1., 1.],\n",
       "           [1., 1., 1., ..., 1., 1., 1.]],\n",
       "\n",
       "          [[1., 1., 1., ..., 1., 1., 1.],\n",
       "           [1., 1., 1., ..., 1., 1., 1.],\n",
       "           [1., 1., 1., ..., 1., 1., 1.],\n",
       "           ...,\n",
       "           [1., 1., 1., ..., 1., 1., 1.],\n",
       "           [1., 1., 1., ..., 1., 1., 1.],\n",
       "           [1., 1., 1., ..., 1., 1., 1.]]],\n",
       "\n",
       "\n",
       "         [[[1., 1., 1., ..., 1., 1., 1.],\n",
       "           [1., 1., 1., ..., 1., 1., 1.],\n",
       "           [1., 1., 1., ..., 1., 1., 1.],\n",
       "           ...,\n",
       "           [1., 1., 1., ..., 1., 1., 1.],\n",
       "           [1., 1., 1., ..., 1., 1., 1.],\n",
       "           [1., 1., 1., ..., 1., 1., 1.]],\n",
       "\n",
       "          [[1., 1., 1., ..., 1., 1., 1.],\n",
       "           [1., 1., 1., ..., 1., 1., 1.],\n",
       "           [1., 1., 1., ..., 1., 1., 1.],\n",
       "           ...,\n",
       "           [1., 1., 1., ..., 1., 1., 1.],\n",
       "           [1., 1., 1., ..., 1., 1., 1.],\n",
       "           [1., 1., 1., ..., 1., 1., 1.]],\n",
       "\n",
       "          [[1., 1., 1., ..., 1., 1., 1.],\n",
       "           [1., 1., 1., ..., 1., 1., 1.],\n",
       "           [1., 1., 1., ..., 1., 1., 1.],\n",
       "           ...,\n",
       "           [1., 1., 1., ..., 1., 1., 1.],\n",
       "           [1., 1., 1., ..., 1., 1., 1.],\n",
       "           [1., 1., 1., ..., 1., 1., 1.]],\n",
       "\n",
       "          [[1., 1., 1., ..., 1., 1., 1.],\n",
       "           [1., 1., 1., ..., 1., 1., 1.],\n",
       "           [1., 1., 1., ..., 1., 1., 1.],\n",
       "           ...,\n",
       "           [1., 1., 1., ..., 1., 1., 1.],\n",
       "           [1., 1., 1., ..., 1., 1., 1.],\n",
       "           [1., 1., 1., ..., 1., 1., 1.]],\n",
       "\n",
       "          [[1., 1., 1., ..., 1., 1., 1.],\n",
       "           [1., 1., 1., ..., 1., 1., 1.],\n",
       "           [1., 1., 1., ..., 1., 1., 1.],\n",
       "           ...,\n",
       "           [1., 1., 1., ..., 1., 1., 1.],\n",
       "           [1., 1., 1., ..., 1., 1., 1.],\n",
       "           [1., 1., 1., ..., 1., 1., 1.]]],\n",
       "\n",
       "\n",
       "         [[[1., 1., 1., ..., 1., 1., 1.],\n",
       "           [1., 1., 1., ..., 1., 1., 1.],\n",
       "           [1., 1., 1., ..., 1., 1., 1.],\n",
       "           ...,\n",
       "           [1., 1., 1., ..., 1., 1., 1.],\n",
       "           [1., 1., 1., ..., 1., 1., 1.],\n",
       "           [1., 1., 1., ..., 1., 1., 1.]],\n",
       "\n",
       "          [[1., 1., 1., ..., 1., 1., 1.],\n",
       "           [1., 1., 1., ..., 1., 1., 1.],\n",
       "           [1., 1., 1., ..., 1., 1., 1.],\n",
       "           ...,\n",
       "           [1., 1., 1., ..., 1., 1., 1.],\n",
       "           [1., 1., 1., ..., 1., 1., 1.],\n",
       "           [1., 1., 1., ..., 1., 1., 1.]],\n",
       "\n",
       "          [[1., 1., 1., ..., 1., 1., 1.],\n",
       "           [1., 1., 1., ..., 1., 1., 1.],\n",
       "           [1., 1., 1., ..., 1., 1., 1.],\n",
       "           ...,\n",
       "           [1., 1., 1., ..., 1., 1., 1.],\n",
       "           [1., 1., 1., ..., 1., 1., 1.],\n",
       "           [1., 1., 1., ..., 1., 1., 1.]],\n",
       "\n",
       "          [[1., 1., 1., ..., 1., 1., 1.],\n",
       "           [1., 1., 1., ..., 1., 1., 1.],\n",
       "           [1., 1., 1., ..., 1., 1., 1.],\n",
       "           ...,\n",
       "           [1., 1., 1., ..., 1., 1., 1.],\n",
       "           [1., 1., 1., ..., 1., 1., 1.],\n",
       "           [1., 1., 1., ..., 1., 1., 1.]],\n",
       "\n",
       "          [[1., 1., 1., ..., 1., 1., 1.],\n",
       "           [1., 1., 1., ..., 1., 1., 1.],\n",
       "           [1., 1., 1., ..., 1., 1., 1.],\n",
       "           ...,\n",
       "           [1., 1., 1., ..., 1., 1., 1.],\n",
       "           [1., 1., 1., ..., 1., 1., 1.],\n",
       "           [1., 1., 1., ..., 1., 1., 1.]]]],\n",
       "\n",
       "\n",
       "\n",
       "        [[[[1., 1., 1., ..., 1., 1., 1.],\n",
       "           [1., 1., 1., ..., 1., 1., 1.],\n",
       "           [1., 1., 1., ..., 1., 1., 1.],\n",
       "           ...,\n",
       "           [1., 1., 1., ..., 1., 1., 1.],\n",
       "           [1., 1., 1., ..., 1., 1., 1.],\n",
       "           [1., 1., 1., ..., 1., 1., 1.]],\n",
       "\n",
       "          [[1., 1., 1., ..., 1., 1., 1.],\n",
       "           [1., 1., 1., ..., 1., 1., 1.],\n",
       "           [1., 1., 1., ..., 1., 1., 1.],\n",
       "           ...,\n",
       "           [1., 1., 1., ..., 1., 1., 1.],\n",
       "           [1., 1., 1., ..., 1., 1., 1.],\n",
       "           [1., 1., 1., ..., 1., 1., 1.]],\n",
       "\n",
       "          [[1., 1., 1., ..., 1., 1., 1.],\n",
       "           [1., 1., 1., ..., 1., 1., 1.],\n",
       "           [1., 1., 1., ..., 1., 1., 1.],\n",
       "           ...,\n",
       "           [1., 1., 1., ..., 1., 1., 1.],\n",
       "           [1., 1., 1., ..., 1., 1., 1.],\n",
       "           [1., 1., 1., ..., 1., 1., 1.]],\n",
       "\n",
       "          [[1., 1., 1., ..., 1., 1., 1.],\n",
       "           [1., 1., 1., ..., 1., 1., 1.],\n",
       "           [1., 1., 1., ..., 1., 1., 1.],\n",
       "           ...,\n",
       "           [1., 1., 1., ..., 1., 1., 1.],\n",
       "           [1., 1., 1., ..., 1., 1., 1.],\n",
       "           [1., 1., 1., ..., 1., 1., 1.]],\n",
       "\n",
       "          [[1., 1., 1., ..., 1., 1., 1.],\n",
       "           [1., 1., 1., ..., 1., 1., 1.],\n",
       "           [1., 1., 1., ..., 1., 1., 1.],\n",
       "           ...,\n",
       "           [1., 1., 1., ..., 1., 1., 1.],\n",
       "           [1., 1., 1., ..., 1., 1., 1.],\n",
       "           [1., 1., 1., ..., 1., 1., 1.]]],\n",
       "\n",
       "\n",
       "         [[[1., 1., 1., ..., 1., 1., 1.],\n",
       "           [1., 1., 1., ..., 1., 1., 1.],\n",
       "           [1., 1., 1., ..., 1., 1., 1.],\n",
       "           ...,\n",
       "           [1., 1., 1., ..., 1., 1., 1.],\n",
       "           [1., 1., 1., ..., 1., 1., 1.],\n",
       "           [1., 1., 1., ..., 1., 1., 1.]],\n",
       "\n",
       "          [[1., 1., 1., ..., 1., 1., 1.],\n",
       "           [1., 1., 1., ..., 1., 1., 1.],\n",
       "           [1., 1., 1., ..., 1., 1., 1.],\n",
       "           ...,\n",
       "           [1., 1., 1., ..., 1., 1., 1.],\n",
       "           [1., 1., 1., ..., 1., 1., 1.],\n",
       "           [1., 1., 1., ..., 1., 1., 1.]],\n",
       "\n",
       "          [[1., 1., 1., ..., 1., 1., 1.],\n",
       "           [1., 1., 1., ..., 1., 1., 1.],\n",
       "           [1., 1., 1., ..., 1., 1., 1.],\n",
       "           ...,\n",
       "           [1., 1., 1., ..., 1., 1., 1.],\n",
       "           [1., 1., 1., ..., 1., 1., 1.],\n",
       "           [1., 1., 1., ..., 1., 1., 1.]],\n",
       "\n",
       "          [[1., 1., 1., ..., 1., 1., 1.],\n",
       "           [1., 1., 1., ..., 1., 1., 1.],\n",
       "           [1., 1., 1., ..., 1., 1., 1.],\n",
       "           ...,\n",
       "           [1., 1., 1., ..., 1., 1., 1.],\n",
       "           [1., 1., 1., ..., 1., 1., 1.],\n",
       "           [1., 1., 1., ..., 1., 1., 1.]],\n",
       "\n",
       "          [[1., 1., 1., ..., 1., 1., 1.],\n",
       "           [1., 1., 1., ..., 1., 1., 1.],\n",
       "           [1., 1., 1., ..., 1., 1., 1.],\n",
       "           ...,\n",
       "           [1., 1., 1., ..., 1., 1., 1.],\n",
       "           [1., 1., 1., ..., 1., 1., 1.],\n",
       "           [1., 1., 1., ..., 1., 1., 1.]]],\n",
       "\n",
       "\n",
       "         [[[1., 1., 1., ..., 1., 1., 1.],\n",
       "           [1., 1., 1., ..., 1., 1., 1.],\n",
       "           [1., 1., 1., ..., 1., 1., 1.],\n",
       "           ...,\n",
       "           [1., 1., 1., ..., 1., 1., 1.],\n",
       "           [1., 1., 1., ..., 1., 1., 1.],\n",
       "           [1., 1., 1., ..., 1., 1., 1.]],\n",
       "\n",
       "          [[1., 1., 1., ..., 1., 1., 1.],\n",
       "           [1., 1., 1., ..., 1., 1., 1.],\n",
       "           [1., 1., 1., ..., 1., 1., 1.],\n",
       "           ...,\n",
       "           [1., 1., 1., ..., 1., 1., 1.],\n",
       "           [1., 1., 1., ..., 1., 1., 1.],\n",
       "           [1., 1., 1., ..., 1., 1., 1.]],\n",
       "\n",
       "          [[1., 1., 1., ..., 1., 1., 1.],\n",
       "           [1., 1., 1., ..., 1., 1., 1.],\n",
       "           [1., 1., 1., ..., 1., 1., 1.],\n",
       "           ...,\n",
       "           [1., 1., 1., ..., 1., 1., 1.],\n",
       "           [1., 1., 1., ..., 1., 1., 1.],\n",
       "           [1., 1., 1., ..., 1., 1., 1.]],\n",
       "\n",
       "          [[1., 1., 1., ..., 1., 1., 1.],\n",
       "           [1., 1., 1., ..., 1., 1., 1.],\n",
       "           [1., 1., 1., ..., 1., 1., 1.],\n",
       "           ...,\n",
       "           [1., 1., 1., ..., 1., 1., 1.],\n",
       "           [1., 1., 1., ..., 1., 1., 1.],\n",
       "           [1., 1., 1., ..., 1., 1., 1.]],\n",
       "\n",
       "          [[1., 1., 1., ..., 1., 1., 1.],\n",
       "           [1., 1., 1., ..., 1., 1., 1.],\n",
       "           [1., 1., 1., ..., 1., 1., 1.],\n",
       "           ...,\n",
       "           [1., 1., 1., ..., 1., 1., 1.],\n",
       "           [1., 1., 1., ..., 1., 1., 1.],\n",
       "           [1., 1., 1., ..., 1., 1., 1.]]]],\n",
       "\n",
       "\n",
       "\n",
       "        [[[[1., 1., 1., ..., 1., 1., 1.],\n",
       "           [1., 1., 1., ..., 1., 1., 1.],\n",
       "           [1., 1., 1., ..., 1., 1., 1.],\n",
       "           ...,\n",
       "           [1., 1., 1., ..., 1., 1., 1.],\n",
       "           [1., 1., 1., ..., 1., 1., 1.],\n",
       "           [1., 1., 1., ..., 1., 1., 1.]],\n",
       "\n",
       "          [[1., 1., 1., ..., 1., 1., 1.],\n",
       "           [1., 1., 1., ..., 1., 1., 1.],\n",
       "           [1., 1., 1., ..., 1., 1., 1.],\n",
       "           ...,\n",
       "           [1., 1., 1., ..., 1., 1., 1.],\n",
       "           [1., 1., 1., ..., 1., 1., 1.],\n",
       "           [1., 1., 1., ..., 1., 1., 1.]],\n",
       "\n",
       "          [[1., 1., 1., ..., 1., 1., 1.],\n",
       "           [1., 1., 1., ..., 1., 1., 1.],\n",
       "           [1., 1., 1., ..., 1., 1., 1.],\n",
       "           ...,\n",
       "           [1., 1., 1., ..., 1., 1., 1.],\n",
       "           [1., 1., 1., ..., 1., 1., 1.],\n",
       "           [1., 1., 1., ..., 1., 1., 1.]],\n",
       "\n",
       "          [[1., 1., 1., ..., 1., 1., 1.],\n",
       "           [1., 1., 1., ..., 1., 1., 1.],\n",
       "           [1., 1., 1., ..., 1., 1., 1.],\n",
       "           ...,\n",
       "           [1., 1., 1., ..., 1., 1., 1.],\n",
       "           [1., 1., 1., ..., 1., 1., 1.],\n",
       "           [1., 1., 1., ..., 1., 1., 1.]],\n",
       "\n",
       "          [[1., 1., 1., ..., 1., 1., 1.],\n",
       "           [1., 1., 1., ..., 1., 1., 1.],\n",
       "           [1., 1., 1., ..., 1., 1., 1.],\n",
       "           ...,\n",
       "           [1., 1., 1., ..., 1., 1., 1.],\n",
       "           [1., 1., 1., ..., 1., 1., 1.],\n",
       "           [1., 1., 1., ..., 1., 1., 1.]]],\n",
       "\n",
       "\n",
       "         [[[1., 1., 1., ..., 1., 1., 1.],\n",
       "           [1., 1., 1., ..., 1., 1., 1.],\n",
       "           [1., 1., 1., ..., 1., 1., 1.],\n",
       "           ...,\n",
       "           [1., 1., 1., ..., 1., 1., 1.],\n",
       "           [1., 1., 1., ..., 1., 1., 1.],\n",
       "           [1., 1., 1., ..., 1., 1., 1.]],\n",
       "\n",
       "          [[1., 1., 1., ..., 1., 1., 1.],\n",
       "           [1., 1., 1., ..., 1., 1., 1.],\n",
       "           [1., 1., 1., ..., 1., 1., 1.],\n",
       "           ...,\n",
       "           [1., 1., 1., ..., 1., 1., 1.],\n",
       "           [1., 1., 1., ..., 1., 1., 1.],\n",
       "           [1., 1., 1., ..., 1., 1., 1.]],\n",
       "\n",
       "          [[1., 1., 1., ..., 1., 1., 1.],\n",
       "           [1., 1., 1., ..., 1., 1., 1.],\n",
       "           [1., 1., 1., ..., 1., 1., 1.],\n",
       "           ...,\n",
       "           [1., 1., 1., ..., 1., 1., 1.],\n",
       "           [1., 1., 1., ..., 1., 1., 1.],\n",
       "           [1., 1., 1., ..., 1., 1., 1.]],\n",
       "\n",
       "          [[1., 1., 1., ..., 1., 1., 1.],\n",
       "           [1., 1., 1., ..., 1., 1., 1.],\n",
       "           [1., 1., 1., ..., 1., 1., 1.],\n",
       "           ...,\n",
       "           [1., 1., 1., ..., 1., 1., 1.],\n",
       "           [1., 1., 1., ..., 1., 1., 1.],\n",
       "           [1., 1., 1., ..., 1., 1., 1.]],\n",
       "\n",
       "          [[1., 1., 1., ..., 1., 1., 1.],\n",
       "           [1., 1., 1., ..., 1., 1., 1.],\n",
       "           [1., 1., 1., ..., 1., 1., 1.],\n",
       "           ...,\n",
       "           [1., 1., 1., ..., 1., 1., 1.],\n",
       "           [1., 1., 1., ..., 1., 1., 1.],\n",
       "           [1., 1., 1., ..., 1., 1., 1.]]],\n",
       "\n",
       "\n",
       "         [[[1., 1., 1., ..., 1., 1., 1.],\n",
       "           [1., 1., 1., ..., 1., 1., 1.],\n",
       "           [1., 1., 1., ..., 1., 1., 1.],\n",
       "           ...,\n",
       "           [1., 1., 1., ..., 1., 1., 1.],\n",
       "           [1., 1., 1., ..., 1., 1., 1.],\n",
       "           [1., 1., 1., ..., 1., 1., 1.]],\n",
       "\n",
       "          [[1., 1., 1., ..., 1., 1., 1.],\n",
       "           [1., 1., 1., ..., 1., 1., 1.],\n",
       "           [1., 1., 1., ..., 1., 1., 1.],\n",
       "           ...,\n",
       "           [1., 1., 1., ..., 1., 1., 1.],\n",
       "           [1., 1., 1., ..., 1., 1., 1.],\n",
       "           [1., 1., 1., ..., 1., 1., 1.]],\n",
       "\n",
       "          [[1., 1., 1., ..., 1., 1., 1.],\n",
       "           [1., 1., 1., ..., 1., 1., 1.],\n",
       "           [1., 1., 1., ..., 1., 1., 1.],\n",
       "           ...,\n",
       "           [1., 1., 1., ..., 1., 1., 1.],\n",
       "           [1., 1., 1., ..., 1., 1., 1.],\n",
       "           [1., 1., 1., ..., 1., 1., 1.]],\n",
       "\n",
       "          [[1., 1., 1., ..., 1., 1., 1.],\n",
       "           [1., 1., 1., ..., 1., 1., 1.],\n",
       "           [1., 1., 1., ..., 1., 1., 1.],\n",
       "           ...,\n",
       "           [1., 1., 1., ..., 1., 1., 1.],\n",
       "           [1., 1., 1., ..., 1., 1., 1.],\n",
       "           [1., 1., 1., ..., 1., 1., 1.]],\n",
       "\n",
       "          [[1., 1., 1., ..., 1., 1., 1.],\n",
       "           [1., 1., 1., ..., 1., 1., 1.],\n",
       "           [1., 1., 1., ..., 1., 1., 1.],\n",
       "           ...,\n",
       "           [1., 1., 1., ..., 1., 1., 1.],\n",
       "           [1., 1., 1., ..., 1., 1., 1.],\n",
       "           [1., 1., 1., ..., 1., 1., 1.]]]]],\n",
       "\n",
       "\n",
       "\n",
       "\n",
       "       [[[[[1., 1., 1., ..., 1., 1., 1.],\n",
       "           [1., 1., 1., ..., 1., 1., 1.],\n",
       "           [1., 1., 1., ..., 1., 1., 1.],\n",
       "           ...,\n",
       "           [1., 1., 1., ..., 1., 1., 1.],\n",
       "           [1., 1., 1., ..., 1., 1., 1.],\n",
       "           [1., 1., 1., ..., 1., 1., 1.]],\n",
       "\n",
       "          [[1., 1., 1., ..., 1., 1., 1.],\n",
       "           [1., 1., 1., ..., 1., 1., 1.],\n",
       "           [1., 1., 1., ..., 1., 1., 1.],\n",
       "           ...,\n",
       "           [1., 1., 1., ..., 1., 1., 1.],\n",
       "           [1., 1., 1., ..., 1., 1., 1.],\n",
       "           [1., 1., 1., ..., 1., 1., 1.]],\n",
       "\n",
       "          [[1., 1., 1., ..., 1., 1., 1.],\n",
       "           [1., 1., 1., ..., 1., 1., 1.],\n",
       "           [1., 1., 1., ..., 1., 1., 1.],\n",
       "           ...,\n",
       "           [1., 1., 1., ..., 1., 1., 1.],\n",
       "           [1., 1., 1., ..., 1., 1., 1.],\n",
       "           [1., 1., 1., ..., 1., 1., 1.]],\n",
       "\n",
       "          [[1., 1., 1., ..., 1., 1., 1.],\n",
       "           [1., 1., 1., ..., 1., 1., 1.],\n",
       "           [1., 1., 1., ..., 1., 1., 1.],\n",
       "           ...,\n",
       "           [1., 1., 1., ..., 1., 1., 1.],\n",
       "           [1., 1., 1., ..., 1., 1., 1.],\n",
       "           [1., 1., 1., ..., 1., 1., 1.]],\n",
       "\n",
       "          [[1., 1., 1., ..., 1., 1., 1.],\n",
       "           [1., 1., 1., ..., 1., 1., 1.],\n",
       "           [1., 1., 1., ..., 1., 1., 1.],\n",
       "           ...,\n",
       "           [1., 1., 1., ..., 1., 1., 1.],\n",
       "           [1., 1., 1., ..., 1., 1., 1.],\n",
       "           [1., 1., 1., ..., 1., 1., 1.]]],\n",
       "\n",
       "\n",
       "         [[[1., 1., 1., ..., 1., 1., 1.],\n",
       "           [1., 1., 1., ..., 1., 1., 1.],\n",
       "           [1., 1., 1., ..., 1., 1., 1.],\n",
       "           ...,\n",
       "           [1., 1., 1., ..., 1., 1., 1.],\n",
       "           [1., 1., 1., ..., 1., 1., 1.],\n",
       "           [1., 1., 1., ..., 1., 1., 1.]],\n",
       "\n",
       "          [[1., 1., 1., ..., 1., 1., 1.],\n",
       "           [1., 1., 1., ..., 1., 1., 1.],\n",
       "           [1., 1., 1., ..., 1., 1., 1.],\n",
       "           ...,\n",
       "           [1., 1., 1., ..., 1., 1., 1.],\n",
       "           [1., 1., 1., ..., 1., 1., 1.],\n",
       "           [1., 1., 1., ..., 1., 1., 1.]],\n",
       "\n",
       "          [[1., 1., 1., ..., 1., 1., 1.],\n",
       "           [1., 1., 1., ..., 1., 1., 1.],\n",
       "           [1., 1., 1., ..., 1., 1., 1.],\n",
       "           ...,\n",
       "           [1., 1., 1., ..., 1., 1., 1.],\n",
       "           [1., 1., 1., ..., 1., 1., 1.],\n",
       "           [1., 1., 1., ..., 1., 1., 1.]],\n",
       "\n",
       "          [[1., 1., 1., ..., 1., 1., 1.],\n",
       "           [1., 1., 1., ..., 1., 1., 1.],\n",
       "           [1., 1., 1., ..., 1., 1., 1.],\n",
       "           ...,\n",
       "           [1., 1., 1., ..., 1., 1., 1.],\n",
       "           [1., 1., 1., ..., 1., 1., 1.],\n",
       "           [1., 1., 1., ..., 1., 1., 1.]],\n",
       "\n",
       "          [[1., 1., 1., ..., 1., 1., 1.],\n",
       "           [1., 1., 1., ..., 1., 1., 1.],\n",
       "           [1., 1., 1., ..., 1., 1., 1.],\n",
       "           ...,\n",
       "           [1., 1., 1., ..., 1., 1., 1.],\n",
       "           [1., 1., 1., ..., 1., 1., 1.],\n",
       "           [1., 1., 1., ..., 1., 1., 1.]]],\n",
       "\n",
       "\n",
       "         [[[1., 1., 1., ..., 1., 1., 1.],\n",
       "           [1., 1., 1., ..., 1., 1., 1.],\n",
       "           [1., 1., 1., ..., 1., 1., 1.],\n",
       "           ...,\n",
       "           [1., 1., 1., ..., 1., 1., 1.],\n",
       "           [1., 1., 1., ..., 1., 1., 1.],\n",
       "           [1., 1., 1., ..., 1., 1., 1.]],\n",
       "\n",
       "          [[1., 1., 1., ..., 1., 1., 1.],\n",
       "           [1., 1., 1., ..., 1., 1., 1.],\n",
       "           [1., 1., 1., ..., 1., 1., 1.],\n",
       "           ...,\n",
       "           [1., 1., 1., ..., 1., 1., 1.],\n",
       "           [1., 1., 1., ..., 1., 1., 1.],\n",
       "           [1., 1., 1., ..., 1., 1., 1.]],\n",
       "\n",
       "          [[1., 1., 1., ..., 1., 1., 1.],\n",
       "           [1., 1., 1., ..., 1., 1., 1.],\n",
       "           [1., 1., 1., ..., 1., 1., 1.],\n",
       "           ...,\n",
       "           [1., 1., 1., ..., 1., 1., 1.],\n",
       "           [1., 1., 1., ..., 1., 1., 1.],\n",
       "           [1., 1., 1., ..., 1., 1., 1.]],\n",
       "\n",
       "          [[1., 1., 1., ..., 1., 1., 1.],\n",
       "           [1., 1., 1., ..., 1., 1., 1.],\n",
       "           [1., 1., 1., ..., 1., 1., 1.],\n",
       "           ...,\n",
       "           [1., 1., 1., ..., 1., 1., 1.],\n",
       "           [1., 1., 1., ..., 1., 1., 1.],\n",
       "           [1., 1., 1., ..., 1., 1., 1.]],\n",
       "\n",
       "          [[1., 1., 1., ..., 1., 1., 1.],\n",
       "           [1., 1., 1., ..., 1., 1., 1.],\n",
       "           [1., 1., 1., ..., 1., 1., 1.],\n",
       "           ...,\n",
       "           [1., 1., 1., ..., 1., 1., 1.],\n",
       "           [1., 1., 1., ..., 1., 1., 1.],\n",
       "           [1., 1., 1., ..., 1., 1., 1.]]]],\n",
       "\n",
       "\n",
       "\n",
       "        [[[[1., 1., 1., ..., 1., 1., 1.],\n",
       "           [1., 1., 1., ..., 1., 1., 1.],\n",
       "           [1., 1., 1., ..., 1., 1., 1.],\n",
       "           ...,\n",
       "           [1., 1., 1., ..., 1., 1., 1.],\n",
       "           [1., 1., 1., ..., 1., 1., 1.],\n",
       "           [1., 1., 1., ..., 1., 1., 1.]],\n",
       "\n",
       "          [[1., 1., 1., ..., 1., 1., 1.],\n",
       "           [1., 1., 1., ..., 1., 1., 1.],\n",
       "           [1., 1., 1., ..., 1., 1., 1.],\n",
       "           ...,\n",
       "           [1., 1., 1., ..., 1., 1., 1.],\n",
       "           [1., 1., 1., ..., 1., 1., 1.],\n",
       "           [1., 1., 1., ..., 1., 1., 1.]],\n",
       "\n",
       "          [[1., 1., 1., ..., 1., 1., 1.],\n",
       "           [1., 1., 1., ..., 1., 1., 1.],\n",
       "           [1., 1., 1., ..., 1., 1., 1.],\n",
       "           ...,\n",
       "           [1., 1., 1., ..., 1., 1., 1.],\n",
       "           [1., 1., 1., ..., 1., 1., 1.],\n",
       "           [1., 1., 1., ..., 1., 1., 1.]],\n",
       "\n",
       "          [[1., 1., 1., ..., 1., 1., 1.],\n",
       "           [1., 1., 1., ..., 1., 1., 1.],\n",
       "           [1., 1., 1., ..., 1., 1., 1.],\n",
       "           ...,\n",
       "           [1., 1., 1., ..., 1., 1., 1.],\n",
       "           [1., 1., 1., ..., 1., 1., 1.],\n",
       "           [1., 1., 1., ..., 1., 1., 1.]],\n",
       "\n",
       "          [[1., 1., 1., ..., 1., 1., 1.],\n",
       "           [1., 1., 1., ..., 1., 1., 1.],\n",
       "           [1., 1., 1., ..., 1., 1., 1.],\n",
       "           ...,\n",
       "           [1., 1., 1., ..., 1., 1., 1.],\n",
       "           [1., 1., 1., ..., 1., 1., 1.],\n",
       "           [1., 1., 1., ..., 1., 1., 1.]]],\n",
       "\n",
       "\n",
       "         [[[1., 1., 1., ..., 1., 1., 1.],\n",
       "           [1., 1., 1., ..., 1., 1., 1.],\n",
       "           [1., 1., 1., ..., 1., 1., 1.],\n",
       "           ...,\n",
       "           [1., 1., 1., ..., 1., 1., 1.],\n",
       "           [1., 1., 1., ..., 1., 1., 1.],\n",
       "           [1., 1., 1., ..., 1., 1., 1.]],\n",
       "\n",
       "          [[1., 1., 1., ..., 1., 1., 1.],\n",
       "           [1., 1., 1., ..., 1., 1., 1.],\n",
       "           [1., 1., 1., ..., 1., 1., 1.],\n",
       "           ...,\n",
       "           [1., 1., 1., ..., 1., 1., 1.],\n",
       "           [1., 1., 1., ..., 1., 1., 1.],\n",
       "           [1., 1., 1., ..., 1., 1., 1.]],\n",
       "\n",
       "          [[1., 1., 1., ..., 1., 1., 1.],\n",
       "           [1., 1., 1., ..., 1., 1., 1.],\n",
       "           [1., 1., 1., ..., 1., 1., 1.],\n",
       "           ...,\n",
       "           [1., 1., 1., ..., 1., 1., 1.],\n",
       "           [1., 1., 1., ..., 1., 1., 1.],\n",
       "           [1., 1., 1., ..., 1., 1., 1.]],\n",
       "\n",
       "          [[1., 1., 1., ..., 1., 1., 1.],\n",
       "           [1., 1., 1., ..., 1., 1., 1.],\n",
       "           [1., 1., 1., ..., 1., 1., 1.],\n",
       "           ...,\n",
       "           [1., 1., 1., ..., 1., 1., 1.],\n",
       "           [1., 1., 1., ..., 1., 1., 1.],\n",
       "           [1., 1., 1., ..., 1., 1., 1.]],\n",
       "\n",
       "          [[1., 1., 1., ..., 1., 1., 1.],\n",
       "           [1., 1., 1., ..., 1., 1., 1.],\n",
       "           [1., 1., 1., ..., 1., 1., 1.],\n",
       "           ...,\n",
       "           [1., 1., 1., ..., 1., 1., 1.],\n",
       "           [1., 1., 1., ..., 1., 1., 1.],\n",
       "           [1., 1., 1., ..., 1., 1., 1.]]],\n",
       "\n",
       "\n",
       "         [[[1., 1., 1., ..., 1., 1., 1.],\n",
       "           [1., 1., 1., ..., 1., 1., 1.],\n",
       "           [1., 1., 1., ..., 1., 1., 1.],\n",
       "           ...,\n",
       "           [1., 1., 1., ..., 1., 1., 1.],\n",
       "           [1., 1., 1., ..., 1., 1., 1.],\n",
       "           [1., 1., 1., ..., 1., 1., 1.]],\n",
       "\n",
       "          [[1., 1., 1., ..., 1., 1., 1.],\n",
       "           [1., 1., 1., ..., 1., 1., 1.],\n",
       "           [1., 1., 1., ..., 1., 1., 1.],\n",
       "           ...,\n",
       "           [1., 1., 1., ..., 1., 1., 1.],\n",
       "           [1., 1., 1., ..., 1., 1., 1.],\n",
       "           [1., 1., 1., ..., 1., 1., 1.]],\n",
       "\n",
       "          [[1., 1., 1., ..., 1., 1., 1.],\n",
       "           [1., 1., 1., ..., 1., 1., 1.],\n",
       "           [1., 1., 1., ..., 1., 1., 1.],\n",
       "           ...,\n",
       "           [1., 1., 1., ..., 1., 1., 1.],\n",
       "           [1., 1., 1., ..., 1., 1., 1.],\n",
       "           [1., 1., 1., ..., 1., 1., 1.]],\n",
       "\n",
       "          [[1., 1., 1., ..., 1., 1., 1.],\n",
       "           [1., 1., 1., ..., 1., 1., 1.],\n",
       "           [1., 1., 1., ..., 1., 1., 1.],\n",
       "           ...,\n",
       "           [1., 1., 1., ..., 1., 1., 1.],\n",
       "           [1., 1., 1., ..., 1., 1., 1.],\n",
       "           [1., 1., 1., ..., 1., 1., 1.]],\n",
       "\n",
       "          [[1., 1., 1., ..., 1., 1., 1.],\n",
       "           [1., 1., 1., ..., 1., 1., 1.],\n",
       "           [1., 1., 1., ..., 1., 1., 1.],\n",
       "           ...,\n",
       "           [1., 1., 1., ..., 1., 1., 1.],\n",
       "           [1., 1., 1., ..., 1., 1., 1.],\n",
       "           [1., 1., 1., ..., 1., 1., 1.]]]],\n",
       "\n",
       "\n",
       "\n",
       "        [[[[1., 1., 1., ..., 1., 1., 1.],\n",
       "           [1., 1., 1., ..., 1., 1., 1.],\n",
       "           [1., 1., 1., ..., 1., 1., 1.],\n",
       "           ...,\n",
       "           [1., 1., 1., ..., 1., 1., 1.],\n",
       "           [1., 1., 1., ..., 1., 1., 1.],\n",
       "           [1., 1., 1., ..., 1., 1., 1.]],\n",
       "\n",
       "          [[1., 1., 1., ..., 1., 1., 1.],\n",
       "           [1., 1., 1., ..., 1., 1., 1.],\n",
       "           [1., 1., 1., ..., 1., 1., 1.],\n",
       "           ...,\n",
       "           [1., 1., 1., ..., 1., 1., 1.],\n",
       "           [1., 1., 1., ..., 1., 1., 1.],\n",
       "           [1., 1., 1., ..., 1., 1., 1.]],\n",
       "\n",
       "          [[1., 1., 1., ..., 1., 1., 1.],\n",
       "           [1., 1., 1., ..., 1., 1., 1.],\n",
       "           [1., 1., 1., ..., 1., 1., 1.],\n",
       "           ...,\n",
       "           [1., 1., 1., ..., 1., 1., 1.],\n",
       "           [1., 1., 1., ..., 1., 1., 1.],\n",
       "           [1., 1., 1., ..., 1., 1., 1.]],\n",
       "\n",
       "          [[1., 1., 1., ..., 1., 1., 1.],\n",
       "           [1., 1., 1., ..., 1., 1., 1.],\n",
       "           [1., 1., 1., ..., 1., 1., 1.],\n",
       "           ...,\n",
       "           [1., 1., 1., ..., 1., 1., 1.],\n",
       "           [1., 1., 1., ..., 1., 1., 1.],\n",
       "           [1., 1., 1., ..., 1., 1., 1.]],\n",
       "\n",
       "          [[1., 1., 1., ..., 1., 1., 1.],\n",
       "           [1., 1., 1., ..., 1., 1., 1.],\n",
       "           [1., 1., 1., ..., 1., 1., 1.],\n",
       "           ...,\n",
       "           [1., 1., 1., ..., 1., 1., 1.],\n",
       "           [1., 1., 1., ..., 1., 1., 1.],\n",
       "           [1., 1., 1., ..., 1., 1., 1.]]],\n",
       "\n",
       "\n",
       "         [[[1., 1., 1., ..., 1., 1., 1.],\n",
       "           [1., 1., 1., ..., 1., 1., 1.],\n",
       "           [1., 1., 1., ..., 1., 1., 1.],\n",
       "           ...,\n",
       "           [1., 1., 1., ..., 1., 1., 1.],\n",
       "           [1., 1., 1., ..., 1., 1., 1.],\n",
       "           [1., 1., 1., ..., 1., 1., 1.]],\n",
       "\n",
       "          [[1., 1., 1., ..., 1., 1., 1.],\n",
       "           [1., 1., 1., ..., 1., 1., 1.],\n",
       "           [1., 1., 1., ..., 1., 1., 1.],\n",
       "           ...,\n",
       "           [1., 1., 1., ..., 1., 1., 1.],\n",
       "           [1., 1., 1., ..., 1., 1., 1.],\n",
       "           [1., 1., 1., ..., 1., 1., 1.]],\n",
       "\n",
       "          [[1., 1., 1., ..., 1., 1., 1.],\n",
       "           [1., 1., 1., ..., 1., 1., 1.],\n",
       "           [1., 1., 1., ..., 1., 1., 1.],\n",
       "           ...,\n",
       "           [1., 1., 1., ..., 1., 1., 1.],\n",
       "           [1., 1., 1., ..., 1., 1., 1.],\n",
       "           [1., 1., 1., ..., 1., 1., 1.]],\n",
       "\n",
       "          [[1., 1., 1., ..., 1., 1., 1.],\n",
       "           [1., 1., 1., ..., 1., 1., 1.],\n",
       "           [1., 1., 1., ..., 1., 1., 1.],\n",
       "           ...,\n",
       "           [1., 1., 1., ..., 1., 1., 1.],\n",
       "           [1., 1., 1., ..., 1., 1., 1.],\n",
       "           [1., 1., 1., ..., 1., 1., 1.]],\n",
       "\n",
       "          [[1., 1., 1., ..., 1., 1., 1.],\n",
       "           [1., 1., 1., ..., 1., 1., 1.],\n",
       "           [1., 1., 1., ..., 1., 1., 1.],\n",
       "           ...,\n",
       "           [1., 1., 1., ..., 1., 1., 1.],\n",
       "           [1., 1., 1., ..., 1., 1., 1.],\n",
       "           [1., 1., 1., ..., 1., 1., 1.]]],\n",
       "\n",
       "\n",
       "         [[[1., 1., 1., ..., 1., 1., 1.],\n",
       "           [1., 1., 1., ..., 1., 1., 1.],\n",
       "           [1., 1., 1., ..., 1., 1., 1.],\n",
       "           ...,\n",
       "           [1., 1., 1., ..., 1., 1., 1.],\n",
       "           [1., 1., 1., ..., 1., 1., 1.],\n",
       "           [1., 1., 1., ..., 1., 1., 1.]],\n",
       "\n",
       "          [[1., 1., 1., ..., 1., 1., 1.],\n",
       "           [1., 1., 1., ..., 1., 1., 1.],\n",
       "           [1., 1., 1., ..., 1., 1., 1.],\n",
       "           ...,\n",
       "           [1., 1., 1., ..., 1., 1., 1.],\n",
       "           [1., 1., 1., ..., 1., 1., 1.],\n",
       "           [1., 1., 1., ..., 1., 1., 1.]],\n",
       "\n",
       "          [[1., 1., 1., ..., 1., 1., 1.],\n",
       "           [1., 1., 1., ..., 1., 1., 1.],\n",
       "           [1., 1., 1., ..., 1., 1., 1.],\n",
       "           ...,\n",
       "           [1., 1., 1., ..., 1., 1., 1.],\n",
       "           [1., 1., 1., ..., 1., 1., 1.],\n",
       "           [1., 1., 1., ..., 1., 1., 1.]],\n",
       "\n",
       "          [[1., 1., 1., ..., 1., 1., 1.],\n",
       "           [1., 1., 1., ..., 1., 1., 1.],\n",
       "           [1., 1., 1., ..., 1., 1., 1.],\n",
       "           ...,\n",
       "           [1., 1., 1., ..., 1., 1., 1.],\n",
       "           [1., 1., 1., ..., 1., 1., 1.],\n",
       "           [1., 1., 1., ..., 1., 1., 1.]],\n",
       "\n",
       "          [[1., 1., 1., ..., 1., 1., 1.],\n",
       "           [1., 1., 1., ..., 1., 1., 1.],\n",
       "           [1., 1., 1., ..., 1., 1., 1.],\n",
       "           ...,\n",
       "           [1., 1., 1., ..., 1., 1., 1.],\n",
       "           [1., 1., 1., ..., 1., 1., 1.],\n",
       "           [1., 1., 1., ..., 1., 1., 1.]]]]],\n",
       "\n",
       "\n",
       "\n",
       "\n",
       "       [[[[[1., 1., 1., ..., 1., 1., 1.],\n",
       "           [1., 1., 1., ..., 1., 1., 1.],\n",
       "           [1., 1., 1., ..., 1., 1., 1.],\n",
       "           ...,\n",
       "           [1., 1., 1., ..., 1., 1., 1.],\n",
       "           [1., 1., 1., ..., 1., 1., 1.],\n",
       "           [1., 1., 1., ..., 1., 1., 1.]],\n",
       "\n",
       "          [[1., 1., 1., ..., 1., 1., 1.],\n",
       "           [1., 1., 1., ..., 1., 1., 1.],\n",
       "           [1., 1., 1., ..., 1., 1., 1.],\n",
       "           ...,\n",
       "           [1., 1., 1., ..., 1., 1., 1.],\n",
       "           [1., 1., 1., ..., 1., 1., 1.],\n",
       "           [1., 1., 1., ..., 1., 1., 1.]],\n",
       "\n",
       "          [[1., 1., 1., ..., 1., 1., 1.],\n",
       "           [1., 1., 1., ..., 1., 1., 1.],\n",
       "           [1., 1., 1., ..., 1., 1., 1.],\n",
       "           ...,\n",
       "           [1., 1., 1., ..., 1., 1., 1.],\n",
       "           [1., 1., 1., ..., 1., 1., 1.],\n",
       "           [1., 1., 1., ..., 1., 1., 1.]],\n",
       "\n",
       "          [[1., 1., 1., ..., 1., 1., 1.],\n",
       "           [1., 1., 1., ..., 1., 1., 1.],\n",
       "           [1., 1., 1., ..., 1., 1., 1.],\n",
       "           ...,\n",
       "           [1., 1., 1., ..., 1., 1., 1.],\n",
       "           [1., 1., 1., ..., 1., 1., 1.],\n",
       "           [1., 1., 1., ..., 1., 1., 1.]],\n",
       "\n",
       "          [[1., 1., 1., ..., 1., 1., 1.],\n",
       "           [1., 1., 1., ..., 1., 1., 1.],\n",
       "           [1., 1., 1., ..., 1., 1., 1.],\n",
       "           ...,\n",
       "           [1., 1., 1., ..., 1., 1., 1.],\n",
       "           [1., 1., 1., ..., 1., 1., 1.],\n",
       "           [1., 1., 1., ..., 1., 1., 1.]]],\n",
       "\n",
       "\n",
       "         [[[1., 1., 1., ..., 1., 1., 1.],\n",
       "           [1., 1., 1., ..., 1., 1., 1.],\n",
       "           [1., 1., 1., ..., 1., 1., 1.],\n",
       "           ...,\n",
       "           [1., 1., 1., ..., 1., 1., 1.],\n",
       "           [1., 1., 1., ..., 1., 1., 1.],\n",
       "           [1., 1., 1., ..., 1., 1., 1.]],\n",
       "\n",
       "          [[1., 1., 1., ..., 1., 1., 1.],\n",
       "           [1., 1., 1., ..., 1., 1., 1.],\n",
       "           [1., 1., 1., ..., 1., 1., 1.],\n",
       "           ...,\n",
       "           [1., 1., 1., ..., 1., 1., 1.],\n",
       "           [1., 1., 1., ..., 1., 1., 1.],\n",
       "           [1., 1., 1., ..., 1., 1., 1.]],\n",
       "\n",
       "          [[1., 1., 1., ..., 1., 1., 1.],\n",
       "           [1., 1., 1., ..., 1., 1., 1.],\n",
       "           [1., 1., 1., ..., 1., 1., 1.],\n",
       "           ...,\n",
       "           [1., 1., 1., ..., 1., 1., 1.],\n",
       "           [1., 1., 1., ..., 1., 1., 1.],\n",
       "           [1., 1., 1., ..., 1., 1., 1.]],\n",
       "\n",
       "          [[1., 1., 1., ..., 1., 1., 1.],\n",
       "           [1., 1., 1., ..., 1., 1., 1.],\n",
       "           [1., 1., 1., ..., 1., 1., 1.],\n",
       "           ...,\n",
       "           [1., 1., 1., ..., 1., 1., 1.],\n",
       "           [1., 1., 1., ..., 1., 1., 1.],\n",
       "           [1., 1., 1., ..., 1., 1., 1.]],\n",
       "\n",
       "          [[1., 1., 1., ..., 1., 1., 1.],\n",
       "           [1., 1., 1., ..., 1., 1., 1.],\n",
       "           [1., 1., 1., ..., 1., 1., 1.],\n",
       "           ...,\n",
       "           [1., 1., 1., ..., 1., 1., 1.],\n",
       "           [1., 1., 1., ..., 1., 1., 1.],\n",
       "           [1., 1., 1., ..., 1., 1., 1.]]],\n",
       "\n",
       "\n",
       "         [[[1., 1., 1., ..., 1., 1., 1.],\n",
       "           [1., 1., 1., ..., 1., 1., 1.],\n",
       "           [1., 1., 1., ..., 1., 1., 1.],\n",
       "           ...,\n",
       "           [1., 1., 1., ..., 1., 1., 1.],\n",
       "           [1., 1., 1., ..., 1., 1., 1.],\n",
       "           [1., 1., 1., ..., 1., 1., 1.]],\n",
       "\n",
       "          [[1., 1., 1., ..., 1., 1., 1.],\n",
       "           [1., 1., 1., ..., 1., 1., 1.],\n",
       "           [1., 1., 1., ..., 1., 1., 1.],\n",
       "           ...,\n",
       "           [1., 1., 1., ..., 1., 1., 1.],\n",
       "           [1., 1., 1., ..., 1., 1., 1.],\n",
       "           [1., 1., 1., ..., 1., 1., 1.]],\n",
       "\n",
       "          [[1., 1., 1., ..., 1., 1., 1.],\n",
       "           [1., 1., 1., ..., 1., 1., 1.],\n",
       "           [1., 1., 1., ..., 1., 1., 1.],\n",
       "           ...,\n",
       "           [1., 1., 1., ..., 1., 1., 1.],\n",
       "           [1., 1., 1., ..., 1., 1., 1.],\n",
       "           [1., 1., 1., ..., 1., 1., 1.]],\n",
       "\n",
       "          [[1., 1., 1., ..., 1., 1., 1.],\n",
       "           [1., 1., 1., ..., 1., 1., 1.],\n",
       "           [1., 1., 1., ..., 1., 1., 1.],\n",
       "           ...,\n",
       "           [1., 1., 1., ..., 1., 1., 1.],\n",
       "           [1., 1., 1., ..., 1., 1., 1.],\n",
       "           [1., 1., 1., ..., 1., 1., 1.]],\n",
       "\n",
       "          [[1., 1., 1., ..., 1., 1., 1.],\n",
       "           [1., 1., 1., ..., 1., 1., 1.],\n",
       "           [1., 1., 1., ..., 1., 1., 1.],\n",
       "           ...,\n",
       "           [1., 1., 1., ..., 1., 1., 1.],\n",
       "           [1., 1., 1., ..., 1., 1., 1.],\n",
       "           [1., 1., 1., ..., 1., 1., 1.]]]],\n",
       "\n",
       "\n",
       "\n",
       "        [[[[1., 1., 1., ..., 1., 1., 1.],\n",
       "           [1., 1., 1., ..., 1., 1., 1.],\n",
       "           [1., 1., 1., ..., 1., 1., 1.],\n",
       "           ...,\n",
       "           [1., 1., 1., ..., 1., 1., 1.],\n",
       "           [1., 1., 1., ..., 1., 1., 1.],\n",
       "           [1., 1., 1., ..., 1., 1., 1.]],\n",
       "\n",
       "          [[1., 1., 1., ..., 1., 1., 1.],\n",
       "           [1., 1., 1., ..., 1., 1., 1.],\n",
       "           [1., 1., 1., ..., 1., 1., 1.],\n",
       "           ...,\n",
       "           [1., 1., 1., ..., 1., 1., 1.],\n",
       "           [1., 1., 1., ..., 1., 1., 1.],\n",
       "           [1., 1., 1., ..., 1., 1., 1.]],\n",
       "\n",
       "          [[1., 1., 1., ..., 1., 1., 1.],\n",
       "           [1., 1., 1., ..., 1., 1., 1.],\n",
       "           [1., 1., 1., ..., 1., 1., 1.],\n",
       "           ...,\n",
       "           [1., 1., 1., ..., 1., 1., 1.],\n",
       "           [1., 1., 1., ..., 1., 1., 1.],\n",
       "           [1., 1., 1., ..., 1., 1., 1.]],\n",
       "\n",
       "          [[1., 1., 1., ..., 1., 1., 1.],\n",
       "           [1., 1., 1., ..., 1., 1., 1.],\n",
       "           [1., 1., 1., ..., 1., 1., 1.],\n",
       "           ...,\n",
       "           [1., 1., 1., ..., 1., 1., 1.],\n",
       "           [1., 1., 1., ..., 1., 1., 1.],\n",
       "           [1., 1., 1., ..., 1., 1., 1.]],\n",
       "\n",
       "          [[1., 1., 1., ..., 1., 1., 1.],\n",
       "           [1., 1., 1., ..., 1., 1., 1.],\n",
       "           [1., 1., 1., ..., 1., 1., 1.],\n",
       "           ...,\n",
       "           [1., 1., 1., ..., 1., 1., 1.],\n",
       "           [1., 1., 1., ..., 1., 1., 1.],\n",
       "           [1., 1., 1., ..., 1., 1., 1.]]],\n",
       "\n",
       "\n",
       "         [[[1., 1., 1., ..., 1., 1., 1.],\n",
       "           [1., 1., 1., ..., 1., 1., 1.],\n",
       "           [1., 1., 1., ..., 1., 1., 1.],\n",
       "           ...,\n",
       "           [1., 1., 1., ..., 1., 1., 1.],\n",
       "           [1., 1., 1., ..., 1., 1., 1.],\n",
       "           [1., 1., 1., ..., 1., 1., 1.]],\n",
       "\n",
       "          [[1., 1., 1., ..., 1., 1., 1.],\n",
       "           [1., 1., 1., ..., 1., 1., 1.],\n",
       "           [1., 1., 1., ..., 1., 1., 1.],\n",
       "           ...,\n",
       "           [1., 1., 1., ..., 1., 1., 1.],\n",
       "           [1., 1., 1., ..., 1., 1., 1.],\n",
       "           [1., 1., 1., ..., 1., 1., 1.]],\n",
       "\n",
       "          [[1., 1., 1., ..., 1., 1., 1.],\n",
       "           [1., 1., 1., ..., 1., 1., 1.],\n",
       "           [1., 1., 1., ..., 1., 1., 1.],\n",
       "           ...,\n",
       "           [1., 1., 1., ..., 1., 1., 1.],\n",
       "           [1., 1., 1., ..., 1., 1., 1.],\n",
       "           [1., 1., 1., ..., 1., 1., 1.]],\n",
       "\n",
       "          [[1., 1., 1., ..., 1., 1., 1.],\n",
       "           [1., 1., 1., ..., 1., 1., 1.],\n",
       "           [1., 1., 1., ..., 1., 1., 1.],\n",
       "           ...,\n",
       "           [1., 1., 1., ..., 1., 1., 1.],\n",
       "           [1., 1., 1., ..., 1., 1., 1.],\n",
       "           [1., 1., 1., ..., 1., 1., 1.]],\n",
       "\n",
       "          [[1., 1., 1., ..., 1., 1., 1.],\n",
       "           [1., 1., 1., ..., 1., 1., 1.],\n",
       "           [1., 1., 1., ..., 1., 1., 1.],\n",
       "           ...,\n",
       "           [1., 1., 1., ..., 1., 1., 1.],\n",
       "           [1., 1., 1., ..., 1., 1., 1.],\n",
       "           [1., 1., 1., ..., 1., 1., 1.]]],\n",
       "\n",
       "\n",
       "         [[[1., 1., 1., ..., 1., 1., 1.],\n",
       "           [1., 1., 1., ..., 1., 1., 1.],\n",
       "           [1., 1., 1., ..., 1., 1., 1.],\n",
       "           ...,\n",
       "           [1., 1., 1., ..., 1., 1., 1.],\n",
       "           [1., 1., 1., ..., 1., 1., 1.],\n",
       "           [1., 1., 1., ..., 1., 1., 1.]],\n",
       "\n",
       "          [[1., 1., 1., ..., 1., 1., 1.],\n",
       "           [1., 1., 1., ..., 1., 1., 1.],\n",
       "           [1., 1., 1., ..., 1., 1., 1.],\n",
       "           ...,\n",
       "           [1., 1., 1., ..., 1., 1., 1.],\n",
       "           [1., 1., 1., ..., 1., 1., 1.],\n",
       "           [1., 1., 1., ..., 1., 1., 1.]],\n",
       "\n",
       "          [[1., 1., 1., ..., 1., 1., 1.],\n",
       "           [1., 1., 1., ..., 1., 1., 1.],\n",
       "           [1., 1., 1., ..., 1., 1., 1.],\n",
       "           ...,\n",
       "           [1., 1., 1., ..., 1., 1., 1.],\n",
       "           [1., 1., 1., ..., 1., 1., 1.],\n",
       "           [1., 1., 1., ..., 1., 1., 1.]],\n",
       "\n",
       "          [[1., 1., 1., ..., 1., 1., 1.],\n",
       "           [1., 1., 1., ..., 1., 1., 1.],\n",
       "           [1., 1., 1., ..., 1., 1., 1.],\n",
       "           ...,\n",
       "           [1., 1., 1., ..., 1., 1., 1.],\n",
       "           [1., 1., 1., ..., 1., 1., 1.],\n",
       "           [1., 1., 1., ..., 1., 1., 1.]],\n",
       "\n",
       "          [[1., 1., 1., ..., 1., 1., 1.],\n",
       "           [1., 1., 1., ..., 1., 1., 1.],\n",
       "           [1., 1., 1., ..., 1., 1., 1.],\n",
       "           ...,\n",
       "           [1., 1., 1., ..., 1., 1., 1.],\n",
       "           [1., 1., 1., ..., 1., 1., 1.],\n",
       "           [1., 1., 1., ..., 1., 1., 1.]]]],\n",
       "\n",
       "\n",
       "\n",
       "        [[[[1., 1., 1., ..., 1., 1., 1.],\n",
       "           [1., 1., 1., ..., 1., 1., 1.],\n",
       "           [1., 1., 1., ..., 1., 1., 1.],\n",
       "           ...,\n",
       "           [1., 1., 1., ..., 1., 1., 1.],\n",
       "           [1., 1., 1., ..., 1., 1., 1.],\n",
       "           [1., 1., 1., ..., 1., 1., 1.]],\n",
       "\n",
       "          [[1., 1., 1., ..., 1., 1., 1.],\n",
       "           [1., 1., 1., ..., 1., 1., 1.],\n",
       "           [1., 1., 1., ..., 1., 1., 1.],\n",
       "           ...,\n",
       "           [1., 1., 1., ..., 1., 1., 1.],\n",
       "           [1., 1., 1., ..., 1., 1., 1.],\n",
       "           [1., 1., 1., ..., 1., 1., 1.]],\n",
       "\n",
       "          [[1., 1., 1., ..., 1., 1., 1.],\n",
       "           [1., 1., 1., ..., 1., 1., 1.],\n",
       "           [1., 1., 1., ..., 1., 1., 1.],\n",
       "           ...,\n",
       "           [1., 1., 1., ..., 1., 1., 1.],\n",
       "           [1., 1., 1., ..., 1., 1., 1.],\n",
       "           [1., 1., 1., ..., 1., 1., 1.]],\n",
       "\n",
       "          [[1., 1., 1., ..., 1., 1., 1.],\n",
       "           [1., 1., 1., ..., 1., 1., 1.],\n",
       "           [1., 1., 1., ..., 1., 1., 1.],\n",
       "           ...,\n",
       "           [1., 1., 1., ..., 1., 1., 1.],\n",
       "           [1., 1., 1., ..., 1., 1., 1.],\n",
       "           [1., 1., 1., ..., 1., 1., 1.]],\n",
       "\n",
       "          [[1., 1., 1., ..., 1., 1., 1.],\n",
       "           [1., 1., 1., ..., 1., 1., 1.],\n",
       "           [1., 1., 1., ..., 1., 1., 1.],\n",
       "           ...,\n",
       "           [1., 1., 1., ..., 1., 1., 1.],\n",
       "           [1., 1., 1., ..., 1., 1., 1.],\n",
       "           [1., 1., 1., ..., 1., 1., 1.]]],\n",
       "\n",
       "\n",
       "         [[[1., 1., 1., ..., 1., 1., 1.],\n",
       "           [1., 1., 1., ..., 1., 1., 1.],\n",
       "           [1., 1., 1., ..., 1., 1., 1.],\n",
       "           ...,\n",
       "           [1., 1., 1., ..., 1., 1., 1.],\n",
       "           [1., 1., 1., ..., 1., 1., 1.],\n",
       "           [1., 1., 1., ..., 1., 1., 1.]],\n",
       "\n",
       "          [[1., 1., 1., ..., 1., 1., 1.],\n",
       "           [1., 1., 1., ..., 1., 1., 1.],\n",
       "           [1., 1., 1., ..., 1., 1., 1.],\n",
       "           ...,\n",
       "           [1., 1., 1., ..., 1., 1., 1.],\n",
       "           [1., 1., 1., ..., 1., 1., 1.],\n",
       "           [1., 1., 1., ..., 1., 1., 1.]],\n",
       "\n",
       "          [[1., 1., 1., ..., 1., 1., 1.],\n",
       "           [1., 1., 1., ..., 1., 1., 1.],\n",
       "           [1., 1., 1., ..., 1., 1., 1.],\n",
       "           ...,\n",
       "           [1., 1., 1., ..., 1., 1., 1.],\n",
       "           [1., 1., 1., ..., 1., 1., 1.],\n",
       "           [1., 1., 1., ..., 1., 1., 1.]],\n",
       "\n",
       "          [[1., 1., 1., ..., 1., 1., 1.],\n",
       "           [1., 1., 1., ..., 1., 1., 1.],\n",
       "           [1., 1., 1., ..., 1., 1., 1.],\n",
       "           ...,\n",
       "           [1., 1., 1., ..., 1., 1., 1.],\n",
       "           [1., 1., 1., ..., 1., 1., 1.],\n",
       "           [1., 1., 1., ..., 1., 1., 1.]],\n",
       "\n",
       "          [[1., 1., 1., ..., 1., 1., 1.],\n",
       "           [1., 1., 1., ..., 1., 1., 1.],\n",
       "           [1., 1., 1., ..., 1., 1., 1.],\n",
       "           ...,\n",
       "           [1., 1., 1., ..., 1., 1., 1.],\n",
       "           [1., 1., 1., ..., 1., 1., 1.],\n",
       "           [1., 1., 1., ..., 1., 1., 1.]]],\n",
       "\n",
       "\n",
       "         [[[1., 1., 1., ..., 1., 1., 1.],\n",
       "           [1., 1., 1., ..., 1., 1., 1.],\n",
       "           [1., 1., 1., ..., 1., 1., 1.],\n",
       "           ...,\n",
       "           [1., 1., 1., ..., 1., 1., 1.],\n",
       "           [1., 1., 1., ..., 1., 1., 1.],\n",
       "           [1., 1., 1., ..., 1., 1., 1.]],\n",
       "\n",
       "          [[1., 1., 1., ..., 1., 1., 1.],\n",
       "           [1., 1., 1., ..., 1., 1., 1.],\n",
       "           [1., 1., 1., ..., 1., 1., 1.],\n",
       "           ...,\n",
       "           [1., 1., 1., ..., 1., 1., 1.],\n",
       "           [1., 1., 1., ..., 1., 1., 1.],\n",
       "           [1., 1., 1., ..., 1., 1., 1.]],\n",
       "\n",
       "          [[1., 1., 1., ..., 1., 1., 1.],\n",
       "           [1., 1., 1., ..., 1., 1., 1.],\n",
       "           [1., 1., 1., ..., 1., 1., 1.],\n",
       "           ...,\n",
       "           [1., 1., 1., ..., 1., 1., 1.],\n",
       "           [1., 1., 1., ..., 1., 1., 1.],\n",
       "           [1., 1., 1., ..., 1., 1., 1.]],\n",
       "\n",
       "          [[1., 1., 1., ..., 1., 1., 1.],\n",
       "           [1., 1., 1., ..., 1., 1., 1.],\n",
       "           [1., 1., 1., ..., 1., 1., 1.],\n",
       "           ...,\n",
       "           [1., 1., 1., ..., 1., 1., 1.],\n",
       "           [1., 1., 1., ..., 1., 1., 1.],\n",
       "           [1., 1., 1., ..., 1., 1., 1.]],\n",
       "\n",
       "          [[1., 1., 1., ..., 1., 1., 1.],\n",
       "           [1., 1., 1., ..., 1., 1., 1.],\n",
       "           [1., 1., 1., ..., 1., 1., 1.],\n",
       "           ...,\n",
       "           [1., 1., 1., ..., 1., 1., 1.],\n",
       "           [1., 1., 1., ..., 1., 1., 1.],\n",
       "           [1., 1., 1., ..., 1., 1., 1.]]]]]])"
      ]
     },
     "execution_count": 34,
     "metadata": {},
     "output_type": "execute_result"
    }
   ],
   "source": [
    "# create and array of ones with two rows and one column\n",
    "np.ones((3, 3, 3, 5 , 8 , 9))"
   ]
  },
  {
   "cell_type": "code",
   "execution_count": null,
   "metadata": {},
   "outputs": [],
   "source": []
  },
  {
   "cell_type": "code",
   "execution_count": 32,
   "metadata": {},
   "outputs": [
    {
     "data": {
      "text/plain": [
       "array([1., 1.])"
      ]
     },
     "execution_count": 32,
     "metadata": {},
     "output_type": "execute_result"
    }
   ],
   "source": [
    "np.ones((2))"
   ]
  },
  {
   "cell_type": "markdown",
   "metadata": {},
   "source": [
    "#### ```zeros()```\n",
    "```numpy.zeros(shape, dtype=float, order='C')```\n",
    "\n",
    "\"Return a new array of given shape and type, filled with zeros.\"\n",
    "\n",
    "Parameters and return value is the same as ```numpy.ones()```.\n",
    "\n",
    "https://docs.scipy.org/doc/numpy-1.13.0/reference/generated/numpy.zeros.html"
   ]
  },
  {
   "cell_type": "code",
   "execution_count": 35,
   "metadata": {},
   "outputs": [
    {
     "data": {
      "text/plain": [
       "array([0., 0., 0., 0., 0.])"
      ]
     },
     "execution_count": 35,
     "metadata": {},
     "output_type": "execute_result"
    }
   ],
   "source": [
    "# create an array of zeros with 5 values and the default dtype\n",
    "np.zeros(5)"
   ]
  },
  {
   "cell_type": "code",
   "execution_count": 37,
   "metadata": {},
   "outputs": [
    {
     "data": {
      "text/plain": [
       "array([0, 0, 0, 0, 0])"
      ]
     },
     "execution_count": 37,
     "metadata": {},
     "output_type": "execute_result"
    }
   ],
   "source": [
    "# create the same array with int as dtype\n",
    "np.zeros((5,), dtype=int)"
   ]
  },
  {
   "cell_type": "code",
   "execution_count": 38,
   "metadata": {},
   "outputs": [
    {
     "data": {
      "text/plain": [
       "array([[0.],\n",
       "       [0.]])"
      ]
     },
     "execution_count": 38,
     "metadata": {},
     "output_type": "execute_result"
    }
   ],
   "source": [
    "# create and array of zeros with two rows and one column\n",
    "np.zeros((2, 1))"
   ]
  },
  {
   "cell_type": "markdown",
   "metadata": {},
   "source": [
    "## ```ndarray``` Attributes\n",
    "\n",
    "\"The most important attributes of an ```ndarray``` object are:\"\n",
    "https://docs.scipy.org/doc/numpy-1.13.0/user/quickstart.html#the-basics"
   ]
  },
  {
   "cell_type": "code",
   "execution_count": 39,
   "metadata": {},
   "outputs": [
    {
     "data": {
      "text/plain": [
       "array([[1, 2, 3],\n",
       "       [4, 5, 6]], dtype=int32)"
      ]
     },
     "execution_count": 39,
     "metadata": {},
     "output_type": "execute_result"
    }
   ],
   "source": [
    "# create a 2d array\n",
    "x = np.array([[1, 2, 3], [4, 5, 6]], np.int32)\n",
    "x"
   ]
  },
  {
   "cell_type": "code",
   "execution_count": 40,
   "metadata": {},
   "outputs": [
    {
     "data": {
      "text/plain": [
       "numpy.ndarray"
      ]
     },
     "execution_count": 40,
     "metadata": {},
     "output_type": "execute_result"
    }
   ],
   "source": [
    "# get the type of x\n",
    "type(x)"
   ]
  },
  {
   "cell_type": "code",
   "execution_count": 41,
   "metadata": {},
   "outputs": [
    {
     "data": {
      "text/plain": [
       "(2, 3)"
      ]
     },
     "execution_count": 41,
     "metadata": {},
     "output_type": "execute_result"
    }
   ],
   "source": [
    "# get the shape of the array\n",
    "x.shape"
   ]
  },
  {
   "cell_type": "code",
   "execution_count": 42,
   "metadata": {},
   "outputs": [
    {
     "data": {
      "text/plain": [
       "dtype('int32')"
      ]
     },
     "execution_count": 42,
     "metadata": {},
     "output_type": "execute_result"
    }
   ],
   "source": [
    "# get the data type of the values in the array\n",
    "x.dtype"
   ]
  },
  {
   "cell_type": "code",
   "execution_count": 43,
   "metadata": {},
   "outputs": [
    {
     "data": {
      "text/plain": [
       "2"
      ]
     },
     "execution_count": 43,
     "metadata": {},
     "output_type": "execute_result"
    }
   ],
   "source": [
    "# get the number of dimensions (axes) in the array\n",
    "x.ndim"
   ]
  },
  {
   "cell_type": "code",
   "execution_count": 44,
   "metadata": {},
   "outputs": [
    {
     "data": {
      "text/plain": [
       "6"
      ]
     },
     "execution_count": 44,
     "metadata": {},
     "output_type": "execute_result"
    }
   ],
   "source": [
    "# get the total number of elements in the array\n",
    "x.size"
   ]
  },
  {
   "cell_type": "code",
   "execution_count": 45,
   "metadata": {},
   "outputs": [
    {
     "data": {
      "text/plain": [
       "4"
      ]
     },
     "execution_count": 45,
     "metadata": {},
     "output_type": "execute_result"
    }
   ],
   "source": [
    "# get the size in bytes of each element of the array\n",
    "x.itemsize"
   ]
  },
  {
   "cell_type": "code",
   "execution_count": 49,
   "metadata": {},
   "outputs": [
    {
     "data": {
      "text/plain": [
       "array([[0, 1, 2],\n",
       "       [3, 4, 5],\n",
       "       [6, 7, 8]])"
      ]
     },
     "execution_count": 49,
     "metadata": {},
     "output_type": "execute_result"
    }
   ],
   "source": [
    "x=np.arange(9).reshape((3,3))\n",
    "x"
   ]
  },
  {
   "cell_type": "code",
   "execution_count": 56,
   "metadata": {},
   "outputs": [
    {
     "data": {
      "text/plain": [
       "array([2, 5, 8])"
      ]
     },
     "execution_count": 56,
     "metadata": {},
     "output_type": "execute_result"
    }
   ],
   "source": [
    "# indexing (zero-based) for getting a single element of the array\n",
    "x[:, 2]"
   ]
  },
  {
   "cell_type": "code",
   "execution_count": 47,
   "metadata": {},
   "outputs": [
    {
     "data": {
      "text/plain": [
       "6"
      ]
     },
     "execution_count": 47,
     "metadata": {},
     "output_type": "execute_result"
    }
   ],
   "source": [
    "x[1][2]"
   ]
  },
  {
   "cell_type": "markdown",
   "metadata": {},
   "source": [
    "## Indexing, Slicing, and Iterating\n",
    "\n",
    "* \"**One-dimensional** arrays can be indexed, sliced and iterated over, much like lists and other Python sequences.\"\n",
    "* \"**Multidimensional** arrays can have one index per axis.\"\n",
    "* \"The basic **slice syntax** is ```i:j:k``` where *i* is the starting index, *j* is the stopping index, and *k* is the step ($k\\neq0$). (...) If *k* is not given it defaults to 1.\"\n",
    "* \"When fewer indices are provided than the number of axes, the missing indices are considered complete slices ```:```\"\n",
    "* \"The expression within brackets in ```b[i]``` is treated as an ```i``` followed by as many instances of ```:``` as needed to represent the remaining axes. NumPy also allows you to write this using dots as ```b[i,...]```.\"\n",
    "\n",
    "https://docs.scipy.org/doc/numpy-1.13.0/user/quickstart.html#indexing-slicing-and-iterating and https://docs.scipy.org/doc/numpy/reference/arrays.indexing.html#basic-slicing-and-indexing\n",
    "\n",
    "Examples are based on https://docs.scipy.org/doc/numpy-1.13.0/user/quickstart.html#indexing-slicing-and-iterating."
   ]
  },
  {
   "cell_type": "code",
   "execution_count": 57,
   "metadata": {},
   "outputs": [
    {
     "data": {
      "text/plain": [
       "array([0, 1, 2, 3, 4, 5, 6, 7, 8, 9])"
      ]
     },
     "execution_count": 57,
     "metadata": {},
     "output_type": "execute_result"
    }
   ],
   "source": [
    "# creating a 1d array\n",
    "a = np.arange(10)\n",
    "a"
   ]
  },
  {
   "cell_type": "code",
   "execution_count": 61,
   "metadata": {},
   "outputs": [
    {
     "data": {
      "text/plain": [
       "3"
      ]
     },
     "execution_count": 61,
     "metadata": {},
     "output_type": "execute_result"
    }
   ],
   "source": [
    "# select a single element\n",
    "a[3]"
   ]
  },
  {
   "cell_type": "code",
   "execution_count": 62,
   "metadata": {},
   "outputs": [
    {
     "data": {
      "text/plain": [
       "array([3])"
      ]
     },
     "execution_count": 62,
     "metadata": {},
     "output_type": "execute_result"
    }
   ],
   "source": [
    "# slice the array and get elements at index 1 to 5 (exclusive end)\n",
    "a[3:4]"
   ]
  },
  {
   "cell_type": "code",
   "execution_count": 63,
   "metadata": {},
   "outputs": [
    {
     "data": {
      "text/plain": [
       "array([5, 6, 7, 8, 9])"
      ]
     },
     "execution_count": 63,
     "metadata": {},
     "output_type": "execute_result"
    }
   ],
   "source": [
    "# select all elements starting from index 5\n",
    "a[5:]"
   ]
  },
  {
   "cell_type": "code",
   "execution_count": 64,
   "metadata": {},
   "outputs": [
    {
     "data": {
      "text/plain": [
       "array([1, 3, 5])"
      ]
     },
     "execution_count": 64,
     "metadata": {},
     "output_type": "execute_result"
    }
   ],
   "source": [
    "# select every second element starting from 1 and stopping at 7 (exclusive)\n",
    "a[1:7:2]"
   ]
  },
  {
   "cell_type": "code",
   "execution_count": 65,
   "metadata": {},
   "outputs": [
    {
     "data": {
      "text/plain": [
       "array([0, 2, 4])"
      ]
     },
     "execution_count": 65,
     "metadata": {},
     "output_type": "execute_result"
    }
   ],
   "source": [
    "# equivalent to a[0:6:2]\n",
    "a[:6:2]"
   ]
  },
  {
   "cell_type": "code",
   "execution_count": 66,
   "metadata": {},
   "outputs": [
    {
     "data": {
      "text/plain": [
       "array([9, 8, 7, 6, 5, 4, 3, 2, 1, 0])"
      ]
     },
     "execution_count": 66,
     "metadata": {},
     "output_type": "execute_result"
    }
   ],
   "source": [
    "# reverse the array\n",
    "a[::-1]"
   ]
  },
  {
   "cell_type": "code",
   "execution_count": 67,
   "metadata": {},
   "outputs": [
    {
     "data": {
      "text/plain": [
       "array([0, 5, 3])"
      ]
     },
     "execution_count": 67,
     "metadata": {},
     "output_type": "execute_result"
    }
   ],
   "source": [
    "#magic indexing\n",
    "a[[0,5,3]]"
   ]
  },
  {
   "cell_type": "code",
   "execution_count": 69,
   "metadata": {},
   "outputs": [
    {
     "name": "stdout",
     "output_type": "stream",
     "text": [
      "0 2 4 6 8 10 12 14 16 18 "
     ]
    },
    {
     "data": {
      "text/plain": [
       "array([ 0,  2,  4,  6,  8, 10, 12, 14, 16, 18])"
      ]
     },
     "execution_count": 69,
     "metadata": {},
     "output_type": "execute_result"
    }
   ],
   "source": [
    "# iterate the 1d array\n",
    "for i in a:\n",
    "    print(i*2, end = \" \")\n",
    "\n",
    "2*a"
   ]
  },
  {
   "cell_type": "code",
   "execution_count": 70,
   "metadata": {},
   "outputs": [
    {
     "data": {
      "text/plain": [
       "array([[ 0,  1,  2,  3],\n",
       "       [10, 11, 12, 13],\n",
       "       [20, 21, 22, 23],\n",
       "       [30, 31, 32, 33],\n",
       "       [40, 41, 42, 43]])"
      ]
     },
     "execution_count": 70,
     "metadata": {},
     "output_type": "execute_result"
    }
   ],
   "source": [
    "# create a 2d array\n",
    "def f(x, y):\n",
    "    return 10*x+y\n",
    "\n",
    "b = np.fromfunction(f, (5,4), dtype=int)\n",
    "b"
   ]
  },
  {
   "cell_type": "code",
   "execution_count": 71,
   "metadata": {},
   "outputs": [
    {
     "data": {
      "text/plain": [
       "array([30, 31, 32, 33])"
      ]
     },
     "execution_count": 71,
     "metadata": {},
     "output_type": "execute_result"
    }
   ],
   "source": [
    "b[3, :]"
   ]
  },
  {
   "cell_type": "code",
   "execution_count": 72,
   "metadata": {},
   "outputs": [
    {
     "data": {
      "text/plain": [
       "23"
      ]
     },
     "execution_count": 72,
     "metadata": {},
     "output_type": "execute_result"
    }
   ],
   "source": [
    "# indexing (zero-based) for getting a single element of the array\n",
    "b[2, 3]"
   ]
  },
  {
   "cell_type": "code",
   "execution_count": 73,
   "metadata": {},
   "outputs": [
    {
     "data": {
      "text/plain": [
       "array([ 1, 11, 21, 31, 41])"
      ]
     },
     "execution_count": 73,
     "metadata": {},
     "output_type": "execute_result"
    }
   ],
   "source": [
    "# get all elements of the second column\n",
    "b[:, 1]"
   ]
  },
  {
   "cell_type": "code",
   "execution_count": 75,
   "metadata": {},
   "outputs": [
    {
     "data": {
      "text/plain": [
       "array([[11, 12],\n",
       "       [21, 22]])"
      ]
     },
     "execution_count": 75,
     "metadata": {},
     "output_type": "execute_result"
    }
   ],
   "source": [
    "# get all columns of the 2nd and 3rd row\n",
    "b[1:3, 1:3]"
   ]
  },
  {
   "cell_type": "code",
   "execution_count": 76,
   "metadata": {},
   "outputs": [
    {
     "data": {
      "text/plain": [
       "array([40, 41, 42, 43])"
      ]
     },
     "execution_count": 76,
     "metadata": {},
     "output_type": "execute_result"
    }
   ],
   "source": [
    "# get the last row of the array\n",
    "b[-1]"
   ]
  },
  {
   "cell_type": "code",
   "execution_count": 77,
   "metadata": {},
   "outputs": [
    {
     "name": "stdout",
     "output_type": "stream",
     "text": [
      "[0 1 2 3]\n",
      "[10 11 12 13]\n",
      "[20 21 22 23]\n",
      "[30 31 32 33]\n",
      "[40 41 42 43]\n"
     ]
    }
   ],
   "source": [
    "# iterate over 2d array\n",
    "for row in b:\n",
    "    print(row)"
   ]
  },
  {
   "cell_type": "code",
   "execution_count": 78,
   "metadata": {},
   "outputs": [
    {
     "data": {
      "text/plain": [
       "array([ 0, 33])"
      ]
     },
     "execution_count": 78,
     "metadata": {},
     "output_type": "execute_result"
    }
   ],
   "source": [
    "rows = [0,3]\n",
    "col=[0,3]\n",
    "b[rows,col]"
   ]
  },
  {
   "cell_type": "code",
   "execution_count": 79,
   "metadata": {},
   "outputs": [
    {
     "name": "stdout",
     "output_type": "stream",
     "text": [
      "0 1 2 3 10 11 12 13 20 21 22 23 30 31 32 33 40 41 42 43 "
     ]
    }
   ],
   "source": [
    "# iterate over flattened 2d array\n",
    "for element in b.flat:\n",
    "    print(element , end = \" \")"
   ]
  },
  {
   "cell_type": "code",
   "execution_count": 81,
   "metadata": {},
   "outputs": [
    {
     "data": {
      "text/plain": [
       "<numpy.flatiter at 0x55841be13ae0>"
      ]
     },
     "execution_count": 81,
     "metadata": {},
     "output_type": "execute_result"
    }
   ],
   "source": [
    "b.flat"
   ]
  },
  {
   "cell_type": "markdown",
   "metadata": {},
   "source": [
    "## Shape Manipulation\n",
    "An introduction to the manipulation of the shape of arrays is provided at https://docs.scipy.org/doc/numpy-1.13.0/user/quickstart.html#shape-manipulation\n",
    "\n",
    "### Change the shape\n",
    "* [```reshape()```](https://docs.scipy.org/doc/numpy-1.13.0/reference/generated/numpy.reshape.html) \"gives a new shape to an array without changing its data. returns a copy\"\n",
    "* [```flatten()```](https://docs.scipy.org/doc/numpy-1.13.0/reference/generated/numpy.ndarray.flatten.html) returns \"a copy of the array collapsed into one dimension.\"\n",
    "* [```T```](https://docs.scipy.org/doc/numpy/reference/generated/numpy.ndarray.T.html) transposes the array.\n",
    "\n",
    "```reshape()```, ```flatten()```, and ```T``` \"return a new modified array (but do not change the original array\")"
   ]
  },
  {
   "cell_type": "code",
   "execution_count": 82,
   "metadata": {},
   "outputs": [],
   "source": [
    "a = np.arange(10)"
   ]
  },
  {
   "cell_type": "code",
   "execution_count": 83,
   "metadata": {},
   "outputs": [
    {
     "data": {
      "text/plain": [
       "array([0, 1, 2, 3, 4, 5, 6, 7, 8, 9])"
      ]
     },
     "execution_count": 83,
     "metadata": {},
     "output_type": "execute_result"
    }
   ],
   "source": [
    "a"
   ]
  },
  {
   "cell_type": "code",
   "execution_count": 84,
   "metadata": {},
   "outputs": [
    {
     "data": {
      "text/plain": [
       "(10,)"
      ]
     },
     "execution_count": 84,
     "metadata": {},
     "output_type": "execute_result"
    }
   ],
   "source": [
    "a.shape"
   ]
  },
  {
   "cell_type": "code",
   "execution_count": 88,
   "metadata": {},
   "outputs": [
    {
     "data": {
      "text/plain": [
       "array([[0, 1],\n",
       "       [2, 3],\n",
       "       [4, 5],\n",
       "       [6, 7],\n",
       "       [8, 9]])"
      ]
     },
     "execution_count": 88,
     "metadata": {},
     "output_type": "execute_result"
    }
   ],
   "source": [
    "# reshape the array into 5 rows and 2 columns\n",
    "c = a.reshape((5, 2))\n",
    "c"
   ]
  },
  {
   "cell_type": "code",
   "execution_count": 89,
   "metadata": {},
   "outputs": [
    {
     "data": {
      "text/plain": [
       "array([[0, 1, 2, 3, 4],\n",
       "       [5, 6, 7, 8, 9]])"
      ]
     },
     "execution_count": 89,
     "metadata": {},
     "output_type": "execute_result"
    }
   ],
   "source": [
    "a.reshape((2, -1))"
   ]
  },
  {
   "cell_type": "code",
   "execution_count": 90,
   "metadata": {},
   "outputs": [
    {
     "data": {
      "text/plain": [
       "array([0, 1, 2, 3, 4, 5, 6, 7, 8, 9])"
      ]
     },
     "execution_count": 90,
     "metadata": {},
     "output_type": "execute_result"
    }
   ],
   "source": [
    "a"
   ]
  },
  {
   "cell_type": "code",
   "execution_count": 91,
   "metadata": {},
   "outputs": [
    {
     "data": {
      "text/plain": [
       "array([[ 0,  1,  2,  3],\n",
       "       [10, 11, 12, 13],\n",
       "       [20, 21, 22, 23],\n",
       "       [30, 31, 32, 33],\n",
       "       [40, 41, 42, 43]])"
      ]
     },
     "execution_count": 91,
     "metadata": {},
     "output_type": "execute_result"
    }
   ],
   "source": [
    "b"
   ]
  },
  {
   "cell_type": "code",
   "execution_count": 92,
   "metadata": {},
   "outputs": [
    {
     "data": {
      "text/plain": [
       "array([ 0,  1,  2,  3, 10, 11, 12, 13, 20, 21, 22, 23, 30, 31, 32, 33, 40,\n",
       "       41, 42, 43])"
      ]
     },
     "execution_count": 92,
     "metadata": {},
     "output_type": "execute_result"
    }
   ],
   "source": [
    "# flatten the array (a copy will be returned)\n",
    "b.flatten()"
   ]
  },
  {
   "cell_type": "code",
   "execution_count": 94,
   "metadata": {},
   "outputs": [
    {
     "data": {
      "text/plain": [
       "array([[ 0,  1,  2,  3],\n",
       "       [10, 11, 12, 13],\n",
       "       [20, 21, 22, 23],\n",
       "       [30, 31, 32, 33],\n",
       "       [40, 41, 42, 43]])"
      ]
     },
     "execution_count": 94,
     "metadata": {},
     "output_type": "execute_result"
    }
   ],
   "source": [
    "b"
   ]
  },
  {
   "cell_type": "code",
   "execution_count": 95,
   "metadata": {},
   "outputs": [
    {
     "data": {
      "text/plain": [
       "(5, 4)"
      ]
     },
     "execution_count": 95,
     "metadata": {},
     "output_type": "execute_result"
    }
   ],
   "source": [
    "b.shape"
   ]
  },
  {
   "cell_type": "code",
   "execution_count": 96,
   "metadata": {},
   "outputs": [
    {
     "data": {
      "text/plain": [
       "array([[ 0,  1,  2,  3, 10, 11, 12, 13, 20, 21],\n",
       "       [22, 23, 30, 31, 32, 33, 40, 41, 42, 43]])"
      ]
     },
     "execution_count": 96,
     "metadata": {},
     "output_type": "execute_result"
    }
   ],
   "source": [
    "# change the shape of the original array\n",
    "b.reshape((2, 10))\n"
   ]
  },
  {
   "cell_type": "code",
   "execution_count": 98,
   "metadata": {},
   "outputs": [
    {
     "data": {
      "text/plain": [
       "array([[ 0,  1,  2,  3],\n",
       "       [10, 11, 12, 13],\n",
       "       [20, 21, 22, 23],\n",
       "       [30, 31, 32, 33],\n",
       "       [40, 41, 42, 43]])"
      ]
     },
     "execution_count": 98,
     "metadata": {},
     "output_type": "execute_result"
    }
   ],
   "source": [
    "b"
   ]
  },
  {
   "cell_type": "code",
   "execution_count": 99,
   "metadata": {},
   "outputs": [
    {
     "data": {
      "text/plain": [
       "(5, 4)"
      ]
     },
     "execution_count": 99,
     "metadata": {},
     "output_type": "execute_result"
    }
   ],
   "source": [
    "b.shape"
   ]
  },
  {
   "cell_type": "code",
   "execution_count": 97,
   "metadata": {},
   "outputs": [
    {
     "data": {
      "text/plain": [
       "array([[ 0, 10, 20, 30, 40],\n",
       "       [ 1, 11, 21, 31, 41],\n",
       "       [ 2, 12, 22, 32, 42],\n",
       "       [ 3, 13, 23, 33, 43]])"
      ]
     },
     "execution_count": 97,
     "metadata": {},
     "output_type": "execute_result"
    }
   ],
   "source": [
    "# return the array transposed\n",
    "b.T"
   ]
  },
  {
   "cell_type": "code",
   "execution_count": 100,
   "metadata": {},
   "outputs": [
    {
     "data": {
      "text/plain": [
       "(4, 5)"
      ]
     },
     "execution_count": 100,
     "metadata": {},
     "output_type": "execute_result"
    }
   ],
   "source": [
    "b.T.shape"
   ]
  },
  {
   "cell_type": "code",
   "execution_count": 101,
   "metadata": {},
   "outputs": [
    {
     "data": {
      "text/plain": [
       "array([[ 0, 10, 20, 30, 40],\n",
       "       [ 1, 11, 21, 31, 41],\n",
       "       [ 2, 12, 22, 32, 42],\n",
       "       [ 3, 13, 23, 33, 43]])"
      ]
     },
     "execution_count": 101,
     "metadata": {},
     "output_type": "execute_result"
    }
   ],
   "source": [
    "b.transpose()"
   ]
  },
  {
   "cell_type": "markdown",
   "metadata": {},
   "source": [
    "### Stacking\n",
    "\"Several arrays can be stacked together along different axes.\" (https://docs.scipy.org/doc/numpy-1.13.0/user/quickstart.html#stacking-together-different-arrays). The methods ```hstack```, ```vstack```, ```row_stack```, and ```column_stack``` are still supported but ```stack``` or ```concatenate``` should be used for joining arrays.\n",
    "\n",
    "\n",
    "\n",
    "* [```stack(arrays, axis=0)```](https://docs.scipy.org/doc/numpy-1.13.0/reference/generated/numpy.stack.html) joins \"a sequence of arrays along a new axis.\"\n",
    "* [```concatenate(arrays, axis=0)```](https://docs.scipy.org/doc/numpy-1.13.0/reference/generated/numpy.concatenate.html) joins \"a sequence of arrays along an existing axis.\""
   ]
  },
  {
   "cell_type": "code",
   "execution_count": null,
   "metadata": {},
   "outputs": [],
   "source": [
    "# create 3 numpy arrays\n",
    "a = np.array((1, 2, 3))\n",
    "b = np.array((4, 5, 6))\n",
    "c = np.array((7, 8, 9))"
   ]
  },
  {
   "cell_type": "code",
   "execution_count": null,
   "metadata": {},
   "outputs": [],
   "source": [
    "b"
   ]
  },
  {
   "cell_type": "code",
   "execution_count": null,
   "metadata": {},
   "outputs": [],
   "source": [
    "# stack arrays along the first axis (row wise)\n",
    "np.stack((a, b, c))"
   ]
  },
  {
   "cell_type": "code",
   "execution_count": null,
   "metadata": {},
   "outputs": [],
   "source": [
    "np.stack((a, b, c)).shape"
   ]
  },
  {
   "cell_type": "code",
   "execution_count": null,
   "metadata": {},
   "outputs": [],
   "source": [
    "# stack arrays along the last axis (column wise)\n",
    "np.stack((a, b, c), axis=1)"
   ]
  },
  {
   "cell_type": "code",
   "execution_count": null,
   "metadata": {},
   "outputs": [],
   "source": [
    "# concatenate the arrays\n",
    "np.concatenate((a, b, c))"
   ]
  },
  {
   "cell_type": "code",
   "execution_count": null,
   "metadata": {},
   "outputs": [],
   "source": [
    "# stack arrays a, b, and c to create a 3x3 matrix\n",
    "abc = np.stack((a, b, c))\n",
    "abc"
   ]
  },
  {
   "cell_type": "code",
   "execution_count": null,
   "metadata": {},
   "outputs": [],
   "source": [
    "abc.shape"
   ]
  },
  {
   "cell_type": "code",
   "execution_count": null,
   "metadata": {},
   "outputs": [],
   "source": [
    "# create a new array d\n",
    "d = np.array([[10, 11, 12]])\n",
    "d"
   ]
  },
  {
   "cell_type": "code",
   "execution_count": null,
   "metadata": {},
   "outputs": [],
   "source": [
    "d.shape"
   ]
  },
  {
   "cell_type": "code",
   "execution_count": null,
   "metadata": {},
   "outputs": [],
   "source": [
    "# concat abc and d along axis 0 (row-wise)\n",
    "np.concatenate((abc, d), axis=0)"
   ]
  },
  {
   "cell_type": "code",
   "execution_count": null,
   "metadata": {},
   "outputs": [],
   "source": [
    "# concat abc and d along axis 1 (column-wise)\n",
    "np.concatenate((abc, d.T), axis=1)"
   ]
  },
  {
   "cell_type": "markdown",
   "metadata": {},
   "source": [
    "## Lists vs NumPy array"
   ]
  },
  {
   "cell_type": "code",
   "execution_count": null,
   "metadata": {},
   "outputs": [],
   "source": [
    "# speed comparison for 2D arrays\n",
    "\n",
    "# for loop with lists\n",
    "def for_loop(dim):\n",
    "    n = []\n",
    "    # first dimension\n",
    "    for i in range(dim):\n",
    "        n.append([])\n",
    "        # second dimension\n",
    "        for j in range(dim):\n",
    "            n[i].append(j)\n",
    "    return n\n",
    "\n",
    "# list comprehension\n",
    "def list_comp(dim):\n",
    "    # double list comprehension\n",
    "    n = [[j for j in range(dim)] for i in range(dim)]\n",
    "    return n\n",
    "\n",
    "# numpy array\n",
    "def numpy_array(dim):\n",
    "    return np.array([np.arange(dim, dtype=np.int32) for i in range(dim)])"
   ]
  },
  {
   "cell_type": "code",
   "execution_count": null,
   "metadata": {},
   "outputs": [],
   "source": [
    "for_loop(5)"
   ]
  },
  {
   "cell_type": "code",
   "execution_count": null,
   "metadata": {},
   "outputs": [],
   "source": [
    "list_comp(5)"
   ]
  },
  {
   "cell_type": "code",
   "execution_count": null,
   "metadata": {},
   "outputs": [],
   "source": [
    "numpy_array(5)"
   ]
  },
  {
   "cell_type": "code",
   "execution_count": null,
   "metadata": {},
   "outputs": [],
   "source": [
    "dim = 100\n",
    "\n",
    "%timeit for_loop(dim)\n",
    "%timeit list_comp(dim)\n",
    "%timeit numpy_array(dim)"
   ]
  },
  {
   "cell_type": "markdown",
   "metadata": {},
   "source": [
    "# NumPy Summary\n",
    "* ``ndarray``: fast, fixed-size and same type, memory efficient array with advanced build-in mathematical operations\n",
    "* Basis for many (all?) popular ML libraries\n",
    "* Use ``ndarray`` (and learn how to use it correctly)! Read the documentation at https://docs.scipy.org/doc/numpy-1.13.0/index.html"
   ]
  },
  {
   "cell_type": "code",
   "execution_count": null,
   "metadata": {},
   "outputs": [],
   "source": []
  },
  {
   "cell_type": "code",
   "execution_count": null,
   "metadata": {},
   "outputs": [],
   "source": []
  },
  {
   "cell_type": "code",
   "execution_count": null,
   "metadata": {},
   "outputs": [],
   "source": []
  },
  {
   "cell_type": "code",
   "execution_count": null,
   "metadata": {},
   "outputs": [],
   "source": []
  },
  {
   "cell_type": "code",
   "execution_count": null,
   "metadata": {},
   "outputs": [],
   "source": []
  },
  {
   "cell_type": "markdown",
   "metadata": {},
   "source": [
    "# NumPy Exercises\n"
   ]
  },
  {
   "cell_type": "code",
   "execution_count": null,
   "metadata": {},
   "outputs": [],
   "source": [
    "import numpy as np"
   ]
  },
  {
   "cell_type": "code",
   "execution_count": null,
   "metadata": {},
   "outputs": [],
   "source": [
    "np.random.seed = 42\n",
    "a = np.random.rand(10,10,)"
   ]
  },
  {
   "cell_type": "markdown",
   "metadata": {},
   "source": [
    "- Select the first column from `a`\n",
    "- Select the first fifth and sixth row from `a`\n",
    "- Select the first element of the second row\n"
   ]
  },
  {
   "cell_type": "code",
   "execution_count": null,
   "metadata": {},
   "outputs": [],
   "source": []
  },
  {
   "cell_type": "code",
   "execution_count": null,
   "metadata": {},
   "outputs": [],
   "source": [
    "b = a = np.random.rand(10,3,3)"
   ]
  },
  {
   "cell_type": "markdown",
   "metadata": {},
   "source": [
    "- What is `b` shape?\n",
    "- Make `b` 2D with a shape of 10,9"
   ]
  },
  {
   "cell_type": "code",
   "execution_count": null,
   "metadata": {},
   "outputs": [],
   "source": []
  },
  {
   "cell_type": "markdown",
   "metadata": {},
   "source": [
    "- Erstelle eine 5x5-Matrix mit 7er auf der Diagonalen\n",
    "- Erstelle eine 7x7-Matrix mit Nullen am Rand und Einsen in der Mitte\n",
    "- Berechne die Lösung des Gleichungssystems:\n",
    "    \n",
    "  \\begin{gather}\n",
    "\\begin{bmatrix} 1 & 2 \\\\ 3 & 4 \\end{bmatrix} \n",
    "\\begin{bmatrix}\n",
    "x_1 \\\\ x_2\n",
    "\\end{bmatrix}\n",
    "         =\n",
    "          \\begin{bmatrix}\n",
    "           2 \\\\\n",
    "          5 \n",
    "           \\end{bmatrix}\n",
    "        \\end{gather}\n",
    "    Hinweis: Verwende np.linalg.inv() um die Inverse der Matrix zu berechnen.\n",
    "    \n",
    " \n",
    " "
   ]
  },
  {
   "cell_type": "markdown",
   "metadata": {},
   "source": [
    "$ x_1 + 2* x_2 = 2$\n",
    "\n",
    "$ 3*x_1 + 4* x_2 = 5$"
   ]
  },
  {
   "cell_type": "code",
   "execution_count": 109,
   "metadata": {},
   "outputs": [
    {
     "data": {
      "text/plain": [
       "array([[-2. ,  1. ],\n",
       "       [ 1.5, -0.5]])"
      ]
     },
     "execution_count": 109,
     "metadata": {},
     "output_type": "execute_result"
    }
   ],
   "source": [
    "A = np.arange(1,5).reshape((2,2))\n",
    "b = np.array([2, 5])\n",
    "\n",
    "inv_A = np.linalg.inv(A)\n",
    "inv_A"
   ]
  },
  {
   "cell_type": "code",
   "execution_count": 110,
   "metadata": {},
   "outputs": [
    {
     "data": {
      "text/plain": [
       "array([1. , 0.5])"
      ]
     },
     "execution_count": 110,
     "metadata": {},
     "output_type": "execute_result"
    }
   ],
   "source": [
    "inv_A@b"
   ]
  },
  {
   "cell_type": "code",
   "execution_count": 113,
   "metadata": {},
   "outputs": [
    {
     "data": {
      "text/plain": [
       "array([False,  True,  True,  True,  True,  True,  True])"
      ]
     },
     "execution_count": 113,
     "metadata": {},
     "output_type": "execute_result"
    }
   ],
   "source": [
    "5*np.arange(7)+1 > 5"
   ]
  },
  {
   "cell_type": "code",
   "execution_count": null,
   "metadata": {},
   "outputs": [],
   "source": []
  },
  {
   "cell_type": "code",
   "execution_count": 102,
   "metadata": {},
   "outputs": [
    {
     "data": {
      "text/plain": [
       "array([[7., 0., 0., 0., 0., 0., 0.],\n",
       "       [0., 7., 0., 0., 0., 0., 0.],\n",
       "       [0., 0., 7., 0., 0., 0., 0.],\n",
       "       [0., 0., 0., 7., 0., 0., 0.],\n",
       "       [0., 0., 0., 0., 7., 0., 0.],\n",
       "       [0., 0., 0., 0., 0., 7., 0.],\n",
       "       [0., 0., 0., 0., 0., 0., 7.]])"
      ]
     },
     "execution_count": 102,
     "metadata": {},
     "output_type": "execute_result"
    }
   ],
   "source": [
    "7 * np.eye(7)"
   ]
  },
  {
   "cell_type": "code",
   "execution_count": 105,
   "metadata": {},
   "outputs": [
    {
     "data": {
      "text/plain": [
       "array([[0., 0., 0., 0., 0., 0., 0.],\n",
       "       [0., 0., 0., 0., 0., 0., 0.],\n",
       "       [0., 0., 0., 0., 0., 0., 0.],\n",
       "       [0., 0., 0., 0., 0., 0., 0.],\n",
       "       [0., 0., 0., 0., 0., 0., 0.],\n",
       "       [0., 0., 0., 0., 0., 0., 0.],\n",
       "       [0., 0., 0., 0., 0., 0., 0.]])"
      ]
     },
     "execution_count": 105,
     "metadata": {},
     "output_type": "execute_result"
    }
   ],
   "source": [
    "a = np.zeros((7,7))\n",
    "a"
   ]
  },
  {
   "cell_type": "code",
   "execution_count": 107,
   "metadata": {},
   "outputs": [
    {
     "data": {
      "text/plain": [
       "array([[7., 0., 0., 0., 0., 0., 0.],\n",
       "       [0., 7., 0., 0., 0., 0., 0.],\n",
       "       [0., 0., 7., 0., 0., 0., 0.],\n",
       "       [0., 0., 0., 7., 0., 0., 0.],\n",
       "       [0., 0., 0., 0., 7., 0., 0.],\n",
       "       [0., 0., 0., 0., 0., 7., 0.],\n",
       "       [0., 0., 0., 0., 0., 0., 7.]])"
      ]
     },
     "execution_count": 107,
     "metadata": {},
     "output_type": "execute_result"
    }
   ],
   "source": [
    "for i in range(7):\n",
    "    a[i, i] = 7\n",
    "    \n",
    "a"
   ]
  },
  {
   "cell_type": "code",
   "execution_count": null,
   "metadata": {},
   "outputs": [],
   "source": []
  }
 ],
 "metadata": {
  "kernelspec": {
   "display_name": "python_beginners",
   "language": "python",
   "name": "python_beginners"
  },
  "language_info": {
   "codemirror_mode": {
    "name": "ipython",
    "version": 3
   },
   "file_extension": ".py",
   "mimetype": "text/x-python",
   "name": "python",
   "nbconvert_exporter": "python",
   "pygments_lexer": "ipython3",
   "version": "3.9.4"
  }
 },
 "nbformat": 4,
 "nbformat_minor": 4
}
