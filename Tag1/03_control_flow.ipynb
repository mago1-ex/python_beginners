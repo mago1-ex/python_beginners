{
 "cells": [
  {
   "cell_type": "markdown",
   "metadata": {},
   "source": [
    "# Control Flow"
   ]
  },
  {
   "cell_type": "markdown",
   "metadata": {},
   "source": [
    "## The while loop"
   ]
  },
  {
   "cell_type": "markdown",
   "metadata": {},
   "source": [
    "You’ve come across the basic `while` loop several times already. The full `while` loop looks like this: \n",
    "\n",
    "```python\n",
    "while condition:\n",
    "    body\n",
    "else:\n",
    "    post-code\n",
    "```"
   ]
  },
  {
   "cell_type": "markdown",
   "metadata": {},
   "source": [
    "`condition` is a Boolean expression—that is, one that evaluates to a `True` or `False` value. As long as it’s `True`, the body is executed repeatedly. When the condition evaluates to `False`, the `while` loop executes the post-code section and then terminates. If the condition starts out by being `False`, the body won’t be executed at all—just the post-code section. The body and post-code are each sequences of one or more Python statements that are separated by newlines and are at the same level of indentation. The Python interpreter uses this level to delimit them. No other delimiters, such as braces or brackets, are necessary. "
   ]
  },
  {
   "cell_type": "markdown",
   "metadata": {},
   "source": [
    "Note that the `else` part of the `while` loop is optional and not often used. That’s because as long as there’s no `break` in the body, this loop \n",
    "\n",
    "```python\n",
    "while condition:\n",
    "    body\n",
    "else:\n",
    "    post-code\n",
    "```\n",
    "\n",
    "and this loop\n",
    "\n",
    "```python\n",
    "while condition:\n",
    "    body\n",
    "post-code\n",
    "```\n",
    "\n",
    "do the same things—and the second is simpler to understand. I probably wouldn’t mention the else clause except that if you don’t know about it, you may find it confusing if you run across this syntax in another person’s code. Also, it’s useful in some situations. \n"
   ]
  },
  {
   "cell_type": "markdown",
   "metadata": {},
   "source": [
    "The two special statements `break` and `continue` can be used in the body of a `while` loop. If `break` is executed, it immediately **terminates** the `while` loop, and not even the post-code (if there is an `else` clause) is executed. If `continue` is executed, it causes the remainder of the body to be skipped over; the condition is evaluated again, and the loop proceeds as normal. "
   ]
  },
  {
   "cell_type": "markdown",
   "metadata": {},
   "source": [
    "The if-elif-else statement"
   ]
  },
  {
   "cell_type": "markdown",
   "metadata": {},
   "source": [
    "The most general form of the if-then-else construct in Python is\n",
    "\n",
    "```python\n",
    "if condition1:\n",
    "    body1\n",
    "elif condition2:\n",
    "    body2\n",
    "elif condition3:\n",
    "    body3\n",
    ".\n",
    ".\n",
    ".\n",
    "elif condition(n-1):\n",
    "    body(n-1)\n",
    "\n",
    "\n",
    "\n",
    "else:\n",
    "    body(n)\n",
    "```\n",
    "\n",
    "It says: If `condition1` is `True`, execute `body1`; otherwise, if `condition2` is `True`, execute `body2`; otherwise . . . and so on until it either finds a condition that evaluates to `True` or hits the `else` clause, in which case it executes body(n). As with the `while` loop, the body sections are again sequences of one or more Python statements that are separated by newlines and are at the same level of indentation. \n"
   ]
  },
  {
   "cell_type": "markdown",
   "metadata": {},
   "source": [
    "You don’t need all that luggage for every conditional, of course. You can leave out the `elif` parts, the `else` part, or both. If a conditional can’t find any body to execute (no conditions evaluate to True, and there’s no else part), it does nothing. "
   ]
  },
  {
   "cell_type": "markdown",
   "metadata": {},
   "source": [
    "## The for loop"
   ]
  },
  {
   "cell_type": "markdown",
   "metadata": {},
   "source": [
    "A `for` loop in Python is different from `for` loops in some other languages. The traditional pattern is to increment and test a variable on each iteration, which is what C for loops usually do. In Python, a `for` loop **iterates over the values returned by any **iterable object—that** is, any object that can yield a sequence of values. For example, a `for` loop can iterate over every element in a `list`, a `tuple`, or a `string`. But an iterable object can also be a special function called `range` or a special type of function called a `generator` or a `generator expression`, which can be quite powerful. The general form is \n",
    "\n",
    "```python\n",
    "for item in sequence:\n",
    "    body\n",
    "else:\n",
    "    post-code\n",
    "```\n",
    "\n",
    "`body` is executed once for each element of sequence. `item` is set to be the first element of sequence, and `body` is executed; then `item` is set to be the second element of sequence, and `body` is executed, and so on for each remaining element of the sequence.\n",
    "\n",
    "The `else` part is optional. Like the `else` part of a `while` loop, it’s rarely used. `break` and `continue` do the same thing in a `for` loop as in a `while` loop.\n"
   ]
  },
  {
   "cell_type": "code",
   "execution_count": 1,
   "metadata": {},
   "outputs": [
    {
     "name": "stdout",
     "output_type": "stream",
     "text": [
      "1.0\n",
      "0.5\n",
      "0.3333333333333333\n"
     ]
    }
   ],
   "source": [
    "x = [1.0, 2.0, 3.0]\n",
    "\n",
    "for n in x:\n",
    "    print(1 / n)"
   ]
  },
  {
   "cell_type": "markdown",
   "metadata": {},
   "source": [
    "### The range function"
   ]
  },
  {
   "cell_type": "markdown",
   "metadata": {},
   "source": [
    "The `range` function provides a convenient way of creating list of natural numbers. The default behavior of `range(n)`, when passing only a single argument, is to create a list of integers, starting from `0` and ending with `n-1`:"
   ]
  },
  {
   "cell_type": "code",
   "execution_count": 2,
   "metadata": {},
   "outputs": [
    {
     "name": "stdout",
     "output_type": "stream",
     "text": [
      "[0, 1, 2, 3, 4, 5, 6, 7, 8, 9]\n"
     ]
    }
   ],
   "source": [
    "x = range(10)\n",
    "\n",
    "print(list(x))  # [0, 1, 2, 3, 4, 5, 6, 7, 8, 9]"
   ]
  },
  {
   "cell_type": "markdown",
   "metadata": {},
   "source": [
    "Because `range` returns an iterable object, it can be used in combination with the `for` loop:"
   ]
  },
  {
   "cell_type": "code",
   "execution_count": 3,
   "metadata": {},
   "outputs": [
    {
     "name": "stdout",
     "output_type": "stream",
     "text": [
      "0\n",
      "1\n",
      "2\n",
      "3\n",
      "4\n",
      "5\n",
      "6\n",
      "7\n",
      "8\n",
      "9\n"
     ]
    }
   ],
   "source": [
    "for i in range(10):\n",
    "    print(i)"
   ]
  },
  {
   "cell_type": "markdown",
   "metadata": {},
   "source": [
    " The `range` function doesn’t build a Python `list` of integers; it just appears to. Instead, it creates a `range object` that produces integers on demand. This is useful when you’re using explicit loops to iterate over **really large lists**. Instead of building a list with 10 million elements in it, for example, which would take up quite a bit of memory, you can use `range(10000000)`, which takes up only a small amount of memory and generates a sequence of integers from 0 up to (but not including) 10000000 as needed by the for loop. "
   ]
  },
  {
   "cell_type": "code",
   "execution_count": 4,
   "metadata": {},
   "outputs": [
    {
     "name": "stdout",
     "output_type": "stream",
     "text": [
      "8056\n",
      "48\n"
     ]
    }
   ],
   "source": [
    "import sys\n",
    "\n",
    "x = list(range(1000))\n",
    "y = range(1000)\n",
    "\n",
    "print(sys.getsizeof(x))  # 9112\n",
    "\n",
    "print(sys.getsizeof(y))  # 48"
   ]
  },
  {
   "cell_type": "markdown",
   "metadata": {},
   "source": [
    "You can use two variants on the `range` function to gain more control over the sequence it produces. If you use `range` with two numeric arguments, the first argument is the **starting number** for the resulting sequence, and the second number is the number the resulting sequence **goes up to** (but doesn’t include). Here are a few examples: "
   ]
  },
  {
   "cell_type": "code",
   "execution_count": 5,
   "metadata": {},
   "outputs": [
    {
     "name": "stdout",
     "output_type": "stream",
     "text": [
      "[3, 4, 5, 6]\n",
      "[2, 3, 4, 5, 6, 7, 8, 9]\n",
      "[]\n"
     ]
    }
   ],
   "source": [
    "print(list(range(3, 7)))  # [3, 4, 5, 6]\n",
    "\n",
    "print(list(range(2, 10)))  # [2, 3, 4, 5, 6, 7, 8, 9]\n",
    "\n",
    "print(list(range(5, 3)))  # []"
   ]
  },
  {
   "cell_type": "markdown",
   "metadata": {},
   "source": [
    "`list()` is used only to force the items range would generate to appear as a list. It’s not normally used in actual code."
   ]
  },
  {
   "cell_type": "markdown",
   "metadata": {},
   "source": [
    "This still doesn’t allow you to count backward, which is why the value of list(range(5, 3)) is an empty list. To count backward, or to count by any amount other than 1, you need to use the optional `third` argument to range, which gives a `step` value by which counting proceeds: "
   ]
  },
  {
   "cell_type": "code",
   "execution_count": 6,
   "metadata": {},
   "outputs": [
    {
     "name": "stdout",
     "output_type": "stream",
     "text": [
      "[0, 2, 4, 6, 8]\n",
      "[5, 4, 3, 2, 1]\n"
     ]
    }
   ],
   "source": [
    "print(list(range(0, 10, 2)))  # [0, 2, 4, 6, 8]\n",
    "\n",
    "print(list(range(5, 0, -1)))  # [5, 4, 3, 2, 1]"
   ]
  },
  {
   "cell_type": "markdown",
   "metadata": {},
   "source": [
    "### The for loop and tuple unpacking "
   ]
  },
  {
   "cell_type": "markdown",
   "metadata": {},
   "source": [
    "You can use **tuple unpacking** to make some `for` loops cleaner. The following code takes a list of two-element tuples and calculates the value of the sum of the products of the two numbers in each tuple (a moderately common mathematical operation in some fields): "
   ]
  },
  {
   "cell_type": "code",
   "execution_count": 7,
   "metadata": {},
   "outputs": [
    {
     "name": "stdout",
     "output_type": "stream",
     "text": [
      "68\n"
     ]
    }
   ],
   "source": [
    "somelist = [(1, 2), (3, 7), (9, 5)]\n",
    "\n",
    "result = 0\n",
    "for t in somelist:\n",
    "    result += t[0] * t[1]\n",
    "\n",
    "print(result)  # 68"
   ]
  },
  {
   "cell_type": "markdown",
   "metadata": {},
   "source": [
    "Here’s the same thing, but cleaner:"
   ]
  },
  {
   "cell_type": "code",
   "execution_count": 8,
   "metadata": {},
   "outputs": [
    {
     "name": "stdout",
     "output_type": "stream",
     "text": [
      "68\n"
     ]
    }
   ],
   "source": [
    "somelist = [(1, 2), (3, 7), (9, 5)]\n",
    "\n",
    "result = 0\n",
    "for x, y in somelist:\n",
    "    result += x * y\n",
    "\n",
    "print(result)  # 68"
   ]
  },
  {
   "cell_type": "markdown",
   "metadata": {},
   "source": [
    "This is much clearer in communicating to the reader of the code, that `somelist` actually contains pairs of numbers."
   ]
  },
  {
   "cell_type": "markdown",
   "metadata": {},
   "source": [
    "## The enumerate function"
   ]
  },
  {
   "cell_type": "markdown",
   "metadata": {},
   "source": [
    "You can combine tuple unpacking with the `enumerate` function to loop over both the **items and their index**. This is similar to using range but has the advantage that the code is clearer and easier to understand. Like the previous example, the following code prints out all the positions in a list where it finds negative numbers: "
   ]
  },
  {
   "cell_type": "code",
   "execution_count": 9,
   "metadata": {},
   "outputs": [
    {
     "name": "stdout",
     "output_type": "stream",
     "text": [
      "Found a negative number at index  2\n",
      "Found a negative number at index  5\n"
     ]
    }
   ],
   "source": [
    "x = [1, 3, -7, 4, 9, -5, 4]\n",
    "\n",
    "for i, n in enumerate(x):                                \n",
    "    if n < 0:                                            \n",
    "        print(\"Found a negative number at index \", i)    "
   ]
  },
  {
   "cell_type": "markdown",
   "metadata": {},
   "source": [
    "The enumerate function returns tuples of (index, item), which, thanks to tuple unpacking, can be used directly as variables within the body of the `for` loop."
   ]
  },
  {
   "cell_type": "markdown",
   "metadata": {},
   "source": [
    "## The zip function"
   ]
  },
  {
   "cell_type": "markdown",
   "metadata": {},
   "source": [
    "Sometimes, it’s useful to combine **two or more iterables** before looping over them. The `zip` function takes the corresponding elements from one or more iterables and **combines them into tuples** until it reaches the end of the shortest iterable: "
   ]
  },
  {
   "cell_type": "code",
   "execution_count": 10,
   "metadata": {},
   "outputs": [
    {
     "name": "stdout",
     "output_type": "stream",
     "text": [
      "[(1, 'a'), (2, 'b'), (3, 'c')]\n"
     ]
    }
   ],
   "source": [
    "x = [1, 2, 3, 4]\n",
    "y = ['a', 'b', 'c']\n",
    "\n",
    "print(list(zip(x, y))) # [(1, 'a'), (2, 'b'), (3, 'c')]"
   ]
  },
  {
   "cell_type": "markdown",
   "metadata": {},
   "source": [
    "Again, we have to use `list` here to transform the generator that is returned by the `zip` function into an actual list that can be printed out. Thus, you can use `zip` with very long lists and don't have to worry about memory."
   ]
  },
  {
   "cell_type": "markdown",
   "metadata": {},
   "source": [
    "> TRY THIS\n",
    "\n",
    "\n",
    "Suppose that you have a list `x = [1, 3, 5, 0, -1, 3, -2]`, and you need to remove all negative numbers from that list. Write the code to do this.\n",
    "\n",
    "How would you count the total number of negative numbers in a list `y = [[1, -1, 0], [2, 5, -9], [-2, -3, 0]]`?\n",
    "\n",
    "What code would you use to print \"very low\" if the value of `x` is below `-5`, \"low\" if it’s from `-5` up to `0`, \"neutral\" if it’s equal to `0`, \"high\" if it’s greater than `0` up to `5`, and \"very high\" if it’s greater than `5`?\n"
   ]
  },
  {
   "cell_type": "markdown",
   "metadata": {},
   "source": [
    "##  List and dictionary comprehensions"
   ]
  },
  {
   "cell_type": "markdown",
   "metadata": {},
   "source": [
    "The pattern of using a `for` loop to iterate through a list, modify or select individual elements, and create a new list or dictionary is very common. Such loops often look a lot like the following: "
   ]
  },
  {
   "cell_type": "code",
   "execution_count": 11,
   "metadata": {},
   "outputs": [
    {
     "name": "stdout",
     "output_type": "stream",
     "text": [
      "[1, 4, 9, 16]\n"
     ]
    }
   ],
   "source": [
    "x = [1, 2, 3, 4]\n",
    "x_squared = []\n",
    "\n",
    "for item in x:\n",
    "    x_squared.append(item * item)\n",
    "\n",
    "print(x_squared)  # [1, 4, 9, 16]"
   ]
  },
  {
   "cell_type": "markdown",
   "metadata": {},
   "source": [
    "This sort of situation is so common that Python has a special **shortcut** for such operations, called a `comprehension`. You can think of a **list or dictionary comprehension** as a **one-line for loop** that **creates a new list** or dictionary from a sequence. The pattern of a list comprehension is as follows: \n",
    "\n",
    "```python\n",
    "new_list = [expression1 for variable in old_list if expression2]\n",
    "```\n",
    "\n",
    "and a dictionary comprehension looks like this:\n",
    "\n",
    "```python\n",
    "new_dict = {expression1:expression2 for variable in list if expression3}\n",
    "```\n"
   ]
  },
  {
   "cell_type": "markdown",
   "metadata": {},
   "source": [
    "In both cases, the heart of the expression is similar to the beginning of a `for` loop—for variable in list—with some expression using that variable to create a new key or value and an optional conditional expression using the value of the variable to select whether it’s included in the new list or dictionary. The following code does exactly the same thing as the previous code but is a list comprehension: "
   ]
  },
  {
   "cell_type": "code",
   "execution_count": 12,
   "metadata": {},
   "outputs": [
    {
     "name": "stdout",
     "output_type": "stream",
     "text": [
      "[1, 4, 9, 16]\n"
     ]
    }
   ],
   "source": [
    "x = [1, 2, 3, 4]\n",
    "x_squared = [item * item for item in x]\n",
    "\n",
    "print(x_squared)  # [1, 4, 9, 16]"
   ]
  },
  {
   "cell_type": "markdown",
   "metadata": {},
   "source": [
    "Using the `range` function, we can further condense this code:"
   ]
  },
  {
   "cell_type": "code",
   "execution_count": 13,
   "metadata": {},
   "outputs": [
    {
     "name": "stdout",
     "output_type": "stream",
     "text": [
      "[1, 4, 9, 16]\n"
     ]
    }
   ],
   "source": [
    "x_squared = [item * item for item in range(1,5)]\n",
    "\n",
    "print(x_squared)  # [1, 4, 9, 16]"
   ]
  },
  {
   "cell_type": "markdown",
   "metadata": {},
   "source": [
    "You can even use `if` statements to select items from the list: "
   ]
  },
  {
   "cell_type": "code",
   "execution_count": 14,
   "metadata": {},
   "outputs": [
    {
     "name": "stdout",
     "output_type": "stream",
     "text": [
      "[9, 16]\n"
     ]
    }
   ],
   "source": [
    "x = [1, 2, 3, 4]\n",
    "x_squared = [item * item for item in x if item > 2]\n",
    "\n",
    "print(x_squared)  # [9, 16]"
   ]
  },
  {
   "cell_type": "markdown",
   "metadata": {},
   "source": [
    "Dictionary comprehensions are similar, but you need to supply both a `key` and a `value`. If you want to do something similar to the previous example but have the number be the key and the number’s square be the value in a dictionary, you can use a dictionary comprehension, like so: "
   ]
  },
  {
   "cell_type": "code",
   "execution_count": 15,
   "metadata": {},
   "outputs": [
    {
     "name": "stdout",
     "output_type": "stream",
     "text": [
      "{1: 1, 2: 4, 3: 9, 4: 16}\n"
     ]
    }
   ],
   "source": [
    "x = [1, 2, 3, 4]\n",
    "x_squared_dict = {item: item * item for item in x}\n",
    "\n",
    "print(x_squared_dict)  # {1: 1, 2: 4, 3: 9, 4: 16}"
   ]
  },
  {
   "cell_type": "markdown",
   "metadata": {},
   "source": [
    "List and dictionary comprehensions are very flexible and powerful, and when you get used to them, they make list-processing operations much simpler. I recommend that you experiment with them and try them any time you find yourself writing a for loop to process a list of items. "
   ]
  },
  {
   "cell_type": "markdown",
   "metadata": {},
   "source": [
    "### Generator expressions"
   ]
  },
  {
   "cell_type": "markdown",
   "metadata": {},
   "source": [
    "Generator expressions are similar to list comprehensions. A generator expression looks a lot like a list comprehension, except that in place of **square brackets**, it uses **parentheses**. The following example is the generator-expression version of the list comprehension already discussed: "
   ]
  },
  {
   "cell_type": "code",
   "execution_count": 16,
   "metadata": {},
   "outputs": [
    {
     "name": "stdout",
     "output_type": "stream",
     "text": [
      "<generator object <genexpr> at 0x7ff534522040>\n",
      "1\n",
      "4\n",
      "9\n",
      "16\n"
     ]
    }
   ],
   "source": [
    "x = [1, 2, 3, 4]\n",
    "x_squared = (item * item for item in x)\n",
    "\n",
    "print(x_squared)  # <generator object <genexpr> at ...>\n",
    "\n",
    "for square in x_squared:\n",
    "    print(square)"
   ]
  },
  {
   "cell_type": "markdown",
   "metadata": {},
   "source": [
    "Other than the change from square brackets, notice that this expression **doesn’t return a list**. Instead, it returns a `generator object` that could be used as the **iterator** in a for loop, as shown, which is very similar to what the `range()`, `enumerate()` and `zip()` functions do. The advantage of using a generator expression is that the entire list isn’t generated in memory, so arbitrarily large sequences can be generated with little memory overhead"
   ]
  },
  {
   "cell_type": "markdown",
   "metadata": {},
   "source": [
    "## Boolean values and expressions"
   ]
  },
  {
   "cell_type": "markdown",
   "metadata": {},
   "source": [
    "The previous examples of control flow use conditional tests in a fairly obvious manner but never really explain what constitutes true or false in Python or what expressions can be used where a conditional test is needed. This section describes these aspects of Python.\n",
    "\n",
    "Python has a `Boolean` object type that can be set to either `True` or `False`. Any expression with a `Boolean` operation returns `True` or `False`.\n",
    "\n",
    "\n",
    "### Most Python objects can be used as Booleans\n",
    "\n",
    "In addition, Python is similar to C with respect to Boolean values, in that C uses the integer 0 to mean false and any other integer to mean true. Python generalizes this idea: `0` or `empty` values are `False`, and any other values are `True`. In practical terms, this means the following:\n",
    "\n",
    "- The numbers `0`, `0.0`, and `0+0j` are all `False`; any other number is `True`.\n",
    "- The empty string `\"\"` is `False`; any other string is `True`.\n",
    "- The empty list `[]` is `False`; any other list is `True`.\n",
    "- The empty dictionary `{}` is `False`; any other dictionary is `True`.\n",
    "- The empty set `set()` is `False`; any other set is `True`.\n",
    "- The special Python value `None` is always `False`.\n",
    "\n",
    "We haven’t looked at some Python data structures yet, but generally, the same rule applies. If the data structure is `empty` or `0`, it’s taken to mean `False` in a Boolean context; otherwise, it’s taken to mean `True`. Some objects, such as file objects and code objects, don’t have a sensible definition of a `0` or `empty` element, and these objects shouldn’t be used in a Boolean context.\n"
   ]
  },
  {
   "cell_type": "markdown",
   "metadata": {},
   "source": [
    "### Comparison and Boolean operators\n",
    "\n",
    "You can compare objects by using normal operators: `<`, `<=`, `>`, `>=`, and so forth. `==` is the equality test operator, and `!=` is the “not equal to” test. There are also `in` and `not in` operators to test membership in sequences (lists, tuples, strings, and dictionaries), as well as `is` and `is not` operators to test whether two objects are the same.\n",
    "\n",
    "Expressions that return a Boolean value may be combined into more complex expressions using the `and`, `or`, and `not` operators. This code snippet checks to see whether a variable is within a certain range:\n",
    "\n",
    "```python\n",
    "if 0 < x and x < 10:\n",
    "    ...\n",
    "```\n",
    "\n",
    "Python offers a nice shorthand for this particular type of compound statement. You can write it as you would in a math paper:\n",
    "\n",
    "```python\n",
    "if 0 < x < 10:\n",
    "    ...\n",
    "```\n"
   ]
  },
  {
   "cell_type": "markdown",
   "metadata": {},
   "source": [
    "The `and` and `or` operators return objects. The `and` operator returns either the **first false** object (that an expression evaluates to) or the **last object**. Similarly, the `or` operator returns either the **first true** object or the **last object**. \n",
    "\n",
    "This may seem a little confusing, but it works correctly; if an expression with `and` has even one false element, that element makes the entire expression evaluate as `False`, and that False value is returned. If all of the elements are `True`, the expression is `True`, and the last value, which must also be `True`, is returned. \n",
    "The converse is true for `or`; only one `True` element makes the statement logically `True`, and the first `True` value found is returned. If no `True` values are found, the last (`False`) value is returned. In other words, as with many other languages, evaluation stops as soon as a true expression is found for the or operator or as soon as a false expression is found for the and operator: "
   ]
  },
  {
   "cell_type": "code",
   "execution_count": 17,
   "metadata": {},
   "outputs": [
    {
     "name": "stdout",
     "output_type": "stream",
     "text": [
      "[3, 4]\n",
      "[]\n",
      "[2]\n",
      "5\n"
     ]
    }
   ],
   "source": [
    "print([2] and [3, 4])  # [3, 4]\n",
    "\n",
    "print([] and 5)  # []\n",
    "\n",
    "print([2] or [3, 4])  # [2]\n",
    "\n",
    "print([] or 5)  # 5"
   ]
  },
  {
   "cell_type": "markdown",
   "metadata": {},
   "source": [
    "The `==` and `!=` operators test to see whether their operands contains the same values. `==` and `!=` are used in most situations, as opposed to `is` and `is not` operators, which test to see whether their operands are the same object: "
   ]
  },
  {
   "cell_type": "code",
   "execution_count": 18,
   "metadata": {},
   "outputs": [
    {
     "name": "stdout",
     "output_type": "stream",
     "text": [
      "True\n",
      "False\n",
      "True\n"
     ]
    }
   ],
   "source": [
    "x = [0]\n",
    "y = [x, 1]\n",
    "print(x is y[0])  # True\n",
    "\n",
    "x = [0]\n",
    "\n",
    "print(x is y[0])  # False\n",
    "\n",
    "print(x == y[0])  # True"
   ]
  },
  {
   "cell_type": "markdown",
   "metadata": {},
   "source": [
    "# Exercises"
   ]
  },
  {
   "cell_type": "markdown",
   "metadata": {},
   "source": [
    "#### 1. Write a Python program to find those numbers which are divisible by 7 and multiple of 5, between 1500 and 2700 (both included)."
   ]
  },
  {
   "cell_type": "code",
   "execution_count": null,
   "metadata": {},
   "outputs": [],
   "source": []
  },
  {
   "cell_type": "markdown",
   "metadata": {},
   "source": [
    "#### 2. Write a Python program to construct the following pattern (without empty lines), using a nested for loop.\n",
    "\n",
    "\\* \n",
    "\n",
    "\\* \\* \n",
    "\n",
    "\\* * * \n",
    "\n",
    "\\* * * * \n",
    "\n",
    "\\* * * * * \n",
    "\n",
    "\\* * * * \n",
    "\n",
    "\\* * * \n",
    "\n",
    "\\* * \n",
    "\n",
    "\\*"
   ]
  },
  {
   "cell_type": "code",
   "execution_count": null,
   "metadata": {},
   "outputs": [],
   "source": []
  },
  {
   "cell_type": "markdown",
   "metadata": {},
   "source": [
    "#### 3. Write a Python program that prints all the numbers from 0 to 6 except 3 and 6. (Use continue)"
   ]
  },
  {
   "cell_type": "code",
   "execution_count": null,
   "metadata": {},
   "outputs": [],
   "source": []
  },
  {
   "cell_type": "markdown",
   "metadata": {},
   "source": [
    "#### 4. Write a Python program which iterates the integers from 1 to 50. For multiples of three print \"Fizz\" instead of the number and for the multiples of five print \"Buzz\". For numbers which are multiples of both three and five print \"FizzBuzz\"."
   ]
  },
  {
   "cell_type": "code",
   "execution_count": null,
   "metadata": {},
   "outputs": [],
   "source": []
  },
  {
   "cell_type": "markdown",
   "metadata": {},
   "source": [
    "#### 5. Write a Python program to check whether an alphabet is a vowel or consonant."
   ]
  },
  {
   "cell_type": "code",
   "execution_count": null,
   "metadata": {},
   "outputs": [],
   "source": []
  },
  {
   "cell_type": "markdown",
   "metadata": {},
   "source": [
    "#### 6. Write a Python program to create the multiplication table (from 1 to 10) of a number. \n",
    "\n",
    "\n",
    "Expected Output:\n",
    "\n",
    "Input a number: 6                                                       \n",
    "6 x 1 = 6                                                               \n",
    "6 x 2 = 12                                                              \n",
    "6 x 3 = 18                                                              \n",
    "6 x 4 = 24                                                              \n",
    "6 x 5 = 30                                                              \n",
    "6 x 6 = 36                                                              \n",
    "6 x 7 = 42                                                              \n",
    "6 x 8 = 48                                                              \n",
    "6 x 9 = 54                                                              \n",
    "6 x 10 = 60 \n"
   ]
  },
  {
   "cell_type": "code",
   "execution_count": null,
   "metadata": {},
   "outputs": [],
   "source": []
  }
 ],
 "metadata": {
  "file_extension": ".py",
  "kernelspec": {
   "display_name": "python_beginners",
   "language": "python",
   "name": "python_beginners"
  },
  "language_info": {
   "codemirror_mode": {
    "name": "ipython",
    "version": 3
   },
   "file_extension": ".py",
   "mimetype": "text/x-python",
   "name": "python",
   "nbconvert_exporter": "python",
   "pygments_lexer": "ipython3",
   "version": "3.9.4"
  },
  "mimetype": "text/x-python",
  "name": "python",
  "npconvert_exporter": "python",
  "pygments_lexer": "ipython3",
  "version": 3
 },
 "nbformat": 4,
 "nbformat_minor": 2
}
