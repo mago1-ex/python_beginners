{
 "cells": [
  {
   "cell_type": "markdown",
   "metadata": {},
   "source": [
    "# A brief introduction to Python with excersises"
   ]
  },
  {
   "cell_type": "markdown",
   "metadata": {},
   "source": [
    "# Hello World"
   ]
  },
  {
   "cell_type": "code",
   "execution_count": 1,
   "metadata": {},
   "outputs": [
    {
     "name": "stdout",
     "output_type": "stream",
     "text": [
      "Hello World\n"
     ]
    }
   ],
   "source": [
    "print(\"Hello World\")"
   ]
  },
  {
   "cell_type": "code",
   "execution_count": 2,
   "metadata": {},
   "outputs": [
    {
     "name": "stdout",
     "output_type": "stream",
     "text": [
      "Hello World\n"
     ]
    }
   ],
   "source": [
    "# This is a comment\n",
    "print(\"Hello World\")"
   ]
  },
  {
   "cell_type": "markdown",
   "metadata": {},
   "source": [
    "### The help function gives useful support for all python functions"
   ]
  },
  {
   "cell_type": "code",
   "execution_count": 3,
   "metadata": {},
   "outputs": [
    {
     "name": "stdout",
     "output_type": "stream",
     "text": [
      "Help on built-in function print in module builtins:\n",
      "\n",
      "print(...)\n",
      "    print(value, ..., sep=' ', end='\\n', file=sys.stdout, flush=False)\n",
      "    \n",
      "    Prints the values to a stream, or to sys.stdout by default.\n",
      "    Optional keyword arguments:\n",
      "    file:  a file-like object (stream); defaults to the current sys.stdout.\n",
      "    sep:   string inserted between values, default a space.\n",
      "    end:   string appended after the last value, default a newline.\n",
      "    flush: whether to forcibly flush the stream.\n",
      "\n"
     ]
    }
   ],
   "source": [
    "help(print)"
   ]
  },
  {
   "cell_type": "markdown",
   "metadata": {},
   "source": [
    "### Other help ways to get help\n",
    "- Shift+Tab"
   ]
  },
  {
   "cell_type": "markdown",
   "metadata": {},
   "source": [
    "## Numbers  \n",
    "\n",
    "Python’s four number types are integers, floats, complex numbers, and Booleans:\n",
    "\n",
    "- Integers—1, –3, 42, 355, 888888888888888, –7777777777 (integers aren’t limited in size except by available memory)\n",
    "- Floats—3.0, 31e12, –6e-4\n",
    "- Complex numbers—3 + 2j, –4- 2j, 4.2 + 6.3j\n",
    "- Booleans—True, False\n",
    "\n",
    "You can manipulate them by using the arithmetic operators: `+` (addition), `–` (subtraction), `*` (multiplication), `/` (division), `**` (exponentiation), and `%` (modulus). "
   ]
  },
  {
   "cell_type": "code",
   "execution_count": 4,
   "metadata": {},
   "outputs": [
    {
     "name": "stdout",
     "output_type": "stream",
     "text": [
      "1\n",
      "2.5\n",
      "2\n",
      "1\n",
      "256\n",
      "1000000003000000003000000001\n"
     ]
    }
   ],
   "source": [
    "x = 5 + 2 - 3 * 2\n",
    "print(x)  # 1\n",
    "print(5 / 2)  # 2.5                                \n",
    "print(5 // 2) # 2                   \n",
    "print(5 % 2)  # 1\n",
    "print(2 ** 8)  # 256\n",
    "print(1000000001**3)  # 1000000003000000003000000001   "
   ]
  },
  {
   "cell_type": "code",
   "execution_count": 5,
   "metadata": {},
   "outputs": [
    {
     "name": "stdout",
     "output_type": "stream",
     "text": [
      "33.13784737771648\n",
      "9.695e+75\n",
      "1.000000003e+27\n"
     ]
    }
   ],
   "source": [
    "print(4.3 ** 2.4)  # 33.13784737771648\n",
    "print(3.5e30 * 2.77e45)  # 9.695e+75\n",
    "print(1000000001.0 ** 3) # 1.000000003e+27"
   ]
  },
  {
   "cell_type": "markdown",
   "metadata": {},
   "source": [
    "#### Type conversion"
   ]
  },
  {
   "cell_type": "code",
   "execution_count": 6,
   "metadata": {},
   "outputs": [
    {
     "name": "stdout",
     "output_type": "stream",
     "text": [
      "1\n",
      "2.5\n",
      "2.5\n",
      "2\n",
      "30000000000\n",
      "90000000000\n",
      "90000000000.0\n",
      "2e-08\n",
      "9000000000000\n",
      "200\n",
      "200\n",
      "200.0\n",
      "5\n"
     ]
    }
   ],
   "source": [
    "print(5 + 2 - 3 * 2) # 1\n",
    "print(5 / 2) # floating-point result with normal division -> 2.5\n",
    "print(5 / 2.0) # also a floating-point result -> 2.5\n",
    "print(5 // 2) # integer result with truncation when divided using '//' -> 2\n",
    "print(30000000000)    # This would be too large to be an int in many languages -> 30000000000\n",
    "print(30000000000 * 3) # 90000000000\n",
    "print(30000000000 * 3.0) # 90000000000.0\n",
    "print(2.0e-8)  # Scientific notation gives back a float -> 2e-08\n",
    "print(3000000 * 3000000) # 9000000000000\n",
    "print(int(200.2)) # 200\n",
    "print(int(2e2)) # 200\n",
    "print(float(200)) # 200.0\n",
    "print(int(\"5\"))"
   ]
  },
  {
   "cell_type": "markdown",
   "metadata": {},
   "source": [
    "### Python as a calculator"
   ]
  },
  {
   "cell_type": "code",
   "execution_count": 7,
   "metadata": {},
   "outputs": [
    {
     "name": "stdout",
     "output_type": "stream",
     "text": [
      "4\n"
     ]
    }
   ],
   "source": [
    "print(2+2)"
   ]
  },
  {
   "cell_type": "markdown",
   "metadata": {},
   "source": [
    "In a Jupyter Notebook the last expression is automatically printed, without explicitly writing `print`"
   ]
  },
  {
   "cell_type": "code",
   "execution_count": 8,
   "metadata": {},
   "outputs": [
    {
     "data": {
      "text/plain": [
       "4"
      ]
     },
     "execution_count": 8,
     "metadata": {},
     "output_type": "execute_result"
    }
   ],
   "source": [
    "2+2"
   ]
  },
  {
   "cell_type": "code",
   "execution_count": 9,
   "metadata": {},
   "outputs": [
    {
     "data": {
      "text/plain": [
       "8"
      ]
     },
     "execution_count": 9,
     "metadata": {},
     "output_type": "execute_result"
    }
   ],
   "source": [
    "4+5\n",
    "1+7"
   ]
  },
  {
   "cell_type": "code",
   "execution_count": 10,
   "metadata": {},
   "outputs": [
    {
     "name": "stdout",
     "output_type": "stream",
     "text": [
      "5.5\n"
     ]
    }
   ],
   "source": [
    "# True division\n",
    "print(11 / 2)"
   ]
  },
  {
   "cell_type": "code",
   "execution_count": 11,
   "metadata": {},
   "outputs": [
    {
     "name": "stdout",
     "output_type": "stream",
     "text": [
      "5\n"
     ]
    }
   ],
   "source": [
    "# Floor division\n",
    "print(11 // 2)"
   ]
  },
  {
   "cell_type": "markdown",
   "metadata": {},
   "source": [
    "## Parentheses Are for Grouping or Calling\n",
    "\n",
    "In the previous code snippet, we see two uses of parentheses.\n",
    "First, they can be used in the typical way to *group statements or mathematical operations*:"
   ]
  },
  {
   "cell_type": "code",
   "execution_count": 12,
   "metadata": {},
   "outputs": [
    {
     "data": {
      "text/plain": [
       "42.0"
      ]
     },
     "execution_count": 12,
     "metadata": {},
     "output_type": "execute_result"
    }
   ],
   "source": [
    "# addition, subtraction, multiplication\n",
    "(4 + 8) * (6.5 - 3)"
   ]
  },
  {
   "cell_type": "markdown",
   "metadata": {},
   "source": [
    "They can also be used to indicate that a *function* is being called.\n",
    "The function call is indicated by a pair of opening and closing parentheses, with the *arguments* to the function contained within:"
   ]
  },
  {
   "cell_type": "code",
   "execution_count": 13,
   "metadata": {},
   "outputs": [
    {
     "name": "stdout",
     "output_type": "stream",
     "text": [
      "first value: 1\n"
     ]
    }
   ],
   "source": [
    "print('first value:', 1)"
   ]
  },
  {
   "cell_type": "markdown",
   "metadata": {},
   "source": [
    "# Variables\n",
    "In variable numbers, characters and more can be stored. Variable names have some conventions:\n",
    "* No spaces\n",
    "* No dots\n",
    "* Cannot start with a number"
   ]
  },
  {
   "cell_type": "code",
   "execution_count": 14,
   "metadata": {},
   "outputs": [
    {
     "name": "stdout",
     "output_type": "stream",
     "text": [
      "10\n"
     ]
    }
   ],
   "source": [
    "alpha = 10\n",
    "beta = alpha\n",
    "print(beta)"
   ]
  },
  {
   "cell_type": "code",
   "execution_count": 15,
   "metadata": {},
   "outputs": [
    {
     "data": {
      "text/plain": [
       "8"
      ]
     },
     "execution_count": 15,
     "metadata": {},
     "output_type": "execute_result"
    }
   ],
   "source": [
    "a = 3\n",
    "a + 5"
   ]
  },
  {
   "cell_type": "markdown",
   "metadata": {},
   "source": [
    "The current value of a variable can also be changed"
   ]
  },
  {
   "cell_type": "code",
   "execution_count": 16,
   "metadata": {},
   "outputs": [],
   "source": [
    "a = 3"
   ]
  },
  {
   "cell_type": "code",
   "execution_count": 17,
   "metadata": {},
   "outputs": [
    {
     "data": {
      "text/plain": [
       "8"
      ]
     },
     "execution_count": 17,
     "metadata": {},
     "output_type": "execute_result"
    }
   ],
   "source": [
    "a = a + 5\n",
    "a"
   ]
  },
  {
   "cell_type": "code",
   "execution_count": 18,
   "metadata": {},
   "outputs": [
    {
     "data": {
      "text/plain": [
       "2"
      ]
     },
     "execution_count": 18,
     "metadata": {},
     "output_type": "execute_result"
    }
   ],
   "source": [
    "b = 10\n",
    "b - a"
   ]
  },
  {
   "cell_type": "markdown",
   "metadata": {},
   "source": [
    "The number previously used numbers are of the type `integer` dot seperated numbers are of type `float`"
   ]
  },
  {
   "cell_type": "code",
   "execution_count": 19,
   "metadata": {},
   "outputs": [
    {
     "data": {
      "text/plain": [
       "-2.0"
      ]
     },
     "execution_count": 19,
     "metadata": {},
     "output_type": "execute_result"
    }
   ],
   "source": [
    "a = 12.0\n",
    "b = 10.\n",
    "c = b - a\n",
    "c"
   ]
  },
  {
   "cell_type": "markdown",
   "metadata": {},
   "source": [
    "The type of a variable can also be changed"
   ]
  },
  {
   "cell_type": "code",
   "execution_count": 20,
   "metadata": {},
   "outputs": [
    {
     "data": {
      "text/plain": [
       "-2"
      ]
     },
     "execution_count": 20,
     "metadata": {},
     "output_type": "execute_result"
    }
   ],
   "source": [
    "int(c)"
   ]
  },
  {
   "cell_type": "code",
   "execution_count": 21,
   "metadata": {},
   "outputs": [
    {
     "data": {
      "text/plain": [
       "-2.0"
      ]
     },
     "execution_count": 21,
     "metadata": {},
     "output_type": "execute_result"
    }
   ],
   "source": [
    "float(c)"
   ]
  },
  {
   "cell_type": "code",
   "execution_count": 22,
   "metadata": {},
   "outputs": [
    {
     "data": {
      "text/plain": [
       "'-2.0'"
      ]
     },
     "execution_count": 22,
     "metadata": {},
     "output_type": "execute_result"
    }
   ],
   "source": [
    "str(c)"
   ]
  },
  {
   "cell_type": "markdown",
   "metadata": {},
   "source": [
    "## Strings"
   ]
  },
  {
   "cell_type": "markdown",
   "metadata": {},
   "source": [
    "In this example, the variable was changed from a numerical type to `string`"
   ]
  },
  {
   "cell_type": "markdown",
   "metadata": {},
   "source": [
    "Addition, namely using `+`, has a different meaning for variables of type `string` than for the numerical types. `strings` added together. "
   ]
  },
  {
   "cell_type": "code",
   "execution_count": 23,
   "metadata": {},
   "outputs": [
    {
     "data": {
      "text/plain": [
       "'HelloWorld'"
      ]
     },
     "execution_count": 23,
     "metadata": {},
     "output_type": "execute_result"
    }
   ],
   "source": [
    "a = \"Hello\"\n",
    "b = \"World\"\n",
    "a + b"
   ]
  },
  {
   "cell_type": "markdown",
   "metadata": {},
   "source": [
    "Using `-` causes a error for `string`"
   ]
  },
  {
   "cell_type": "code",
   "execution_count": 24,
   "metadata": {},
   "outputs": [],
   "source": [
    "#a - b"
   ]
  },
  {
   "cell_type": "code",
   "execution_count": 25,
   "metadata": {},
   "outputs": [
    {
     "data": {
      "text/plain": [
       "'HelloHello'"
      ]
     },
     "execution_count": 25,
     "metadata": {},
     "output_type": "execute_result"
    }
   ],
   "source": [
    "a * 2 "
   ]
  },
  {
   "cell_type": "code",
   "execution_count": 26,
   "metadata": {},
   "outputs": [],
   "source": [
    "message = \"what do you like?\"\n",
    "response = 'spam'"
   ]
  },
  {
   "cell_type": "markdown",
   "metadata": {},
   "source": [
    "Python has many extremely useful string functions and methods; here are a few of them:"
   ]
  },
  {
   "cell_type": "code",
   "execution_count": 27,
   "metadata": {
    "jupyter": {
     "outputs_hidden": false
    }
   },
   "outputs": [
    {
     "data": {
      "text/plain": [
       "4"
      ]
     },
     "execution_count": 27,
     "metadata": {},
     "output_type": "execute_result"
    }
   ],
   "source": [
    "# length of string\n",
    "len(response)"
   ]
  },
  {
   "cell_type": "code",
   "execution_count": 28,
   "metadata": {
    "jupyter": {
     "outputs_hidden": false
    }
   },
   "outputs": [
    {
     "data": {
      "text/plain": [
       "'SPAM'"
      ]
     },
     "execution_count": 28,
     "metadata": {},
     "output_type": "execute_result"
    }
   ],
   "source": [
    "# Make upper-case. See also str.lower()\n",
    "response.upper()"
   ]
  },
  {
   "cell_type": "code",
   "execution_count": 29,
   "metadata": {
    "jupyter": {
     "outputs_hidden": false
    }
   },
   "outputs": [
    {
     "data": {
      "text/plain": [
       "'What do you like?'"
      ]
     },
     "execution_count": 29,
     "metadata": {},
     "output_type": "execute_result"
    }
   ],
   "source": [
    "# Capitalize. See also str.title()\n",
    "message.capitalize()"
   ]
  },
  {
   "cell_type": "code",
   "execution_count": 30,
   "metadata": {
    "jupyter": {
     "outputs_hidden": false
    }
   },
   "outputs": [
    {
     "data": {
      "text/plain": [
       "'what do you like?spam'"
      ]
     },
     "execution_count": 30,
     "metadata": {},
     "output_type": "execute_result"
    }
   ],
   "source": [
    "# concatenation with +\n",
    "message + response"
   ]
  },
  {
   "cell_type": "code",
   "execution_count": 31,
   "metadata": {
    "jupyter": {
     "outputs_hidden": false
    }
   },
   "outputs": [
    {
     "data": {
      "text/plain": [
       "'spamspamspamspamspam'"
      ]
     },
     "execution_count": 31,
     "metadata": {},
     "output_type": "execute_result"
    }
   ],
   "source": [
    "# multiplication is multiple concatenation\n",
    "5 * response"
   ]
  },
  {
   "cell_type": "markdown",
   "metadata": {},
   "source": [
    "Python's simple types are summarized in the following table:\n",
    "\n",
    "<center><bold>Python Scalar Types</bold></center>\n",
    "\n",
    "| Type        | Example        | Description                                                  |\n",
    "|-------------|----------------|--------------------------------------------------------------|\n",
    "| ``int``     | ``x = 1``      | integers (i.e., whole numbers)                               |\n",
    "| ``float``   | ``x = 1.0``    | floating-point numbers (i.e., real numbers)                  |\n",
    "| ``complex`` | ``x = 1 + 2j`` | Complex numbers (i.e., numbers with real and imaginary part) |\n",
    "| ``bool``    | ``x = True``   | Boolean: True/False values                                   |\n",
    "| ``str``     | ``x = 'abc'``  | String: characters or text                                   |\n",
    "| ``NoneType``| ``x = None``   | Special object indicating nulls                              |\n"
   ]
  },
  {
   "cell_type": "code",
   "execution_count": 32,
   "metadata": {},
   "outputs": [],
   "source": [
    "a = True"
   ]
  },
  {
   "cell_type": "markdown",
   "metadata": {},
   "source": [
    "# Comparison Operations\n"
   ]
  },
  {
   "cell_type": "markdown",
   "metadata": {},
   "source": [
    "Using two equal signs `==` has different meaning than value assignment. Here, it checks whether to values are identical. It is one of the logical operators. There result is `bool` value."
   ]
  },
  {
   "cell_type": "code",
   "execution_count": 33,
   "metadata": {},
   "outputs": [
    {
     "data": {
      "text/plain": [
       "True"
      ]
     },
     "execution_count": 33,
     "metadata": {},
     "output_type": "execute_result"
    }
   ],
   "source": [
    "a = 3\n",
    "b = 3\n",
    "\n",
    "a == b"
   ]
  },
  {
   "cell_type": "markdown",
   "metadata": {},
   "source": [
    "There are other logical operators"
   ]
  },
  {
   "cell_type": "code",
   "execution_count": 34,
   "metadata": {},
   "outputs": [
    {
     "data": {
      "text/plain": [
       "False"
      ]
     },
     "execution_count": 34,
     "metadata": {},
     "output_type": "execute_result"
    }
   ],
   "source": [
    "a < b"
   ]
  },
  {
   "cell_type": "markdown",
   "metadata": {},
   "source": [
    "Mulitple operators can be combined with `and` and `or`."
   ]
  },
  {
   "cell_type": "code",
   "execution_count": 35,
   "metadata": {},
   "outputs": [
    {
     "data": {
      "text/plain": [
       "False"
      ]
     },
     "execution_count": 35,
     "metadata": {},
     "output_type": "execute_result"
    }
   ],
   "source": [
    "a == b and a > b"
   ]
  },
  {
   "cell_type": "markdown",
   "metadata": {},
   "source": [
    "\n",
    "The comparison operations are listed in the following table:\n",
    "\n",
    "| Operation     | Description                       || Operation     | Description                          |\n",
    "|---------------|-----------------------------------||---------------|--------------------------------------|\n",
    "| ``a == b``    | ``a`` equal to ``b``              || ``a != b``    | ``a`` not equal to ``b``             |\n",
    "| ``a < b``     | ``a`` less than ``b``             || ``a > b``     | ``a`` greater than ``b``             |\n",
    "| ``a <= b``    | ``a`` less than or equal to ``b`` || ``a >= b``    | ``a`` greater than or equal to ``b`` |\n",
    "\n"
   ]
  },
  {
   "cell_type": "markdown",
   "metadata": {},
   "source": [
    "## Exercises\n",
    "1. Write a program that has the output \"Hallo World! :)\"\n",
    "2. Use Python as a calculator. How many seconds are 42 minutes and 42 seconds\n",
    "3. Use Python as a calculator. The volume of a sphere is 4/3πr^3. What is the volume of sphere with radius 5? What is the volume of a sphere with radius 8?\n",
    "4. Store 3 numbers as variables a, b, and c. Then check, if the values of a and b are identical. Check if c equals a + b.\n",
    "5. Write a program that takes to values, a and b, from user input. Multiply the values and show the result. For user input use\n",
    "   `input(\"Type a number\")`\n",
    "6. What is the type of the expression 5 + 2.0?"
   ]
  },
  {
   "cell_type": "code",
   "execution_count": 36,
   "metadata": {},
   "outputs": [
    {
     "data": {
      "text/plain": [
       "3.141592653589793"
      ]
     },
     "execution_count": 36,
     "metadata": {},
     "output_type": "execute_result"
    }
   ],
   "source": [
    "import math\n",
    "math.pi"
   ]
  },
  {
   "cell_type": "markdown",
   "metadata": {},
   "source": [
    "# Python Variables Are Pointers\n",
    "\n",
    "Assigning variables in Python is as easy as putting a variable name to the left of the equals (``=``) sign:\n",
    "\n",
    "```python\n",
    "# assign 4 to the variable x\n",
    "x = 4\n",
    "```\n",
    "\n",
    "In many programming languages, variables are best thought of as containers or buckets into which you put data.\n",
    "So in C, for example, when you write\n",
    "\n",
    "```C\n",
    "// C code\n",
    "int x = 4;\n",
    "```\n",
    "you are essentially defining a \"memory bucket\" named ``x``, and putting the value ``4`` into it.\n",
    "\n",
    "In Python, by contrast, __variables are best thought of not as containers but as pointers__.\n",
    "\n",
    "```python\n",
    "x = 4\n",
    "```\n",
    "you are essentially defining a *pointer* named ``x`` that points to some other bucket containing the value ``4``.\n",
    "\n",
    "Note one consequence of this: because Python variables just point to various objects, there is no need to \"declare\" the variable, or even require the variable to always point to information of the same type!\n",
    "This is the sense in which people say Python is *dynamically-typed*: variable names can point to objects of any type.\n",
    "So in Python, you can do things like this:"
   ]
  },
  {
   "cell_type": "code",
   "execution_count": 37,
   "metadata": {},
   "outputs": [],
   "source": [
    "x = 1         # x is an integer\n",
    "x = 'hello'   # now x is a string\n",
    "x = [1, 2, 3] # now x is a list"
   ]
  },
  {
   "cell_type": "markdown",
   "metadata": {},
   "source": [
    "There is a consequence of this \"variable as pointer\" approach that you need to be aware of.\n",
    "If we have two variable names pointing to the same *mutable* object, then changing one will change the other as well!\n",
    "For example, let's create and modify a list:"
   ]
  },
  {
   "cell_type": "code",
   "execution_count": 38,
   "metadata": {
    "jupyter": {
     "outputs_hidden": false
    }
   },
   "outputs": [],
   "source": [
    "x = [1, 2, 3]\n",
    "y = x"
   ]
  },
  {
   "cell_type": "markdown",
   "metadata": {},
   "source": [
    "We've created two variables ``x`` and ``y`` which both point to the same object.\n",
    "Because of this, if we modify the list via one of its names, we'll see that the \"other\" list will be modified as well:"
   ]
  },
  {
   "cell_type": "code",
   "execution_count": 39,
   "metadata": {
    "jupyter": {
     "outputs_hidden": false
    }
   },
   "outputs": [
    {
     "name": "stdout",
     "output_type": "stream",
     "text": [
      "[1, 2, 3]\n"
     ]
    }
   ],
   "source": [
    "print(y)"
   ]
  },
  {
   "cell_type": "code",
   "execution_count": 40,
   "metadata": {
    "jupyter": {
     "outputs_hidden": false
    }
   },
   "outputs": [
    {
     "name": "stdout",
     "output_type": "stream",
     "text": [
      "[1, 2, 3, 4]\n"
     ]
    }
   ],
   "source": [
    "x.append(4) # append 4 to the list pointed to by x\n",
    "print(y) # y's list is modified as well!"
   ]
  },
  {
   "cell_type": "markdown",
   "metadata": {},
   "source": [
    "\n",
    "\n",
    "Note also that if we use \"``=``\" to assign another value to ``x``, this will not affect the value of ``y`` – assignment is simply a change of what object the variable points to:"
   ]
  },
  {
   "cell_type": "code",
   "execution_count": 41,
   "metadata": {
    "jupyter": {
     "outputs_hidden": false
    }
   },
   "outputs": [
    {
     "name": "stdout",
     "output_type": "stream",
     "text": [
      "[1, 2, 3, 4]\n"
     ]
    }
   ],
   "source": [
    "x = 'something else'\n",
    "print(y)  # y is unchanged"
   ]
  },
  {
   "cell_type": "markdown",
   "metadata": {},
   "source": [
    "Again, this makes perfect sense if you think of ``x`` and ``y`` as pointers, and the \"``=``\" operator as an operation that changes what the name points to.\n"
   ]
  },
  {
   "cell_type": "markdown",
   "metadata": {},
   "source": [
    "# Lists \n",
    "A list is an ordered collection of objects"
   ]
  },
  {
   "cell_type": "code",
   "execution_count": 42,
   "metadata": {},
   "outputs": [
    {
     "data": {
      "text/plain": [
       "[1, 4, 2]"
      ]
     },
     "execution_count": 42,
     "metadata": {},
     "output_type": "execute_result"
    }
   ],
   "source": [
    "a_list = [1,4,2]\n",
    "a_list"
   ]
  },
  {
   "cell_type": "code",
   "execution_count": 43,
   "metadata": {},
   "outputs": [
    {
     "data": {
      "text/plain": [
       "3"
      ]
     },
     "execution_count": 43,
     "metadata": {},
     "output_type": "execute_result"
    }
   ],
   "source": [
    "# Length of a list\n",
    "len(a_list)"
   ]
  },
  {
   "cell_type": "code",
   "execution_count": 44,
   "metadata": {},
   "outputs": [
    {
     "data": {
      "text/plain": [
       "[1, 4, 8]"
      ]
     },
     "execution_count": 44,
     "metadata": {},
     "output_type": "execute_result"
    }
   ],
   "source": [
    "a = 8\n",
    "[1, 4, a]"
   ]
  },
  {
   "cell_type": "code",
   "execution_count": 45,
   "metadata": {},
   "outputs": [
    {
     "data": {
      "text/plain": [
       "[1, 3, 'Hallo']"
      ]
     },
     "execution_count": 45,
     "metadata": {},
     "output_type": "execute_result"
    }
   ],
   "source": [
    "c_list = [1, 3, \"Hallo\"]\n",
    "c_list"
   ]
  },
  {
   "cell_type": "markdown",
   "metadata": {},
   "source": [
    "With the list method `append` new elements can be added to a list"
   ]
  },
  {
   "cell_type": "code",
   "execution_count": 46,
   "metadata": {},
   "outputs": [
    {
     "data": {
      "text/plain": [
       "[1, 3, 'Hallo', 5]"
      ]
     },
     "execution_count": 46,
     "metadata": {},
     "output_type": "execute_result"
    }
   ],
   "source": [
    "c_list.append(5)\n",
    "c_list"
   ]
  },
  {
   "cell_type": "markdown",
   "metadata": {},
   "source": [
    "With the function `sorted` list elements can be sorted"
   ]
  },
  {
   "cell_type": "code",
   "execution_count": 47,
   "metadata": {},
   "outputs": [],
   "source": [
    "a_list = [2, 11, 5, 7,11]\n",
    "a_list = sorted(a_list)"
   ]
  },
  {
   "cell_type": "code",
   "execution_count": 48,
   "metadata": {},
   "outputs": [
    {
     "data": {
      "text/plain": [
       "[2, 5, 7, 11, 11]"
      ]
     },
     "execution_count": 48,
     "metadata": {},
     "output_type": "execute_result"
    }
   ],
   "source": [
    "a_list"
   ]
  },
  {
   "cell_type": "markdown",
   "metadata": {},
   "source": [
    "Operators like `+` or `*` have again different meaning for lists than for numerical types "
   ]
  },
  {
   "cell_type": "code",
   "execution_count": 49,
   "metadata": {},
   "outputs": [
    {
     "data": {
      "text/plain": [
       "[2, 5, 7, 11, 11, 2, 5, 7, 11, 11]"
      ]
     },
     "execution_count": 49,
     "metadata": {},
     "output_type": "execute_result"
    }
   ],
   "source": [
    "a_list * 2"
   ]
  },
  {
   "cell_type": "code",
   "execution_count": 50,
   "metadata": {},
   "outputs": [
    {
     "data": {
      "text/plain": [
       "[2, 5, 7, 11, 11, 1, 3, 'Hallo', 5]"
      ]
     },
     "execution_count": 50,
     "metadata": {},
     "output_type": "execute_result"
    }
   ],
   "source": [
    "a_list + c_list"
   ]
  },
  {
   "cell_type": "markdown",
   "metadata": {},
   "source": [
    "Accessing elements from a list is done by ther index. The index starts with 0"
   ]
  },
  {
   "cell_type": "code",
   "execution_count": 51,
   "metadata": {},
   "outputs": [
    {
     "data": {
      "text/plain": [
       "11"
      ]
     },
     "execution_count": 51,
     "metadata": {},
     "output_type": "execute_result"
    }
   ],
   "source": [
    "a_list[3]"
   ]
  },
  {
   "cell_type": "code",
   "execution_count": 52,
   "metadata": {},
   "outputs": [
    {
     "data": {
      "text/plain": [
       "11"
      ]
     },
     "execution_count": 52,
     "metadata": {},
     "output_type": "execute_result"
    }
   ],
   "source": [
    "a_list[-1]"
   ]
  },
  {
   "cell_type": "markdown",
   "metadata": {},
   "source": [
    "![List Indexing Figure](img/list-indexing.png)"
   ]
  },
  {
   "cell_type": "markdown",
   "metadata": {},
   "source": [
    "Using *Slicing* multiple elements can be selected."
   ]
  },
  {
   "cell_type": "code",
   "execution_count": 53,
   "metadata": {},
   "outputs": [
    {
     "data": {
      "text/plain": [
       "[2, 5]"
      ]
     },
     "execution_count": 53,
     "metadata": {},
     "output_type": "execute_result"
    }
   ],
   "source": [
    "# the first two values\n",
    "a_list[0:2]"
   ]
  },
  {
   "cell_type": "code",
   "execution_count": 54,
   "metadata": {},
   "outputs": [
    {
     "data": {
      "text/plain": [
       "[2, 5]"
      ]
     },
     "execution_count": 54,
     "metadata": {},
     "output_type": "execute_result"
    }
   ],
   "source": [
    "a_list[:2]"
   ]
  },
  {
   "cell_type": "code",
   "execution_count": 55,
   "metadata": {},
   "outputs": [
    {
     "data": {
      "text/plain": [
       "[11, 11]"
      ]
     },
     "execution_count": 55,
     "metadata": {},
     "output_type": "execute_result"
    }
   ],
   "source": [
    "# the last two values\n",
    "a_list[-2:]"
   ]
  },
  {
   "cell_type": "code",
   "execution_count": 56,
   "metadata": {},
   "outputs": [
    {
     "data": {
      "text/plain": [
       "[5, 7]"
      ]
     },
     "execution_count": 56,
     "metadata": {},
     "output_type": "execute_result"
    }
   ],
   "source": [
    "# the second and third  values\n",
    "a_list[1:3]"
   ]
  },
  {
   "cell_type": "markdown",
   "metadata": {},
   "source": [
    "Finally, it is possible to specify a third integer that represents the step size; for example, to select every second element of the list, we can write:"
   ]
  },
  {
   "cell_type": "code",
   "execution_count": 57,
   "metadata": {},
   "outputs": [
    {
     "data": {
      "text/plain": [
       "[2, 5, 7, 11, 11]"
      ]
     },
     "execution_count": 57,
     "metadata": {},
     "output_type": "execute_result"
    }
   ],
   "source": [
    "a_list"
   ]
  },
  {
   "cell_type": "code",
   "execution_count": 58,
   "metadata": {
    "jupyter": {
     "outputs_hidden": false
    }
   },
   "outputs": [
    {
     "data": {
      "text/plain": [
       "[2, 7, 11]"
      ]
     },
     "execution_count": 58,
     "metadata": {},
     "output_type": "execute_result"
    }
   ],
   "source": [
    "a_list[::2]  # equivalent to L[0:len(L):2]"
   ]
  },
  {
   "cell_type": "markdown",
   "metadata": {},
   "source": [
    "A particularly useful version of this is to specify a negative step, which will reverse the array:"
   ]
  },
  {
   "cell_type": "code",
   "execution_count": 59,
   "metadata": {
    "jupyter": {
     "outputs_hidden": false
    }
   },
   "outputs": [
    {
     "data": {
      "text/plain": [
       "[11, 11, 7, 5, 2]"
      ]
     },
     "execution_count": 59,
     "metadata": {},
     "output_type": "execute_result"
    }
   ],
   "source": [
    "a_list[::-1]"
   ]
  },
  {
   "cell_type": "markdown",
   "metadata": {},
   "source": [
    "Of course there can be lists of lists."
   ]
  },
  {
   "cell_type": "code",
   "execution_count": 60,
   "metadata": {},
   "outputs": [
    {
     "data": {
      "text/plain": [
       "[4, 5, [2, 5, 7, 11, 11], [1, 1]]"
      ]
     },
     "execution_count": 60,
     "metadata": {},
     "output_type": "execute_result"
    }
   ],
   "source": [
    "d_list = [4, 5, a_list, [1, 1]]\n",
    "d_list"
   ]
  },
  {
   "cell_type": "markdown",
   "metadata": {},
   "source": [
    "## Exercises\n",
    "1. Create a list **L1** with elements 3, 6, 2 and 7. Sort the list. Ask the user for 5 values(`input()`), which are stored in **L2**. Check if the *first* element in the sorted list **L1** is *greater* than the *third* element of list **L2**.\n",
    "2. Create a combined list L3 containing all elements of  L1 and L2, select the last three elements of L3\n",
    "3. Select every third element of the list. How does the length of the list influence the result? Add one element to try.\n",
    "4. Select a single element that is not in the list. What happens?\n",
    "5. Select a range of elements that is bigger than the list. What happens?\n",
    "6. In Python `strings` support the same indexing as lists. Redo exercise 2-5 using two strings `\"AaaBbb\"` und `\"CccDdd\"`"
   ]
  },
  {
   "cell_type": "code",
   "execution_count": null,
   "metadata": {},
   "outputs": [],
   "source": []
  },
  {
   "cell_type": "markdown",
   "metadata": {},
   "source": [
    "## Everything Is an Object\n",
    "\n",
    "Python is an object-oriented programming language, and in Python everything is an object.\n",
    "\n",
    "Consider the following:"
   ]
  },
  {
   "cell_type": "code",
   "execution_count": 61,
   "metadata": {
    "jupyter": {
     "outputs_hidden": false
    }
   },
   "outputs": [
    {
     "data": {
      "text/plain": [
       "int"
      ]
     },
     "execution_count": 61,
     "metadata": {},
     "output_type": "execute_result"
    }
   ],
   "source": [
    "x = 4\n",
    "type(x)"
   ]
  },
  {
   "cell_type": "code",
   "execution_count": 62,
   "metadata": {
    "jupyter": {
     "outputs_hidden": false
    }
   },
   "outputs": [
    {
     "data": {
      "text/plain": [
       "str"
      ]
     },
     "execution_count": 62,
     "metadata": {},
     "output_type": "execute_result"
    }
   ],
   "source": [
    "x = 'hello'\n",
    "type(x)"
   ]
  },
  {
   "cell_type": "code",
   "execution_count": 63,
   "metadata": {
    "jupyter": {
     "outputs_hidden": false
    }
   },
   "outputs": [
    {
     "data": {
      "text/plain": [
       "float"
      ]
     },
     "execution_count": 63,
     "metadata": {},
     "output_type": "execute_result"
    }
   ],
   "source": [
    "x = 3.14159\n",
    "type(x)"
   ]
  },
  {
   "cell_type": "markdown",
   "metadata": {},
   "source": [
    "Python has types; however, the types are linked not to the variable names but *to the objects themselves*.\n",
    "\n",
    "__In object-oriented programming languages like Python, an *object* is an entity that contains data along with associated metadata and/or functionality.\n",
    "In Python everything is an object, which means every entity has some metadata (called *attributes*) and associated functionality (called *methods*).\n",
    "These attributes and methods are accessed via the dot syntax.__\n",
    "\n",
    "For example, before we saw that lists have an ``append`` method, which adds an item to the list, and is accessed via the dot (\"``.``\") syntax:"
   ]
  },
  {
   "cell_type": "code",
   "execution_count": 64,
   "metadata": {
    "jupyter": {
     "outputs_hidden": false
    }
   },
   "outputs": [
    {
     "name": "stdout",
     "output_type": "stream",
     "text": [
      "[1, 2, 3, 100]\n"
     ]
    }
   ],
   "source": [
    "L = [1, 2, 3]\n",
    "L.append(100)\n",
    "print(L)"
   ]
  },
  {
   "cell_type": "code",
   "execution_count": null,
   "metadata": {},
   "outputs": [],
   "source": []
  },
  {
   "cell_type": "code",
   "execution_count": null,
   "metadata": {},
   "outputs": [],
   "source": []
  },
  {
   "cell_type": "markdown",
   "metadata": {},
   "source": [
    "While it might be expected for compound objects like lists to have attributes and methods, what is sometimes unexpected is that in Python even simple types have attached attributes and methods.\n",
    "For example, numerical types have a ``real`` and ``imag`` attribute that returns the real and imaginary part of the value, if viewed as a complex number:"
   ]
  },
  {
   "cell_type": "code",
   "execution_count": 65,
   "metadata": {
    "jupyter": {
     "outputs_hidden": false
    }
   },
   "outputs": [
    {
     "name": "stdout",
     "output_type": "stream",
     "text": [
      "4.5 + 0.0 i\n"
     ]
    }
   ],
   "source": [
    "x = 4.5\n",
    "print(x.real, \"+\", x.imag, 'i')"
   ]
  },
  {
   "cell_type": "markdown",
   "metadata": {},
   "source": [
    "Methods are like attributes, except they are functions that you can call using opening and closing parentheses.\n",
    "For example, floating point numbers have a method called ``is_integer`` that checks whether the value is an integer:"
   ]
  },
  {
   "cell_type": "code",
   "execution_count": 66,
   "metadata": {
    "jupyter": {
     "outputs_hidden": false
    }
   },
   "outputs": [
    {
     "data": {
      "text/plain": [
       "False"
      ]
     },
     "execution_count": 66,
     "metadata": {},
     "output_type": "execute_result"
    }
   ],
   "source": [
    "x = 4.5\n",
    "x.is_integer()"
   ]
  },
  {
   "cell_type": "code",
   "execution_count": 67,
   "metadata": {
    "jupyter": {
     "outputs_hidden": false
    }
   },
   "outputs": [
    {
     "data": {
      "text/plain": [
       "True"
      ]
     },
     "execution_count": 67,
     "metadata": {},
     "output_type": "execute_result"
    }
   ],
   "source": [
    "x = 4.0\n",
    "x.is_integer()"
   ]
  },
  {
   "cell_type": "markdown",
   "metadata": {},
   "source": [
    "When we say that everything in Python is an object, we really mean that *everything* is an object – even the attributes and methods of objects are themselves objects with their own ``type`` information:"
   ]
  },
  {
   "cell_type": "code",
   "execution_count": 68,
   "metadata": {
    "jupyter": {
     "outputs_hidden": false
    }
   },
   "outputs": [
    {
     "data": {
      "text/plain": [
       "builtin_function_or_method"
      ]
     },
     "execution_count": 68,
     "metadata": {},
     "output_type": "execute_result"
    }
   ],
   "source": [
    "type(x.is_integer)"
   ]
  },
  {
   "cell_type": "markdown",
   "metadata": {},
   "source": [
    "# Functions\n",
    "In the examples above functions were used in form of `sorted` or `print`."
   ]
  },
  {
   "cell_type": "markdown",
   "metadata": {},
   "source": [
    "## Indentation: Whitespace Matters!\n",
    "Next, we get to the main block of code:\n",
    "``` Python\n",
    "def write_hallo(x, y, z):\n",
    "    print(\"Hallo\")\n",
    "    print(x)\n",
    "    print(z)\n",
    "    print(y)\n",
    "print('Ouside of the function')\n",
    "```\n",
    "\n",
    "Consider that this demonstrates what is perhaps the most controversial feature of Python's syntax: whitespace is meaningful!\n",
    "\n",
    "In programming languages, a *block* of code is a set of statements that should be treated as a unit.\n",
    "In C, for example, code blocks are denoted by curly braces:\n",
    "``` C\n",
    "// C code\n",
    "for(int i=0; i<100; i++)\n",
    "   {\n",
    "      // curly braces indicate code block\n",
    "      total += i;\n",
    "   }\n",
    "```\n",
    "In Python, code blocks are denoted by *indentation*:\n",
    "``` python\n",
    "for i in range(100):\n",
    "    # indentation indicates code block\n",
    "    total += i\n",
    "```\n",
    "In Python, indented code blocks are always preceded by a colon (``:``) on the previous line."
   ]
  },
  {
   "cell_type": "markdown",
   "metadata": {},
   "source": [
    "The use of indentation helps to enforce the uniform, readable style that many find appealing in Python code.\n",
    "But it might be confusing to the uninitiated; for example, the following two snippets will produce different results:\n",
    "```python\n",
    ">>> if x < 4:         >>> if x < 4:\n",
    "...     y = x * 2     ...     y = x * 2\n",
    "...     print(x)      ... print(x)\n",
    "```\n",
    "In the snippet on the left, ``print(x)`` is in the indented block, and will be executed only if ``x`` is less than ``4``.\n",
    "In the snippet on the right ``print(x)`` is outside the block, and will be executed regardless of the value of ``x``!"
   ]
  },
  {
   "cell_type": "markdown",
   "metadata": {},
   "source": [
    "Python's use of meaningful whitespace often is surprising to programmers who are accustomed to other languages, but in practice it can lead to much more consistent and readable code than languages that do not enforce indentation of code blocks.\n",
    "If you find Python's use of whitespace disagreeable, I'd encourage you to give it a try: as I did, you may find that you come to appreciate it.\n",
    "\n",
    "Finally, you should be aware that the *amount* of whitespace used for indenting code blocks is up to the user, as long as it is consistent throughout the script.\n",
    "By convention, most style guides recommend to indent code blocks by four spaces, and that is the convention we will follow in this report.\n",
    "Note that many text editors like Emacs and Vim contain Python modes that do four-space indentation automatically."
   ]
  },
  {
   "cell_type": "markdown",
   "metadata": {},
   "source": [
    "## Whitespace *Within* Lines Does Not Matter\n",
    "While the mantra of *meaningful whitespace* holds true for whitespace *before* lines (which indicate a code block), white space *within* lines of Python code does not matter.\n",
    "For example, all three of these expressions are equivalent:"
   ]
  },
  {
   "cell_type": "code",
   "execution_count": 69,
   "metadata": {
    "jupyter": {
     "outputs_hidden": false
    }
   },
   "outputs": [],
   "source": [
    "x=1+2\n",
    "x = 1 + 2\n",
    "x             =        1    +                2"
   ]
  },
  {
   "cell_type": "markdown",
   "metadata": {},
   "source": [
    "Abusing this flexibility can lead to issues with code readibility – in fact, abusing white space is often one of the primary means of intentionally obfuscating code (which some people do for sport).\n",
    "Using whitespace effectively can lead to much more readable code, \n",
    "especially in cases where operators follow each other – compare the following two expressions for exponentiating by a negative number:\n",
    "``` python\n",
    "x=10**-2\n",
    "```\n",
    "to\n",
    "``` python\n",
    "x = 10 ** -2\n",
    "```\n",
    "I find the second version with spaces much more easily readable at a single glance.\n",
    "Most Python style guides recommend using a single space around binary operators, and no space around unary operators.\n"
   ]
  },
  {
   "cell_type": "markdown",
   "metadata": {},
   "source": [
    "### back to functions"
   ]
  },
  {
   "cell_type": "code",
   "execution_count": 70,
   "metadata": {},
   "outputs": [],
   "source": [
    "def write_hallo(x, y, z):\n",
    "    print(\"Hallo\")\n",
    "    print(x)\n",
    "    print(z)\n",
    "    print(y)"
   ]
  },
  {
   "cell_type": "code",
   "execution_count": 71,
   "metadata": {},
   "outputs": [
    {
     "name": "stdout",
     "output_type": "stream",
     "text": [
      "Hallo\n",
      "Peter\n",
      "Oliver\n",
      "Horst\n"
     ]
    }
   ],
   "source": [
    "write_hallo(\"Peter\", \"Horst\", \"Oliver\")"
   ]
  },
  {
   "cell_type": "code",
   "execution_count": 72,
   "metadata": {},
   "outputs": [
    {
     "name": "stdout",
     "output_type": "stream",
     "text": [
      "Hallo\n",
      "Berlin\n",
      "C\n",
      "Frank\n"
     ]
    }
   ],
   "source": [
    "a = \"Berlin\"\n",
    "write_hallo(a, \"Frank\", \"C\")"
   ]
  },
  {
   "cell_type": "markdown",
   "metadata": {},
   "source": [
    "With `return` the output of a function is returned"
   ]
  },
  {
   "cell_type": "code",
   "execution_count": 73,
   "metadata": {},
   "outputs": [
    {
     "data": {
      "text/plain": [
       "24"
      ]
     },
     "execution_count": 73,
     "metadata": {},
     "output_type": "execute_result"
    }
   ],
   "source": [
    "def addition(x, y):\n",
    "    return x+y\n",
    "\n",
    "addition(10, 14)"
   ]
  },
  {
   "cell_type": "code",
   "execution_count": 74,
   "metadata": {},
   "outputs": [
    {
     "data": {
      "text/plain": [
       "15.0"
      ]
     },
     "execution_count": 74,
     "metadata": {},
     "output_type": "execute_result"
    }
   ],
   "source": [
    "addition(1.0, 14)"
   ]
  },
  {
   "cell_type": "markdown",
   "metadata": {},
   "source": [
    "## Exercises\n",
    "\n",
    "1. Write a functions *print_spam*, that writes \"Spam\" using `print`\n",
    "2. Write a functions which takes the length, depth and height of a block as arguments and returns the volume\n",
    "3. Having a block of dimensions (10, 5, 1) and another block of dimensions (20, 20, 3). Using the previously written functions: Which blocks is bigger and by how many times?\n",
    "4. Write a function to return the first and last element of a list.\n",
    "5. Write a variation of the \"block creation\" function that takes user input instead of arguments\n",
    "6. Write a functions with a list as an argument. The list is sorted and the first two elements are returned\n",
    "7. Write a function `bigger` with two arguments that tests whether a > b. If a > b the function returns `True` otherwise `False`\n",
    "8. Functions are also viable arguments. Take a look at these functions:\n",
    "    ```python\n",
    "    def do_twice(f):\n",
    "        f()\n",
    "        f()\n",
    "    ```\n",
    "    This function calls the input function twice. Try this function with your functio `print_spam`\n",
    "    \n",
    "9. Modify `do_twice`that it take to arguments. A function and the argument for this funtions. Hence f(arg) should be called be `do_twice_arg`\n",
    "10. Write a function `print_twice(arg)` that print the string `arg` twice. Maybe use `do_twice_arg`.\n",
    "11. use your modified version of \"do_twice\" with the arguments \"print_twice\" and the string \"spam\n",
    "12. Write a function `do_four` that calls a function four times. For this use your unmodified version of `do_twice`. The function `do_four` should only consist of 2 lines\n",
    "13. Write a function to create the following grid\n",
    " ```\n",
    " + - - - - + - - - - +\n",
    "  |         |         |\n",
    "  |         |         |\n",
    "  |         |         |\n",
    "  |         |         |\n",
    " + - - - - + - - - - +\n",
    "  |         |         |\n",
    "  |         |         |\n",
    "  |         |         |\n",
    "  |         |         |\n",
    " + - - - - + - - - - +\n",
    "    ```\n",
    "    Write a many functions as you need. For help use `do_twice` or  `do_four`. Take note. The function `print` jumps to a new line. You can prevent this using `print('some string', end='')`\n",
    "\n",
    "14. write a function \"ausrufezeichen\", which takes a string as argument The function writes the string and adds an exclamation mark. Write an extended function which only outputs capital letters.\n"
   ]
  },
  {
   "cell_type": "markdown",
   "metadata": {},
   "source": [
    "# Control flow"
   ]
  },
  {
   "cell_type": "markdown",
   "metadata": {},
   "source": [
    "*Control flow* is where the rubber really meets the road in programming.\n",
    "Without it, a program is simply a list of statements that are sequentially executed.\n",
    "With control flow, you can execute certain code blocks conditionally and/or repeatedly: these basic building blocks can be combined to create surprisingly sophisticated programs!"
   ]
  },
  {
   "cell_type": "markdown",
   "metadata": {},
   "source": [
    "## Conditional Statements: ``if``-``elif``-``else``:\n"
   ]
  },
  {
   "cell_type": "code",
   "execution_count": 75,
   "metadata": {
    "jupyter": {
     "outputs_hidden": false
    }
   },
   "outputs": [
    {
     "name": "stdout",
     "output_type": "stream",
     "text": [
      "15 is positive\n"
     ]
    }
   ],
   "source": [
    "x = 15\n",
    "\n",
    "if x == 0 :\n",
    "    print(x, \"is zero\")\n",
    "elif x > 0:\n",
    "    print(x, \"is positive\")\n",
    "elif x < 0:\n",
    "    print(x, \"is negative\")\n",
    "else:\n",
    "    print(x, \"is unlike anything I've ever seen...\")"
   ]
  },
  {
   "cell_type": "markdown",
   "metadata": {},
   "source": [
    "Note especially the use of colons (``:``) and whitespace to denote separate blocks of code.\n",
    "\n",
    "Python adopts the ``if`` and ``else`` often used in other languages; its more unique keyword is ``elif``, a contraction of \"else if\".\n",
    "In these conditional clauses, ``elif`` and ``else`` blocks are optional; additionally, you can optinally include as few or as many ``elif`` statements as you would like."
   ]
  },
  {
   "cell_type": "markdown",
   "metadata": {},
   "source": [
    "## ``for`` loops\n"
   ]
  },
  {
   "cell_type": "code",
   "execution_count": 76,
   "metadata": {
    "jupyter": {
     "outputs_hidden": false
    }
   },
   "outputs": [
    {
     "name": "stdout",
     "output_type": "stream",
     "text": [
      "H a l l o "
     ]
    }
   ],
   "source": [
    "for N in \"Hallo\":\n",
    "    print(N, end=' ') # print all on same line"
   ]
  },
  {
   "cell_type": "markdown",
   "metadata": {},
   "source": [
    "\n",
    "More precisely, the object to the right of the \"``in``\" can be any Python *iterator*.\n",
    "An iterator can be thought of as a generalized sequence\n",
    "\n",
    "For example, one of the most commonly-used iterators in Python is the ``range`` object, which generates a sequence of numbers:"
   ]
  },
  {
   "cell_type": "code",
   "execution_count": 77,
   "metadata": {
    "jupyter": {
     "outputs_hidden": false
    }
   },
   "outputs": [
    {
     "name": "stdout",
     "output_type": "stream",
     "text": [
      "0 1 2 3 4 5 6 7 8 9 "
     ]
    }
   ],
   "source": [
    "for i in range(10):\n",
    "    print(i, end=' ')"
   ]
  },
  {
   "cell_type": "markdown",
   "metadata": {},
   "source": [
    "Note that the range starts at zero by default, and that by convention the top of the range is not included in the output.\n",
    "Range objects can also have more complicated values:"
   ]
  },
  {
   "cell_type": "code",
   "execution_count": 78,
   "metadata": {},
   "outputs": [
    {
     "data": {
      "text/plain": [
       "range(5, 10)"
      ]
     },
     "execution_count": 78,
     "metadata": {},
     "output_type": "execute_result"
    }
   ],
   "source": [
    "range(5, 10)"
   ]
  },
  {
   "cell_type": "code",
   "execution_count": 79,
   "metadata": {
    "jupyter": {
     "outputs_hidden": false
    }
   },
   "outputs": [
    {
     "data": {
      "text/plain": [
       "[5, 6, 7, 8, 9]"
      ]
     },
     "execution_count": 79,
     "metadata": {},
     "output_type": "execute_result"
    }
   ],
   "source": [
    "# range from 5 to 10\n",
    "list(range(5, 10))"
   ]
  },
  {
   "cell_type": "code",
   "execution_count": 80,
   "metadata": {
    "jupyter": {
     "outputs_hidden": false
    }
   },
   "outputs": [
    {
     "data": {
      "text/plain": [
       "[0, 2, 4, 6, 8]"
      ]
     },
     "execution_count": 80,
     "metadata": {},
     "output_type": "execute_result"
    }
   ],
   "source": [
    "# range from 0 to 10 by 2\n",
    "list(range(0, 10, 2))"
   ]
  },
  {
   "cell_type": "markdown",
   "metadata": {},
   "source": [
    "You might notice that the meaning of ``range`` arguments is very similar to the slicing syntax that we covered in [Lists](06-Built-in-Data-Structures.ipynb#Lists).\n",
    "\n",
    "Note that the behavior of ``range()`` is one of the differences between Python 2 and Python 3: in Python 2, ``range()`` produces a list, while in Python 3, ``range()`` produces an iterable object."
   ]
  },
  {
   "cell_type": "code",
   "execution_count": 81,
   "metadata": {},
   "outputs": [
    {
     "name": "stdout",
     "output_type": "stream",
     "text": [
      "0 ist eine gerade Zahl.\n",
      "1 ist eine ungerade Zahl.\n",
      "2 ist eine gerade Zahl.\n",
      "3 ist eine ungerade Zahl.\n",
      "4 ist eine gerade Zahl.\n",
      "5 ist eine ungerade Zahl.\n",
      "6 ist eine gerade Zahl.\n",
      "7 ist eine ungerade Zahl.\n",
      "8 ist eine gerade Zahl.\n",
      "9 ist eine ungerade Zahl.\n"
     ]
    }
   ],
   "source": [
    "for i in range(10):\n",
    "    if i % 2 == 0:\n",
    "        print(str(i)+\" ist eine gerade Zahl.\")\n",
    "    else:\n",
    "        print(str(i)+\" ist eine ungerade Zahl.\")"
   ]
  },
  {
   "cell_type": "markdown",
   "metadata": {},
   "source": [
    "To write a points of a grid, we can use nested loops"
   ]
  },
  {
   "cell_type": "code",
   "execution_count": 82,
   "metadata": {},
   "outputs": [
    {
     "name": "stdout",
     "output_type": "stream",
     "text": [
      "0/0\n",
      "1/0\n",
      "0/1\n",
      "1/1\n",
      "0/2\n",
      "1/2\n"
     ]
    }
   ],
   "source": [
    "for y in range(3):\n",
    "    for x in range(2):\n",
    "        print(str(x)+\"/\"+str(y))"
   ]
  },
  {
   "cell_type": "markdown",
   "metadata": {},
   "source": [
    "`range`can also be used with start and stop criteria"
   ]
  },
  {
   "cell_type": "code",
   "execution_count": 83,
   "metadata": {},
   "outputs": [
    {
     "name": "stdout",
     "output_type": "stream",
     "text": [
      "2\n",
      "3\n",
      "4\n",
      "5\n",
      "6\n",
      "7\n",
      "8\n",
      "9\n"
     ]
    }
   ],
   "source": [
    "for i in range(2,10):\n",
    "    print(i)"
   ]
  },
  {
   "cell_type": "markdown",
   "metadata": {},
   "source": [
    "It is also possible to enumerate the loops."
   ]
  },
  {
   "cell_type": "code",
   "execution_count": 84,
   "metadata": {},
   "outputs": [
    {
     "data": {
      "text/plain": [
       "[(0, 1), (1, 2), (2, 4), (3, 10), (4, 1), (5, 5)]"
      ]
     },
     "execution_count": 84,
     "metadata": {},
     "output_type": "execute_result"
    }
   ],
   "source": [
    "list(enumerate([1, 2, 4, 10, 1, 5]))"
   ]
  },
  {
   "cell_type": "code",
   "execution_count": 85,
   "metadata": {},
   "outputs": [
    {
     "name": "stdout",
     "output_type": "stream",
     "text": [
      "0 1\n",
      "1 2\n",
      "2 4\n",
      "3 10\n",
      "4 1\n",
      "5 5\n"
     ]
    }
   ],
   "source": [
    "for i, x in enumerate([1, 2, 4, 10, 1, 5]):\n",
    "    print(i, x)"
   ]
  },
  {
   "cell_type": "markdown",
   "metadata": {},
   "source": [
    "## ``while`` loops\n",
    "The other type of loop in Python is a ``while`` loop, which iterates until some condition is met:"
   ]
  },
  {
   "cell_type": "code",
   "execution_count": 86,
   "metadata": {
    "jupyter": {
     "outputs_hidden": false
    }
   },
   "outputs": [
    {
     "name": "stdout",
     "output_type": "stream",
     "text": [
      "0 1 2 3 4 5 6 7 8 9 "
     ]
    }
   ],
   "source": [
    "i = 0\n",
    "while i < 10:\n",
    "    print(i, end=' ')\n",
    "    i += 1"
   ]
  },
  {
   "cell_type": "markdown",
   "metadata": {},
   "source": [
    "The argument of the ``while`` loop is evaluated as a boolean statement, and the loop is executed until the statement evaluates to False."
   ]
  },
  {
   "cell_type": "markdown",
   "metadata": {},
   "source": [
    "## ``break`` and ``continue``: Fine-Tuning Your Loops\n",
    "There are two useful statements that can be used within loops to fine-tune how they are executed:\n",
    "\n",
    "- The ``break`` statement breaks-out of the loop entirely\n",
    "- The ``continue`` statement skips the remainder of the current loop, and goes to the next iteration\n",
    "\n",
    "These can be used in both ``for`` and ``while`` loops.\n",
    "\n",
    "Here is an example of using ``continue`` to print a string of odd numbers.\n",
    "In this case, the result could be accomplished just as well with an ``if-else`` statement, but sometimes the ``continue`` statement can be a more convenient way to express the idea you have in mind:"
   ]
  },
  {
   "cell_type": "code",
   "execution_count": 87,
   "metadata": {
    "jupyter": {
     "outputs_hidden": false
    }
   },
   "outputs": [
    {
     "name": "stdout",
     "output_type": "stream",
     "text": [
      "1 3 5 7 9 11 13 15 17 19 "
     ]
    }
   ],
   "source": [
    "for n in range(20):\n",
    "    # if the remainder of n / 2 is 0, skip the rest of the loop\n",
    "    if n % 2 == 0:\n",
    "        continue\n",
    "    print(n, end=' ')"
   ]
  },
  {
   "cell_type": "code",
   "execution_count": 88,
   "metadata": {},
   "outputs": [
    {
     "name": "stdout",
     "output_type": "stream",
     "text": [
      "1\n",
      "2\n",
      "3\n",
      "4\n",
      "5\n",
      "6\n",
      "7\n",
      "8\n",
      "9\n",
      "10\n"
     ]
    }
   ],
   "source": [
    "i = 0\n",
    "while True:\n",
    "    i = i+1\n",
    "    print(i)\n",
    "    if i == 10:\n",
    "        break"
   ]
  },
  {
   "cell_type": "markdown",
   "metadata": {},
   "source": [
    "Here is an example of a ``break`` statement used for a less trivial task.\n",
    "This loop will fill a list with all Fibonacci numbers up to a certain value:"
   ]
  },
  {
   "cell_type": "code",
   "execution_count": 89,
   "metadata": {
    "jupyter": {
     "outputs_hidden": false
    }
   },
   "outputs": [
    {
     "name": "stdout",
     "output_type": "stream",
     "text": [
      "[1, 1, 2, 3, 5, 8, 13, 21, 34, 55, 89]\n"
     ]
    }
   ],
   "source": [
    "a, b = 0, 1\n",
    "amax = 100\n",
    "L = []\n",
    "\n",
    "while True:\n",
    "    (a, b) = (b, a + b)\n",
    "    if a > amax:\n",
    "        break\n",
    "    L.append(a)\n",
    "\n",
    "print(L)"
   ]
  },
  {
   "cell_type": "markdown",
   "metadata": {},
   "source": [
    "Notice that we use a ``while True`` loop, which will loop forever unless we have a break statement!"
   ]
  },
  {
   "cell_type": "markdown",
   "metadata": {},
   "source": [
    "Using the expressions `if` and `else` it is possible to test if conditions are met"
   ]
  },
  {
   "cell_type": "markdown",
   "metadata": {},
   "source": [
    "## Exercises\n",
    "\n",
    "1. Write all number from 0 to 20 using a loop\n",
    "2. Write all numbers between 20 and 30\n",
    "3. Write a `list`  containing the decades from your birth year to 2020.No need to include the starting decade.\n",
    "4. Write a function using an Interger as argument, that test if an Integer is even or uneven printing the result\n",
    "5. Write a program which write all numbers between -10 and 10. If the number is positv it returns *positive* otherwise *negative*\n",
    "6. Write a programme that writes down all numbers divisible by 7 and lying between 0 and 100.\n",
    "7. Write a function `string_len_5` that tests the input of a user. If the string has a length greater 5 the function returns \"Wrong lenght, try again\" and call again for a string input from the user. This continues untill the correct input is given.\n",
    "8. Fermat's theorem states that there are no positive integers $𝑎,𝑏,𝑐$ and $𝑛$ with $𝑛>2$, so that $𝑎𝑛+𝑏𝑛=𝑐𝑛$ . Write a function `check_fermat` that takes `𝑎,𝑏,𝑐` and `𝑛` as arguments. It outputs \"Holy cow, Fermat was wrong!\" if `𝑛>2 and 𝑎𝑛+𝑏𝑛=𝑐𝑛` . Otherwise, it outputs \"No, that doesn't work!\".\n",
    "9. Check with a loop and its function check_fermat, if Fermat's theorem is fulfilled for the numbers a=5, b=8, c=23 and n= 1 to 20.\n",
    "10. Check with a nested loop and its function check_fermat whether Fermat's theorem is fulfilled for the numbers a=5, b=8, c= 1 to 20 and n = 1 to 20.\n",
    "11. Write a guessing game: The first player is asked by the programme for the secret number without the second player seeing the input. The second player now tries to guess the number. He enters a number: If the number is the secret number of the first player, the output is \"Correct, you have found the secret number.\" If the number is not the secret number, the programme writes \"Unfortunately wrong. Try again.\" This continues until the second player has found the secret number.\n",
    "12. Write a function `is_prime_number` that takes an `Integer` as input. It returns `True` if the input is a prime number otherwise `False`. The function should be find all prime numbers to 100.\n"
   ]
  },
  {
   "cell_type": "code",
   "execution_count": null,
   "metadata": {},
   "outputs": [],
   "source": []
  },
  {
   "cell_type": "markdown",
   "metadata": {},
   "source": [
    "# Dictionaries and Sets\n",
    "A set is collection unique, unordered elements. You can create a set from a list using the `set` function"
   ]
  },
  {
   "cell_type": "code",
   "execution_count": null,
   "metadata": {},
   "outputs": [],
   "source": []
  },
  {
   "cell_type": "code",
   "execution_count": 90,
   "metadata": {},
   "outputs": [
    {
     "data": {
      "text/plain": [
       "{1, 2, 4, 'a'}"
      ]
     },
     "execution_count": 90,
     "metadata": {},
     "output_type": "execute_result"
    }
   ],
   "source": [
    "a_list = [1, 1, 2, 'a', 4, 'a']\n",
    "a_set = set(a_list)\n",
    "a_set"
   ]
  },
  {
   "cell_type": "markdown",
   "metadata": {},
   "source": [
    "Sets are unordered so it is not possible to access the content by index"
   ]
  },
  {
   "cell_type": "code",
   "execution_count": 91,
   "metadata": {},
   "outputs": [
    {
     "ename": "TypeError",
     "evalue": "'set' object is not subscriptable",
     "output_type": "error",
     "traceback": [
      "\u001b[0;31m---------------------------------------------------------------------------\u001b[0m",
      "\u001b[0;31mTypeError\u001b[0m                                 Traceback (most recent call last)",
      "\u001b[0;32m<ipython-input-91-6e586b3c6acb>\u001b[0m in \u001b[0;36m<module>\u001b[0;34m\u001b[0m\n\u001b[0;32m----> 1\u001b[0;31m \u001b[0ma_set\u001b[0m\u001b[0;34m[\u001b[0m\u001b[0;36m1\u001b[0m\u001b[0;34m]\u001b[0m\u001b[0;34m\u001b[0m\u001b[0;34m\u001b[0m\u001b[0m\n\u001b[0m",
      "\u001b[0;31mTypeError\u001b[0m: 'set' object is not subscriptable"
     ]
    }
   ],
   "source": [
    "a_set[1]"
   ]
  },
  {
   "cell_type": "markdown",
   "metadata": {},
   "source": [
    "Using the `list` function a set can be converted into a list"
   ]
  },
  {
   "cell_type": "code",
   "execution_count": null,
   "metadata": {},
   "outputs": [],
   "source": [
    "list(a_set)[1]"
   ]
  },
  {
   "cell_type": "markdown",
   "metadata": {},
   "source": [
    "Sets are often in `bool` espressions. For example if values are in a list "
   ]
  },
  {
   "cell_type": "code",
   "execution_count": null,
   "metadata": {},
   "outputs": [],
   "source": [
    "'a' in a_set"
   ]
  },
  {
   "cell_type": "code",
   "execution_count": null,
   "metadata": {},
   "outputs": [],
   "source": [
    "'b' in a_list"
   ]
  },
  {
   "cell_type": "markdown",
   "metadata": {},
   "source": [
    "A set can also be created using `{}`"
   ]
  },
  {
   "cell_type": "code",
   "execution_count": null,
   "metadata": {},
   "outputs": [],
   "source": [
    "b_set = {3, 3, 3, 'a', 5}\n",
    "b_set"
   ]
  },
  {
   "cell_type": "markdown",
   "metadata": {},
   "source": [
    "Which elements are in both sets"
   ]
  },
  {
   "cell_type": "code",
   "execution_count": null,
   "metadata": {},
   "outputs": [],
   "source": [
    "a_set.intersection(b_set)"
   ]
  },
  {
   "cell_type": "markdown",
   "metadata": {},
   "source": [
    "The unique elements of both sets"
   ]
  },
  {
   "cell_type": "code",
   "execution_count": null,
   "metadata": {},
   "outputs": [],
   "source": [
    "a_set.union(b_set)"
   ]
  },
  {
   "cell_type": "markdown",
   "metadata": {},
   "source": [
    "A dictionary is a collection of key-value pairs. Similar to sets, they can be initialized using `{}`"
   ]
  },
  {
   "cell_type": "code",
   "execution_count": null,
   "metadata": {},
   "outputs": [],
   "source": [
    "a_dict = {\"Peter\": 27, \"Maria\": 30, \"Horst\": 30}\n",
    "a_dict"
   ]
  },
  {
   "cell_type": "code",
   "execution_count": null,
   "metadata": {},
   "outputs": [],
   "source": [
    "a_dict[\"Peter\"]"
   ]
  },
  {
   "cell_type": "markdown",
   "metadata": {},
   "source": [
    "\n",
    "New elements can also be added to a dictionary"
   ]
  },
  {
   "cell_type": "code",
   "execution_count": null,
   "metadata": {},
   "outputs": [],
   "source": [
    "a_dict[\"Olivia\"] = 31\n",
    "a_dict"
   ]
  },
  {
   "cell_type": "markdown",
   "metadata": {},
   "source": [
    "A dictionary consists of keys and there associated values. Every key can only occur once. The keys behave like a set."
   ]
  },
  {
   "cell_type": "code",
   "execution_count": null,
   "metadata": {},
   "outputs": [],
   "source": [
    "sorted(a_dict.keys())"
   ]
  },
  {
   "cell_type": "code",
   "execution_count": null,
   "metadata": {},
   "outputs": [],
   "source": [
    "a_dict.values()"
   ]
  },
  {
   "cell_type": "markdown",
   "metadata": {},
   "source": [
    "To access values, a key is used in similar to indexing"
   ]
  },
  {
   "cell_type": "code",
   "execution_count": null,
   "metadata": {},
   "outputs": [],
   "source": [
    "a_dict['Peter']"
   ]
  },
  {
   "cell_type": "code",
   "execution_count": null,
   "metadata": {},
   "outputs": [],
   "source": [
    "for key in a_dict:\n",
    "    print(key, a_dict[key])"
   ]
  },
  {
   "cell_type": "markdown",
   "metadata": {},
   "source": [
    "Other types than strings can also be used for dictionary keys. The object only needs to be *hashable*"
   ]
  },
  {
   "cell_type": "code",
   "execution_count": null,
   "metadata": {},
   "outputs": [],
   "source": [
    "b_dict = {1: [1, 2, 3], 2: [9, 7]}\n",
    "b_dict"
   ]
  },
  {
   "cell_type": "code",
   "execution_count": null,
   "metadata": {},
   "outputs": [],
   "source": [
    "c_dict = {[1, 3]: 3}"
   ]
  },
  {
   "cell_type": "markdown",
   "metadata": {},
   "source": [
    "## Excercises\n",
    "\n",
    "1. Write a function that prints the unique elements of an input lists\n",
    "2. Write a function that creates a dictionary from two input lists. Assume the list have an identical length. One list provides the keys the other the values\n",
    "3. Modify the above function to check if the lists have an equal length. Print a message if they don't\n",
    "4. Write a function that prints the values of an input dictionary after sorting the keys.\n"
   ]
  },
  {
   "cell_type": "markdown",
   "metadata": {},
   "source": [
    "# Built in data structures\n",
    "\n",
    "| Type Name | Example                   |Description                            |\n",
    "|-----------|---------------------------|---------------------------------------|\n",
    "| ``list``  | ``[1, 2, 3]``             | Ordered collection                    |\n",
    "| ``tuple`` | ``(1, 2, 3)``             | Immutable ordered collection          |\n",
    "| ``dict``  | ``{'a':1, 'b':2, 'c':3}`` | Unordered (key,value) mapping         |\n",
    "| ``set``   | ``{1, 2, 3}``             | Unordered collection of unique values |\n",
    "\n",
    "As you can see, round, square, and curly brackets have distinct meanings when it comes to the type of collection produced."
   ]
  },
  {
   "cell_type": "markdown",
   "metadata": {},
   "source": [
    "# List Comprehensions"
   ]
  },
  {
   "cell_type": "markdown",
   "metadata": {},
   "source": [
    "This is one feature of Python I expect you will fall in love with if you've not used it before; it looks something like this:"
   ]
  },
  {
   "cell_type": "code",
   "execution_count": null,
   "metadata": {},
   "outputs": [],
   "source": [
    "[str(i) for i in range(20)]"
   ]
  },
  {
   "cell_type": "code",
   "execution_count": null,
   "metadata": {
    "jupyter": {
     "outputs_hidden": false
    }
   },
   "outputs": [],
   "source": [
    "[i for i in range(20) if i % 3 > 0]"
   ]
  },
  {
   "cell_type": "markdown",
   "metadata": {},
   "source": [
    "## Basic List Comprehensions\n",
    "List comprehensions are simply a way to compress a list-building for-loop into a single short, readable line.\n",
    "For example, here is a loop that constructs a list of the first 12 square integers:"
   ]
  },
  {
   "cell_type": "code",
   "execution_count": null,
   "metadata": {
    "jupyter": {
     "outputs_hidden": false
    }
   },
   "outputs": [],
   "source": [
    "L = []\n",
    "for n in range(12):\n",
    "    L.append(n ** 2)\n",
    "L"
   ]
  },
  {
   "cell_type": "markdown",
   "metadata": {},
   "source": [
    "The list comprehension equivalent of this is the following:"
   ]
  },
  {
   "cell_type": "code",
   "execution_count": null,
   "metadata": {
    "jupyter": {
     "outputs_hidden": false
    }
   },
   "outputs": [],
   "source": [
    "[n ** 2 for n in range(12)]"
   ]
  },
  {
   "cell_type": "markdown",
   "metadata": {},
   "source": [
    "As with many Python statements, you can almost read-off the meaning of this statement in plain English: \"construct a list consisting of the square of ``n`` for each ``n`` up to 12\".\n",
    "\n",
    "This basic syntax, then, is ``[``*``expr``* ``for`` *``var``* ``in`` *``iterable``*``]``, where *``expr``* is any valid expression, *``var``* is a variable name, and *``iterable``* is any iterable Python object."
   ]
  },
  {
   "cell_type": "markdown",
   "metadata": {},
   "source": [
    "## Conditionals on the Iterator\n",
    "You can further control the iteration by adding a conditional to the end of the expression.\n",
    "In the first example of the section, we iterated over all numbers from 1 to 20, but left-out multiples of 3.\n",
    "Look at this again, and notice the construction:"
   ]
  },
  {
   "cell_type": "code",
   "execution_count": null,
   "metadata": {
    "jupyter": {
     "outputs_hidden": false
    }
   },
   "outputs": [],
   "source": [
    "[val for val in range(20) if val % 3 > 0]"
   ]
  },
  {
   "cell_type": "markdown",
   "metadata": {},
   "source": [
    "The expression ``(i % 3 > 0)`` evaluates to ``True`` unless ``val`` is divisible by 3.\n",
    "Again, the English language meaning can be immediately read off: \"Construct a list of values for each value up to 20, but only if the value is not divisible by 3\".\n",
    "Once you are comfortable with it, this is much easier to write – and to understand at a glance – than the equivalent loop syntax:"
   ]
  },
  {
   "cell_type": "code",
   "execution_count": null,
   "metadata": {
    "jupyter": {
     "outputs_hidden": false
    }
   },
   "outputs": [],
   "source": [
    "L = []\n",
    "for val in range(20):\n",
    "    if val % 3:\n",
    "        L.append(val)\n",
    "L"
   ]
  },
  {
   "cell_type": "markdown",
   "metadata": {},
   "source": [
    "# Exercises\n",
    "\n",
    "1.  Write a `list`  containing the decades from your birth year to 2020.No need to include the starting decade. Use a list comprehensoin\n",
    "2. Write a list of the prime numbers < 100\n"
   ]
  },
  {
   "cell_type": "markdown",
   "metadata": {},
   "source": [
    "# Modules"
   ]
  },
  {
   "cell_type": "markdown",
   "metadata": {},
   "source": [
    "## Loading Modules: the ``import`` Statement\n",
    "\n",
    "For loading built-in and third-party modules, Python provides the ``import`` statement.\n"
   ]
  },
  {
   "cell_type": "markdown",
   "metadata": {},
   "source": [
    "### Explicit module import\n",
    "\n",
    "Explicit import of a module preserves the module's content in a namespace.\n",
    "The namespace is then used to refer to its contents with a \"``.``\" between them.\n",
    "For example, here we'll import the built-in ``math`` module and compute the cosine of pi:"
   ]
  },
  {
   "cell_type": "code",
   "execution_count": null,
   "metadata": {
    "jupyter": {
     "outputs_hidden": false
    }
   },
   "outputs": [],
   "source": [
    "import math\n",
    "math.cos(math.pi)"
   ]
  },
  {
   "cell_type": "code",
   "execution_count": null,
   "metadata": {},
   "outputs": [],
   "source": [
    "math.pi"
   ]
  },
  {
   "cell_type": "markdown",
   "metadata": {},
   "source": [
    "### Explicit module import by alias\n",
    "\n",
    "For longer module names, it's not convenient to use the full module name each time you access some element.\n",
    "For this reason, we'll commonly use the \"``import ... as ...``\" pattern to create a shorter alias for the namespace.\n",
    "For example, the NumPy (Numerical Python) package, a popular third-party package useful for data science, is by convention imported under the alias ``np``:"
   ]
  },
  {
   "cell_type": "code",
   "execution_count": null,
   "metadata": {
    "jupyter": {
     "outputs_hidden": false
    }
   },
   "outputs": [],
   "source": [
    "import numpy as np\n",
    "np.cos(np.pi)"
   ]
  },
  {
   "cell_type": "code",
   "execution_count": null,
   "metadata": {},
   "outputs": [],
   "source": [
    "np.pi"
   ]
  },
  {
   "cell_type": "markdown",
   "metadata": {},
   "source": [
    "### Explicit import of module contents\n",
    "\n",
    "Sometimes rather than importing the module namespace, you would just like to import a few particular items from the module.\n",
    "This can be done with the \"``from ... import ...``\" pattern.\n",
    "For example, we can import just the ``cos`` function and the ``pi`` constant from the ``math`` module:"
   ]
  },
  {
   "cell_type": "code",
   "execution_count": null,
   "metadata": {
    "jupyter": {
     "outputs_hidden": false
    }
   },
   "outputs": [],
   "source": [
    "from math import cos, pi\n",
    "cos(pi)"
   ]
  },
  {
   "cell_type": "code",
   "execution_count": null,
   "metadata": {},
   "outputs": [],
   "source": [
    "sin(pi)"
   ]
  },
  {
   "cell_type": "markdown",
   "metadata": {},
   "source": [
    "# Exercises\n",
    "\n",
    "1.  import the module `this`\n",
    "2. import  the module `os` use the functions `getcwd` and  `listdir`. What do they do?\n"
   ]
  },
  {
   "cell_type": "markdown",
   "metadata": {},
   "source": [
    "# Writing, reading and modifying text data from files"
   ]
  },
  {
   "cell_type": "code",
   "execution_count": 92,
   "metadata": {},
   "outputs": [],
   "source": [
    "textfile = open('text.txt','w')\n",
    "data = \"Dies ist die erste Zeile.\"\n",
    "textfile.write(data)\n",
    "textfile.close()"
   ]
  },
  {
   "cell_type": "code",
   "execution_count": 93,
   "metadata": {},
   "outputs": [
    {
     "data": {
      "text/plain": [
       "'Dies ist die erste Zeile.'"
      ]
     },
     "execution_count": 93,
     "metadata": {},
     "output_type": "execute_result"
    }
   ],
   "source": [
    "textfile = open('text.txt','r')\n",
    "data = textfile.read()\n",
    "textfile.close()\n",
    "data"
   ]
  },
  {
   "cell_type": "markdown",
   "metadata": {},
   "source": [
    "As seen in the examples, it is always necessary to close a file object after opening it! To make this easier there is different notation for opening and closing file. The `with` keyword automatically calls the `close` method of the file object."
   ]
  },
  {
   "cell_type": "code",
   "execution_count": 94,
   "metadata": {},
   "outputs": [
    {
     "data": {
      "text/plain": [
       "'Dies ist die erste Zeile.'"
      ]
     },
     "execution_count": 94,
     "metadata": {},
     "output_type": "execute_result"
    }
   ],
   "source": [
    "with open('text.txt','r') as textfile:\n",
    "    data = textfile.read()\n",
    "data"
   ]
  },
  {
   "cell_type": "markdown",
   "metadata": {},
   "source": [
    "Some structured data. The EU election results in Germany"
   ]
  },
  {
   "cell_type": "code",
   "execution_count": 96,
   "metadata": {},
   "outputs": [
    {
     "data": {
      "text/plain": [
       "['Partei;Kreis Nr.;Gebietsbezeichnung;Gültige Stimmen Anzahl;Gültige Stimmen %;Diff. zu 2014 in %-Pkt.\\n',\n",
       " 'CDU;;Bundesrepublik Deutschland;8437093;22.6;-7.5\\n',\n",
       " 'CDU;;Schleswig-Holstein;353789;26.2;-8.2\\n',\n",
       " 'CDU;1001;Flensburg, Stadt;6829;17.3;-8.3\\n',\n",
       " 'CDU;1002;Kiel, Landeshauptstadt;18313;16.8;-6.4\\n',\n",
       " 'CDU;1003;Lübeck, Hansestadt;18416;20.4;-7.1\\n',\n",
       " 'CDU;1004;Neumünster, Stadt;7039;24.4;-8.4\\n',\n",
       " 'CDU;1051;Dithmarschen;17955;31.1;-11.3\\n',\n",
       " 'CDU;1053;Herzogtum Lauenburg;24912;27.3;-7.3\\n',\n",
       " 'CDU;1054;Nordfriesland;23443;30.4;-9\\n',\n",
       " 'CDU;1055;Ostholstein;28575;29.4;-7.2\\n',\n",
       " 'CDU;1056;Pinneberg;39174;26.1;-7.7\\n',\n",
       " 'CDU;1057;Plön;1815;27.3;-7.7\\n',\n",
       " 'CDU;1058;Rendsburg-Eckernförde;38936;28.7;-8\\n',\n",
       " 'CDU;1059;Schleswig-Flensburg;27527;29;-9.7\\n',\n",
       " 'CDU;1060;Segeberg;34078;27.1;-9.4\\n',\n",
       " 'CDU;1061;Steinburg;17289;28.8;-9.2\\n',\n",
       " 'CDU;1062;Stormarn;33153;26.8;-7.3\\n',\n",
       " 'CDU;;Hamburg;140023;17.7;-6.9\\n',\n",
       " 'CDU;2000;Hamburg, Freie und Hansestadt;140023;17.7;-6.9\\n',\n",
       " 'CDU;;Niedersachsen;1119078;29.9;-9.5\\n',\n",
       " 'CDU;3101;Braunschweig, Stadt;27463;22.6;-8.6\\n',\n",
       " 'CDU;3102;Salzgitter, Stadt;9267;25.2;-10.3\\n',\n",
       " 'CDU;3103;Wolfsburg, Stadt;14495;29;-8.6\\n',\n",
       " 'CDU;3151;Gifhorn;26024;31.6;-10.2\\n',\n",
       " 'CDU;3153;Goslar;17944;28.8;-7.8\\n',\n",
       " 'CDU;3154;Helmstedt;13022;30.7;-7.7\\n',\n",
       " 'CDU;3155;Northeim;16764;27.9;-7.4\\n',\n",
       " 'CDU;3157;Peine;16991;26.6;-9.1\\n',\n",
       " 'CDU;3158;Wolfenbüttel;17029;27.6;-8.7\\n',\n",
       " 'CDU;3159;Göttingen;38909;25.6;-7.3\\n',\n",
       " 'CDU;3241;Region Hannover;132329;24.6;-9.2\\n',\n",
       " 'CDU;3251;Diepholz;33708;32.2;-8.3\\n',\n",
       " 'CDU;3252;Hameln-Pyrmont;192;28.4;-8.2\\n',\n",
       " 'CDU;3254;Hildesheim;37713;28;-8.7\\n',\n",
       " 'CDU;3255;Holzminden;9913;29.9;-5.9\\n',\n",
       " 'CDU;3256;Nienburg (Weser);17382;32.7;-10.1\\n',\n",
       " 'CDU;3257;Schaumburg;20075;27.7;-9.3\\n',\n",
       " 'CDU;3351;Celle;26926;32.4;-11.6\\n',\n",
       " 'CDU;3352;Cuxhaven;36576;37.7;-12.3\\n',\n",
       " 'CDU;5158;Mettmann;67117;28.9;-8.2\\n',\n",
       " 'CDU;5162;Rhein-Kreis Neuss;68003;32.4;-8.6\\n',\n",
       " 'CDU;5166;Viersen;45986;32.8;-10.4\\n',\n",
       " 'CDU;5170;Wesel;59081;27.3;-7.2\\n',\n",
       " 'CDU;5314;Bonn, Stadt;36292;23;-6.7\\n',\n",
       " 'CDU;5315;Köln, Stadt;9422;19.8;-6.5\\n',\n",
       " 'CDU;5316;Leverkusen, Stadt;18053;26.1;-7\\n',\n",
       " 'CDU;5334;Städteregion Aachen 1;66036;26.7;-4\\n',\n",
       " 'CDU;5358;Düren;38646;32.4;-5.6\\n',\n",
       " 'CDU;5362;Rhein-Erft-Kreis;62997;28.7;-8.3\\n',\n",
       " 'CDU;5366;Euskirchen;31063;33.8;-8.3\\n',\n",
       " 'CDU;5370;Heinsberg;39869;35.8;-9.9\\n',\n",
       " 'CDU;5374;Oberbergischer Kreis;39757;31.7;-8.9\\n',\n",
       " 'CDU;5378;Rheinisch-Bergischer Kreis;44229;30;-8.4\\n',\n",
       " 'CDU;5382;Rhein-Sieg-Kreis;89675;30.1;-8.6\\n',\n",
       " 'CDU;5512;Bottrop, Stadt;12582;24.3;-4.8\\n',\n",
       " 'CDU;5513;Gelsenkirchen, Stadt;172;19.6;-4\\n',\n",
       " 'CDU;5515;Münster, Stadt;41986;24.4;-8.5\\n',\n",
       " 'CDU;5554;Borken;74957;41.5;-10.8\\n',\n",
       " 'CDU;5558;Coesfeld;45668;38.2;-9\\n',\n",
       " 'CDU;5562;Recklinghausen;69706;25.7;-6.3\\n',\n",
       " 'CDU;5566;Steinfurt;75682;34.4;-8.2\\n',\n",
       " 'CDU;5570;Warendorf;48013;35.6;-8.7\\n',\n",
       " 'CDU;5711;Bielefeld, Stadt;32603;21.7;-8.9\\n',\n",
       " 'CDU;5754;Gütersloh;52419;32.2;-11.8\\n',\n",
       " 'CDU;5758;Herford;29137;25.9;-8.6\\n',\n",
       " 'CDU;5762;Höxter;27446;39.9;-10.4\\n',\n",
       " 'CDU;5766;Lippe;41966;25.8;-7.6\\n',\n",
       " 'CDU;5770;Minden-Lübbecke;38634;27.4;-7.9\\n',\n",
       " 'CDU;5774;Paderborn;49607;35.9;-13.5\\n',\n",
       " 'CDU;5911;Bochum, Stadt;32602;19.8;-5.2\\n',\n",
       " 'CDU;5913;Dortmund, Stadt;46156;19.3;-5.7\\n',\n",
       " 'CDU;5914;Hagen, Stadt der FernUniversität;174;24.2;-6.3\\n',\n",
       " 'CDU;5915;Hamm, Stadt;19511;27.1;-10.1\\n',\n",
       " 'CDU;5916;Herne, Stadt;1177;20;-6.1\\n',\n",
       " 'CDU;5954;Ennepe-Ruhr-Kreis;358;23.1;-5.3\\n',\n",
       " 'CDU;5958;Hochsauerlandkreis;51681;41.6;-8.7\\n',\n",
       " 'CDU;5962;Märkischer Kreis;52808;31.3;-7.2\\n',\n",
       " 'CDU;5966;Olpe;29663;46;-7.4\\n',\n",
       " 'CDU;5970;Siegen-Wittgenstein;37646;29.2;-6.9\\n',\n",
       " 'CDU;5974;Soest;46716;33.4;-9\\n',\n",
       " 'CDU;7231;Bernkastel-Wittlich;20367;37.1;-9.5\\n',\n",
       " 'CDU;7232;Eifelkreis Bitburg-Prüm;18773;38.5;-9.5\\n',\n",
       " 'CDU;7233;Vulkaneifel;12509;41.6;-7\\n',\n",
       " 'CDU;7235;Trier-Saarburg;26439;34.1;-10.6\\n',\n",
       " 'CDU;7311;Frankenthal (Pfalz), kreisfreie Stadt;5987;32;-7.8\\n',\n",
       " 'CDU;7312;Kaiserslautern, kreisfreie Stadt;8614;22.4;-6.8\\n',\n",
       " 'CDU;7313;Landau in der Pfalz, kreisfreie Stadt;6078;25.5;-5.1\\n',\n",
       " 'CDU;7314;Ludwigshafen am Rhein, kreisfreie Stadt;12921;23.8;-6.4\\n',\n",
       " 'CDU;7315;Mainz, kreisfreie Stadt;23371;23;-7\\n',\n",
       " 'CDU;7316;Neustadt an der Weinstraße, kreisfreie Stadt;7822;29.8;-7.4\\n',\n",
       " 'CDU;7317;Pirmasens, kreisfreie Stadt;4945;32.8;-5.6\\n',\n",
       " 'CDU;7318;Speyer, kreisfreie Stadt;5842;27;-6.1\\n',\n",
       " 'CDU;7319;Worms, kreisfreie Stadt;8879;28;-5.2\\n',\n",
       " 'CDU;7320;Zweibrücken, kreisfreie Stadt;3599;26.7;-2.6\\n',\n",
       " 'CDU;7331;Alzey-Worms;17458;26.7;-6.3\\n',\n",
       " 'CDU;7332;Bad Dürkheim;21501;29.8;-6.3\\n',\n",
       " 'CDU;7333;Donnersbergkreis;9733;25.7;-4.6\\n',\n",
       " 'CDU;7334;Germersheim;1942;31.8;-6.7\\n',\n",
       " 'CDU;7335;Kaiserslautern;1643;30.8;-4.5\\n',\n",
       " 'CDU;7336;Kusel;9392;25.6;-2.1\\n',\n",
       " 'CDU;7337;Südliche Weinstraße;20583;33.7;-4.2\\n',\n",
       " 'CDU;7338;Rhein-Pfalz-Kreis;24852;31.3;-6.5\\n',\n",
       " 'CDU;7339;Mainz-Bingen;32372;29.2;-7.5\\n',\n",
       " 'CDU;7340;Südwestpfalz;19236;35.3;-5.6\\n',\n",
       " 'CDU;;Baden-Württemberg;1498629;30.8;-8.5\\n',\n",
       " 'CDU;8111;Stuttgart, Landeshauptstadt;60326;23.8;-7.1\\n',\n",
       " 'CDU;8115;Böblingen;53642;31.3;-7.8\\n',\n",
       " 'CDU;8116;Esslingen;71172;29.8;-7.8\\n',\n",
       " 'CDU;8117;Göppingen;33328;30.4;-9.1\\n',\n",
       " 'CDU;8118;Ludwigsburg;71184;29.5;-7.4\\n',\n",
       " 'CDU;8119;Rems-Murr-Kreis;57657;30.4;-7.9\\n',\n",
       " 'CDU;8121;Heilbronn, Stadt;1126;26.7;-8.5\\n',\n",
       " 'CDU;8125;Heilbronn;46266;30.5;-9.7\\n',\n",
       " 'CDU;8126;Hohenlohekreis;17043;33.5;-9.1\\n',\n",
       " 'CDU;8127;Schwäbisch Hall;26183;30.7;-7.7\\n',\n",
       " 'CDU;8128;Main-Tauber-Kreis;26023;39.7;-9.6\\n',\n",
       " 'CDU;8135;Heidenheim;18579;34.7;-6.8\\n',\n",
       " 'CDU;8136;Ostalbkreis;54564;38.3;-9.6\\n',\n",
       " 'CDU;8211;Baden-Baden, Stadt;7488;32;-6.3\\n',\n",
       " 'CDU;;Brandenburg;215542;18;-7\\n',\n",
       " 'CDU;12051;Brandenburg an der Havel,Stadt;5518;19.6;-8.3\\n',\n",
       " 'CDU;12052;Cottbus, Stadt;718;16.2;-7.6\\n',\n",
       " 'CDU;12053;Frankfurt (Oder), Stadt;3817;16.9;-4.6\\n',\n",
       " 'CDU;12054;Potsdam, Stadt;10732;12.5;-4\\n',\n",
       " 'CDU;12060;Barnim;14419;16.5;-5.8\\n',\n",
       " 'CDU;12061;Dahme-Spreewald;15192;17.9;-7.1\\n',\n",
       " 'CDU;12062;Elbe-Elster;11456;22.6;-10.7\\n',\n",
       " 'CDU;12063;Havelland;15158;19.7;-5.9\\n',\n",
       " 'CDU;12064;Märkisch-Oderland;15114;16.2;-6.3\\n',\n",
       " 'CDU;12065;Oberhavel;1938;18.7;-6.5\\n',\n",
       " 'CDU;12066;Oberspreewald-Lausitz;9839;19.1;-9.4\\n',\n",
       " 'CDU;12067;Oder-Spree;13941;16.2;-7.1\\n',\n",
       " 'CDU;12068;Ostprignitz-Ruppin;8866;20.4;-6.7\\n',\n",
       " 'CDU;12069;Potsdam-Mittelmark;21747;19.4;-6.7\\n',\n",
       " 'CDU;12070;Prignitz;7438;21.2;-8.1\\n',\n",
       " 'CDU;12071;Spree-Neiße;10485;18;-9.8\\n',\n",
       " 'CDU;12072;Teltow-Fläming;14178;17.8;-6.2\\n',\n",
       " 'CDU;12073;Uckermark;11082;20.8;-6.7\\n',\n",
       " 'CDU;;Mecklenburg-Vorpommern;18484;24.5;-10.1\\n',\n",
       " 'CDU;13003;Rostock;17268;17.3;-6.3\\n',\n",
       " 'CDU;13004;Schwerin;865;19.5;-7.5\\n',\n",
       " 'CDU;13071;Mecklenburgische Seenplatte;30432;26.2;-10.1\\n',\n",
       " 'CDU;13072;Landkreis Rostock;27814;26.4;-10.4\\n',\n",
       " 'CDU;13073;Vorpommern-Rügen;29362;29.1;-13.3\\n',\n",
       " 'CDU;13074;Nordwestmecklenburg;17239;22.8;-8.3\\n',\n",
       " 'CDU;13075;Vorpommern-Greifswald;28182;25.8;-10.9\\n',\n",
       " 'CDU;13076;Ludwigslust-Parchim;25893;25.3;-9.4\\n',\n",
       " 'CDU;;Sachsen;474633;23;-11.5\\n',\n",
       " 'CDU;14511;Chemnitz, Stadt;23863;20.1;-7.2\\n',\n",
       " 'CDU;14521;Erzgebirgskreis;4862;27.4;-11.6\\n',\n",
       " 'CDU;14522;Mittelsachsen;42228;26.7;-13.1\\n',\n",
       " 'CDU;14523;Vogtlandkreis;29877;26.4;-9.2\\n',\n",
       " 'CDU;14524;Zwickau;40826;26.2;-10\\n',\n",
       " 'CDU;14612;Dresden, Stadt;54466;18.7;-10.1\\n',\n",
       " 'CDU;14625;Bautzen;39291;24.8;-14\\n',\n",
       " 'CDU;14626;Görlitz;32282;24.9;-13.2\\n',\n",
       " 'CDU;14627;Meißen;29612;23.6;-13.6\\n',\n",
       " 'CDU;14628;Sächsische Schweiz-Osterzgebirge;30799;23.3;-15.6\\n',\n",
       " 'CDU;16077;Altenburger Land;10674;25.5;-7.6\\n',\n",
       " 'SPD;;Bundesrepublik Deutschland;5914953;15.8;-11.4\\n',\n",
       " 'SPD;;Schleswig-Holstein;230415;17.1;-14.8\\n',\n",
       " 'SPD;1001;Flensburg, Stadt;5676;14.4;-18\\n',\n",
       " 'SPD;1002;Kiel, Landeshauptstadt;17912;16.4;-18\\n',\n",
       " 'SPD;1003;Lübeck, Hansestadt;17566;19.4;-14.8\\n',\n",
       " 'SPD;1004;Neumünster, Stadt;5286;18.4;-17.2\\n',\n",
       " 'SPD;1051;Dithmarschen;10294;17.8;-11.4\\n',\n",
       " 'SPD;1053;Herzogtum Lauenburg;15942;17.5;-13.9\\n',\n",
       " 'SPD;1054;Nordfriesland;12566;16.3;-14\\n',\n",
       " 'SPD;1055;Ostholstein;18497;19;-13.5\\n',\n",
       " 'SPD;1056;Pinneberg;26017;17.4;-15\\n',\n",
       " 'SPD;1057;Plön;11683;17.6;-14.7\\n',\n",
       " 'SPD;1058;Rendsburg-Eckernförde;22593;16.6;-15\\n',\n",
       " 'SPD;1059;Schleswig-Flensburg;15339;16.2;-14.2\\n',\n",
       " 'SPD;1060;Segeberg;21105;16.8;-14.8\\n',\n",
       " 'SPD;1061;Steinburg;9846;16.4;-13.1\\n',\n",
       " 'SPD;1062;Stormarn;20093;16.2;-15.5\\n',\n",
       " 'SPD;;Hamburg;157023;19.8;-14\\n',\n",
       " 'SPD;2000;Hamburg, Freie und Hansestadt;157023;19.8;-14\\n',\n",
       " 'SPD;;Niedersachsen;78161;20.9;-11.6\\n',\n",
       " 'SPD;3101;Braunschweig, Stadt;24206;19.9;-13.6\\n',\n",
       " 'SPD;3102;Salzgitter, Stadt;9457;25.7;-15.3\\n',\n",
       " 'SPD;3103;Wolfsburg, Stadt;12056;24.1;-10.5\\n',\n",
       " 'SPD;3151;Gifhorn;17358;21.1;-11.6\\n',\n",
       " 'SPD;3153;Goslar;15234;24.4;-11.3\\n',\n",
       " 'SPD;3154;Helmstedt;10514;24.8;-10.2\\n',\n",
       " 'SPD;3155;Northeim;16429;27.4;-12.7\\n',\n",
       " 'SPD;3157;Peine;16667;26.1;-13.3\\n',\n",
       " 'SPD;3158;Wolfenbüttel;14372;23.3;-12\\n',\n",
       " 'SPD;3159;Göttingen;33883;22.3;-13.3\\n',\n",
       " 'SPD;3241;Region Hannover;112036;20.8;-13.3\\n',\n",
       " 'SPD;3251;Diepholz;2115;20.2;-10.9\\n',\n",
       " 'SPD;3252;Hameln-Pyrmont;15754;23.3;-13.1\\n',\n",
       " 'SPD;3254;Hildesheim;31123;23.1;-12.4\\n',\n",
       " 'SPD;3255;Holzminden;9336;28.2;-10.6\\n',\n",
       " 'SPD;3256;Nienburg (Weser);11551;21.7;-10.6\\n',\n",
       " 'SPD;3257;Schaumburg;17481;24.1;-13.6\\n',\n",
       " 'SPD;3351;Celle;15018;18;-10.1\\n',\n",
       " 'SPD;3352;Cuxhaven;19954;20.6;-7.1\\n',\n",
       " 'SPD;5158;Mettmann;40332;17.3;-14.9\\n',\n",
       " 'SPD;5162;Rhein-Kreis Neuss;34152;16.3;-12.5\\n',\n",
       " 'SPD;5166;Viersen;22425;16;-11.7\\n',\n",
       " 'SPD;5170;Wesel;48737;22.5;-15.7\\n',\n",
       " 'SPD;5314;Bonn, Stadt;24317;15.4;-12.9\\n',\n",
       " 'SPD;5315;Köln, Stadt;80809;17;-14.1\\n',\n",
       " 'SPD;5316;Leverkusen, Stadt;1379;19.9;-13.7\\n',\n",
       " 'SPD;5334;Städteregion Aachen 2;4913;19.9;-21.3\\n',\n",
       " 'SPD;5358;Düren;23922;20.1;-16.7\\n',\n",
       " 'SPD;5362;Rhein-Erft-Kreis;43715;19.9;-14.5\\n',\n",
       " 'SPD;5366;Euskirchen;151;16.4;-11.8\\n',\n",
       " 'SPD;5370;Heinsberg;18552;16.7;-13.4\\n',\n",
       " 'SPD;5374;Oberbergischer Kreis;21981;17.5;-13\\n',\n",
       " 'SPD;5378;Rheinisch-Bergischer Kreis;24012;16.3;-12.6\\n',\n",
       " 'SPD;5382;Rhein-Sieg-Kreis;48388;16.2;-13.7\\n',\n",
       " 'SPD;5512;Bottrop, Stadt;12867;24.8;-19\\n',\n",
       " 'SPD;5513;Gelsenkirchen, Stadt;22498;25.7;-20.5\\n',\n",
       " 'SPD;5515;Münster, Stadt;24719;14.4;-14.3\\n',\n",
       " 'SPD;5554;Borken;291;16.1;-10.3\\n',\n",
       " 'SPD;5558;Coesfeld;18389;15.4;-11.8\\n',\n",
       " 'SPD;5562;Recklinghausen;64106;23.6;-16.8\\n',\n",
       " 'SPD;5566;Steinfurt;43333;19.7;-13.9\\n',\n",
       " 'SPD;5570;Warendorf;23999;17.8;-12.7\\n',\n",
       " 'SPD;5711;Bielefeld, Stadt;2827;18.8;-14.8\\n',\n",
       " 'SPD;5754;Gütersloh;27534;16.9;-12\\n',\n",
       " 'SPD;5758;Herford;25712;22.9;-14.9\\n',\n",
       " 'SPD;5762;Höxter;11332;16.5;-11\\n',\n",
       " 'SPD;5766;Lippe;35954;22.1;-14.3\\n',\n",
       " 'SPD;5770;Minden-Lübbecke;33063;23.5;-14.4\\n',\n",
       " 'SPD;5774;Paderborn;19044;13.8;-9.4\\n',\n",
       " 'SPD;5911;Bochum, Stadt;37849;23;-16.7\\n',\n",
       " 'SPD;5913;Dortmund, Stadt;54803;22.9;-16.4\\n',\n",
       " 'SPD;5914;Hagen, Stadt der FernUniversität;16064;22.3;-17.1\\n',\n",
       " 'SPD;5915;Hamm, Stadt;16598;23.1;-15.5\\n',\n",
       " 'SPD;5916;Herne, Stadt;15717;26.8;-16.3\\n',\n",
       " 'SPD;5954;Ennepe-Ruhr-Kreis;35666;23;-16\\n',\n",
       " 'SPD;5958;Hochsauerlandkreis;21337;17.2;-10.4\\n',\n",
       " 'SPD;5962;Märkischer Kreis;32827;19.5;-14\\n',\n",
       " 'SPD;5966;Olpe;9958;15.4;-9.5\\n',\n",
       " 'SPD;5970;Siegen-Wittgenstein;26498;20.5;-15\\n',\n",
       " 'SPD;5974;Soest;25043;17.9;-13.6\\n',\n",
       " 'SPD;7231;Bernkastel-Wittlich;11559;21.1;-4.5\\n',\n",
       " 'SPD;7232;Eifelkreis Bitburg-Prüm;10433;21.4;-4.9\\n',\n",
       " 'SPD;7233;Vulkaneifel;5869;19.5;-6.2\\n',\n",
       " 'SPD;7235;Trier-Saarburg;20642;26.6;-1.1\\n',\n",
       " 'SPD;7311;Frankenthal (Pfalz), kreisfreie Stadt;3656;19.6;-9.8\\n',\n",
       " 'SPD;7312;Kaiserslautern, kreisfreie Stadt;8256;21.5;-11.4\\n',\n",
       " 'SPD;7313;Landau in der Pfalz, kreisfreie Stadt;4126;17.3;-13.1\\n',\n",
       " 'SPD;7314;Ludwigshafen am Rhein, kreisfreie Stadt;12702;23.4;-11.7\\n',\n",
       " 'SPD;7315;Mainz, kreisfreie Stadt;18047;17.8;-11.1\\n',\n",
       " 'SPD;7316;Neustadt an der Weinstraße, kreisfreie Stadt;4433;16.9;-10.6\\n',\n",
       " 'SPD;7317;Pirmasens, kreisfreie Stadt;3352;22.3;-8.9\\n',\n",
       " 'SPD;7318;Speyer, kreisfreie Stadt;4532;20.9;-8.5\\n',\n",
       " 'SPD;7319;Worms, kreisfreie Stadt;7313;23.1;-10.5\\n',\n",
       " 'SPD;7320;Zweibrücken, kreisfreie Stadt;3533;26.2;-11.1\\n',\n",
       " 'SPD;7331;Alzey-Worms;15783;24.1;-9.9\\n',\n",
       " 'SPD;7332;Bad Dürkheim;14734;20.4;-10.7\\n',\n",
       " 'SPD;7333;Donnersbergkreis;9652;25.4;-10.5\\n',\n",
       " 'SPD;7334;Germersheim;11665;19.1;-10.7\\n',\n",
       " 'SPD;7335;Kaiserslautern;12224;22.9;-11.1\\n',\n",
       " 'SPD;7336;Kusel;10245;27.9;-13.7\\n',\n",
       " 'SPD;7337;Südliche Weinstraße;11556;18.9;-10.7\\n',\n",
       " 'SPD;7338;Rhein-Pfalz-Kreis;16039;20.2;-10.5\\n',\n",
       " 'SPD;7339;Mainz-Bingen;23494;21.2;-10.2\\n',\n",
       " 'SPD;7340;Südwestpfalz;11152;20.5;-9.3\\n',\n",
       " 'SPD;;Baden-Württemberg;648491;13.3;-9.7\\n',\n",
       " 'SPD;8111;Stuttgart, Landeshauptstadt;3421;13.5;-9.8\\n',\n",
       " 'SPD;8115;Böblingen;22182;12.9;-9.1\\n',\n",
       " 'SPD;8116;Esslingen;32653;13.7;-9.8\\n',\n",
       " 'SPD;8117;Göppingen;15222;13.9;-10\\n',\n",
       " 'SPD;8118;Ludwigsburg;33193;13.8;-10.8\\n',\n",
       " 'SPD;8119;Rems-Murr-Kreis;25672;13.5;-9.1\\n',\n",
       " 'SPD;8121;Heilbronn, Stadt;6926;16.4;-14\\n',\n",
       " 'SPD;8125;Heilbronn;21762;14.4;-11.2\\n',\n",
       " 'SPD;8126;Hohenlohekreis;6559;12.9;-10.7\\n',\n",
       " 'SPD;8127;Schwäbisch Hall;11965;14;-10.1\\n',\n",
       " 'SPD;8128;Main-Tauber-Kreis;8631;13.2;-7.8\\n',\n",
       " 'SPD;8135;Heidenheim;8329;15.6;-9\\n',\n",
       " 'SPD;8136;Ostalbkreis;18964;13.3;-8.7\\n',\n",
       " 'SPD;8211;Baden-Baden, Stadt;2883;12.3;-11.6\\n',\n",
       " 'SPD;9179;Fürstenfeldbruck;9798;9.4;-11.6\\n',\n",
       " 'SPD;9180;Garmisch-Partenkirchen;2514;6.1;-6.7\\n',\n",
       " 'SPD;9181;Landsberg am Lech;4363;7.2;-9.3\\n',\n",
       " 'SPD;9182;Miesbach;3434;7.2;-7.6\\n',\n",
       " 'SPD;9183;Mühldorf a.Inn;2845;5.8;-7.1\\n',\n",
       " 'SPD;9184;München;16816;10;-12.7\\n',\n",
       " 'SPD;9185;Neuburg-Schrobenhausen;2427;6.1;-7.6\\n',\n",
       " 'SPD;9186;Pfaffenhofen a.d.Ilm;4107;7.4;-9.8\\n',\n",
       " 'SPD;9187;Rosenheim;8768;7.1;-6.9\\n',\n",
       " 'SPD;9188;Starnberg;6003;8.6;-10.3\\n',\n",
       " 'SPD;9189;Traunstein;6081;7.7;-7.8\\n',\n",
       " 'SPD;9190;Weilheim-Schongau;5273;8.1;-8.3\\n',\n",
       " 'SPD;9261;Landshut, Stadt;2158;7.5;-10\\n',\n",
       " 'SPD;9262;Passau, Stadt;1932;8.6;-11.9\\n',\n",
       " 'SPD;9263;Straubing, Stadt;1132;6.7;-9.7\\n',\n",
       " 'SPD;9271;Deggendorf;2907;6.2;-7.8\\n',\n",
       " 'SPD;9272;Freyung-Grafenau;1842;5.8;-9.1\\n',\n",
       " 'SPD;9273;Kelheim;315;5.9;-9.8\\n',\n",
       " 'SPD;9274;Landshut;3965;5.4;-7.4\\n',\n",
       " 'SPD;9275;Passau;5523;7;-8.7\\n',\n",
       " 'SPD;9276;Regen;1955;6.6;-8.2\\n',\n",
       " 'SPD;9277;Rottal-Inn;2762;5.5;-6.3\\n',\n",
       " 'SPD;9278;Straubing-Bogen;2028;4.4;-7\\n',\n",
       " 'SPD;9279;Dingolfing-Landau;233;6;-7.6\\n',\n",
       " 'SPD;9361;Amberg, Stadt;2098;12.5;-12.1\\n',\n",
       " 'SPD;9362;Regensburg, Stadt;559;8.7;-14.3\\n',\n",
       " 'SPD;9363;Weiden i.d.OPf., Stadt;2214;13.1;-12\\n',\n",
       " 'SPD;9371;Amberg-Sulzbach;5871;11.9;-10.4\\n',\n",
       " 'SPD;9372;Cham;2805;5.2;-7.8\\n',\n",
       " 'SPD;9373;Neumarkt i.d.OPf.;3929;6.2;-7.5\\n',\n",
       " 'SPD;9374;Neustadt a.d.Waldnaab;5193;11.7;-9.3\\n',\n",
       " 'SPD;9375;Regensburg;651;7.1;-10.9\\n',\n",
       " 'SPD;9376;Schwandorf;6302;9.9;-11.1\\n',\n",
       " 'SPD;9377;Tirschenreuth;3368;9.7;-7.5\\n',\n",
       " 'SPD;9461;Bamberg, Stadt;3233;9.6;-10.2\\n',\n",
       " 'SPD;9462;Bayreuth, Stadt;3838;11.9;-12.5\\n',\n",
       " 'SPD;9463;Coburg, Stadt;2509;14.1;-13.8\\n',\n",
       " 'SPD;9464;Hof, Stadt;2348;14.3;-9.7\\n',\n",
       " 'SPD;9471;Bamberg;5635;8;-8.6\\n',\n",
       " 'SPD;9472;Bayreuth;5612;11.2;-11\\n',\n",
       " 'SPD;9473;Coburg;5802;14.5;-13.3\\n',\n",
       " 'SPD;9474;Forchheim;5207;9;-10.9\\n',\n",
       " 'SPD;9475;Hof;654;15;-11.1\\n',\n",
       " 'SPD;;Saarland;115178;23.1;-11.3\\n',\n",
       " 'SPD;10041;Regionalverband Saarbrücken;33217;22.6;-11.4\\n',\n",
       " 'SPD;10042;Merzig-Wadern;12157;22.5;-9.3\\n',\n",
       " 'SPD;10043;Neunkirchen;16979;25.4;-12.8\\n',\n",
       " 'SPD;10044;Saarlouis;23986;23.7;-11\\n',\n",
       " 'SPD;10045;Saarpfalz-Kreis;16478;21.3;-12.8\\n',\n",
       " 'SPD;10046;St. Wendel;12361;23.6;-10\\n',\n",
       " 'SPD;;Berlin;211665;14;-10\\n',\n",
       " 'SPD;11000;Berlin, Stadt;211665;14;-10\\n',\n",
       " 'SPD;11995;Berlin, West;135782;15.3;-10.5\\n',\n",
       " 'SPD;11996;Berlin, Ost;75883;12.2;-8.9\\n',\n",
       " 'SPD;;Brandenburg;206235;17.2;-9.7\\n',\n",
       " 'SPD;12051;Brandenburg an der Havel,Stadt;5005;17.8;-12\\n',\n",
       " 'SPD;12052;Cottbus, Stadt;7057;15.9;-9.5\\n',\n",
       " 'SPD;12053;Frankfurt (Oder), Stadt;3168;14;-8.1\\n',\n",
       " 'SPD;12054;Potsdam, Stadt;1523;17.8;-9.4\\n',\n",
       " 'SPD;12060;Barnim;13264;15.2;-9.3\\n',\n",
       " 'SPD;12061;Dahme-Spreewald;14201;16.7;-9.8\\n',\n",
       " 'SPD;12062;Elbe-Elster;8034;15.8;-7.3\\n',\n",
       " 'SPD;12063;Havelland;13531;17.6;-10.4\\n',\n",
       " 'SPD;12064;Märkisch-Oderland;14535;15.5;-10\\n',\n",
       " 'SPD;12065;Oberhavel;18393;17.7;-11\\n',\n",
       " 'SPD;12066;Oberspreewald-Lausitz;8917;17.4;-7.9\\n',\n",
       " 'SPD;12067;Oder-Spree;14105;16.4;-9.4\\n',\n",
       " 'SPD;12068;Ostprignitz-Ruppin;8897;20.5;-8.8\\n',\n",
       " 'SPD;12069;Potsdam-Mittelmark;20931;18.7;-10.5\\n',\n",
       " 'SPD;12070;Prignitz;7455;21.2;-10.7\\n',\n",
       " 'SPD;12071;Spree-Neiße;907;15.6;-9.6\\n',\n",
       " 'SPD;12072;Teltow-Fläming;14256;17.8;-10.7\\n',\n",
       " 'SPD;12073;Uckermark;10186;19.1;-8.6\\n',\n",
       " 'SPD;;Mecklenburg-Vorpommern;117236;15.6;-5.7\\n',\n",
       " 'SPD;13003;Rostock;16635;16.7;-6.1\\n',\n",
       " 'SPD;13004;Schwerin;822;18.6;-8.1\\n',\n",
       " 'SPD;13071;Mecklenburgische Seenplatte;16175;13.9;-6.1\\n',\n",
       " 'SPD;13072;Landkreis Rostock;16762;15.9;-5.5\\n',\n",
       " 'SPD;13073;Vorpommern-Rügen;11764;11.7;-4\\n',\n",
       " 'SPD;13074;Nordwestmecklenburg;1492;19.8;-7.2\\n',\n",
       " 'SPD;13075;Vorpommern-Greifswald;13228;12.1;-4.3\\n',\n",
       " 'SPD;13076;Ludwigslust-Parchim;19532;19.1;-6.3\\n',\n",
       " 'SPD;16064;Unstrut-Hainich-Kreis;5844;11.9;-7.9\\n',\n",
       " 'SPD;16065;Kyffhäuserkreis;4903;13.5;-6.9\\n',\n",
       " 'SPD;16066;Schmalkalden-Meiningen;8279;13.3;-6.3\\n',\n",
       " 'SPD;16067;Gotha;8949;14.2;-6.5\\n',\n",
       " 'SPD;16068;Sömmerda;3093;9;-5.9\\n',\n",
       " 'SPD;16069;Hildburghausen;3325;10;-7.5\\n',\n",
       " 'SPD;16070;Ilm-Kreis;5425;10.2;-7.5\\n',\n",
       " 'SPD;16071;Weimarer Land;372;8.7;-7.2\\n',\n",
       " 'SPD;16072;Sonneberg;2596;9.5;-7.2\\n',\n",
       " 'SPD;16073;Saalfeld-Rudolstadt;5596;10.6;-6.4\\n',\n",
       " 'SPD;16074;Saale-Holzland-Kreis;3966;9;-6.1\\n',\n",
       " 'SPD;16075;Saale-Orla-Kreis;3791;9.1;-7.7\\n',\n",
       " 'SPD;16076;Greiz;4859;9.3;-6.9\\n',\n",
       " 'SPD;16077;Altenburger Land;4582;10.9;-8\\n',\n",
       " 'GRÜNE;;Bundesrepublik Deutschland;7675584;20.5;9.8\\n',\n",
       " 'GRÜNE;;Schleswig-Holstein;392408;29.1;16.7\\n',\n",
       " 'GRÜNE;1001;Flensburg, Stadt;14604;37.1;19.7\\n',\n",
       " 'GRÜNE;1002;Kiel, Landeshauptstadt;40326;37;18\\n',\n",
       " 'GRÜNE;1003;Lübeck, Hansestadt;28633;31.6;16.4\\n',\n",
       " 'GRÜNE;1004;Neumünster, Stadt;7809;27.1;18.2\\n',\n",
       " 'GRÜNE;1051;Dithmarschen;12121;21;12.9\\n',\n",
       " 'GRÜNE;1053;Herzogtum Lauenburg;23552;25.8;13.9\\n',\n",
       " 'GRÜNE;1054;Nordfriesland;2258;29.3;18.1\\n',\n",
       " 'GRÜNE;1055;Ostholstein;24639;25.4;15.4\\n',\n",
       " 'GRÜNE;1056;Pinneberg;43304;28.9;16.5\\n',\n",
       " 'GRÜNE;1057;Plön;19797;29.8;16.9\\n',\n",
       " 'GRÜNE;1058;Rendsburg-Eckernförde;39806;29.3;17.2\\n',\n",
       " 'GRÜNE;1059;Schleswig-Flensburg;28886;30.4;19\\n',\n",
       " 'GRÜNE;1060;Segeberg;33886;26.9;16.4\\n',\n",
       " 'GRÜNE;1061;Steinburg;16148;26.9;16.5\\n',\n",
       " 'GRÜNE;1062;Stormarn;36317;29.3;16.3\\n',\n",
       " 'GRÜNE;;Hamburg;247147;31.2;13.9\\n',\n",
       " 'GRÜNE;2000;Hamburg, Freie und Hansestadt;247147;31.2;13.9\\n',\n",
       " 'GRÜNE;;Niedersachsen;846386;22.6;11.7\\n',\n",
       " 'GRÜNE;3101;Braunschweig, Stadt;34112;28;13.3\\n',\n",
       " 'GRÜNE;3102;Salzgitter, Stadt;544;14.8;9\\n',\n",
       " 'GRÜNE;3103;Wolfsburg, Stadt;897;17.9;9.3\\n',\n",
       " 'GRÜNE;3151;Gifhorn;1574;19.1;10.3\\n',\n",
       " 'GRÜNE;3153;Goslar;10752;17.2;9.2\\n',\n",
       " 'GRÜNE;3154;Helmstedt;6885;16.2;7.7\\n',\n",
       " 'GRÜNE;3155;Northeim;11405;19;11\\n',\n",
       " 'GRÜNE;3157;Peine;12304;19.3;10.7\\n',\n",
       " 'GRÜNE;3158;Wolfenbüttel;13082;21.2;10.8\\n',\n",
       " 'GRÜNE;3159;Göttingen;38408;25.3;12.2\\n',\n",
       " 'GRÜNE;3241;Region Hannover;140556;26.2;12.6\\n',\n",
       " 'GRÜNE;3251;Diepholz;22483;21.5;11\\n',\n",
       " 'GRÜNE;3252;Hameln-Pyrmont;13908;20.6;11.2\\n',\n",
       " 'GRÜNE;3254;Hildesheim;30585;22.7;11.5\\n',\n",
       " 'GRÜNE;3255;Holzminden;5508;16.6;7.4\\n',\n",
       " 'GRÜNE;3256;Nienburg (Weser);10759;20.2;10.5\\n',\n",
       " 'GRÜNE;3257;Schaumburg;15793;21.8;12.6\\n',\n",
       " 'GRÜNE;3351;Celle;16505;19.8;11.3\\n',\n",
       " 'GRÜNE;3352;Cuxhaven;17488;18;10\\n',\n",
       " 'GRÜNE;5158;Mettmann;54145;23.3;14.1\\n',\n",
       " 'GRÜNE;5162;Rhein-Kreis Neuss;45452;21.7;12.9\\n',\n",
       " 'GRÜNE;5166;Viersen;33173;23.6;14.1\\n',\n",
       " 'GRÜNE;5170;Wesel;44847;20.7;12.4\\n',\n",
       " 'GRÜNE;5314;Bonn, Stadt;50341;31.9;15.2\\n',\n",
       " 'GRÜNE;5315;Köln, Stadt;156513;32.9;14.5\\n',\n",
       " 'GRÜNE;5316;Leverkusen, Stadt;15693;22.7;13.2\\n',\n",
       " 'GRÜNE;5334;Städteregion Aachen 3;6088;24.6;15.2\\n',\n",
       " 'GRÜNE;5358;Düren;20432;17.1;10.3\\n',\n",
       " 'GRÜNE;5362;Rhein-Erft-Kreis;46003;21;11.8\\n',\n",
       " 'GRÜNE;5366;Euskirchen;1691;18.4;10.6\\n',\n",
       " 'GRÜNE;5370;Heinsberg;21245;19.1;12.3\\n',\n",
       " 'GRÜNE;5374;Oberbergischer Kreis;26025;20.8;12.8\\n',\n",
       " 'GRÜNE;5378;Rheinisch-Bergischer Kreis;3857;26.2;14.9\\n',\n",
       " 'GRÜNE;5382;Rhein-Sieg-Kreis;72122;24.2;14\\n',\n",
       " 'GRÜNE;5512;Bottrop, Stadt;8968;17.3;10.9\\n',\n",
       " 'GRÜNE;5513;Gelsenkirchen, Stadt;13697;15.6;9.6\\n',\n",
       " 'GRÜNE;5515;Münster, Stadt;62955;36.6;18\\n',\n",
       " 'GRÜNE;5554;Borken;37232;20.6;12.9\\n',\n",
       " 'GRÜNE;5558;Coesfeld;28811;24.1;14.1\\n',\n",
       " 'GRÜNE;5562;Recklinghausen;50554;18.6;11.2\\n',\n",
       " 'GRÜNE;5566;Steinfurt;51258;23.3;14.2\\n',\n",
       " 'GRÜNE;5570;Warendorf;29821;22.1;13\\n',\n",
       " 'GRÜNE;5711;Bielefeld, Stadt;42289;28.1;13.5\\n',\n",
       " 'GRÜNE;5754;Gütersloh;39536;24.3;14\\n',\n",
       " 'GRÜNE;5758;Herford;24221;21.6;12.4\\n',\n",
       " 'GRÜNE;5762;Höxter;11659;17;10.6\\n',\n",
       " 'GRÜNE;5766;Lippe;34841;21.4;11.8\\n',\n",
       " 'GRÜNE;5770;Minden-Lübbecke;28984;20.6;12.3\\n',\n",
       " 'GRÜNE;5774;Paderborn;31362;22.7;13.2\\n',\n",
       " 'GRÜNE;5911;Bochum, Stadt;40111;24.4;12.5\\n',\n",
       " 'GRÜNE;5913;Dortmund, Stadt;59764;25;12.4\\n',\n",
       " 'GRÜNE;5914;Hagen, Stadt der FernUniversität;13199;18.3;10.5\\n',\n",
       " 'GRÜNE;5915;Hamm, Stadt;1385;19.2;12.8\\n',\n",
       " 'GRÜNE;5916;Herne, Stadt;10264;17.5;10\\n',\n",
       " 'GRÜNE;5954;Ennepe-Ruhr-Kreis;36561;23.6;12.8\\n',\n",
       " 'GRÜNE;5958;Hochsauerlandkreis;1988;16;10.2\\n',\n",
       " 'GRÜNE;5962;Märkischer Kreis;30402;18;11\\n',\n",
       " 'GRÜNE;5966;Olpe;9457;14.7;9.2\\n',\n",
       " 'GRÜNE;5970;Siegen-Wittgenstein;22786;17.7;10.3\\n',\n",
       " 'GRÜNE;5974;Soest;29429;21.1;13\\n',\n",
       " 'GRÜNE;7231;Bernkastel-Wittlich;7377;13.4;7.2\\n',\n",
       " 'GRÜNE;7232;Eifelkreis Bitburg-Prüm;6823;14;7\\n',\n",
       " 'GRÜNE;7233;Vulkaneifel;3897;13;7.5\\n',\n",
       " 'GRÜNE;7235;Trier-Saarburg;11493;14.8;7.3\\n',\n",
       " 'GRÜNE;7311;Frankenthal (Pfalz), kreisfreie Stadt;2862;15.3;8.5\\n',\n",
       " 'GRÜNE;7312;Kaiserslautern, kreisfreie Stadt;7567;19.7;9.4\\n',\n",
       " 'GRÜNE;7313;Landau in der Pfalz, kreisfreie Stadt;6626;27.8;12.8\\n',\n",
       " 'GRÜNE;7314;Ludwigshafen am Rhein, kreisfreie Stadt;899;16.6;8.6\\n',\n",
       " 'GRÜNE;7315;Mainz, kreisfreie Stadt;29557;29.1;11.7\\n',\n",
       " 'GRÜNE;7316;Neustadt an der Weinstraße, kreisfreie Stadt;535;20.4;9.2\\n',\n",
       " 'GRÜNE;7317;Pirmasens, kreisfreie Stadt;1414;9.4;5.4\\n',\n",
       " 'GRÜNE;7318;Speyer, kreisfreie Stadt;4784;22.1;9\\n',\n",
       " 'GRÜNE;7319;Worms, kreisfreie Stadt;5302;16.7;7.7\\n',\n",
       " 'GRÜNE;7320;Zweibrücken, kreisfreie Stadt;1864;13.8;6.5\\n',\n",
       " 'GRÜNE;7331;Alzey-Worms;9925;15.2;7.3\\n',\n",
       " 'GRÜNE;7332;Bad Dürkheim;11909;16.5;8.6\\n',\n",
       " 'GRÜNE;7333;Donnersbergkreis;4925;13;6\\n',\n",
       " 'GRÜNE;7334;Germersheim;8534;14;7.3\\n',\n",
       " 'GRÜNE;7335;Kaiserslautern;637;11.9;6.2\\n',\n",
       " 'GRÜNE;7336;Kusel;4082;11.1;5.5\\n',\n",
       " 'GRÜNE;7337;Südliche Weinstraße;10081;16.5;8.1\\n',\n",
       " 'GRÜNE;7338;Rhein-Pfalz-Kreis;13142;16.5;8.7\\n',\n",
       " 'GRÜNE;7339;Mainz-Bingen;22665;20.4;10\\n',\n",
       " 'GRÜNE;7340;Südwestpfalz;5385;9.9;5.2\\n',\n",
       " 'GRÜNE;;Baden-Württemberg;1135146;23.3;10.1\\n',\n",
       " 'GRÜNE;8111;Stuttgart, Landeshauptstadt;71882;28.4;8.8\\n',\n",
       " 'GRÜNE;8115;Böblingen;37294;21.8;9.6\\n',\n",
       " 'GRÜNE;8116;Esslingen;55214;23.2;9.3\\n',\n",
       " 'GRÜNE;8117;Göppingen;22362;20.4;8.7\\n',\n",
       " 'GRÜNE;8118;Ludwigsburg;54293;22.5;9.4\\n',\n",
       " 'GRÜNE;8119;Rems-Murr-Kreis;37345;19.7;8.4\\n',\n",
       " 'GRÜNE;8121;Heilbronn, Stadt;8676;20.6;10.5\\n',\n",
       " 'GRÜNE;8125;Heilbronn;28143;18.6;9.2\\n',\n",
       " 'GRÜNE;8126;Hohenlohekreis;9912;19.5;9.9\\n',\n",
       " 'GRÜNE;8127;Schwäbisch Hall;18246;21.4;9.2\\n',\n",
       " 'GRÜNE;8128;Main-Tauber-Kreis;11367;17.3;9.5\\n',\n",
       " 'GRÜNE;8135;Heidenheim;1073;20.1;9.4\\n',\n",
       " 'GRÜNE;8136;Ostalbkreis;28036;19.7;10\\n',\n",
       " 'GRÜNE;8211;Baden-Baden, Stadt;6026;25.8;12.3\\n',\n",
       " 'GRÜNE;9179;Fürstenfeldbruck;23606;22.6;8.2\\n',\n",
       " 'GRÜNE;9180;Garmisch-Partenkirchen;6785;16.4;7.2\\n',\n",
       " 'GRÜNE;9181;Landsberg am Lech;14416;23.9;8\\n',\n",
       " 'GRÜNE;9182;Miesbach;8519;17.8;3.7\\n',\n",
       " 'GRÜNE;9183;Mühldorf a.Inn;6372;13.1;3.8\\n',\n",
       " 'GRÜNE;9184;München;39976;23.8;9.6\\n',\n",
       " 'GRÜNE;9185;Neuburg-Schrobenhausen;4974;12.5;5.3\\n',\n",
       " 'GRÜNE;9186;Pfaffenhofen a.d.Ilm;8225;14.8;5.8\\n',\n",
       " 'GRÜNE;9187;Rosenheim;22753;18.5;5.8\\n',\n",
       " 'GRÜNE;9188;Starnberg;18032;25.9;9.4\\n',\n",
       " 'GRÜNE;9189;Traunstein;14772;18.6;3.4\\n',\n",
       " 'GRÜNE;9190;Weilheim-Schongau;11958;18.3;5.7\\n',\n",
       " 'GRÜNE;9261;Landshut, Stadt;5668;19.7;5.1\\n',\n",
       " 'GRÜNE;9262;Passau, Stadt;4524;20.2;6.5\\n',\n",
       " 'GRÜNE;9263;Straubing, Stadt;1982;11.6;5\\n',\n",
       " 'GRÜNE;9271;Deggendorf;4657;9.9;3.5\\n',\n",
       " 'GRÜNE;9272;Freyung-Grafenau;2447;7.7;1.9\\n',\n",
       " 'GRÜNE;9273;Kelheim;5521;10.4;3.1\\n',\n",
       " 'GRÜNE;9274;Landshut;8644;11.8;2.5\\n',\n",
       " 'GRÜNE;9275;Passau;7714;9.7;2.6\\n',\n",
       " 'GRÜNE;9276;Regen;2303;7.8;2.2\\n',\n",
       " 'GRÜNE;9277;Rottal-Inn;5147;10.3;3.3\\n',\n",
       " 'GRÜNE;9278;Straubing-Bogen;3601;7.9;3.5\\n',\n",
       " 'GRÜNE;9279;Dingolfing-Landau;3181;8.2;2.6\\n',\n",
       " 'GRÜNE;9361;Amberg, Stadt;269;16;8.2\\n',\n",
       " 'GRÜNE;9362;Regensburg, Stadt;17573;27.4;9.9\\n',\n",
       " 'GRÜNE;9363;Weiden i.d.OPf., Stadt;2518;14.8;6.4\\n',\n",
       " 'GRÜNE;9371;Amberg-Sulzbach;5825;11.8;5.1\\n',\n",
       " 'GRÜNE;9372;Cham;4479;8.3;2.4\\n',\n",
       " 'GRÜNE;9373;Neumarkt i.d.OPf.;885;13.9;5.7\\n',\n",
       " 'GRÜNE;9374;Neustadt a.d.Waldnaab;4386;9.9;4.2\\n',\n",
       " 'GRÜNE;9375;Regensburg;1291;14;5.3\\n',\n",
       " 'GRÜNE;9376;Schwandorf;6093;9.6;4.3\\n',\n",
       " 'GRÜNE;9377;Tirschenreuth;3206;9.3;4.3\\n',\n",
       " 'GRÜNE;9461;Bamberg, Stadt;9536;28.4;7.4\\n',\n",
       " 'GRÜNE;9462;Bayreuth, Stadt;7628;23.6;9.2\\n',\n",
       " 'GRÜNE;9463;Coburg, Stadt;4065;22.8;9.2\\n',\n",
       " 'GRÜNE;9464;Hof, Stadt;2384;14.5;6.2\\n',\n",
       " 'GRÜNE;9471;Bamberg;9497;13.5;5.1\\n',\n",
       " 'GRÜNE;9472;Bayreuth;6845;13.6;5.7\\n',\n",
       " 'GRÜNE;9473;Coburg;5626;14.1;6.3\\n',\n",
       " 'GRÜNE;9474;Forchheim;9967;17.3;5.7\\n',\n",
       " 'GRÜNE;9475;Hof;4742;10.9;5\\n',\n",
       " 'GRÜNE;;Saarland;65758;13.2;7.2\\n',\n",
       " 'GRÜNE;10041;Regionalverband Saarbrücken;23503;16;8\\n',\n",
       " 'GRÜNE;10042;Merzig-Wadern;629;11.7;7\\n',\n",
       " 'GRÜNE;10043;Neunkirchen;7216;10.8;6.2\\n',\n",
       " 'GRÜNE;10044;Saarlouis;11971;11.8;6.4\\n',\n",
       " 'GRÜNE;10045;Saarpfalz-Kreis;11074;14.3;7.9\\n',\n",
       " 'GRÜNE;10046;St. Wendel;5704;10.9;6.7\\n',\n",
       " 'GRÜNE;;Berlin;419246;27.8;8.8\\n',\n",
       " 'GRÜNE;11000;Berlin, Stadt;419246;27.8;8.8\\n',\n",
       " 'GRÜNE;11995;Berlin, West;266515;30.1;9.4\\n',\n",
       " 'GRÜNE;11996;Berlin, Ost;152731;24.6;8.1\\n',\n",
       " 'GRÜNE;;Brandenburg;147206;12.3;6.2\\n',\n",
       " 'GRÜNE;12051;Brandenburg an der Havel,Stadt;3885;13.8;8.1\\n',\n",
       " 'GRÜNE;12052;Cottbus, Stadt;4326;9.8;3.7\\n',\n",
       " 'GRÜNE;12053;Frankfurt (Oder), Stadt;2535;11.2;4.9\\n',\n",
       " 'GRÜNE;12054;Potsdam, Stadt;19813;23.2;9.8\\n',\n",
       " 'GRÜNE;12060;Barnim;10792;12.3;6\\n',\n",
       " 'GRÜNE;12061;Dahme-Spreewald;10172;12;6.5\\n',\n",
       " 'GRÜNE;12062;Elbe-Elster;3083;6.1;3\\n',\n",
       " 'GRÜNE;12063;Havelland;11786;15.3;7.9\\n',\n",
       " 'GRÜNE;12064;Märkisch-Oderland;10235;10.9;5.8\\n',\n",
       " 'GRÜNE;12065;Oberhavel;1438;13.8;7.3\\n',\n",
       " 'GRÜNE;12066;Oberspreewald-Lausitz;2951;5.7;2.4\\n',\n",
       " 'GRÜNE;12067;Oder-Spree;8455;9.8;5.1\\n',\n",
       " 'GRÜNE;12068;Ostprignitz-Ruppin;4801;11.1;5.7\\n',\n",
       " 'GRÜNE;12069;Potsdam-Mittelmark;19138;17.1;8.6\\n',\n",
       " 'GRÜNE;12070;Prignitz;2891;8.2;4.9\\n',\n",
       " 'GRÜNE;12071;Spree-Neiße;3683;6.3;2.3\\n',\n",
       " 'GRÜNE;12072;Teltow-Fläming;9957;12.5;6.8\\n',\n",
       " 'GRÜNE;12073;Uckermark;4323;8.1;4.2\\n',\n",
       " 'GRÜNE;;Mecklenburg-Vorpommern;81276;10.8;5.7\\n',\n",
       " 'GRÜNE;13003;Rostock;17632;17.7;7.7\\n',\n",
       " 'GRÜNE;13004;Schwerin;6137;13.9;6.6\\n',\n",
       " 'GRÜNE;13071;Mecklenburgische Seenplatte;9615;8.3;4.4\\n',\n",
       " 'GRÜNE;13072;Landkreis Rostock;10752;10.2;5.7\\n',\n",
       " 'GRÜNE;13073;Vorpommern-Rügen;9457;9.4;5.2\\n',\n",
       " 'GRÜNE;13074;Nordwestmecklenburg;9175;12.2;6.9\\n',\n",
       " 'GRÜNE;13075;Vorpommern-Greifswald;9952;9.1;4.6\\n',\n",
       " 'GRÜNE;13076;Ludwigslust-Parchim;8556;8.4;4.9\\n',\n",
       " 'GRÜNE;16064;Unstrut-Hainich-Kreis;3402;6.9;3.2\\n',\n",
       " 'GRÜNE;16065;Kyffhäuserkreis;1707;4.7;1.9\\n',\n",
       " 'GRÜNE;16066;Schmalkalden-Meiningen;4357;7;3\\n',\n",
       " 'GRÜNE;16067;Gotha;4762;7.5;3.4\\n',\n",
       " 'GRÜNE;16068;Sömmerda;2087;6.1;2.7\\n',\n",
       " 'GRÜNE;16069;Hildburghausen;1855;5.6;2.4\\n',\n",
       " 'GRÜNE;16070;Ilm-Kreis;4466;8.4;3.7\\n',\n",
       " 'GRÜNE;16071;Weimarer Land;3236;7.6;2.9\\n',\n",
       " 'GRÜNE;16072;Sonneberg;1696;6.2;3\\n',\n",
       " 'GRÜNE;16073;Saalfeld-Rudolstadt;3328;6.3;2.3\\n',\n",
       " 'GRÜNE;16074;Saale-Holzland-Kreis;3183;7.2;3\\n',\n",
       " 'GRÜNE;16075;Saale-Orla-Kreis;2253;5.4;1.9\\n',\n",
       " 'GRÜNE;16076;Greiz;3031;5.8;2.4\\n',\n",
       " 'GRÜNE;16077;Altenburger Land;2298;5.5;2.7\\n',\n",
       " 'DIE LINKE;;Bundesrepublik Deutschland;2056010;5.5;-1.9\\n',\n",
       " 'DIE LINKE;;Schleswig-Holstein;50384;3.7;-0.7\\n',\n",
       " 'DIE LINKE;1001;Flensburg, Stadt;2349;6;-1.6\\n',\n",
       " 'DIE LINKE;1002;Kiel, Landeshauptstadt;6492;6;-0.5\\n',\n",
       " 'DIE LINKE;1003;Lübeck, Hansestadt;4231;4.7;-1.3\\n',\n",
       " 'DIE LINKE;1004;Neumünster, Stadt;1041;3.6;-1.1\\n',\n",
       " 'DIE LINKE;1051;Dithmarschen;2002;3.5;-0.7\\n',\n",
       " 'DIE LINKE;1053;Herzogtum Lauenburg;3168;3.5;-0.9\\n',\n",
       " 'DIE LINKE;1054;Nordfriesland;2449;3.2;-0.6\\n',\n",
       " 'DIE LINKE;1055;Ostholstein;2822;2.9;-0.6\\n',\n",
       " 'DIE LINKE;1056;Pinneberg;5485;3.7;-0.8\\n',\n",
       " 'DIE LINKE;1057;Plön;2067;3.1;-0.6\\n',\n",
       " 'DIE LINKE;1058;Rendsburg-Eckernförde;4221;3.1;-0.5\\n',\n",
       " 'DIE LINKE;1059;Schleswig-Flensburg;3123;3.3;-0.6\\n',\n",
       " 'DIE LINKE;1060;Segeberg;4597;3.7;-0.5\\n',\n",
       " 'DIE LINKE;1061;Steinburg;2159;3.6;-1.2\\n',\n",
       " 'DIE LINKE;1062;Stormarn;4178;3.4;-0.7\\n',\n",
       " 'DIE LINKE;;Hamburg;55171;7;-1.7\\n',\n",
       " 'DIE LINKE;2000;Hamburg, Freie und Hansestadt;55171;7;-1.7\\n',\n",
       " 'DIE LINKE;;Niedersachsen;141782;3.8;-0.2\\n',\n",
       " 'DIE LINKE;3101;Braunschweig, Stadt;5763;4.7;-0.7\\n',\n",
       " 'DIE LINKE;3102;Salzgitter, Stadt;1759;4.8;0.2\\n',\n",
       " 'DIE LINKE;3103;Wolfsburg, Stadt;1811;3.6;-0.6\\n',\n",
       " 'DIE LINKE;3151;Gifhorn;2628;3.2;-0.3\\n',\n",
       " 'DIE LINKE;3153;Goslar;2448;3.9;-0.4\\n',\n",
       " 'DIE LINKE;3154;Helmstedt;147;3.5;-0.5\\n',\n",
       " 'DIE LINKE;3155;Northeim;193;3.2;-0.2\\n',\n",
       " 'DIE LINKE;3157;Peine;2229;3.5;-0.2\\n',\n",
       " 'DIE LINKE;3158;Wolfenbüttel;2185;3.5;0.1\\n',\n",
       " 'DIE LINKE;3159;Göttingen;665;4.4;-0.8\\n',\n",
       " 'DIE LINKE;3241;Region Hannover;23978;4.5;-0.2\\n',\n",
       " 'DIE LINKE;3251;Diepholz;3539;3.4;-0.4\\n',\n",
       " 'DIE LINKE;3252;Hameln-Pyrmont;2609;3.9;0.1\\n',\n",
       " 'DIE LINKE;3254;Hildesheim;5024;3.7;-0.3\\n',\n",
       " 'DIE LINKE;3255;Holzminden;924;2.8;-0.5\\n',\n",
       " 'DIE LINKE;3256;Nienburg (Weser);1657;3.1;-0.2\\n',\n",
       " 'DIE LINKE;3257;Schaumburg;2296;3.2;-0.2\\n',\n",
       " 'DIE LINKE;3351;Celle;2702;3.2;0.1\\n',\n",
       " 'DIE LINKE;3352;Cuxhaven;3275;3.4;-0.1\\n',\n",
       " 'DIE LINKE;5158;Mettmann;8214;3.5;-0.2\\n',\n",
       " 'DIE LINKE;5162;Rhein-Kreis Neuss;6704;3.2;-0.3\\n',\n",
       " 'DIE LINKE;5166;Viersen;4794;3.4;-0.2\\n',\n",
       " 'DIE LINKE;5170;Wesel;933;4.3;-0.1\\n',\n",
       " 'DIE LINKE;5314;Bonn, Stadt;7674;4.9;-1\\n',\n",
       " 'DIE LINKE;5315;Köln, Stadt;29156;6.1;-0.8\\n',\n",
       " 'DIE LINKE;5316;Leverkusen, Stadt;2952;4.3;-0.6\\n',\n",
       " 'DIE LINKE;5334;Städteregion Aachen 4;10988;4.4;-0.2\\n',\n",
       " 'DIE LINKE;5358;Düren;4248;3.6;-0.3\\n',\n",
       " 'DIE LINKE;5362;Rhein-Erft-Kreis;7561;3.4;0\\n',\n",
       " 'DIE LINKE;5366;Euskirchen;31;3.4;-0.6\\n',\n",
       " 'DIE LINKE;5370;Heinsberg;4098;3.7;0.3\\n',\n",
       " 'DIE LINKE;5374;Oberbergischer Kreis;4498;3.6;-0.7\\n',\n",
       " 'DIE LINKE;5378;Rheinisch-Bergischer Kreis;5015;3.4;-0.4\\n',\n",
       " 'DIE LINKE;5382;Rhein-Sieg-Kreis;10665;3.6;-0.4\\n',\n",
       " 'DIE LINKE;5512;Bottrop, Stadt;2138;4.1;-0.7\\n',\n",
       " 'DIE LINKE;5513;Gelsenkirchen, Stadt;4025;4.6;-0.6\\n',\n",
       " 'DIE LINKE;5515;Münster, Stadt;8565;5;-0.5\\n',\n",
       " 'DIE LINKE;5554;Borken;4563;2.5;0.1\\n',\n",
       " 'DIE LINKE;5558;Coesfeld;3401;2.8;-0.2\\n',\n",
       " 'DIE LINKE;5562;Recklinghausen;10973;4;-0.7\\n',\n",
       " 'DIE LINKE;5566;Steinfurt;7499;3.4;-0.1\\n',\n",
       " 'DIE LINKE;5570;Warendorf;4372;3.2;-0.1\\n',\n",
       " 'DIE LINKE;5711;Bielefeld, Stadt;9851;6.6;-0.6\\n',\n",
       " 'DIE LINKE;5754;Gütersloh;5613;3.4;-0.4\\n',\n",
       " 'DIE LINKE;5758;Herford;4512;4;-0.4\\n',\n",
       " 'DIE LINKE;5762;Höxter;2174;3.2;0.1\\n',\n",
       " 'DIE LINKE;5766;Lippe;6171;3.8;-0.8\\n',\n",
       " 'DIE LINKE;5770;Minden-Lübbecke;5064;3.6;-0.4\\n',\n",
       " 'DIE LINKE;5774;Paderborn;4946;3.6;-0.8\\n',\n",
       " 'DIE LINKE;5911;Bochum, Stadt;9336;5.7;-1\\n',\n",
       " 'DIE LINKE;5913;Dortmund, Stadt;1342;5.6;-0.9\\n',\n",
       " 'DIE LINKE;5914;Hagen, Stadt der FernUniversität;3145;4.4;-0.9\\n',\n",
       " 'DIE LINKE;5915;Hamm, Stadt;296;4.1;-0.5\\n',\n",
       " 'DIE LINKE;5916;Herne, Stadt;2971;5.1;-1.1\\n',\n",
       " 'DIE LINKE;5954;Ennepe-Ruhr-Kreis;6316;4.1;-1.2\\n',\n",
       " 'DIE LINKE;5958;Hochsauerlandkreis;3535;2.8;-0.3\\n',\n",
       " 'DIE LINKE;5962;Märkischer Kreis;6262;3.7;-0.5\\n',\n",
       " 'DIE LINKE;5966;Olpe;1617;2.5;-0.2\\n',\n",
       " 'DIE LINKE;5970;Siegen-Wittgenstein;5707;4.4;-0.1\\n',\n",
       " 'DIE LINKE;5974;Soest;5003;3.6;-0.1\\n',\n",
       " 'DIE LINKE;7231;Bernkastel-Wittlich;1522;2.8;-0.3\\n',\n",
       " 'DIE LINKE;7232;Eifelkreis Bitburg-Prüm;1251;2.6;0.2\\n',\n",
       " 'DIE LINKE;7233;Vulkaneifel;862;2.9;-0.6\\n',\n",
       " 'DIE LINKE;7235;Trier-Saarburg;2158;2.8;-0.2\\n',\n",
       " 'DIE LINKE;7311;Frankenthal (Pfalz), kreisfreie Stadt;658;3.5;-1.1\\n',\n",
       " 'DIE LINKE;7312;Kaiserslautern, kreisfreie Stadt;1671;4.3;-1.9\\n',\n",
       " 'DIE LINKE;7313;Landau in der Pfalz, kreisfreie Stadt;993;4.2;0.1\\n',\n",
       " 'DIE LINKE;7314;Ludwigshafen am Rhein, kreisfreie Stadt;215;4;-0.4\\n',\n",
       " 'DIE LINKE;7315;Mainz, kreisfreie Stadt;4528;4.5;-0.7\\n',\n",
       " 'DIE LINKE;7316;Neustadt an der Weinstraße, kreisfreie Stadt;665;2.5;-0.9\\n',\n",
       " 'DIE LINKE;7317;Pirmasens, kreisfreie Stadt;517;3.4;-1.5\\n',\n",
       " 'DIE LINKE;7318;Speyer, kreisfreie Stadt;802;3.7;-1.3\\n',\n",
       " 'DIE LINKE;7319;Worms, kreisfreie Stadt;890;2.8;-0.9\\n',\n",
       " 'DIE LINKE;7320;Zweibrücken, kreisfreie Stadt;541;4;-1.7\\n',\n",
       " 'DIE LINKE;7331;Alzey-Worms;1679;2.6;-1\\n',\n",
       " 'DIE LINKE;7332;Bad Dürkheim;1755;2.4;-0.5\\n',\n",
       " 'DIE LINKE;7333;Donnersbergkreis;1148;3;-0.9\\n',\n",
       " 'DIE LINKE;7334;Germersheim;1532;2.5;-0.6\\n',\n",
       " 'DIE LINKE;7335;Kaiserslautern;1659;3.1;-0.9\\n',\n",
       " 'DIE LINKE;7336;Kusel;1287;3.5;-1.5\\n',\n",
       " 'DIE LINKE;7337;Südliche Weinstraße;1473;2.4;-0.5\\n',\n",
       " 'DIE LINKE;7338;Rhein-Pfalz-Kreis;1896;2.4;-0.4\\n',\n",
       " 'DIE LINKE;7339;Mainz-Bingen;3257;2.9;-0.3\\n',\n",
       " 'DIE LINKE;7340;Südwestpfalz;136;2.5;-0.9\\n',\n",
       " 'DIE LINKE;;Baden-Württemberg;151737;3.1;-0.5\\n',\n",
       " 'DIE LINKE;8111;Stuttgart, Landeshauptstadt;12899;5.1;-0.7\\n',\n",
       " 'DIE LINKE;8115;Böblingen;4509;2.6;-0.7\\n',\n",
       " 'DIE LINKE;8116;Esslingen;7089;3;-0.4\\n',\n",
       " 'DIE LINKE;8117;Göppingen;2673;2.4;-0.9\\n',\n",
       " 'DIE LINKE;8118;Ludwigsburg;7377;3.1;-0.4\\n',\n",
       " 'DIE LINKE;8119;Rems-Murr-Kreis;5369;2.8;-0.4\\n',\n",
       " 'DIE LINKE;8121;Heilbronn, Stadt;1643;3.9;-0.1\\n',\n",
       " 'DIE LINKE;8125;Heilbronn;3857;2.5;-0.4\\n',\n",
       " 'DIE LINKE;8126;Hohenlohekreis;1261;2.5;-1.1\\n',\n",
       " 'DIE LINKE;8127;Schwäbisch Hall;2462;2.9;-0.7\\n',\n",
       " 'DIE LINKE;8128;Main-Tauber-Kreis;1554;2.4;-0.7\\n',\n",
       " 'DIE LINKE;8135;Heidenheim;1569;2.9;-0.5\\n',\n",
       " 'DIE LINKE;8136;Ostalbkreis;4056;2.8;-0.2\\n',\n",
       " 'DIE LINKE;8211;Baden-Baden, Stadt;611;2.6;-0.3\\n',\n",
       " 'DIE LINKE;9179;Fürstenfeldbruck;2102;2;-0.5\\n',\n",
       " 'DIE LINKE;9180;Garmisch-Partenkirchen;658;1.6;-0.4\\n',\n",
       " 'DIE LINKE;9181;Landsberg am Lech;1269;2.1;-0.5\\n',\n",
       " 'DIE LINKE;9182;Miesbach;751;1.6;-0.2\\n',\n",
       " 'DIE LINKE;9183;Mühldorf a.Inn;846;1.7;-0.6\\n',\n",
       " 'DIE LINKE;9184;München;3015;1.8;-0.6\\n',\n",
       " 'DIE LINKE;9185;Neuburg-Schrobenhausen;640;1.6;-0.5\\n',\n",
       " 'DIE LINKE;9186;Pfaffenhofen a.d.Ilm;947;1.7;-0.5\\n',\n",
       " 'DIE LINKE;9187;Rosenheim;202;1.6;-0.7\\n',\n",
       " 'DIE LINKE;9188;Starnberg;1224;1.8;-0.5\\n',\n",
       " 'DIE LINKE;9189;Traunstein;1558;2;-0.5\\n',\n",
       " 'DIE LINKE;9190;Weilheim-Schongau;1378;2.1;-0.5\\n',\n",
       " 'DIE LINKE;9261;Landshut, Stadt;733;2.6;-1\\n',\n",
       " 'DIE LINKE;9262;Passau, Stadt;614;2.7;-1.5\\n',\n",
       " 'DIE LINKE;9263;Straubing, Stadt;409;2.4;-0.5\\n',\n",
       " 'DIE LINKE;9271;Deggendorf;735;1.6;-0.9\\n',\n",
       " 'DIE LINKE;9272;Freyung-Grafenau;448;1.4;-0.8\\n',\n",
       " 'DIE LINKE;9273;Kelheim;814;1.5;-0.4\\n',\n",
       " 'DIE LINKE;9274;Landshut;1086;1.5;-0.4\\n',\n",
       " 'DIE LINKE;9275;Passau;1285;1.6;-1.1\\n',\n",
       " 'DIE LINKE;9276;Regen;460;1.6;-0.8\\n',\n",
       " 'DIE LINKE;9277;Rottal-Inn;756;1.5;-0.5\\n',\n",
       " 'DIE LINKE;9278;Straubing-Bogen;559;1.2;-0.2\\n',\n",
       " 'DIE LINKE;9279;Dingolfing-Landau;556;1.4;-0.4\\n',\n",
       " 'DIE LINKE;9361;Amberg, Stadt;486;2.9;-0.7\\n',\n",
       " 'DIE LINKE;9362;Regensburg, Stadt;2307;3.6;-0.9\\n',\n",
       " 'DIE LINKE;9363;Weiden i.d.OPf., Stadt;505;3;-0.2\\n',\n",
       " 'DIE LINKE;9371;Amberg-Sulzbach;955;1.9;-0.3\\n',\n",
       " 'DIE LINKE;9372;Cham;770;1.4;-0.2\\n',\n",
       " 'DIE LINKE;9373;Neumarkt i.d.OPf.;1272;2;-0.2\\n',\n",
       " 'DIE LINKE;9374;Neustadt a.d.Waldnaab;774;1.7;0.1\\n',\n",
       " 'DIE LINKE;9375;Regensburg;1676;1.8;-0.3\\n',\n",
       " 'DIE LINKE;9376;Schwandorf;1236;1.9;0\\n',\n",
       " 'DIE LINKE;9377;Tirschenreuth;548;1.6;0\\n',\n",
       " 'DIE LINKE;9461;Bamberg, Stadt;1371;4.1;-0.4\\n',\n",
       " 'DIE LINKE;9462;Bayreuth, Stadt;933;2.9;-0.7\\n',\n",
       " 'DIE LINKE;9463;Coburg, Stadt;582;3.3;-0.7\\n',\n",
       " 'DIE LINKE;9464;Hof, Stadt;485;3;-0.8\\n',\n",
       " 'DIE LINKE;9471;Bamberg;129;1.8;-0.7\\n',\n",
       " 'DIE LINKE;9472;Bayreuth;910;1.8;-0.3\\n',\n",
       " 'DIE LINKE;9473;Coburg;836;2.1;-0.5\\n',\n",
       " 'DIE LINKE;9474;Forchheim;1252;2.2;-0.6\\n',\n",
       " 'DIE LINKE;9475;Hof;860;2;-0.7\\n',\n",
       " 'DIE LINKE;;Saarland;29784;6;-0.7\\n',\n",
       " 'DIE LINKE;10041;Regionalverband Saarbrücken;9989;6.8;-1.5\\n',\n",
       " 'DIE LINKE;10042;Merzig-Wadern;2988;5.5;0.1\\n',\n",
       " 'DIE LINKE;10043;Neunkirchen;4234;6.3;-0.7\\n',\n",
       " 'DIE LINKE;10044;Saarlouis;6046;6;-0.2\\n',\n",
       " 'DIE LINKE;10045;Saarpfalz-Kreis;4265;5.5;-0.6\\n',\n",
       " 'DIE LINKE;10046;St. Wendel;2262;4.3;-0.6\\n',\n",
       " 'DIE LINKE;;Berlin;179871;11.9;-4.3\\n',\n",
       " 'DIE LINKE;11000;Berlin, Stadt;179871;11.9;-4.3\\n',\n",
       " 'DIE LINKE;11995;Berlin, West;6641;7.5;-2.2\\n',\n",
       " 'DIE LINKE;11996;Berlin, Ost;113461;18.3;-8.5\\n',\n",
       " 'DIE LINKE;;Brandenburg;147627;12.3;-7.3\\n',\n",
       " 'DIE LINKE;12051;Brandenburg an der Havel,Stadt;3276;11.6;-6.6\\n',\n",
       " 'DIE LINKE;12052;Cottbus, Stadt;5576;12.6;-8.9\\n',\n",
       " 'DIE LINKE;12053;Frankfurt (Oder), Stadt;4177;18.4;-7.9\\n',\n",
       " 'DIE LINKE;12054;Potsdam, Stadt;12502;14.6;-8.4\\n',\n",
       " 'DIE LINKE;12060;Barnim;13072;15;-9.7\\n',\n",
       " 'DIE LINKE;12061;Dahme-Spreewald;9871;11.6;-7.3\\n',\n",
       " 'DIE LINKE;12062;Elbe-Elster;5231;10.3;-6.8\\n',\n",
       " 'DIE LINKE;12063;Havelland;7643;9.9;-6.2\\n',\n",
       " 'DIE LINKE;12064;Märkisch-Oderland;14383;15.4;-8.5\\n',\n",
       " 'DIE LINKE;12065;Oberhavel;11377;11;-5.9\\n',\n",
       " 'DIE LINKE;12066;Oberspreewald-Lausitz;5932;11.5;-7.6\\n',\n",
       " 'DIE LINKE;12067;Oder-Spree;11529;13.4;-7.6\\n',\n",
       " 'DIE LINKE;12068;Ostprignitz-Ruppin;5508;12.7;-6.1\\n',\n",
       " 'DIE LINKE;12069;Potsdam-Mittelmark;11413;10.2;-5.5\\n',\n",
       " 'DIE LINKE;12070;Prignitz;4101;11.7;-6.5\\n',\n",
       " 'DIE LINKE;12071;Spree-Neiße;5962;10.3;-7.7\\n',\n",
       " 'DIE LINKE;12072;Teltow-Fläming;9091;11.4;-7.8\\n',\n",
       " 'DIE LINKE;12073;Uckermark;6983;13.1;-7.6\\n',\n",
       " 'DIE LINKE;;Mecklenburg-Vorpommern;104919;13.9;-5.7\\n',\n",
       " 'DIE LINKE;13003;Rostock;16747;16.8;-7.4\\n',\n",
       " 'DIE LINKE;13004;Schwerin;6604;14.9;-6.5\\n',\n",
       " 'DIE LINKE;13071;Mecklenburgische Seenplatte;18013;15.5;-5.9\\n',\n",
       " 'DIE LINKE;13072;Landkreis Rostock;13536;12.8;-5.5\\n',\n",
       " 'DIE LINKE;13073;Vorpommern-Rügen;13477;13.4;-4.6\\n',\n",
       " 'DIE LINKE;13074;Nordwestmecklenburg;9755;12.9;-4.9\\n',\n",
       " 'DIE LINKE;13075;Vorpommern-Greifswald;1321;12.1;-6.5\\n',\n",
       " 'DIE LINKE;13076;Ludwigslust-Parchim;13577;13.3;-5.1\\n',\n",
       " 'DIE LINKE;16064;Unstrut-Hainich-Kreis;6073;12.4;-8.7\\n',\n",
       " 'DIE LINKE;16065;Kyffhäuserkreis;5896;16.2;-9.6\\n',\n",
       " 'DIE LINKE;16066;Schmalkalden-Meiningen;822;13.2;-8.3\\n',\n",
       " 'DIE LINKE;16067;Gotha;784;12.4;-7.5\\n',\n",
       " 'DIE LINKE;16068;Sömmerda;4687;13.6;-8.9\\n',\n",
       " 'DIE LINKE;16069;Hildburghausen;4659;14;-10\\n',\n",
       " 'DIE LINKE;16070;Ilm-Kreis;7264;13.7;-10.3\\n',\n",
       " 'DIE LINKE;16071;Weimarer Land;4958;11.6;-8.7\\n',\n",
       " 'DIE LINKE;16072;Sonneberg;4045;14.8;-11.1\\n',\n",
       " 'DIE LINKE;16073;Saalfeld-Rudolstadt;6817;12.9;-9.9\\n',\n",
       " 'DIE LINKE;16074;Saale-Holzland-Kreis;6282;14.2;-8.8\\n',\n",
       " 'DIE LINKE;16075;Saale-Orla-Kreis;5713;13.7;-9.8\\n',\n",
       " 'DIE LINKE;16076;Greiz;6427;12.3;-8.7\\n',\n",
       " 'DIE LINKE;16077;Altenburger Land;5664;13.5;-9\\n',\n",
       " 'AfD;;Bundesrepublik Deutschland;4103453;11;3.9\\n',\n",
       " 'AfD;;Schleswig-Holstein;100419;7.4;0.6\\n',\n",
       " 'AfD;1001;Flensburg, Stadt;2477;6.3;0\\n',\n",
       " 'AfD;1002;Kiel, Landeshauptstadt;6458;5.9;0.1\\n',\n",
       " 'AfD;1003;Lübeck, Hansestadt;6773;7.5;0.6\\n',\n",
       " 'AfD;1004;Neumünster, Stadt;2761;9.6;2.4\\n',\n",
       " 'AfD;1051;Dithmarschen;5121;8.9;3.4\\n',\n",
       " 'AfD;1053;Herzogtum Lauenburg;8356;9.2;1.6\\n',\n",
       " 'AfD;1054;Nordfriesland;4373;5.7;0\\n',\n",
       " 'AfD;1055;Ostholstein;7844;8.1;0.2\\n',\n",
       " 'AfD;1056;Pinneberg;11685;7.8;0.7\\n',\n",
       " 'AfD;1057;Plön;4846;7.3;0.3\\n',\n",
       " 'AfD;1058;Rendsburg-Eckernförde;9206;6.8;0\\n',\n",
       " 'AfD;1059;Schleswig-Flensburg;5704;6;-0.5\\n',\n",
       " 'AfD;1060;Segeberg;10296;8.2;0.9\\n',\n",
       " 'AfD;1061;Steinburg;4674;7.8;2\\n',\n",
       " 'AfD;1062;Stormarn;9845;8;0.5\\n',\n",
       " 'AfD;;Hamburg;51381;6.5;0.5\\n',\n",
       " 'AfD;2000;Hamburg, Freie und Hansestadt;51381;6.5;0.5\\n',\n",
       " 'AfD;;Niedersachsen;29734;7.9;2.6\\n',\n",
       " 'AfD;3101;Braunschweig, Stadt;8327;6.8;1.2\\n',\n",
       " 'AfD;3102;Salzgitter, Stadt;5519;15;9.2\\n',\n",
       " 'AfD;3103;Wolfsburg, Stadt;5105;10.2;3.6\\n',\n",
       " 'AfD;3151;Gifhorn;8047;9.8;4.9\\n',\n",
       " 'AfD;3153;Goslar;6408;10.3;3.5\\n',\n",
       " 'AfD;3154;Helmstedt;3895;9.2;3.8\\n',\n",
       " 'AfD;3155;Northeim;4877;8.1;2.6\\n',\n",
       " 'AfD;3157;Peine;5936;9.3;4\\n',\n",
       " 'AfD;3158;Wolfenbüttel;551;8.9;2.7\\n',\n",
       " 'AfD;3159;Göttingen;10309;6.8;1.8\\n',\n",
       " 'AfD;3241;Region Hannover;4342;8.1;2.3\\n',\n",
       " 'AfD;3251;Diepholz;7849;7.5;2.3\\n',\n",
       " 'AfD;3252;Hameln-Pyrmont;6648;9.8;3.8\\n',\n",
       " 'AfD;3254;Hildesheim;11272;8.4;2.8\\n',\n",
       " 'AfD;3255;Holzminden;2759;8.3;3.6\\n',\n",
       " 'AfD;3256;Nienburg (Weser);46;8.6;4\\n',\n",
       " 'AfD;3257;Schaumburg;6544;9;3.2\\n',\n",
       " 'AfD;3351;Celle;9092;10.9;3\\n',\n",
       " 'AfD;3352;Cuxhaven;7844;8.1;3.3\\n',\n",
       " 'AfD;5158;Mettmann;20603;8.9;2.3\\n',\n",
       " 'AfD;5162;Rhein-Kreis Neuss;16801;8;2.3\\n',\n",
       " 'AfD;5166;Viersen;9873;7;1.8\\n',\n",
       " 'AfD;5170;Wesel;19658;9.1;3.8\\n',\n",
       " 'AfD;5314;Bonn, Stadt;9417;6;0.1\\n',\n",
       " 'AfD;5315;Köln, Stadt;29371;6.2;0.7\\n',\n",
       " 'AfD;5316;Leverkusen, Stadt;651;9.4;2.8\\n',\n",
       " 'AfD;5334;Städteregion Aachen5;17066;6.9;2.9\\n',\n",
       " 'AfD;5358;Düren;11541;9.7;4.4\\n',\n",
       " 'AfD;5362;Rhein-Erft-Kreis;2034;9.3;4.2\\n',\n",
       " 'AfD;5366;Euskirchen;8877;9.7;4\\n',\n",
       " 'AfD;5370;Heinsberg;9358;8.4;4\\n',\n",
       " 'AfD;5374;Oberbergischer Kreis;11581;9.2;3.5\\n',\n",
       " 'AfD;5378;Rheinisch-Bergischer Kreis;10646;7.2;1.1\\n',\n",
       " 'AfD;5382;Rhein-Sieg-Kreis;24212;8.1;2.3\\n',\n",
       " 'AfD;5512;Bottrop, Stadt;6387;12.3;6.7\\n',\n",
       " 'AfD;5513;Gelsenkirchen, Stadt;14398;16.4;8.8\\n',\n",
       " 'AfD;5515;Münster, Stadt;6883;4;-0.1\\n',\n",
       " 'AfD;5554;Borken;9776;5.4;2\\n',\n",
       " 'AfD;5558;Coesfeld;6513;5.5;1.7\\n',\n",
       " 'AfD;5562;Recklinghausen;31142;11.5;5.9\\n',\n",
       " 'AfD;5566;Steinfurt;12331;5.6;2.4\\n',\n",
       " 'AfD;5570;Warendorf;9035;6.7;2.7\\n',\n",
       " 'AfD;5711;Bielefeld, Stadt;11498;7.7;2.7\\n',\n",
       " 'AfD;5754;Gütersloh;12505;7.7;2.9\\n',\n",
       " 'AfD;5758;Herford;11154;9.9;4.2\\n',\n",
       " 'AfD;5762;Höxter;565;8.2;3.7\\n',\n",
       " 'AfD;5766;Lippe;1568;9.6;4.2\\n',\n",
       " 'AfD;5770;Minden-Lübbecke;12815;9.1;3.8\\n',\n",
       " 'AfD;5774;Paderborn;11131;8;3\\n',\n",
       " 'AfD;5911;Bochum, Stadt;15598;9.5;3.8\\n',\n",
       " 'AfD;5913;Dortmund, Stadt;22013;9.2;3.2\\n',\n",
       " 'AfD;5914;Hagen, Stadt der FernUniversität;9077;12.6;6.3\\n',\n",
       " 'AfD;5915;Hamm, Stadt;7847;10.9;6.4\\n',\n",
       " 'AfD;5916;Herne, Stadt;7776;13.2;6.8\\n',\n",
       " 'AfD;5954;Ennepe-Ruhr-Kreis;14231;9.2;3.3\\n',\n",
       " 'AfD;5958;Hochsauerlandkreis;9206;7.4;2.8\\n',\n",
       " 'AfD;5962;Märkischer Kreis;16987;10.1;3.6\\n',\n",
       " 'AfD;5966;Olpe;4728;7.3;1.4\\n',\n",
       " 'AfD;5970;Siegen-Wittgenstein;13429;10.4;4.1\\n',\n",
       " 'AfD;5974;Soest;11331;8.1;3.2\\n',\n",
       " 'AfD;7231;Bernkastel-Wittlich;4197;7.7;2.4\\n',\n",
       " 'AfD;7232;Eifelkreis Bitburg-Prüm;3355;6.9;2.4\\n',\n",
       " 'AfD;7233;Vulkaneifel;218;7.2;1.8\\n',\n",
       " 'AfD;7235;Trier-Saarburg;5364;6.9;1.3\\n',\n",
       " 'AfD;7311;Frankenthal (Pfalz), kreisfreie Stadt;2533;13.6;5.4\\n',\n",
       " 'AfD;7312;Kaiserslautern, kreisfreie Stadt;4622;12;5.4\\n',\n",
       " 'AfD;7313;Landau in der Pfalz, kreisfreie Stadt;1875;7.9;0.6\\n',\n",
       " 'AfD;7314;Ludwigshafen am Rhein, kreisfreie Stadt;7684;14.2;4.5\\n',\n",
       " 'AfD;7315;Mainz, kreisfreie Stadt;5966;5.9;-0.1\\n',\n",
       " 'AfD;7316;Neustadt an der Weinstraße, kreisfreie Stadt;2611;10;3.7\\n',\n",
       " 'AfD;7317;Pirmasens, kreisfreie Stadt;2245;14.9;8.6\\n',\n",
       " 'AfD;7318;Speyer, kreisfreie Stadt;2278;10.5;3.5\\n',\n",
       " 'AfD;7319;Worms, kreisfreie Stadt;3941;12.4;4.7\\n',\n",
       " 'AfD;7320;Zweibrücken, kreisfreie Stadt;1583;11.7;4.6\\n',\n",
       " 'AfD;7331;Alzey-Worms;8168;12.5;4.7\\n',\n",
       " 'AfD;7332;Bad Dürkheim;8223;11.4;4.2\\n',\n",
       " 'AfD;7333;Donnersbergkreis;4742;12.5;5.5\\n',\n",
       " 'AfD;7334;Germersheim;8686;14.2;6.5\\n',\n",
       " 'AfD;7335;Kaiserslautern;6906;12.9;6.7\\n',\n",
       " 'AfD;7336;Kusel;4989;13.6;7.4\\n',\n",
       " 'AfD;7337;Südliche Weinstraße;6541;10.7;3.7\\n',\n",
       " 'AfD;7338;Rhein-Pfalz-Kreis;9531;12;3.6\\n',\n",
       " 'AfD;7339;Mainz-Bingen;9302;8.4;2.1\\n',\n",
       " 'AfD;7340;Südwestpfalz;6785;12.5;6.5\\n',\n",
       " 'AfD;;Baden-Württemberg;486679;10;2.1\\n',\n",
       " 'AfD;8111;Stuttgart, Landeshauptstadt;18854;7.4;0\\n',\n",
       " 'AfD;8115;Böblingen;17561;10.3;1.3\\n',\n",
       " 'AfD;8116;Esslingen;22948;9.6;2.1\\n',\n",
       " 'AfD;8117;Göppingen;13715;12.5;3.9\\n',\n",
       " 'AfD;8118;Ludwigsburg;23899;9.9;1.6\\n',\n",
       " 'AfD;8119;Rems-Murr-Kreis;2181;11.5;1.4\\n',\n",
       " 'AfD;8121;Heilbronn, Stadt;5494;13;4.5\\n',\n",
       " 'AfD;8125;Heilbronn;19542;12.9;4.6\\n',\n",
       " 'AfD;8126;Hohenlohekreis;6071;11.9;4.8\\n',\n",
       " 'AfD;8127;Schwäbisch Hall;9753;11.4;4.2\\n',\n",
       " 'AfD;8128;Main-Tauber-Kreis;7055;10.8;4\\n',\n",
       " 'AfD;8135;Heidenheim;5469;10.2;2.8\\n',\n",
       " 'AfD;8136;Ostalbkreis;1422;10;3\\n',\n",
       " 'AfD;8211;Baden-Baden, Stadt;2235;9.6;0.5\\n',\n",
       " 'AfD;9179;Fürstenfeldbruck;7694;7.4;-1.8\\n',\n",
       " 'AfD;9180;Garmisch-Partenkirchen;3532;8.6;-2.5\\n',\n",
       " 'AfD;9181;Landsberg am Lech;4381;7.3;-0.9\\n',\n",
       " 'AfD;9182;Miesbach;3538;7.4;-2.6\\n',\n",
       " 'AfD;9183;Mühldorf a.Inn;5008;10.3;1.6\\n',\n",
       " 'AfD;9184;München;11246;6.7;-2.2\\n',\n",
       " 'AfD;9185;Neuburg-Schrobenhausen;3669;9.2;0.8\\n',\n",
       " 'AfD;9186;Pfaffenhofen a.d.Ilm;5752;10.3;2.3\\n',\n",
       " 'AfD;9187;Rosenheim;10273;8.3;-1\\n',\n",
       " 'AfD;9188;Starnberg;4492;6.4;-2.6\\n',\n",
       " 'AfD;9189;Traunstein;6002;7.6;0.8\\n',\n",
       " 'AfD;9190;Weilheim-Schongau;4847;7.4;-2.9\\n',\n",
       " 'AfD;9261;Landshut, Stadt;2552;8.9;0.6\\n',\n",
       " 'AfD;9262;Passau, Stadt;1824;8.1;0.1\\n',\n",
       " 'AfD;9263;Straubing, Stadt;1991;11.7;4.4\\n',\n",
       " 'AfD;9271;Deggendorf;5359;11.4;2.9\\n',\n",
       " 'AfD;9272;Freyung-Grafenau;3627;11.5;4.1\\n',\n",
       " 'AfD;9273;Kelheim;4731;8.9;2.7\\n',\n",
       " 'AfD;9274;Landshut;714;9.8;3.5\\n',\n",
       " 'AfD;9275;Passau;8401;10.6;2.7\\n',\n",
       " 'AfD;9276;Regen;3936;13.3;4.2\\n',\n",
       " 'AfD;9277;Rottal-Inn;4664;9.3;2\\n',\n",
       " 'AfD;9278;Straubing-Bogen;4828;10.6;4.6\\n',\n",
       " 'AfD;9279;Dingolfing-Landau;4382;11.3;4.8\\n',\n",
       " 'AfD;9361;Amberg, Stadt;1842;10.9;1.4\\n',\n",
       " 'AfD;9362;Regensburg, Stadt;4576;7.1;-0.5\\n',\n",
       " 'AfD;9363;Weiden i.d.OPf., Stadt;1818;10.7;0.1\\n',\n",
       " 'AfD;9371;Amberg-Sulzbach;4705;9.6;2.5\\n',\n",
       " 'AfD;9372;Cham;6549;12.1;5.2\\n',\n",
       " 'AfD;9373;Neumarkt i.d.OPf.;5406;8.5;1.7\\n',\n",
       " 'AfD;9374;Neustadt a.d.Waldnaab;4367;9.9;2.1\\n',\n",
       " 'AfD;9375;Regensburg;8832;9.6;2.4\\n',\n",
       " 'AfD;9376;Schwandorf;742;11.7;4.3\\n',\n",
       " 'AfD;9377;Tirschenreuth;2913;8.4;2.5\\n',\n",
       " 'AfD;9461;Bamberg, Stadt;2621;7.8;0.8\\n',\n",
       " 'AfD;9462;Bayreuth, Stadt;2426;7.5;-0.6\\n',\n",
       " 'AfD;9463;Coburg, Stadt;1352;7.6;-0.3\\n',\n",
       " 'AfD;9464;Hof, Stadt;1926;11.7;2.2\\n',\n",
       " 'AfD;9471;Bamberg;7933;11.3;4.4\\n',\n",
       " 'AfD;9472;Bayreuth;4269;8.5;1.1\\n',\n",
       " 'AfD;9473;Coburg;3555;8.9;1.6\\n',\n",
       " 'AfD;9474;Forchheim;4967;8.6;1.4\\n',\n",
       " 'AfD;9475;Hof;4527;10.4;2.9\\n',\n",
       " 'AfD;;Saarland;48055;9.6;2.8\\n',\n",
       " 'AfD;10041;Regionalverband Saarbrücken;13599;9.2;2.2\\n',\n",
       " 'AfD;10042;Merzig-Wadern;4792;8.9;2.8\\n',\n",
       " 'AfD;10043;Neunkirchen;7114;10.6;3.4\\n',\n",
       " 'AfD;10044;Saarlouis;9824;9.7;3\\n',\n",
       " 'AfD;10045;Saarpfalz-Kreis;8556;11.1;3.7\\n',\n",
       " 'AfD;10046;St. Wendel;417;8;2.1\\n',\n",
       " 'AfD;;Berlin;149172;9.9;2\\n',\n",
       " 'AfD;11000;Berlin, Stadt;149172;9.9;2\\n',\n",
       " 'AfD;11995;Berlin, West;73665;8.3;0.6\\n',\n",
       " 'AfD;11996;Berlin, Ost;75507;12.2;3.9\\n',\n",
       " 'AfD;;Brandenburg;238441;19.9;11.4\\n',\n",
       " 'AfD;12051;Brandenburg an der Havel,Stadt;4906;17.4;9.6\\n',\n",
       " 'AfD;12052;Cottbus, Stadt;10901;24.6;14.9\\n',\n",
       " 'AfD;12053;Frankfurt (Oder), Stadt;4697;20.7;7.9\\n',\n",
       " 'AfD;12054;Potsdam, Stadt;9322;10.9;3.7\\n',\n",
       " 'AfD;12060;Barnim;17215;19.7;11.4\\n',\n",
       " 'AfD;12061;Dahme-Spreewald;17603;20.8;11.7\\n',\n",
       " 'AfD;12062;Elbe-Elster;12538;24.7;17.5\\n',\n",
       " 'AfD;12063;Havelland;13797;17.9;8.5\\n',\n",
       " 'AfD;12064;Märkisch-Oderland;19759;21.1;12.3\\n',\n",
       " 'AfD;12065;Oberhavel;19433;18.7;9.4\\n',\n",
       " 'AfD;12066;Oberspreewald-Lausitz;13596;26.5;18.2\\n',\n",
       " 'AfD;12067;Oder-Spree;1921;22.3;12.4\\n',\n",
       " 'AfD;12068;Ostprignitz-Ruppin;7823;18;11.3\\n',\n",
       " 'AfD;12069;Potsdam-Mittelmark;16463;14.7;6.9\\n',\n",
       " 'AfD;12070;Prignitz;673;19.1;13.1\\n',\n",
       " 'AfD;12071;Spree-Neiße;17945;30.9;21.3\\n',\n",
       " 'AfD;12072;Teltow-Fläming;154;19.3;10.8\\n',\n",
       " 'AfD;12073;Uckermark;11103;20.8;14.4\\n',\n",
       " 'AfD;;Mecklenburg-Vorpommern;133194;17.7;10.7\\n',\n",
       " 'AfD;13003;Rostock;12351;12.4;4.7\\n',\n",
       " 'AfD;13004;Schwerin;6985;15.8;8.6\\n',\n",
       " ...]"
      ]
     },
     "execution_count": 96,
     "metadata": {},
     "output_type": "execute_result"
    }
   ],
   "source": [
    "with open('eu2019.csv', 'r') as csv_file:\n",
    "    data = csv_file.readlines()\n",
    "data"
   ]
  },
  {
   "cell_type": "markdown",
   "metadata": {},
   "source": [
    "`data` is now a list of all lines of the csv file"
   ]
  },
  {
   "cell_type": "code",
   "execution_count": 97,
   "metadata": {},
   "outputs": [
    {
     "data": {
      "text/plain": [
       "'Partei;Kreis Nr.;Gebietsbezeichnung;Gültige Stimmen Anzahl;Gültige Stimmen %;Diff. zu 2014 in %-Pkt.\\n'"
      ]
     },
     "execution_count": 97,
     "metadata": {},
     "output_type": "execute_result"
    }
   ],
   "source": [
    "header = data[0]\n",
    "header"
   ]
  },
  {
   "cell_type": "markdown",
   "metadata": {},
   "source": [
    "There a couple of functions to modify strings in Python"
   ]
  },
  {
   "cell_type": "code",
   "execution_count": 98,
   "metadata": {},
   "outputs": [
    {
     "data": {
      "text/plain": [
       "'Partei;Kreis Nr.;Gebietsbezeichnung;Gültige Stimmen Anzahl;Gültige Stimmen %;Diff. zu 2014 in %-Pkt.'"
      ]
     },
     "execution_count": 98,
     "metadata": {},
     "output_type": "execute_result"
    }
   ],
   "source": [
    "header = header.strip(\"\\n\")\n",
    "header"
   ]
  },
  {
   "cell_type": "code",
   "execution_count": 99,
   "metadata": {},
   "outputs": [
    {
     "data": {
      "text/plain": [
       "['Partei',\n",
       " 'Kreis Nr.',\n",
       " 'Gebietsbezeichnung',\n",
       " 'Gültige Stimmen Anzahl',\n",
       " 'Gültige Stimmen %',\n",
       " 'Diff. zu 2014 in %-Pkt.']"
      ]
     },
     "execution_count": 99,
     "metadata": {},
     "output_type": "execute_result"
    }
   ],
   "source": [
    "header = header.split(\";\")\n",
    "header"
   ]
  },
  {
   "cell_type": "markdown",
   "metadata": {},
   "source": [
    "Method calls can also be combined"
   ]
  },
  {
   "cell_type": "code",
   "execution_count": 100,
   "metadata": {},
   "outputs": [
    {
     "data": {
      "text/plain": [
       "['CDU', '', 'Bundesrepublik Deutschland', '8437093', '22.6', '-7.5']"
      ]
     },
     "execution_count": 100,
     "metadata": {},
     "output_type": "execute_result"
    }
   ],
   "source": [
    "data[1].strip(\"\\n\").split(\";\")"
   ]
  },
  {
   "cell_type": "code",
   "execution_count": 101,
   "metadata": {},
   "outputs": [
    {
     "data": {
      "text/plain": [
       "'Bundesrepublik Deutschland'"
      ]
     },
     "execution_count": 101,
     "metadata": {},
     "output_type": "execute_result"
    }
   ],
   "source": [
    "data[1].strip(\"\\n\").split(\";\")[2]"
   ]
  },
  {
   "cell_type": "code",
   "execution_count": 102,
   "metadata": {},
   "outputs": [
    {
     "data": {
      "text/plain": [
       "True"
      ]
     },
     "execution_count": 102,
     "metadata": {},
     "output_type": "execute_result"
    }
   ],
   "source": [
    "data[1].strip(\"\\n\").split(\";\")[2] == 'Bundesrepublik Deutschland'"
   ]
  },
  {
   "cell_type": "markdown",
   "metadata": {},
   "source": [
    "## Excercises\n",
    "1. Write a function that reads *'data/eu2019.csv'* and returns the contents after stripping the `\\n` and splitting by `;`\n",
    "2. Write a function that makes a list out of each column entry. So instead of having a list of rows you get a list of columns\n",
    "3. Make a dictionary of each column. The key are the header entries.\n",
    "4. How many unique parties are there?\n",
    "5. Write a function to showing the results for all parties in *'Gebietsbezeichnung' = Bundesrepublik Deutschland'*\n",
    "6. Extend the function so the user can specify the *'Gebietsbezeichnung'*"
   ]
  },
  {
   "cell_type": "code",
   "execution_count": null,
   "metadata": {},
   "outputs": [],
   "source": []
  }
 ],
 "metadata": {
  "kernelspec": {
   "display_name": "Python 3",
   "language": "python",
   "name": "python3"
  },
  "language_info": {
   "codemirror_mode": {
    "name": "ipython",
    "version": 3
   },
   "file_extension": ".py",
   "mimetype": "text/x-python",
   "name": "python",
   "nbconvert_exporter": "python",
   "pygments_lexer": "ipython3",
   "version": "3.8.3"
  }
 },
 "nbformat": 4,
 "nbformat_minor": 4
}
