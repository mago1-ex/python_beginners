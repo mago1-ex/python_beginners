{
 "cells": [
  {
   "cell_type": "markdown",
   "metadata": {},
   "source": [
    "## Working with a Jupyer Notebook\n",
    "Open **command prompt** and navigate to the folder where your notebooks are located\n",
    "\n",
    "`cd location\\of\\notebooks`\n",
    "\n",
    "To start jupyter type:\n",
    "\n",
    "`jupyter-lab`\n",
    "\n",
    "## Working in jupyter notebook\n",
    "* Coding and documentation together -> _\"tell a story with your data analysis\"_\n",
    "* Great for data exploration\n",
    "* Great for sharing data analysis\n",
    "* Can be used for other languages like R, Scala, Java ...\n",
    "* Can become cumbersome when doing long complex analysis\n",
    "- Not really the place to implement complex functionality -> this should be done in a python module"
   ]
  },
  {
   "cell_type": "markdown",
   "metadata": {},
   "source": [
    "b"
   ]
  },
  {
   "cell_type": "code",
   "execution_count": null,
   "metadata": {},
   "outputs": [],
   "source": []
  },
  {
   "cell_type": "markdown",
   "metadata": {},
   "source": [
    "# Keyboard shortcuts\n",
    "| keys | function |\n",
    "|-----|-----|\n",
    "|Shift + Enter |Zelle ausführen|\n",
    "|Esc + m | Zelle wird eine Markdown Zelle|\n",
    "|Esc + y | Zelle wird eine Code/Python Zelle|\n",
    "|Esc + b | Neue Zelle|\n",
    "| Esc + x | Zelle ausscheiden (ACHTUNG: Kein richtiges undo)|\n",
    "|Esc + c | Zelle kopieren (ACHTUNG)|\n",
    "| Esc + v | Zelle einfügen|\n",
    "|Crtl + I |Context help|\n",
    "| Tab | Autocomplete|\n",
    "| Shift + Tab | Help|"
   ]
  },
  {
   "cell_type": "code",
   "execution_count": null,
   "metadata": {},
   "outputs": [],
   "source": []
  },
  {
   "cell_type": "code",
   "execution_count": null,
   "metadata": {},
   "outputs": [],
   "source": []
  },
  {
   "cell_type": "markdown",
   "metadata": {},
   "source": [
    "## Sub-Header"
   ]
  },
  {
   "cell_type": "markdown",
   "metadata": {},
   "source": [
    "### Sub-Sub-Header"
   ]
  },
  {
   "cell_type": "markdown",
   "metadata": {},
   "source": [
    "Man kann auch einfach Text schreiben:\n",
    "Esc + m --> Cell wird zur Markdown-Cell"
   ]
  },
  {
   "cell_type": "markdown",
   "metadata": {},
   "source": [
    "> Ein Blockzitat\n",
    "> \n",
    "> Zweiter Paragraph\n",
    ">\n",
    "> ## Und ein Header im Blockzitat"
   ]
  },
  {
   "cell_type": "markdown",
   "metadata": {},
   "source": [
    "Manche Wörter werden *betont*.\n",
    "Das geht auch mit _Unterstrich_.\n",
    "\n",
    "Asterisks für **fett gedruckt**.\n",
    "Oder auch hier mit, __zwei Unterstrichen__."
   ]
  },
  {
   "cell_type": "markdown",
   "metadata": {},
   "source": [
    "Eine Liste\n",
    "*   scikit-learn\n",
    "*   pandas\n",
    "*   "
   ]
  },
  {
   "cell_type": "markdown",
   "metadata": {},
   "source": [
    "Dies ist ein Beispiellink [example link](http://example.com/)."
   ]
  },
  {
   "cell_type": "markdown",
   "metadata": {},
   "source": [
    "$e^{i\\pi} + 1 = 0$"
   ]
  },
  {
   "cell_type": "markdown",
   "metadata": {},
   "source": [
    "```python\n",
    "print \"Hello World\"\n",
    "```\n",
    "\n",
    "```javascript\n",
    "console.log(\"Hello World\")\n",
    "```"
   ]
  },
  {
   "cell_type": "markdown",
   "metadata": {},
   "source": [
    "| This | is   |\n",
    "|------|------|\n",
    "|   a  | table|"
   ]
  },
  {
   "cell_type": "markdown",
   "metadata": {},
   "source": [
    "![\"The Jupyter logo\"](jupyter.jpg)"
   ]
  },
  {
   "cell_type": "markdown",
   "metadata": {},
   "source": [
    "<div class=\"alert alert-block alert-success\"><b>HTML</b> man kann auch HTML verwenden</div>\n",
    "<img src=\"Jupyter.jpg\" />"
   ]
  },
  {
   "cell_type": "code",
   "execution_count": 1,
   "metadata": {},
   "outputs": [
    {
     "name": "stdout",
     "output_type": "stream",
     "text": [
      "Hello World\n"
     ]
    }
   ],
   "source": [
    "print('Hello World')"
   ]
  },
  {
   "cell_type": "code",
   "execution_count": null,
   "metadata": {},
   "outputs": [],
   "source": []
  },
  {
   "cell_type": "markdown",
   "metadata": {},
   "source": [
    "# Ein paar Markdown-Beispiele"
   ]
  }
 ],
 "metadata": {
  "kernelspec": {
   "display_name": "Python 3",
   "language": "python",
   "name": "python3"
  },
  "language_info": {
   "codemirror_mode": {
    "name": "ipython",
    "version": 3
   },
   "file_extension": ".py",
   "mimetype": "text/x-python",
   "name": "python",
   "nbconvert_exporter": "python",
   "pygments_lexer": "ipython3",
   "version": "3.9.4"
  }
 },
 "nbformat": 4,
 "nbformat_minor": 4
}
