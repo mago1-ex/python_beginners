{
 "cells": [
  {
   "cell_type": "markdown",
   "metadata": {},
   "source": [
    "# Python Lists"
   ]
  },
  {
   "cell_type": "markdown",
   "metadata": {},
   "source": [
    "Python has a powerful built-in list type:\n",
    "\n",
    "```python\n",
    "[]\n",
    "[1]\n",
    "[1, 2, 3, 4, 5, 6, 7, 8, 12]\n",
    "[1, \"two\", 3, 4.0, [\"a\", \"b\"], (5,6)]        1\n",
    "```\n",
    "\n",
    "A list can contain a mixture of other types as its elements, including strings, tuples, lists, dictionaries, functions, file objects, and any type of number 1.\n",
    "\n",
    "A list can be indexed from its front or back. You can also refer to a subsegment, or slice, of a list by using slice notation: "
   ]
  },
  {
   "cell_type": "code",
   "execution_count": 1,
   "metadata": {},
   "outputs": [
    {
     "name": "stdout",
     "output_type": "stream",
     "text": [
      "first\n",
      "third\n",
      "fourth\n",
      "third\n",
      "['second', 'third']\n",
      "['first', 'second', 'third']\n",
      "['third']\n",
      "['first', 'second', 'third']\n",
      "['third', 'fourth']\n"
     ]
    }
   ],
   "source": [
    "x = [\"first\", \"second\", \"third\", \"fourth\"]  # list()\n",
    "print(x[0])  # first element at index 0: \"first\" \n",
    "\n",
    "print(x[2])  # third element at index 2: \"third\"\n",
    "\n",
    "print(x[-1])  # first element from the back at index -1: \"fourth\"\n",
    "\n",
    "print(x[-2])  # second element from the back at index -2: \"third\"                                        \n",
    "\n",
    "print(x[1:-1])  # a slice, that is all elements from the first index (inclusive) to the last index (exclusive): ['second', 'third']\n",
    "\n",
    "print(x[0:3])  # a slice from the first element to the fourth: ['first', 'second', 'third']\n",
    "\n",
    "print(x[-2:-1])  # a slice from the second last element to the last element: ['third']\n",
    "\n",
    "print(x[:3])  # if you omit the first argument, its always 0: ['first', 'second', 'third']\n",
    "\n",
    "print(x[-2:]) # if you omit the last argument, its always len(x), here 4: ['third', 'fourth']"
   ]
  },
  {
   "cell_type": "code",
   "execution_count": 2,
   "metadata": {},
   "outputs": [
    {
     "data": {
      "text/plain": [
       "['first', 'second', 'third', 'fourth']"
      ]
     },
     "execution_count": 2,
     "metadata": {},
     "output_type": "execute_result"
    }
   ],
   "source": [
    "# how can you make a copy of a list then?\n",
    "x[:]"
   ]
  },
  {
   "cell_type": "markdown",
   "metadata": {},
   "source": [
    "It may seem reasonable that if the second index indicates a position in the list before the first index, this code would return the elements between those indices in reverse order, but this isn’t what happens. Instead, this code returns an empty list: "
   ]
  },
  {
   "cell_type": "markdown",
   "metadata": {},
   "source": [
    "Omitting both indices makes a new list that goes from the beginning to the end of the original list—that is, copies the list. This technique is useful when you want to make a copy that you can modify without affecting the original list: "
   ]
  },
  {
   "cell_type": "code",
   "execution_count": 3,
   "metadata": {},
   "outputs": [
    {
     "name": "stdout",
     "output_type": "stream",
     "text": [
      "['1 st', 'second', 'third', 'fourth']\n",
      "['first', 'second', 'third', 'fourth']\n"
     ]
    }
   ],
   "source": [
    "y = x[:]\n",
    "y[0] = '1 st'\n",
    "print(y) # ['1 st', 'second', 'third', 'fourth']\n",
    "print(x) # ['first', 'second', 'third', 'fourth']"
   ]
  },
  {
   "cell_type": "markdown",
   "metadata": {},
   "source": [
    "## Modify a list"
   ]
  },
  {
   "cell_type": "code",
   "execution_count": 4,
   "metadata": {},
   "outputs": [
    {
     "name": "stdout",
     "output_type": "stream",
     "text": [
      "[1, 2, 3, 4, 5, 6, 7]\n",
      "[-1, 0, 1, 2, 3, 4, 5, 6, 7]\n",
      "[-1, 7]\n"
     ]
    }
   ],
   "source": [
    "x = [1, 2, 3, 4]\n",
    "x[len(x):] = [5, 6, 7] # append at the end\n",
    "print(x)  # [1, 2, 3, 4, 5, 6, 7]\n",
    "\n",
    "x[:0] = [-1, 0] # insert at the beginning\n",
    "print(x) # [-1, 0, 1, 2, 3, 4, 5, 6, 7]\n",
    "\n",
    "x[1:-1] = [] # delete elements\n",
    "print(x) # [-1, 7]"
   ]
  },
  {
   "cell_type": "code",
   "execution_count": 5,
   "metadata": {},
   "outputs": [
    {
     "name": "stdout",
     "output_type": "stream",
     "text": [
      "[1, 2, 3, 'four']\n"
     ]
    }
   ],
   "source": [
    "x = [1, 2, 3]\n",
    "x.append(\"four\") # appends a single element at the end\n",
    "print(x)  # [1, 2, 3, 'four']"
   ]
  },
  {
   "cell_type": "code",
   "execution_count": 6,
   "metadata": {},
   "outputs": [
    {
     "name": "stdout",
     "output_type": "stream",
     "text": [
      "[1, 2, 3, 4, [5, 6, 7]]\n",
      "[1, 2, 3, 4, 5, 6, 7]\n"
     ]
    }
   ],
   "source": [
    "x = [1, 2, 3, 4]\n",
    "y = [5, 6, 7]\n",
    "x.append(y) \n",
    "print(x)  # [1, 2, 3, 4, [5, 6, 7]]\n",
    "\n",
    "x = [1, 2, 3, 4]\n",
    "x.extend(y)\n",
    "print(x) # [1, 2, 3, 4, 5, 6, 7]"
   ]
  },
  {
   "cell_type": "markdown",
   "metadata": {},
   "source": [
    "There’s also a special `insert` method to insert new list elements between two existing elements or at the front of the list. `insert` is used as a method of lists and takes two additional arguments. The first additional argument is the index position in the list where the new element should be inserted, and the second is the new element itself: "
   ]
  },
  {
   "cell_type": "code",
   "execution_count": 7,
   "metadata": {},
   "outputs": [
    {
     "name": "stdout",
     "output_type": "stream",
     "text": [
      "[1, 2, 'hello', 3]\n",
      "['start', 1, 2, 'hello', 3]\n",
      "['start', 1, 2, 'hello', 3, 'hello']\n"
     ]
    }
   ],
   "source": [
    "x = [1, 2, 3]\n",
    "x.insert(2, \"hello\") # identical with -1\n",
    "print(x) # [1, 2, 'hello', 3]\n",
    "\n",
    "x.insert(0, \"start\")\n",
    "print(x) # ['start', 1, 2, 'hello', 3]\n",
    "\n",
    "x.insert(len(x), \"hello\") # like append\n",
    "print(x) # [1, 2, 'hello', 3, 'hello']"
   ]
  },
  {
   "cell_type": "markdown",
   "metadata": {},
   "source": [
    "The `del` statement is the preferred method of deleting list items or slices. It doesn’t do anything that can’t be done with slice assignment, but it’s usually easier to remember and easier to read: "
   ]
  },
  {
   "cell_type": "code",
   "execution_count": 8,
   "metadata": {},
   "outputs": [
    {
     "name": "stdout",
     "output_type": "stream",
     "text": [
      "['a', 'c', 7, 9, 11]\n",
      "[7, 9, 11]\n"
     ]
    }
   ],
   "source": [
    "x = ['a', 2, 'c', 7, 9, 11]\n",
    "del x[1]\n",
    "print(x)  # ['a', 'c', 7, 9, 11]\n",
    "\n",
    "del x[:2]\n",
    "print(x) # [7, 9, 11]"
   ]
  },
  {
   "cell_type": "markdown",
   "metadata": {},
   "source": [
    "The `remove` method isn’t the converse of `insert`. Whereas `insert` inserts an element at a specified location, `remove` looks for the first instance of a given value in a list and removes that value from the list: "
   ]
  },
  {
   "cell_type": "code",
   "execution_count": 9,
   "metadata": {},
   "outputs": [
    {
     "name": "stdout",
     "output_type": "stream",
     "text": [
      "[1, 2, 4, 3, 5]\n",
      "[1, 2, 4, 5]\n"
     ]
    },
    {
     "ename": "ValueError",
     "evalue": "list.remove(x): x not in list",
     "output_type": "error",
     "traceback": [
      "\u001b[0;31m---------------------------------------------------------------------------\u001b[0m",
      "\u001b[0;31mValueError\u001b[0m                                Traceback (most recent call last)",
      "\u001b[0;32m<ipython-input-9-94ddfad995fd>\u001b[0m in \u001b[0;36m<module>\u001b[0;34m\u001b[0m\n\u001b[1;32m      6\u001b[0m \u001b[0mprint\u001b[0m\u001b[0;34m(\u001b[0m\u001b[0mx\u001b[0m\u001b[0;34m)\u001b[0m \u001b[0;31m# [1, 2, 4, 5]\u001b[0m\u001b[0;34m\u001b[0m\u001b[0;34m\u001b[0m\u001b[0m\n\u001b[1;32m      7\u001b[0m \u001b[0;34m\u001b[0m\u001b[0m\n\u001b[0;32m----> 8\u001b[0;31m \u001b[0mx\u001b[0m\u001b[0;34m.\u001b[0m\u001b[0mremove\u001b[0m\u001b[0;34m(\u001b[0m\u001b[0;36m3\u001b[0m\u001b[0;34m)\u001b[0m \u001b[0;31m# ValueError: list.remove(x): x not in list, how to avoid? try-except or use `in` operator\u001b[0m\u001b[0;34m\u001b[0m\u001b[0;34m\u001b[0m\u001b[0m\n\u001b[0m",
      "\u001b[0;31mValueError\u001b[0m: list.remove(x): x not in list"
     ]
    }
   ],
   "source": [
    "x = [1, 2, 3, 4, 3, 5]\n",
    "x.remove(3)\n",
    "print(x) # [1, 2, 4, 3, 5]\n",
    "\n",
    "x.remove(3)\n",
    "print(x) # [1, 2, 4, 5]\n",
    "\n",
    "x.remove(3) # ValueError: list.remove(x): x not in list, how to avoid? try-except or use `in` operator"
   ]
  },
  {
   "cell_type": "code",
   "execution_count": 10,
   "metadata": {},
   "outputs": [
    {
     "data": {
      "text/plain": [
       "[1, 2, 4, 5]"
      ]
     },
     "execution_count": 10,
     "metadata": {},
     "output_type": "execute_result"
    }
   ],
   "source": [
    "# lösche element bis nicht mehr in liste\n",
    "x = [1, 2, 3, 4, 3, 5]\n",
    "\n",
    "while x.count(3) > 0:\n",
    "    x.remove(3)\n",
    "    \n",
    "x"
   ]
  },
  {
   "cell_type": "markdown",
   "metadata": {},
   "source": [
    "## Sorting"
   ]
  },
  {
   "cell_type": "code",
   "execution_count": 11,
   "metadata": {},
   "outputs": [
    {
     "name": "stdout",
     "output_type": "stream",
     "text": [
      "[0, 1, 2, 3, 4, 8]\n"
     ]
    }
   ],
   "source": [
    "x = [3, 8, 4, 0, 2, 1]\n",
    "x.sort()\n",
    "print(x) # [0, 1, 2, 3, 4, 8]"
   ]
  },
  {
   "cell_type": "markdown",
   "metadata": {},
   "source": [
    "This method does an **in-place** sort—that is, changes the list being sorted. To sort a list without changing the original list, you have two options. You can use the `sorted()` built-in function, discussed in section 5.4.2, or you can make a **copy** of the list and sort the copy: "
   ]
  },
  {
   "cell_type": "code",
   "execution_count": 12,
   "metadata": {},
   "outputs": [
    {
     "name": "stdout",
     "output_type": "stream",
     "text": [
      "[1, 2, 3, 4]\n",
      "[2, 4, 1, 3]\n"
     ]
    }
   ],
   "source": [
    "x = [2, 4, 1, 3]\n",
    "y = x[:]\n",
    "y.sort()\n",
    "print(y) # [1, 2, 3, 4]\n",
    "print(x) # [2, 4, 1, 3]"
   ]
  },
  {
   "cell_type": "code",
   "execution_count": 13,
   "metadata": {},
   "outputs": [
    {
     "name": "stdout",
     "output_type": "stream",
     "text": [
      "['Enchanting', 'Is', 'Life']\n"
     ]
    }
   ],
   "source": [
    "x = [\"Life\", \"Is\", \"Enchanting\"]\n",
    "x.sort()\n",
    "print(x) # ['Enchanting', 'Is', 'Life']"
   ]
  },
  {
   "cell_type": "markdown",
   "metadata": {},
   "source": [
    "The `sort` method can sort just about anything because Python can compare just about anything. But there’s one caveat in sorting: The default key method used by sort requires all items in the list to be of **comparable types**. That means that using the sort method on a list containing both numbers and strings raises an exception: "
   ]
  },
  {
   "cell_type": "code",
   "execution_count": 14,
   "metadata": {},
   "outputs": [
    {
     "ename": "TypeError",
     "evalue": "'<' not supported between instances of 'str' and 'int'",
     "output_type": "error",
     "traceback": [
      "\u001b[0;31m---------------------------------------------------------------------------\u001b[0m",
      "\u001b[0;31mTypeError\u001b[0m                                 Traceback (most recent call last)",
      "\u001b[0;32m<ipython-input-14-287a4370f93a>\u001b[0m in \u001b[0;36m<module>\u001b[0;34m\u001b[0m\n\u001b[1;32m      1\u001b[0m \u001b[0mx\u001b[0m \u001b[0;34m=\u001b[0m \u001b[0;34m[\u001b[0m\u001b[0;36m1\u001b[0m\u001b[0;34m,\u001b[0m \u001b[0;36m2\u001b[0m\u001b[0;34m,\u001b[0m \u001b[0;34m'hello'\u001b[0m\u001b[0;34m,\u001b[0m \u001b[0;36m3\u001b[0m\u001b[0;34m]\u001b[0m\u001b[0;34m\u001b[0m\u001b[0;34m\u001b[0m\u001b[0m\n\u001b[0;32m----> 2\u001b[0;31m \u001b[0mx\u001b[0m\u001b[0;34m.\u001b[0m\u001b[0msort\u001b[0m\u001b[0;34m(\u001b[0m\u001b[0;34m)\u001b[0m \u001b[0;31m# TypeError: '<' not supported between instances of 'str' and 'int'\u001b[0m\u001b[0;34m\u001b[0m\u001b[0;34m\u001b[0m\u001b[0m\n\u001b[0m",
      "\u001b[0;31mTypeError\u001b[0m: '<' not supported between instances of 'str' and 'int'"
     ]
    }
   ],
   "source": [
    "x = [1, 2, 'hello', 3]\n",
    "x.sort() # TypeError: '<' not supported between instances of 'str' and 'int'"
   ]
  },
  {
   "cell_type": "code",
   "execution_count": 15,
   "metadata": {},
   "outputs": [
    {
     "name": "stdout",
     "output_type": "stream",
     "text": [
      "[[2, 3], [2, 9], [3, 2], [3, 5], [4, 1]]\n"
     ]
    }
   ],
   "source": [
    "x = [[3, 5], [2, 9], [2, 3], [4, 1], [3, 2]]\n",
    "x.sort() # sort ascending by first key!\n",
    "print(x) # [[2, 3], [2, 9], [3, 2], [3, 5], [4, 1]]"
   ]
  },
  {
   "cell_type": "markdown",
   "metadata": {},
   "source": [
    "### Custom Sorting"
   ]
  },
  {
   "cell_type": "markdown",
   "metadata": {},
   "source": [
    "By default, `sort` uses built-in Python comparison functions to determine ordering, which is satisfactory for most purposes. At times, though, you want to sort a list in a way that doesn’t correspond to this default ordering. Suppose that you want to sort a list of words by the number of characters in each word, as opposed to the lexicographic sort that Python normally carries out.\n",
    "\n",
    "To do this, write a **function** that returns the value, or key, that you want to sort on, and use it with the sort method. That function in the context of sort is a function that takes one argument and returns the key or value that the sort function is to use.\n"
   ]
  },
  {
   "cell_type": "code",
   "execution_count": 16,
   "metadata": {},
   "outputs": [
    {
     "name": "stdout",
     "output_type": "stream",
     "text": [
      "['C', 'Python', 'better', 'is', 'than']\n",
      "['C', 'is', 'than', 'Python', 'better']\n"
     ]
    }
   ],
   "source": [
    "def compare_num_of_chars(string):\n",
    "    return len(string)\n",
    "\n",
    "word_list = ['Python', 'is', 'better', 'than', 'C']\n",
    "word_list.sort()\n",
    "print(word_list)  # ['C', 'Python', 'better', 'is', 'than']\n",
    "\n",
    "word_list = ['Python', 'is', 'better', 'than', 'C']\n",
    "word_list.sort(key=compare_num_of_chars)\n",
    "print(word_list) # ['C', 'is', 'than', 'Python', 'better']"
   ]
  },
  {
   "cell_type": "code",
   "execution_count": 17,
   "metadata": {},
   "outputs": [
    {
     "name": "stdout",
     "output_type": "stream",
     "text": [
      "['C', 'is', 'than', 'Python', 'better']\n"
     ]
    }
   ],
   "source": [
    "word_list = ['Python', 'is', 'better', 'than', 'C']\n",
    "word_list.sort(key=lambda s: len(s)) # make usage of a lambda function which is an anonymous function and does the same as compare_num_of_chars()\n",
    "print(word_list) # ['C', 'is', 'than', 'Python', 'better']"
   ]
  },
  {
   "cell_type": "markdown",
   "metadata": {},
   "source": [
    "Lists have a built-in method to sort themselves, but other iterables in Python, such as the keys of a dictionary, don’t have a sort method. Python also has the built-in function `sorted()`, which returns a **sorted list from any iterable**. `sorted()` uses the same key and reverse parameters as the sort method: "
   ]
  },
  {
   "cell_type": "code",
   "execution_count": 18,
   "metadata": {},
   "outputs": [
    {
     "name": "stdout",
     "output_type": "stream",
     "text": [
      "(4, 3, 1, 2) [1, 2, 3, 4]\n",
      "(4, 3, 1, 2) [1, 2, 3, 4] [4, 3, 2, 1]\n"
     ]
    }
   ],
   "source": [
    "x = (4, 3, 1, 2) # tuple\n",
    "y = sorted(x) # sorted returns the sorted list, does not sort inplace!\n",
    "print(x, y) # [1, 2, 3, 4]\n",
    "\n",
    "z = sorted(x, reverse=True)\n",
    "print(x, y, z) # [4, 3, 2, 1]"
   ]
  },
  {
   "cell_type": "code",
   "execution_count": 19,
   "metadata": {},
   "outputs": [
    {
     "data": {
      "text/plain": [
       "[1, 2, 3]"
      ]
     },
     "execution_count": 19,
     "metadata": {},
     "output_type": "execute_result"
    }
   ],
   "source": [
    "x = [3,2,1]\n",
    "x.sort()\n",
    "x"
   ]
  },
  {
   "cell_type": "code",
   "execution_count": 20,
   "metadata": {},
   "outputs": [
    {
     "data": {
      "text/plain": [
       "['o', 'l', 'l', 'e', 'h']"
      ]
     },
     "execution_count": 20,
     "metadata": {},
     "output_type": "execute_result"
    }
   ],
   "source": [
    "x = [1,2,3]\n",
    "list(reversed(\"hello\"))"
   ]
  },
  {
   "cell_type": "markdown",
   "metadata": {},
   "source": [
    "## Common list operators"
   ]
  },
  {
   "cell_type": "code",
   "execution_count": 21,
   "metadata": {},
   "outputs": [
    {
     "name": "stdout",
     "output_type": "stream",
     "text": [
      "True\n",
      "False\n",
      "False\n",
      "True\n"
     ]
    }
   ],
   "source": [
    "print(3 in [1, 3, 4, 5]) # True\n",
    "print(3 not in [1, 3, 4, 5]) # False\n",
    "print(3 in [\"one\", \"two\", \"three\"]) # False\n",
    "print(3 not in [\"one\", \"two\", \"three\"]) # True"
   ]
  },
  {
   "cell_type": "code",
   "execution_count": 22,
   "metadata": {},
   "outputs": [
    {
     "name": "stdout",
     "output_type": "stream",
     "text": [
      "[1, 2, 3, 4, 5]\n"
     ]
    }
   ],
   "source": [
    "z = [1, 2, 3] + [4, 5]\n",
    "print(z) # [1, 2, 3, 4, 5], same as extend, but creates a new list!\n"
   ]
  },
  {
   "cell_type": "code",
   "execution_count": 23,
   "metadata": {},
   "outputs": [
    {
     "name": "stdout",
     "output_type": "stream",
     "text": [
      "[1, 2, 3, 4, 5]\n",
      "[1, 2, 3]\n"
     ]
    }
   ],
   "source": [
    "x = [1,2,3]\n",
    "y = [4,5]\n",
    "x.extend(y) # inplace\n",
    "print(x)\n",
    "\n",
    "x = [1,2,3]\n",
    "x+y # return new list\n",
    "print(x)"
   ]
  },
  {
   "cell_type": "code",
   "execution_count": 24,
   "metadata": {},
   "outputs": [
    {
     "name": "stdout",
     "output_type": "stream",
     "text": [
      "[None, None, None, None]\n",
      "[3, 1, 3, 1]\n"
     ]
    }
   ],
   "source": [
    "z = [None] * 4 # list initialization\n",
    "print(z) # [None, None, None, None]\n",
    "\n",
    "z = [3, 1] * 2\n",
    "print(z) # [3, 1, 3, 1]"
   ]
  },
  {
   "cell_type": "code",
   "execution_count": 25,
   "metadata": {},
   "outputs": [
    {
     "name": "stdout",
     "output_type": "stream",
     "text": [
      "-2\n"
     ]
    },
    {
     "ename": "TypeError",
     "evalue": "'>' not supported between instances of 'str' and 'int'",
     "output_type": "error",
     "traceback": [
      "\u001b[0;31m---------------------------------------------------------------------------\u001b[0m",
      "\u001b[0;31mTypeError\u001b[0m                                 Traceback (most recent call last)",
      "\u001b[0;32m<ipython-input-25-f9e165d9360c>\u001b[0m in \u001b[0;36m<module>\u001b[0;34m\u001b[0m\n\u001b[1;32m      1\u001b[0m \u001b[0mprint\u001b[0m\u001b[0;34m(\u001b[0m\u001b[0mmin\u001b[0m\u001b[0;34m(\u001b[0m\u001b[0;34m[\u001b[0m\u001b[0;36m3\u001b[0m\u001b[0;34m,\u001b[0m \u001b[0;36m7\u001b[0m\u001b[0;34m,\u001b[0m \u001b[0;36m0\u001b[0m\u001b[0;34m,\u001b[0m \u001b[0;34m-\u001b[0m\u001b[0;36m2\u001b[0m\u001b[0;34m,\u001b[0m \u001b[0;36m11\u001b[0m\u001b[0;34m]\u001b[0m\u001b[0;34m)\u001b[0m\u001b[0;34m)\u001b[0m \u001b[0;31m# -2\u001b[0m\u001b[0;34m\u001b[0m\u001b[0;34m\u001b[0m\u001b[0m\n\u001b[1;32m      2\u001b[0m \u001b[0;34m\u001b[0m\u001b[0m\n\u001b[0;32m----> 3\u001b[0;31m \u001b[0mmax\u001b[0m\u001b[0;34m(\u001b[0m\u001b[0;34m[\u001b[0m\u001b[0;36m4\u001b[0m\u001b[0;34m,\u001b[0m \u001b[0;34m\"Hello\"\u001b[0m\u001b[0;34m,\u001b[0m \u001b[0;34m[\u001b[0m\u001b[0;36m1\u001b[0m\u001b[0;34m,\u001b[0m \u001b[0;36m2\u001b[0m\u001b[0;34m]\u001b[0m\u001b[0;34m]\u001b[0m\u001b[0;34m)\u001b[0m \u001b[0;31m# TypeError: '>' not supported between instances of 'str' and 'int'\u001b[0m\u001b[0;34m\u001b[0m\u001b[0;34m\u001b[0m\u001b[0m\n\u001b[0m",
      "\u001b[0;31mTypeError\u001b[0m: '>' not supported between instances of 'str' and 'int'"
     ]
    }
   ],
   "source": [
    "print(min([3, 7, 0, -2, 11])) # -2\n",
    "\n",
    "max([4, \"Hello\", [1, 2]]) # TypeError: '>' not supported between instances of 'str' and 'int'"
   ]
  },
  {
   "cell_type": "code",
   "execution_count": 26,
   "metadata": {},
   "outputs": [
    {
     "name": "stdout",
     "output_type": "stream",
     "text": [
      "3\n"
     ]
    },
    {
     "ename": "ValueError",
     "evalue": "5 is not in list",
     "output_type": "error",
     "traceback": [
      "\u001b[0;31m---------------------------------------------------------------------------\u001b[0m",
      "\u001b[0;31mValueError\u001b[0m                                Traceback (most recent call last)",
      "\u001b[0;32m<ipython-input-26-6199719a2289>\u001b[0m in \u001b[0;36m<module>\u001b[0;34m\u001b[0m\n\u001b[1;32m      2\u001b[0m \u001b[0mprint\u001b[0m\u001b[0;34m(\u001b[0m\u001b[0mx\u001b[0m\u001b[0;34m.\u001b[0m\u001b[0mindex\u001b[0m\u001b[0;34m(\u001b[0m\u001b[0;36m7\u001b[0m\u001b[0;34m)\u001b[0m\u001b[0;34m)\u001b[0m \u001b[0;31m# 3\u001b[0m\u001b[0;34m\u001b[0m\u001b[0;34m\u001b[0m\u001b[0m\n\u001b[1;32m      3\u001b[0m \u001b[0;34m\u001b[0m\u001b[0m\n\u001b[0;32m----> 4\u001b[0;31m \u001b[0mx\u001b[0m\u001b[0;34m.\u001b[0m\u001b[0mindex\u001b[0m\u001b[0;34m(\u001b[0m\u001b[0;36m5\u001b[0m\u001b[0;34m)\u001b[0m \u001b[0;31m# ValueError: 5 is not in list\u001b[0m\u001b[0;34m\u001b[0m\u001b[0;34m\u001b[0m\u001b[0m\n\u001b[0m",
      "\u001b[0;31mValueError\u001b[0m: 5 is not in list"
     ]
    }
   ],
   "source": [
    "x = [1, 3, \"five\", 7, -2]\n",
    "print(x.index(7)) # 3\n",
    "\n",
    "x.index(5) # ValueError: 5 is not in list"
   ]
  },
  {
   "cell_type": "code",
   "execution_count": 27,
   "metadata": {},
   "outputs": [],
   "source": [
    "if 5 in x:\n",
    "    print(x.index(3))"
   ]
  },
  {
   "cell_type": "code",
   "execution_count": 28,
   "metadata": {},
   "outputs": [
    {
     "name": "stdout",
     "output_type": "stream",
     "text": [
      "3\n",
      "2\n",
      "0\n"
     ]
    }
   ],
   "source": [
    "x = [1, 2, 2, 3, 5, 2, 5]\n",
    "print(x.count(2)) # 3\n",
    "print(x.count(5)) # 2\n",
    "print(x.count(4)) # 0"
   ]
  },
  {
   "cell_type": "code",
   "execution_count": 29,
   "metadata": {},
   "outputs": [
    {
     "name": "stdout",
     "output_type": "stream",
     "text": [
      "['H', 'e', 'l', 'l', 'o']\n"
     ]
    }
   ],
   "source": [
    "print(list(\"Hello\")) # ['H', 'e', 'l', 'l', 'o']"
   ]
  },
  {
   "cell_type": "markdown",
   "metadata": {},
   "source": [
    "Table 5.1. List operations\n",
    "\n",
    "| List operation | Explanation | Example | \n",
    "| ---------------|-------------|---------|\n",
    "| `[]`             | Creates an empty list |\t`x = []` |\n",
    "| `len`            | Returns the length of a list |\t`len(x)` |\n",
    "| `append` \t       | Adds a single element to the end of a list | \t`x.append('y')` |\n",
    "| `extend`  \t   | Adds another list to the end of the list | `x.extend(['a', 'b'])` |\n",
    "| `insert`         | Inserts a new element at a given position in the list |\t`x.insert(0, 'y')` |\n",
    "| `del` \t       | Removes a list element or slice | `del(x[0])` |\n",
    "| `remove` \t       | Searches for and removes a given value from a list | `x.remove('y')` |\n",
    "| `reverse` \t   | Reverses a list in place | `x.reverse()` |\n",
    "| `sort` \t       | Sorts a list in place | `x.sort()` |\n",
    "| `+`              | Adds two lists together | `[1,2,3] + [4,5,6]` |\n",
    "| `*` \t           | Replicates a list | `x = ['y'] * 3` |\n",
    "| `min` \t       | Returns the smallest element in a list | `min(x)` |\n",
    "| `max` \t       | Returns the largest element in a list | `max(x)` |\n",
    "| `index` \t       | Returns the position of a value in a list | `x.index['y']` |\n",
    "| `count` \t       | Counts the number of times a value occurs in a list | `x.count('y')` |\n",
    "| `sum` \t       | Sums the items (if they can be summed) | `sum(x)` |\n",
    "| `in` \t           | Returns whether an item is in a list | `'y' in x` |"
   ]
  },
  {
   "cell_type": "markdown",
   "metadata": {},
   "source": [
    "What would be the result of `len([[1,2]] * 3)`?"
   ]
  },
  {
   "cell_type": "markdown",
   "metadata": {},
   "source": [
    "What are two differences between using the in operator and a list’s index() method? "
   ]
  },
  {
   "cell_type": "markdown",
   "metadata": {},
   "source": [
    "Which of the following will raise an exception?\n",
    "- `min([\"a\", \"b\", \"c\"])`\n",
    "- `max([1, 2, \"three\"])`\n",
    "- `[1, 2, 3].count(\"one\")`"
   ]
  },
  {
   "cell_type": "markdown",
   "metadata": {},
   "source": [
    "## Nested lists"
   ]
  },
  {
   "cell_type": "markdown",
   "metadata": {},
   "source": [
    "Lists can be nested. One application of nesting is to represent two-dimensional matrices. The members of these matrices can be referred to by using two-dimensional indices. Indices for these matrices work as follows: "
   ]
  },
  {
   "cell_type": "code",
   "execution_count": 30,
   "metadata": {},
   "outputs": [
    {
     "name": "stdout",
     "output_type": "stream",
     "text": [
      "[0, 1, 2]\n",
      "1\n",
      "[20, 21, 22]\n",
      "22\n"
     ]
    }
   ],
   "source": [
    "m = [[0, 1, 2], [10, 11, 12], [20, 21, 22]]\n",
    "print(m[0]) # [0, 1, 2]\n",
    "print(m[0][1]) # 1\n",
    "print(m[2]) # [20, 21, 22]\n",
    "print(m[2][2]) # 22"
   ]
  },
  {
   "cell_type": "code",
   "execution_count": 31,
   "metadata": {},
   "outputs": [
    {
     "name": "stdout",
     "output_type": "stream",
     "text": [
      "[[0], 1]\n"
     ]
    }
   ],
   "source": [
    "nested = [0]\n",
    "original = [nested, 1]\n",
    "print(original) # [[0], 1]"
   ]
  },
  {
   "cell_type": "markdown",
   "metadata": {},
   "source": [
    "![](https://dpzbhybb2pdcj.cloudfront.net/ceder2/Figures/05fig01.jpg)"
   ]
  },
  {
   "cell_type": "code",
   "execution_count": 32,
   "metadata": {},
   "outputs": [
    {
     "name": "stdout",
     "output_type": "stream",
     "text": [
      "[['zero'], 1]\n",
      "[0]\n",
      "[[0], 1]\n"
     ]
    }
   ],
   "source": [
    "nested[0] = 'zero'\n",
    "print(original) # [['zero'], 1]\n",
    "\n",
    "original[0][0] = 0\n",
    "print(nested) # [0]\n",
    "\n",
    "print(original) # [[0], 1]\n",
    "\n",
    "# so far everything is fine but now we decouple the lists"
   ]
  },
  {
   "cell_type": "code",
   "execution_count": 33,
   "metadata": {},
   "outputs": [
    {
     "name": "stdout",
     "output_type": "stream",
     "text": [
      "[[0], 1]\n"
     ]
    }
   ],
   "source": [
    "nested = [2] # points now to a new object\n",
    "print(original) # [[0], 1], unchanged"
   ]
  },
  {
   "cell_type": "markdown",
   "metadata": {},
   "source": [
    "![](https://dpzbhybb2pdcj.cloudfront.net/ceder2/Figures/05fig02.jpg)"
   ]
  },
  {
   "cell_type": "markdown",
   "metadata": {},
   "source": [
    "You’ve seen that you can obtain a copy of a list by taking a **full slice** (that is, `x[:]`). You can also obtain a copy of a list by using the `+` or `*` operator (for example, `x + []` or `x * 1`). These techniques are slightly less efficient than the slice method. All three create what is called a **shallow copy** of the list, which is probably what you want most of the time. But if your list has other lists nested in it, you may want to make a deep copy. You can do this with the deepcopy function of the copy module: "
   ]
  },
  {
   "cell_type": "code",
   "execution_count": 34,
   "metadata": {},
   "outputs": [],
   "source": [
    "import copy\n",
    "\n",
    "original = [[0], 1]\n",
    "shallow = original[:]\n",
    "deep = copy.deepcopy(original)"
   ]
  },
  {
   "cell_type": "markdown",
   "metadata": {},
   "source": [
    "![](https://dpzbhybb2pdcj.cloudfront.net/ceder2/Figures/05fig03.jpg)"
   ]
  },
  {
   "cell_type": "code",
   "execution_count": 35,
   "metadata": {},
   "outputs": [
    {
     "name": "stdout",
     "output_type": "stream",
     "text": [
      "[[0], 2]\n",
      "[[0], 1]\n",
      "[['zero'], 1]\n"
     ]
    }
   ],
   "source": [
    "shallow[1] = 2\n",
    "print(shallow) # [[0], 2]\n",
    "print(original) # [[0], 1], not changed, because we changed an immutable object\n",
    "\n",
    "shallow[0][0] = 'zero'\n",
    "print(original) # [['zero'], 1], whoa! also changed!\n"
   ]
  },
  {
   "cell_type": "markdown",
   "metadata": {},
   "source": [
    "## Unpacking"
   ]
  },
  {
   "cell_type": "markdown",
   "metadata": {},
   "source": [
    "As a convenience, Python permits `tuples` to appear on the left side of an assignment operator, in which case variables in the tuple **receive the corresponding values from the tuple on the right side** of the assignment operator. Here’s a simple example: "
   ]
  },
  {
   "cell_type": "code",
   "execution_count": 36,
   "metadata": {},
   "outputs": [
    {
     "name": "stdout",
     "output_type": "stream",
     "text": [
      "1\n",
      "2\n"
     ]
    }
   ],
   "source": [
    "(one, two, three, four) =  (1, 2, 3, 4)\n",
    "print(one)  # 1\n",
    "print(two)  # 2"
   ]
  },
  {
   "cell_type": "markdown",
   "metadata": {},
   "source": [
    "This example can be written even more simply, because Python recognizes tuples in an assignment context even without the enclosing parentheses. The values on the right side are packed into a tuple and then unpacked into the variables on the left side: "
   ]
  },
  {
   "cell_type": "code",
   "execution_count": 37,
   "metadata": {},
   "outputs": [],
   "source": [
    "one, two, three, four = 1, 2, 3, 4"
   ]
  },
  {
   "cell_type": "markdown",
   "metadata": {},
   "source": [
    "This technique is a way to swap values between variables. Instead of saying"
   ]
  },
  {
   "cell_type": "code",
   "execution_count": 38,
   "metadata": {},
   "outputs": [
    {
     "name": "stdout",
     "output_type": "stream",
     "text": [
      "-1 10\n",
      "10 -1\n"
     ]
    }
   ],
   "source": [
    "var1 = 10\n",
    "var2 = -1\n",
    "\n",
    "# old\n",
    "temp = var1\n",
    "var1 = var2\n",
    "var2 = temp\n",
    "print(var1, var2)  # -1 10\n",
    "\n",
    "# Python\n",
    "var1, var2 = var2, var1\n",
    "print(var1, var2)  # 10 -1"
   ]
  },
  {
   "cell_type": "markdown",
   "metadata": {},
   "source": [
    "To make things even more convenient, Python 3 has an extended **unpacking feature**, allowing an element marked with `*` to absorb any number of elements not matching the other elements. Again, some examples make this feature clearer: "
   ]
  },
  {
   "cell_type": "code",
   "execution_count": 39,
   "metadata": {},
   "outputs": [
    {
     "name": "stdout",
     "output_type": "stream",
     "text": [
      "1 2 [3, 4]\n",
      "1 [2, 3] 4\n",
      "[1, 2] 3 4\n",
      "1 2 3 4 []\n"
     ]
    }
   ],
   "source": [
    "x = (1, 2, 3, 4)\n",
    "a, b, *c = x\n",
    "print(a, b, c)  # (1, 2, [3, 4])\n",
    "\n",
    "a, *b, c = x\n",
    "print(a, b, c)  # (1, [2, 3], 4)\n",
    "\n",
    "\n",
    "*a, b, c = x\n",
    "print(a, b, c) # ([1, 2], 3, 4)\n",
    "\n",
    "\n",
    "a, b, c, d, *e = x\n",
    "print(a, b, c, d, e) # (1, 2, 3, 4, [])"
   ]
  },
  {
   "cell_type": "markdown",
   "metadata": {},
   "source": [
    "Note that the starred element receives all the surplus items as a list and that if there are no surplus elements, the starred element receives an empty list. "
   ]
  },
  {
   "cell_type": "markdown",
   "metadata": {},
   "source": [
    "And remember that you can always use the `_` in Python by convention to convey that you are not interested in this particlar value:"
   ]
  },
  {
   "cell_type": "code",
   "execution_count": 40,
   "metadata": {},
   "outputs": [
    {
     "name": "stdout",
     "output_type": "stream",
     "text": [
      "1 4\n"
     ]
    }
   ],
   "source": [
    "first, *_, last = x\n",
    "print(first, last)  # 1, 4 -> \"_\" is a valid variable name so _ = [3,4]"
   ]
  },
  {
   "cell_type": "markdown",
   "metadata": {},
   "source": [
    "Packing and unpacking can also be performed for all kind of iterables:"
   ]
  },
  {
   "cell_type": "code",
   "execution_count": 41,
   "metadata": {},
   "outputs": [
    {
     "name": "stdout",
     "output_type": "stream",
     "text": [
      "1\n",
      "[2, 3, 4]\n",
      "(5, 6, 7)\n",
      "8 9 10 11 12\n"
     ]
    }
   ],
   "source": [
    "[a, b] = [1, 2]\n",
    "[c, d] = 3, 4\n",
    "[e, f] = (5, 6)\n",
    "(g, h) = 7, 8\n",
    "i, j = [9, 10]\n",
    "k, l = (11, 12)\n",
    "\n",
    "print(a)  # 1\n",
    "\n",
    "print([b, c, d])  # [2, 3, 4]\n",
    "\n",
    "print((e, f, g))  # (5, 6, 7)\n",
    "\n",
    "print(h, i, j, k, l)  # (8, 9, 10, 11, 12)"
   ]
  },
  {
   "cell_type": "code",
   "execution_count": 42,
   "metadata": {},
   "outputs": [
    {
     "name": "stdout",
     "output_type": "stream",
     "text": [
      "0 9\n"
     ]
    }
   ],
   "source": [
    "gen = (x for x in range(10)) # a short form to generate a generate expression\n",
    "\n",
    "first, *_, last = gen\n",
    "print(first, last) # 0, 9"
   ]
  },
  {
   "cell_type": "code",
   "execution_count": 43,
   "metadata": {},
   "outputs": [
    {
     "name": "stdout",
     "output_type": "stream",
     "text": [
      "0 1\n"
     ]
    }
   ],
   "source": [
    "class myIt:\n",
    "    def __init__(self, n=10):\n",
    "        self.n = n\n",
    "        self.it = -1\n",
    "\n",
    "    def __iter__(self):\n",
    "        return self\n",
    "\n",
    "    def __next__(self):\n",
    "        self.it += 1\n",
    "\n",
    "        if self.it > self.n:\n",
    "            raise StopIteration\n",
    "        \n",
    "        return self.it\n",
    "\n",
    "first, second, *_ = myIt()\n",
    "print(first, second)"
   ]
  },
  {
   "cell_type": "code",
   "execution_count": 44,
   "metadata": {},
   "outputs": [
    {
     "data": {
      "text/plain": [
       "2"
      ]
     },
     "execution_count": 44,
     "metadata": {},
     "output_type": "execute_result"
    }
   ],
   "source": [
    "a, a = 1, 2\n",
    "\n",
    "a"
   ]
  },
  {
   "cell_type": "markdown",
   "metadata": {},
   "source": [
    "# Exercises"
   ]
  },
  {
   "cell_type": "markdown",
   "metadata": {},
   "source": [
    "#### 1. Write a Python program to sum all the items in a list"
   ]
  },
  {
   "cell_type": "code",
   "execution_count": null,
   "metadata": {},
   "outputs": [],
   "source": []
  },
  {
   "cell_type": "markdown",
   "metadata": {},
   "source": [
    "#### 2. Write a Python program to get the second largest number from a list"
   ]
  },
  {
   "cell_type": "code",
   "execution_count": null,
   "metadata": {},
   "outputs": [],
   "source": []
  },
  {
   "cell_type": "markdown",
   "metadata": {},
   "source": [
    "#### 3. Write a Python program to get a list, sorted in increasing order by the last element in each tuple from a given list of non-empty tuples\n",
    "\n",
    "Sample List : [(2, 5), (1, 2), (4, 4), (2, 3), (2, 1)]\n",
    "\n",
    "Expected Result : [(2, 1), (1, 2), (2, 3), (4, 4), (2, 5)]"
   ]
  },
  {
   "cell_type": "code",
   "execution_count": null,
   "metadata": {},
   "outputs": [],
   "source": []
  },
  {
   "cell_type": "markdown",
   "metadata": {},
   "source": [
    "#### 4. Write a Python program to remove duplicates from a list."
   ]
  },
  {
   "cell_type": "code",
   "execution_count": null,
   "metadata": {},
   "outputs": [],
   "source": []
  },
  {
   "cell_type": "markdown",
   "metadata": {},
   "source": [
    "#### 5. Write a Python program to split a list every Nth element.\n",
    "\n",
    "Sample list: ['a', 'b', 'c', 'd', 'e', 'f', 'g', 'h', 'i', 'j', 'k', 'l', 'm', 'n']\n",
    "\n",
    "Expected Output: [['a', 'd', 'g', 'j', 'm'], ['b', 'e', 'h', 'k', 'n'], ['c', 'f', 'i', 'l']]"
   ]
  },
  {
   "cell_type": "code",
   "execution_count": null,
   "metadata": {},
   "outputs": [],
   "source": []
  },
  {
   "cell_type": "markdown",
   "metadata": {},
   "source": [
    "#### 6. Write a Python program to get the frequency of the elements in a list"
   ]
  },
  {
   "cell_type": "code",
   "execution_count": null,
   "metadata": {},
   "outputs": [],
   "source": []
  },
  {
   "cell_type": "code",
   "execution_count": null,
   "metadata": {},
   "outputs": [],
   "source": []
  },
  {
   "cell_type": "code",
   "execution_count": null,
   "metadata": {},
   "outputs": [],
   "source": []
  }
 ],
 "metadata": {
  "file_extension": ".py",
  "kernelspec": {
   "display_name": "python_beginners",
   "language": "python",
   "name": "python_beginners"
  },
  "language_info": {
   "codemirror_mode": {
    "name": "ipython",
    "version": 3
   },
   "file_extension": ".py",
   "mimetype": "text/x-python",
   "name": "python",
   "nbconvert_exporter": "python",
   "pygments_lexer": "ipython3",
   "version": "3.9.4"
  },
  "mimetype": "text/x-python",
  "name": "python",
  "npconvert_exporter": "python",
  "pygments_lexer": "ipython3",
  "version": 3
 },
 "nbformat": 4,
 "nbformat_minor": 2
}
