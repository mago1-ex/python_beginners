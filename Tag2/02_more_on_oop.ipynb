{
 "cells": [
  {
   "cell_type": "markdown",
   "id": "2ee8566a",
   "metadata": {},
   "source": [
    "# Advanced OOP"
   ]
  },
  {
   "cell_type": "code",
   "execution_count": 1,
   "id": "2215bd40",
   "metadata": {},
   "outputs": [],
   "source": [
    "# Notebook Set-Up Commands\n",
    "\n",
    "def print_error(error):\n",
    "    \"\"\" Print Error\n",
    "    \n",
    "    Function to print exceptions in red.\n",
    "    \n",
    "    Parameters\n",
    "    ----------\n",
    "    error : string\n",
    "        Error message\n",
    "    \n",
    "    \"\"\"\n",
    "    print('\\033[1;31m{}\\033[1;m'.format(error))"
   ]
  },
  {
   "cell_type": "markdown",
   "id": "e1f286f5",
   "metadata": {},
   "source": [
    "## 2 Inheritance\n",
    "\n",
    "---\n",
    "\n",
    "A powerful property of classes is the ability to inherit attributes and methods from other classes. This helps avoid repetition of code, which makes it easier to develop and maintain. \n",
    "\n",
    "<br>\n",
    "\n",
    "### Inheriting Attributes\n",
    "\n",
    "We will begin by defining a simple class with a single static method that will act as a *parent* class."
   ]
  },
  {
   "cell_type": "code",
   "execution_count": 2,
   "id": "b7e1316d",
   "metadata": {},
   "outputs": [
    {
     "name": "stdout",
     "output_type": "stream",
     "text": [
      "Parent.__dict__ = {'__module__': '__main__', 'add': <staticmethod object at 0x7f2bbc5b7940>, '__dict__': <attribute '__dict__' of 'Parent' objects>, '__weakref__': <attribute '__weakref__' of 'Parent' objects>, '__doc__': None}\n"
     ]
    }
   ],
   "source": [
    "# Define a parent class\n",
    "class Parent:\n",
    "    \n",
    "    @staticmethod\n",
    "    def add(a, b):\n",
    "        return a + b\n",
    "\n",
    "# Print the parent dictionary\n",
    "print('Parent.__dict__ =', Parent.__dict__)"
   ]
  },
  {
   "cell_type": "markdown",
   "id": "da0ab2e8",
   "metadata": {},
   "source": [
    "Note that this class has no special properties, it the same as classes we saw in the previous notebook.\n",
    "\n",
    "Now we will define a second class, also with a single static function. This class will serve as a *child* class that will inherit from the parent class. This is done by simply passing the parent class name in `()` when defining the child class. "
   ]
  },
  {
   "cell_type": "code",
   "execution_count": 3,
   "id": "1599dadf",
   "metadata": {},
   "outputs": [
    {
     "name": "stdout",
     "output_type": "stream",
     "text": [
      "Child.__dict__ = {'__module__': '__main__', 'subtract': <staticmethod object at 0x7f2bbc59d520>, '__doc__': None}\n"
     ]
    }
   ],
   "source": [
    "# Define a child class\n",
    "class Child(Parent):\n",
    "    \n",
    "    @staticmethod\n",
    "    def subtract(a, b):\n",
    "        return a - b\n",
    "\n",
    "print('Child.__dict__ =', Child.__dict__)"
   ]
  },
  {
   "cell_type": "markdown",
   "id": "5495a642",
   "metadata": {},
   "source": [
    "We can see that the contents of the child class dictionary are only what is expected from a normal class definition. Using the special `__bases__` attribute, however, we can see a tuple of classes that the child inherits from."
   ]
  },
  {
   "cell_type": "code",
   "execution_count": 4,
   "id": "04893b9f",
   "metadata": {},
   "outputs": [
    {
     "name": "stdout",
     "output_type": "stream",
     "text": [
      "Child.__bases__ = (<class '__main__.Parent'>,)\n"
     ]
    }
   ],
   "source": [
    "print('Child.__bases__ =', Child.__bases__)"
   ]
  },
  {
   "cell_type": "markdown",
   "id": "c9876326",
   "metadata": {},
   "source": [
    "Finally, we can demonstrate that the child has indeed inherited new attributes from the parent as follows."
   ]
  },
  {
   "cell_type": "code",
   "execution_count": 5,
   "id": "f645d239",
   "metadata": {},
   "outputs": [
    {
     "name": "stdout",
     "output_type": "stream",
     "text": [
      "1 + 2 = 3\n",
      "3 - 2 = 1\n"
     ]
    }
   ],
   "source": [
    "print('1 + 2 =', Child.add(1, 2))\n",
    "print('3 - 2 =', Child.subtract(3, 2))"
   ]
  },
  {
   "cell_type": "markdown",
   "id": "1652c8ef",
   "metadata": {},
   "source": [
    "We can clearly see that `Child` has inhertited the static `add` method from `Parent`.\n",
    "\n",
    "In the following example, we can see that this works for any type of class attribute."
   ]
  },
  {
   "cell_type": "code",
   "execution_count": 6,
   "id": "d96aac63",
   "metadata": {},
   "outputs": [
    {
     "name": "stdout",
     "output_type": "stream",
     "text": [
      "x = 1\n"
     ]
    }
   ],
   "source": [
    "class Parent:\n",
    "    \n",
    "    x = 1\n",
    "    \n",
    "class Child(Parent):\n",
    "    \n",
    "    @classmethod\n",
    "    def show(cls):\n",
    "        return print('x =', cls.x)\n",
    "\n",
    "Child.show()"
   ]
  },
  {
   "cell_type": "markdown",
   "id": "611d8796",
   "metadata": {},
   "source": [
    "### Overriding\n",
    "\n",
    "We saw in the previous notebook that class instance attributes will override class attributes of the same name. The same happens with child attributes with respect to parent attributes. "
   ]
  },
  {
   "cell_type": "code",
   "execution_count": 7,
   "id": "21972b7f",
   "metadata": {},
   "outputs": [
    {
     "name": "stdout",
     "output_type": "stream",
     "text": [
      "x = 2\n"
     ]
    }
   ],
   "source": [
    "class Parent:\n",
    "    \n",
    "    x = 1\n",
    "    \n",
    "class Child(Parent):\n",
    "    \n",
    "    x = 2\n",
    "    \n",
    "    @classmethod\n",
    "    def show(cls):\n",
    "        return print('x =', cls.x)\n",
    "\n",
    "Child.show()"
   ]
  },
  {
   "cell_type": "markdown",
   "id": "a7685426",
   "metadata": {},
   "source": [
    "### Hierachy\n",
    "\n",
    "It is possible to define a hierarchy of parent classes, the attributes of which will be inheried by a given child class."
   ]
  },
  {
   "cell_type": "code",
   "execution_count": 36,
   "id": "c64f7f06",
   "metadata": {},
   "outputs": [
    {
     "name": "stdout",
     "output_type": "stream",
     "text": [
      "Child 1 2 3\n",
      "Grandparent\n"
     ]
    }
   ],
   "source": [
    "class GrandParent:\n",
    "    \n",
    "    x = 1\n",
    "    name = 'Grandparent'\n",
    "\n",
    "class Parent(GrandParent):\n",
    "    \n",
    "    y = 2\n",
    "    name = 'Parent'\n",
    "    \n",
    "class Child(Parent):\n",
    "    \n",
    "    z = 3\n",
    "    name = 'Child'\n",
    "\n",
    "print(Child.name, Child.x, Child.y, Child.z)\n",
    "print(GrandParent.name)"
   ]
  },
  {
   "cell_type": "markdown",
   "id": "ee00e889",
   "metadata": {},
   "source": [
    "Note that overriding will also act hierachically, meaning that the last class in the chain will be given precedence.\n",
    "\n",
    "<br>\n",
    "\n",
    "### Handling Instantiation \n",
    "\n",
    "If the parent class contains an `__init__` method, this too can be inherited by the child."
   ]
  },
  {
   "cell_type": "code",
   "execution_count": 9,
   "id": "069064c0",
   "metadata": {},
   "outputs": [
    {
     "name": "stdout",
     "output_type": "stream",
     "text": [
      "myattr = A string\n"
     ]
    }
   ],
   "source": [
    "class Parent:\n",
    "    \n",
    "    def __init__(self, value):\n",
    "        self.myattr = value\n",
    "    \n",
    "class Child(Parent):\n",
    "    \n",
    "    def show(self):\n",
    "        return print('myattr =', self.myattr)\n",
    "    \n",
    "Child('A string').show()"
   ]
  },
  {
   "cell_type": "markdown",
   "id": "b16a2648",
   "metadata": {},
   "source": [
    "In fact it also works the other way around."
   ]
  },
  {
   "cell_type": "code",
   "execution_count": 10,
   "id": "c4d87d86",
   "metadata": {},
   "outputs": [
    {
     "name": "stdout",
     "output_type": "stream",
     "text": [
      "myattr = A string\n"
     ]
    }
   ],
   "source": [
    "class Parent:\n",
    "    \n",
    "    def show(self):\n",
    "        return print('myattr =', self.myattr)\n",
    "    \n",
    "class Child(Parent):\n",
    "    \n",
    "    def __init__(self, value):\n",
    "        self.myattr = value\n",
    "    \n",
    "Child('A string').show()"
   ]
  },
  {
   "cell_type": "markdown",
   "id": "5781ac14",
   "metadata": {},
   "source": [
    "This is because the child will lookup any attributes not listed in its own dictionary in all the parent (or base) classes.\n",
    "\n",
    "If both classes have an `__init__` method only the child class will be initialised (see [Overriding](#Overriding))."
   ]
  },
  {
   "cell_type": "code",
   "execution_count": 11,
   "id": "066a759b",
   "metadata": {},
   "outputs": [
    {
     "name": "stdout",
     "output_type": "stream",
     "text": [
      "cval = child value\n"
     ]
    }
   ],
   "source": [
    "class Parent:\n",
    "    \n",
    "    def __init__(self):\n",
    "        self.pval = 'parent value'\n",
    "    \n",
    "class Child(Parent):\n",
    "    \n",
    "    def __init__(self):\n",
    "        self.cval = 'child value'\n",
    "    \n",
    "inst = Child()\n",
    "print('cval =', inst.cval)"
   ]
  },
  {
   "cell_type": "code",
   "execution_count": 12,
   "id": "20b1af00",
   "metadata": {},
   "outputs": [
    {
     "name": "stdout",
     "output_type": "stream",
     "text": [
      "\u001b[1;31m'Child' object has no attribute 'pval'\u001b[1;m\n"
     ]
    }
   ],
   "source": [
    "try:\n",
    "    print('pval =', inst.pval)\n",
    "except Exception as error:\n",
    "    print_error(error)"
   ]
  },
  {
   "cell_type": "markdown",
   "id": "8e384b52",
   "metadata": {},
   "source": [
    "We can fix this by manually instantiating the parent class."
   ]
  },
  {
   "cell_type": "code",
   "execution_count": 13,
   "id": "7f2a91a8",
   "metadata": {},
   "outputs": [
    {
     "name": "stdout",
     "output_type": "stream",
     "text": [
      "cval = child value\n",
      "pval = parent value\n"
     ]
    }
   ],
   "source": [
    "class Parent:\n",
    "    \n",
    "    def __init__(self):\n",
    "        self.pval = 'parent value'\n",
    "    \n",
    "class Child(Parent):\n",
    "    \n",
    "    def __init__(self):\n",
    "        self.cval = 'child value'\n",
    "        Parent.__init__(self)\n",
    "    \n",
    "inst = Child()\n",
    "print('cval =', inst.cval)\n",
    "print('pval =', inst.pval)"
   ]
  },
  {
   "cell_type": "markdown",
   "id": "e1c2167d",
   "metadata": {},
   "source": [
    "Python has a useful shortcut to make this process easier using the [`super`](https://docs.python.org/3/library/functions.html?highlight=super#super)function. This allows us to instantiate the parent without naming it, this particularly useful if the name of the parent class were to change."
   ]
  },
  {
   "cell_type": "code",
   "execution_count": 14,
   "id": "f4e72d1b",
   "metadata": {},
   "outputs": [
    {
     "name": "stdout",
     "output_type": "stream",
     "text": [
      "cval = child value\n",
      "pval = parent value\n"
     ]
    }
   ],
   "source": [
    "class Parent:\n",
    "    \n",
    "    def __init__(self):\n",
    "        self.pval = 'parent value'\n",
    "    \n",
    "class Child(Parent):\n",
    "    \n",
    "    def __init__(self):\n",
    "        self.cval = 'child value'\n",
    "        super().__init__()\n",
    "    \n",
    "inst = Child()\n",
    "print('cval =', inst.cval)\n",
    "print('pval =', inst.pval)"
   ]
  },
  {
   "cell_type": "markdown",
   "id": "f4ec0909",
   "metadata": {},
   "source": [
    "### Multiple Parents\n",
    "\n",
    "It is possible for a child to inherit attributes from multiple parents."
   ]
  },
  {
   "cell_type": "code",
   "execution_count": 15,
   "id": "b33c9394",
   "metadata": {},
   "outputs": [
    {
     "name": "stdout",
     "output_type": "stream",
     "text": [
      "mother value = 1\n",
      "father value = 2\n",
      "child value = 3\n"
     ]
    }
   ],
   "source": [
    "class Mother:\n",
    "    \n",
    "    def __init__(self, value):\n",
    "        self.mval = value\n",
    "        \n",
    "    def show_mother(self):\n",
    "        print('mother value =', self.mval)\n",
    "        \n",
    "class Father:\n",
    "    \n",
    "    def __init__(self, value):\n",
    "        self.fval = value\n",
    "        \n",
    "    def show_father(self):\n",
    "        print('father value =', self.fval)\n",
    "    \n",
    "class Child(Mother, Father):\n",
    "    \n",
    "    def __init__(self, value1, value2, value3):\n",
    "        self.cval = value3\n",
    "        Mother.__init__(self, value1)\n",
    "        Father.__init__(self, value2)\n",
    "        \n",
    "    def show_child(self):\n",
    "        print('child value =', self.cval)\n",
    "        \n",
    "inst = Child(1, 2, 3)\n",
    "inst.show_mother()\n",
    "inst.show_father()\n",
    "inst.show_child()"
   ]
  },
  {
   "cell_type": "markdown",
   "id": "daeb6d0b",
   "metadata": {},
   "source": [
    "Note that the parent classes were explicitly instantiated in the previous example. Attempting the same thing using the `super` function will raise an error."
   ]
  },
  {
   "cell_type": "code",
   "execution_count": 37,
   "id": "58e28d82",
   "metadata": {},
   "outputs": [],
   "source": [
    "class Mother:\n",
    "    \n",
    "    def __init__(self, value):\n",
    "        self.mval = value\n",
    "        \n",
    "    def show_mother(self):\n",
    "        print('mother value =', self.mval)\n",
    "        \n",
    "class Father:\n",
    "    \n",
    "    def __init__(self, value):\n",
    "        self.fval = value\n",
    "        \n",
    "    def show_father(self):\n",
    "        print('father value =', self.fval)\n",
    "    \n",
    "class Child(Mother, Father):\n",
    "    \n",
    "    def __init__(self, value1, value2):\n",
    "        self.cval = value2\n",
    "        super().__init__(value1)\n",
    "        \n",
    "    def show_child(self):\n",
    "        print('child value =', self.cval)\n",
    "        \n",
    "inst = Child(1, 2)"
   ]
  },
  {
   "cell_type": "code",
   "execution_count": 38,
   "id": "72da1965",
   "metadata": {},
   "outputs": [
    {
     "name": "stdout",
     "output_type": "stream",
     "text": [
      "mother value = 1\n",
      "\u001b[1;31m'Child' object has no attribute 'fval'\u001b[1;m\n"
     ]
    }
   ],
   "source": [
    "try:\n",
    "    inst.show_mother()\n",
    "    inst.show_father()\n",
    "    inst.show_child()\n",
    "except Exception as error:\n",
    "    print_error(error)"
   ]
  },
  {
   "cell_type": "markdown",
   "id": "8f9bb82d",
   "metadata": {},
   "source": [
    "As we can see the `Mother` parent class was properly instantiated, but the `Father` parent class was not. The reasons for this are explained in the following subsection.\n",
    "\n",
    "> In general, caution should be used when building a class architecture that requires inheritance for multiple parent classes.\n",
    "\n",
    "<br>\n",
    "\n",
    "### Method Resolution Order\n",
    "\n",
    "The Method Resolution Order (MRO) dictates the order in which the child class will search the base classes for a given attribute. We can see the MRO of the child class from the previous example using the `__mro__` attribute as follows."
   ]
  },
  {
   "cell_type": "code",
   "execution_count": 18,
   "id": "ded11b72",
   "metadata": {},
   "outputs": [
    {
     "name": "stdout",
     "output_type": "stream",
     "text": [
      "Child.__mro__ = (<class '__main__.Child'>, <class '__main__.Mother'>, <class '__main__.Father'>, <class 'object'>)\n"
     ]
    }
   ],
   "source": [
    "print('Child.__mro__ =', Child.__mro__)"
   ]
  },
  {
   "cell_type": "markdown",
   "id": "a778ca66",
   "metadata": {},
   "source": [
    "We can see that the `Mother` class appears before the `Father` class in the MRO, hence the `super` method in `Child` instantiates `Mother`. "
   ]
  },
  {
   "cell_type": "markdown",
   "id": "9cf7cf04",
   "metadata": {},
   "source": [
    "## 3 Composition\n",
    "---\n",
    "\n",
    "Inhertitance is not the only way in which a class can access attributes from other classes. This comes back one of main take-away messages of this tutorial, namely that everything in Python is an object and any object can be assigned as an attribute.\n",
    "\n",
    "This means that a class attribute can actually be an instance of another class."
   ]
  },
  {
   "cell_type": "code",
   "execution_count": 42,
   "id": "b7389203",
   "metadata": {},
   "outputs": [
    {
     "name": "stdout",
     "output_type": "stream",
     "text": [
      "myattr = composer value\n"
     ]
    }
   ],
   "source": [
    "class Composer:\n",
    "    \n",
    "    def __init__(self):\n",
    "        self.myattr = 'composer value'\n",
    "    \n",
    "class myClass:\n",
    "    \n",
    "    def __init__(self):\n",
    "        self.comp = Composer()\n",
    "\n",
    "inst = myClass()\n",
    "print(\"myattr =\", inst.comp.myattr)"
   ]
  },
  {
   "cell_type": "markdown",
   "id": "ffbf37fb",
   "metadata": {},
   "source": [
    "This can particularly useful as we can pass classes or class intances to our new class without knowing anything about the other classes. "
   ]
  },
  {
   "cell_type": "code",
   "execution_count": 43,
   "id": "1b5df39a",
   "metadata": {},
   "outputs": [
    {
     "name": "stdout",
     "output_type": "stream",
     "text": [
      "whoami = I am a star!\n",
      "whoami = I am a Galaxy!\n"
     ]
    }
   ],
   "source": [
    "class Star:\n",
    "    \n",
    "    def __init__(self):\n",
    "        self.whoami = 'I am a star!'\n",
    "        \n",
    "class Galaxy:\n",
    "    \n",
    "    def __init__(self):\n",
    "        self.whoami = 'I am a Galaxy!'\n",
    "    \n",
    "class myClass:\n",
    "    \n",
    "    def __init__(self, composer):\n",
    "        self.comp = composer()\n",
    "\n",
    "inst1 = myClass(Star)\n",
    "inst2 = myClass(Galaxy)\n",
    "print(\"whoami =\", inst1.comp.whoami)\n",
    "print(\"whoami =\", inst2.comp.whoami)"
   ]
  },
  {
   "cell_type": "markdown",
   "id": "ca87109b",
   "metadata": {},
   "source": [
    "We can even achieve inheritance-like properties if we know the name of a given attribute that the composer class should have."
   ]
  },
  {
   "cell_type": "code",
   "execution_count": 22,
   "id": "c6567283",
   "metadata": {},
   "outputs": [
    {
     "name": "stdout",
     "output_type": "stream",
     "text": [
      "whoami = I am a star!\n",
      "whoami = I am a Galaxy!\n"
     ]
    }
   ],
   "source": [
    "class Star:\n",
    "    \n",
    "    def __init__(self):\n",
    "        self.whoami = 'I am a star!'\n",
    "        \n",
    "class Galaxy:\n",
    "    \n",
    "    def __init__(self):\n",
    "        self.whoami = 'I am a Galaxy!'\n",
    "    \n",
    "class myClass:\n",
    "    \n",
    "    def __init__(self, composer):\n",
    "        self.whoami = composer().whoami\n",
    "\n",
    "inst1 = myClass(Star)\n",
    "inst2 = myClass(Galaxy)\n",
    "print(\"whoami =\", inst1.whoami)\n",
    "print(\"whoami =\", inst2.whoami)"
   ]
  },
  {
   "cell_type": "markdown",
   "id": "ffe73618",
   "metadata": {},
   "source": [
    "> Note: This will break if the composer does not have an attribute called `whoami`.\n",
    "\n",
    "Composition also alows preinitialised class instances to be passed."
   ]
  },
  {
   "cell_type": "code",
   "execution_count": 23,
   "id": "d677c75f",
   "metadata": {},
   "outputs": [
    {
     "name": "stdout",
     "output_type": "stream",
     "text": [
      "mag = 11.05\n",
      "mag = 8.2\n"
     ]
    }
   ],
   "source": [
    "class Star:\n",
    "    \n",
    "    def __init__(self, mag):\n",
    "        self.mag = mag\n",
    "        \n",
    "class Galaxy:\n",
    "    \n",
    "    def __init__(self, mag):\n",
    "        self.mag = mag\n",
    "    \n",
    "class myClass:\n",
    "    \n",
    "    def __init__(self, composer):\n",
    "        self.comp = composer\n",
    "        self.mag = self.comp.mag\n",
    "\n",
    "        \n",
    "star = Star(11.05)\n",
    "inst1 = myClass(star)\n",
    "inst2 = myClass(Galaxy(8.2))\n",
    "print(\"mag =\", inst1.mag)\n",
    "print(\"mag =\", inst2.mag)"
   ]
  },
  {
   "cell_type": "markdown",
   "id": "b955a950",
   "metadata": {},
   "source": [
    "This can be useful, especially if we want to be able to change the original instance attributes."
   ]
  },
  {
   "cell_type": "code",
   "execution_count": 24,
   "id": "22c07fea",
   "metadata": {},
   "outputs": [
    {
     "name": "stdout",
     "output_type": "stream",
     "text": [
      "inst1 mag = 12.3\n",
      "star mag = 13.1\n"
     ]
    }
   ],
   "source": [
    "inst1.mag = 12.3\n",
    "inst1.comp.mag = 13.1\n",
    "print(\"inst1 mag =\", inst1.mag)\n",
    "print(\"star mag =\", star.mag)"
   ]
  },
  {
   "cell_type": "markdown",
   "id": "974daf6b",
   "metadata": {},
   "source": [
    "Notice how the `mag` attribute of the instance `star` changed!"
   ]
  },
  {
   "cell_type": "markdown",
   "id": "e20c85e1",
   "metadata": {},
   "source": [
    "## 4 Abstract Classes\n",
    "---\n",
    "\n",
    "Abstract classes are classes that contain abstract methods. So it makes sense to move right along and explain what an abstract method is.\n",
    "\n",
    "<br>\n",
    "\n",
    "### Abstract Methods\n",
    "\n",
    "An abstract method is a method that is defined but not implemented. This is useful for defining parent classes that impose some conditions on the child."
   ]
  },
  {
   "cell_type": "code",
   "execution_count": 25,
   "id": "0fc8e5f2",
   "metadata": {},
   "outputs": [
    {
     "name": "stdout",
     "output_type": "stream",
     "text": [
      "Parent.__dict__ {'__module__': '__main__', 'get_id': <function Parent.get_id at 0x7f2bbc548790>, '__dict__': <attribute '__dict__' of 'Parent' objects>, '__weakref__': <attribute '__weakref__' of 'Parent' objects>, '__doc__': None, '__abstractmethods__': frozenset({'get_id'}), '_abc_impl': <_abc._abc_data object at 0x7f2bbc560380>}\n"
     ]
    }
   ],
   "source": [
    "from abc import ABC, abstractmethod\n",
    "\n",
    "class Parent(ABC):\n",
    "    \n",
    "    @abstractmethod\n",
    "    def get_id(self):\n",
    "        pass\n",
    "\n",
    "print ('Parent.__dict__', Parent.__dict__)"
   ]
  },
  {
   "cell_type": "markdown",
   "id": "b06f5a0d",
   "metadata": {},
   "source": [
    "We can see that the method `get_id` has been defined but does nothing.\n",
    "\n",
    "We now define a child class that inherits this parent."
   ]
  },
  {
   "cell_type": "code",
   "execution_count": 26,
   "id": "e0584ec7",
   "metadata": {},
   "outputs": [],
   "source": [
    "class Child(Parent):\n",
    "    \n",
    "    def __init__(self):\n",
    "        self.whoami = 'I am a child!'"
   ]
  },
  {
   "cell_type": "code",
   "execution_count": 27,
   "id": "42aa20e3",
   "metadata": {},
   "outputs": [
    {
     "name": "stdout",
     "output_type": "stream",
     "text": [
      "\u001b[1;31mCan't instantiate abstract class Child with abstract method get_id\u001b[1;m\n"
     ]
    }
   ],
   "source": [
    "try:\n",
    "    inst = Child()\n",
    "except Exception as error:\n",
    "    print_error(error)"
   ]
  },
  {
   "cell_type": "markdown",
   "id": "bedbe2de",
   "metadata": {},
   "source": [
    "This raises an error when trying to create an instance. This is because the child class needs to override the abstract method `get_id`. "
   ]
  },
  {
   "cell_type": "code",
   "execution_count": 44,
   "id": "4938d4ff",
   "metadata": {},
   "outputs": [
    {
     "name": "stdout",
     "output_type": "stream",
     "text": [
      "I am a child!\n"
     ]
    }
   ],
   "source": [
    "class Child(Parent):\n",
    "    \n",
    "    def __init__(self):\n",
    "        self.get_id()\n",
    "        \n",
    "    def get_id(self):\n",
    "        self.whoami = 'I am a child!'\n",
    "        \n",
    "inst = Child()\n",
    "print(inst.whoami)"
   ]
  },
  {
   "cell_type": "markdown",
   "id": "be52aa21",
   "metadata": {},
   "source": [
    "This allows the parent class, which may be written with no knowledge of the properties of the child class, to impose some conditions on what a given child class should do.\n",
    "\n",
    "<br>\n",
    "\n",
    "### Abstract Properties\n",
    "\n",
    "In the previous notebook we learned how class properties can be defined to impose conditions on the values of certain class attributes. Using Abstract methods we can combine these tools to ensure that a given class has the properties we want.\n",
    "\n",
    "We start by defining an abstract class with the abstract property `whoami` and its corresponding setter."
   ]
  },
  {
   "cell_type": "code",
   "execution_count": 29,
   "id": "2adee337",
   "metadata": {},
   "outputs": [],
   "source": [
    "class AstroObject(ABC):\n",
    "    \n",
    "    @property\n",
    "    @abstractmethod\n",
    "    def whoami(self):\n",
    "        pass\n",
    "    \n",
    "    @whoami.setter\n",
    "    @abstractmethod\n",
    "    def whoami(self, value):\n",
    "        pass"
   ]
  },
  {
   "cell_type": "markdown",
   "id": "44cc205d",
   "metadata": {},
   "source": [
    "We can then define a child class that inherits this abstract class."
   ]
  },
  {
   "cell_type": "code",
   "execution_count": 30,
   "id": "9a4e8621",
   "metadata": {},
   "outputs": [],
   "source": [
    "class Star(AstroObject):\n",
    "    \n",
    "    def __init__(self):\n",
    "        self.whoami = 'I am a star!'"
   ]
  },
  {
   "cell_type": "code",
   "execution_count": 31,
   "id": "f5b8f313",
   "metadata": {},
   "outputs": [
    {
     "name": "stdout",
     "output_type": "stream",
     "text": [
      "\u001b[1;31mCan't instantiate abstract class Star with abstract method whoami\u001b[1;m\n"
     ]
    }
   ],
   "source": [
    "try:\n",
    "    star = Star()\n",
    "except Exception as error:\n",
    "    print_error(error)"
   ]
  },
  {
   "cell_type": "markdown",
   "id": "59dd809a",
   "metadata": {},
   "source": [
    "We can see that while a value for the attribute is provided the property is not explicitly defined. This way we can impose that the `Star` class must define a getter and setter for the attribute `whoami`."
   ]
  },
  {
   "cell_type": "code",
   "execution_count": 32,
   "id": "dd8470b1",
   "metadata": {},
   "outputs": [
    {
     "name": "stdout",
     "output_type": "stream",
     "text": [
      "whoami = I am a star!\n"
     ]
    }
   ],
   "source": [
    "class Star(AstroObject):\n",
    "    \n",
    "    def __init__(self):\n",
    "        self.whoami = 'I am a star!'\n",
    "    \n",
    "    @property\n",
    "    def whoami(self):\n",
    "        return self._whoami\n",
    "    \n",
    "    @whoami.setter\n",
    "    def whoami(self, value):\n",
    "        if not isinstance(value, str):\n",
    "            raise ValueError('whoami must be a string')\n",
    "        self._whoami = value\n",
    "\n",
    "star = Star()\n",
    "print(\"whoami =\", star.whoami)\n"
   ]
  },
  {
   "cell_type": "markdown",
   "id": "26545c18",
   "metadata": {},
   "source": [
    "This in turn could be used in conjunction with what we learned about class composition to ensure that composers have the properties needed to work with the child class."
   ]
  },
  {
   "cell_type": "markdown",
   "id": "523dfe5d",
   "metadata": {},
   "source": [
    "## 5 Exercises\n",
    "---\n",
    "\n",
    "1. Create a parent class and a child class that can identify its progenitor. \n",
    "    1. Your parent class should have the class attribute `parent_name` with the value of your choice.\n",
    "    1. Your child class should have the attribute `name` with the value of your choice.\n",
    "    1. Printing an instance of your child class should contain its name and its parent's name. *e.g.* \n",
    "    \n",
    "    ```python\n",
    "    print(Child('Thor'))\n",
    "    Thor Odinson\n",
    "    ```"
   ]
  },
  {
   "cell_type": "code",
   "execution_count": 33,
   "id": "13a3ed79",
   "metadata": {},
   "outputs": [],
   "source": [
    "# Add your solution here"
   ]
  },
  {
   "cell_type": "markdown",
   "id": "72b1da47",
   "metadata": {},
   "source": [
    "2. Define a class that can be initialised with composer classes that have been constrained by an abstract class.\n",
    "    1. Define an abstract class called `EarthAttr` that has the abstract method `whatami`, whcih should return a string of your choice.\n",
    "    1. Define at least two composer classes (*e.g.* `Moon` and `Core`) that satisfy the requirements of `EarthAttr`.\n",
    "    1. Define a class called `Earth` that composes these classes to get the `whatami` attribute.\n",
    "    1. Printing an instance of your `Earth` class should include the value of `whatami`. *e.g.*\n",
    "    \n",
    "    ```python\n",
    "    print(Earth(Moon))\n",
    "    The Earth has a moon!\n",
    "    ```\n",
    "    \n",
    "    5. Finally, define a final composer class (*e.g.* `Lake`) and demonstrate that it will not instantiate if not correctly constrained by `EarthAttr`. You should get the following error:\n",
    "    \n",
    "    ```bash\n",
    "        'Cant instantiate abstract class Lake with abstract methods whatami'\n",
    "    ```"
   ]
  },
  {
   "cell_type": "markdown",
   "id": "8ea68d8c",
   "metadata": {},
   "source": [
    "3. Create a deck of cards class (taken from https://www.rithmschool.com/courses/python-fundamentals-part-2/python-object-oriented-programming-exercises). Internally, the deck of cards should use another class, a card class. Your requirements are:\n",
    "\n",
    "The Deck class should have a deal method to deal a single card from the deck\n",
    "After a card is dealt, it is removed from the deck.\n",
    "There should be a shuffle method which makes sure the deck of cards has all 52 cards and then rearranges them randomly.\n",
    "The Card class should have a suit (Hearts, Diamonds, Clubs, Spades) and a value (A,2,3,4,5,6,7,8,9,10,J,Q,K).\n",
    "\n",
    "Use shuffle from random to shuffle a list of objects."
   ]
  },
  {
   "cell_type": "code",
   "execution_count": 45,
   "id": "8ac6e525",
   "metadata": {},
   "outputs": [],
   "source": [
    "from random import shuffle"
   ]
  },
  {
   "cell_type": "code",
   "execution_count": null,
   "id": "c848d145",
   "metadata": {},
   "outputs": [],
   "source": []
  }
 ],
 "metadata": {
  "kernelspec": {
   "display_name": "python_beginners",
   "language": "python",
   "name": "python_beginners"
  },
  "language_info": {
   "codemirror_mode": {
    "name": "ipython",
    "version": 3
   },
   "file_extension": ".py",
   "mimetype": "text/x-python",
   "name": "python",
   "nbconvert_exporter": "python",
   "pygments_lexer": "ipython3",
   "version": "3.9.4"
  }
 },
 "nbformat": 4,
 "nbformat_minor": 5
}
